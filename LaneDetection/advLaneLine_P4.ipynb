{
 "cells": [
  {
   "cell_type": "markdown",
   "metadata": {},
   "source": [
    "# Advanced Lane Detection"
   ]
  },
  {
   "cell_type": "code",
   "execution_count": 1,
   "metadata": {
    "collapsed": true
   },
   "outputs": [],
   "source": [
    "import numpy as np\n",
    "import cv2\n",
    "import glob\n",
    "import matplotlib.pyplot as plt\n",
    "from moviepy.editor import VideoFileClip\n",
    "from IPython.display import HTML\n",
    "from skimage import morphology\n",
    "from collections import deque\n",
    "import time\n",
    "%matplotlib inline\n",
    "\n",
    "# Display intermediate steps for image processing and lane finding\n",
    "showMe = 1\n",
    "\n",
    "\n",
    "def display(img, title, color=1):\n",
    "    '''\n",
    "    display images\n",
    "    img: rgb or grayscale\n",
    "    title: figure title\n",
    "    color: show image in color(1) or grasycale(0)\n",
    "    '''\n",
    "    if color:\n",
    "        plt.imshow(img)\n",
    "    else:\n",
    "        plt.imshow(img, cmap='gray')\n",
    "    plt.title(title)\n",
    "    #plt.axis('off')\n",
    "    plt.show()"
   ]
  },
  {
   "cell_type": "markdown",
   "metadata": {},
   "source": [
    "# Calibration Camera"
   ]
  },
  {
   "cell_type": "code",
   "execution_count": 2,
   "metadata": {
    "collapsed": false
   },
   "outputs": [
    {
     "name": "stdout",
     "output_type": "stream",
     "text": [
      "RMS Error of Camera calibration: 1.030\n",
      "This number must be between 0.1 and 1.0\n"
     ]
    }
   ],
   "source": [
    "def camera_calibration(folder, nx, ny, showMe=0):\n",
    "    '''\n",
    "    find (x, y) locations of all corners using openCV findChessBoardCorners\n",
    "    folder: directory of the calibration images\n",
    "    nx: expected number of corners along the x direction\n",
    "    ny: expected number of corners along the y direction\n",
    "    return a dictionary:\n",
    "        ret: RMS Error of the calibration\n",
    "        mtx: the camera matrix\n",
    "        dist: distorsion coefficients\n",
    "        rvecs: rotation vectors\n",
    "        tvecs: translation vectors\n",
    "    '''\n",
    "    # Store object points and image points from all the images\n",
    "    objpoints = [] #3D points in real world space\n",
    "    imgpoints = [] #2D points in image plane\n",
    "    #Prepare object points, like (0,0,0), (1, 0,0)\n",
    "    objp = np.zeros((nx * ny, 3), np.float32)\n",
    "    objp[:,:2] = np.mgrid[0:nx,0:ny].T.reshape(-1,2) #x, y coordinate\n",
    "        \n",
    "    assert len(folder) != 0, 'No file found in folder'\n",
    "        \n",
    "    for fname in folder:\n",
    "        img = cv2.imread(fname)\n",
    "        img = cv2.cvtColor(img, cv2.COLOR_BGR2RGB)\n",
    "        gray = cv2.cvtColor(img, cv2.COLOR_RGB2GRAY)\n",
    "        ret, corners = cv2.findChessboardCorners(gray, (nx, ny), None)\n",
    "        img_sz = gray.shape[::-1]\n",
    "            \n",
    "        if ret:\n",
    "            imgpoints.append(corners)\n",
    "            objpoints.append(objp)\n",
    "            if showMe:\n",
    "                draw_corners = cv2.drawChessboardCorners(img, (nx, ny), corners, ret)\n",
    "                display(draw_corners, 'Found all corners: {} '.format(ret))\n",
    "\n",
    "    if len(objpoints) == len(imgpoints) and len(objpoints) != 0:\n",
    "        ret, mtx, dist, rvecs, tvecs = cv2.calibrateCamera(objpoints, imgpoints, img_sz, None, None)\n",
    "        return {'ret': ret, 'cameraMatrix': mtx, 'distorsionCoeff': dist, \\\n",
    "                    'rotationVec': rvecs, 'translationVec': tvecs}\n",
    "    else:\n",
    "        raise Error('Camera Calibration failed')\n",
    "\n",
    "\n",
    "    \n",
    "def correction(image, calib_params, showMe=0):\n",
    "    '''\n",
    "    Distorsion correction\n",
    "    calib_params: calibration parameters returned by camera_calibration()\n",
    "    '''\n",
    "    corrected = cv2.undistort(image, calib_params['cameraMatrix'], calib_params['distorsionCoeff'], None, \n",
    "                         calib_params['cameraMatrix'])\n",
    "    if showMe:\n",
    "        display(image, 'Original', color=1)\n",
    "        display(corrected, 'After correction', color=1)\n",
    "\n",
    "        \n",
    "\n",
    "nx = 9 #number of corners in a row\n",
    "ny = 6 #numbers or corners in a column\n",
    "folder_calibration = glob.glob(\"camera_cal/calibration*.jpg\") #list of chessboard image files\n",
    "calib_params = camera_calibration(folder_calibration, nx, ny, showMe=0)\n",
    "# for a good calibration ret must be between 0.1 and 1.0\n",
    "print('RMS Error of Camera calibration: {:.3f}'.format(calib_params['ret']) )\n",
    "print('This number must be between 0.1 and 1.0')"
   ]
  },
  {
   "cell_type": "markdown",
   "metadata": {},
   "source": [
    "# Image Processing"
   ]
  },
  {
   "cell_type": "code",
   "execution_count": 3,
   "metadata": {
    "collapsed": true
   },
   "outputs": [],
   "source": [
    "class ImageProcess():\n",
    "    '''\n",
    "    Processing methods of original images\n",
    "    '''\n",
    "    def __init__(self):\n",
    "        pass\n",
    "    \n",
    "    def gaussianBlur(self, img, k_sz=5):\n",
    "        # Useful to remove salt'n pepper noise - NOT USE HERE\n",
    "        img = cv2.GaussianBlur(img, (k_sz, k_sz), 0)\n",
    "        return img\n",
    "    \n",
    "    \n",
    "    def directional_gradient(self, img, direction='x', thresh=[0, 255]):\n",
    "        '''\n",
    "        Gradient along vertical or horizontal direction using OpenCV Sobel \n",
    "        img: Grayscale\n",
    "        direction: x(horizontal) or y(vertical) for gradient direction\n",
    "        thresh: apply threshold on pixel intensity of gradient image\n",
    "        output is a binary image\n",
    "        '''\n",
    "        if direction == 'x':\n",
    "            sobel = cv2.Sobel(img, cv2.CV_64F, 1, 0)\n",
    "        elif direction == 'y':\n",
    "            sobel = cv2.Sobel(img, cv2.CV_64F, 0, 1)\n",
    "        \n",
    "        sobel_abs = np.absolute(sobel)  #absolute value\n",
    "        scaled_sobel = np.uint8(sobel_abs * 255/np.max(sobel_abs)) #turn sobel to 8bit image 0-255 intensity range\n",
    "        binary_output = np.zeros_like(sobel)\n",
    "        binary_output[(scaled_sobel>= thresh[0]) & (scaled_sobel <= thresh[1]) ] = 1 #generate binary\n",
    "        \n",
    "        return binary_output\n",
    "\n",
    "\n",
    "    def mag_gradient(self, img, thresh=[0, 255]):\n",
    "        '''\n",
    "        Magnitude of gradient : sqrt(gradx**2 + grady**2)\n",
    "        img: RGB or Grayscale image\n",
    "        thresh: apply threshold on pixel intensity of the gardient magnitude\n",
    "        output is a binary image\n",
    "        '''\n",
    "        sobelx = cv2.Sobel(img, cv2.CV_64F, 1, 0)  #gradient along x\n",
    "        sobely = cv2.Sobel(img, cv2.CV_64F, 0, 1) #gradient along y\n",
    "        gradient_mag = np.sqrt( np.square(sobelx) + np.square(sobely)) # norm of gradient\n",
    "        scaled_gradient_mag = np.uint8(gradient_mag * 255/np.max(gradient_mag)) #turn sobel to 8bit image 0-255 intensity range\n",
    "        binary_output = np.zeros_like(gradient_mag)\n",
    "        binary_output[(scaled_gradient_mag >= thresh[0]) & (scaled_gradient_mag <= thresh[1]) ] = 1 #thresholding\n",
    "        \n",
    "        return binary_output\n",
    "\n",
    "\n",
    "    def gradient_direction(self, img, thresh=[0, 90], ksize=3):\n",
    "        '''\n",
    "        Direction of gradient: arctan(grady/gradx)\n",
    "        img: RGB or Grayscale image\n",
    "        thresh: apply threshold on gradient direction in degrees (0, 90)\n",
    "        ksize: kernel size (can only be a odd number)\n",
    "        output is a binary image\n",
    "        '''\n",
    "        sobelx = cv2.Sobel(img, cv2.CV_64F, 1,0, ksize) #gradient along x\n",
    "        sobely = cv2.Sobel(img, cv2.CV_64F, 0, 1, ksize) #gradient along y\n",
    "        gradient_dir = np.arctan2( sobely, sobelx)\n",
    "        thresh = [thresh[0] * np.pi/180, thresh[1] * np.pi/180] #convert threshold from degree to radian\n",
    "        binary_output = np.zeros_like(gradient_dir)\n",
    "        binary_output[(gradient_dir>= thresh[0]) & (gradient_dir <= thresh[1]) ] = 1 #thresholding\n",
    "        \n",
    "        return binary_output\n",
    "\n",
    "    \n",
    "    def color_binary(self, img, dst_format='HLS', ch=2, ch_thresh=[0,255]):\n",
    "        '''\n",
    "        Color thesholding on channel ch\n",
    "        img: RGB\n",
    "        dst_format: destination format (HLS or HSV)\n",
    "        ch_thresh: pixel intensity threshold on channel ch\n",
    "        output is a binary image\n",
    "        '''\n",
    "        if dst_format == 'HSV':\n",
    "            img = cv2.cvtColor(img, cv2.COLOR_RGB2HSV)\n",
    "            ch_binary = np.zeros_like(img[:,:, int(ch-1)])\n",
    "        else:\n",
    "            img = cv2.cvtColor(img, cv2.COLOR_RGB2HLS)\n",
    "            ch_binary = np.zeros_like(img[:,:, int(ch-1)])\n",
    "            ch_binary[(img[:,:,int(ch-1)] >= ch_thresh[0]) & (img[:,:,int(ch-1)]<= ch_thresh[1])] = 1\n",
    "        \n",
    "        return ch_binary\n",
    "    \n",
    "    \n",
    "    \n",
    "    def image_correction(self, img, cal_params):\n",
    "        '''\n",
    "        correct image from camera distorsion\n",
    "        img: original image RGB format\n",
    "        cal_params: calibration parameters of camera (Camera Matrix and distorsion Coefficients)\n",
    "        return: undistorted image\n",
    "        '''\n",
    "        dst = cv2.undistort(img, cal_params['cameraMatrix'], \\\n",
    "                            cal_params['distorsionCoeff'], None, \\\n",
    "                            cal_params['cameraMatrix'])\n",
    "        return dst\n",
    "        \n",
    "    \n",
    "    def convert2_rgb(self, img):\n",
    "        '''\n",
    "        convert image to RGB\n",
    "        img: RGB image\n",
    "        '''\n",
    "        try:\n",
    "            rgb = cv2.cvtColor(img, cv2.COLOR_BGR2RGB)\n",
    "            return rgb\n",
    "        except:\n",
    "            print('image cannpot be converted to RGB')\n",
    "    \n",
    "    \n",
    "    def convert2_gray(self, img):\n",
    "        '''\n",
    "        convert image to gray\n",
    "        img: RGB image\n",
    "        '''\n",
    "        if len(img.shape) == 3:\n",
    "            gray = cv2.cvtColor(img, cv2.COLOR_RGB2GRAY)\n",
    "            return gray\n",
    "        elif len(img.shape) == 2: #img channel already squashed\n",
    "            return img\n",
    "\n",
    "    \n",
    "    def birdView(self, img, M):\n",
    "        '''\n",
    "        Transform image to birdeye view\n",
    "        img: binary image\n",
    "        M: transformation matrix\n",
    "        return a warped image\n",
    "        '''\n",
    "        \n",
    "        img_sz = (img.shape[1], img.shape[0])\n",
    "        img_warped = cv2.warpPerspective(img, M, img_sz, flags=cv2.INTER_LINEAR)\n",
    "        \n",
    "        return img_warped"
   ]
  },
  {
   "cell_type": "markdown",
   "metadata": {},
   "source": [
    "# Line Detection and fitting"
   ]
  },
  {
   "cell_type": "code",
   "execution_count": 4,
   "metadata": {
    "collapsed": false
   },
   "outputs": [],
   "source": [
    "import matplotlib.patches as patches\n",
    "from scipy.stats import iqr\n",
    "\n",
    "\n",
    "class Line():\n",
    "    '''\n",
    "    extract pixels associated with lanes and fit them to 2nd order polynomial function\n",
    "    '''\n",
    "\n",
    "    def __init__(self,buffer_sz, showMe):\n",
    "        # was the line detected in the last iteration? \n",
    "        self.buffer_sz = buffer_sz\n",
    "        #x values of hotpixels for the last n(=buffer_sz) frames\n",
    "        self.allx = deque([], maxlen=self.buffer_sz)  \n",
    "        #y values of hotpixels for the last n frames\n",
    "        self.ally = deque([], maxlen=self.buffer_sz)\n",
    "        self.starter_centroid = None\n",
    "        #polynomial coefficients averaged over the last n iterations\n",
    "        self.bestfit = {'a0':deque([], maxlen=self.buffer_sz), \n",
    "                        'a1':deque([], maxlen=self.buffer_sz), \n",
    "                        'a2':deque([], maxlen=self.buffer_sz)}\n",
    "        #polynomial coefficients in real space averaged over the last n iterations\n",
    "        self.bestfit_real = {'a0':deque([], maxlen=self.buffer_sz),\n",
    "                                  'a1':deque([], maxlen=self.buffer_sz),\n",
    "                                  'a2':deque([], maxlen=self.buffer_sz)}\n",
    "        #radius of curvature of the line in m\n",
    "        self.radOfCurv_tracker = deque([], maxlen=self.buffer_sz)\n",
    "        self.showMe = showMe\n",
    "        self.line_detected = False\n",
    "\n",
    "        \n",
    "        \n",
    "    def MahalanobisDist(self, x, y):\n",
    "        '''\n",
    "        Mahalanobis Distance for bi-variate distribution\n",
    "        '''\n",
    "        covariance_xy = np.cov(x,y, rowvar=0)\n",
    "        inv_covariance_xy = np.linalg.inv(covariance_xy)\n",
    "        xy_mean = np.mean(x),np.mean(y)\n",
    "        x_diff = np.array([x_i - xy_mean[0] for x_i in x])\n",
    "        y_diff = np.array([y_i - xy_mean[1] for y_i in y])\n",
    "        diff_xy = np.transpose([x_diff, y_diff])\n",
    "    \n",
    "        md = []\n",
    "        for i in range(len(diff_xy)):\n",
    "            md.append(np.sqrt(np.dot(np.dot(np.transpose(diff_xy[i]),inv_covariance_xy),diff_xy[i])))\n",
    "        return md\n",
    "\n",
    "    \n",
    "\n",
    "    def MD_removeOutliers(self, x, y, MD_thresh):\n",
    "        '''\n",
    "        Remove pixels outliers using Mahalonobis distance\n",
    "        '''\n",
    "        MD = self.MahalanobisDist(x, y)\n",
    "        threshold = np.mean(MD) * MD_thresh # adjust 1.5 accordingly \n",
    "        nx, ny, outliers = [], [], []\n",
    "        for i in range(len(MD)):\n",
    "            if MD[i] <= threshold:\n",
    "                nx.append(x[i])\n",
    "                ny.append(y[i])\n",
    "            else:\n",
    "                outliers.append(i) # position of removed pair\n",
    "        return (nx, ny)\n",
    "\n",
    "\n",
    "    \n",
    "    def polynomial_fit(self, data):\n",
    "        '''\n",
    "        Perform 2nd order polynomial fit: a0 + a1 x + a2 x**2\n",
    "        data: dictionary with x and y values {'x':[], 'y':[]}\n",
    "        '''\n",
    "        a2, a1, a0 = np.polyfit(data['x'], data['y'], 2)\n",
    "        return {'a0': a0, 'a1': a1, 'a2': a2}\n",
    "\n",
    "\n",
    "    \n",
    "    def find_starter_centroids(self, image, x0, peak_thresh, showMe):\n",
    "        '''\n",
    "        Find starter centroids using histogram\n",
    "        peak_thresh: If peak intensity is below a threshold use histogram on the full height of the image\n",
    "        returns x-position of centroid and peak intensity\n",
    "        '''\n",
    "        #Define window\n",
    "        window = {'x0': x0, 'y0': image.shape[0], 'width':image.shape[1]/2, 'height':image.shape[0]/2}\n",
    "        \n",
    "        #get centroid\n",
    "        centroid, peak_intensity, _ = self.find_centroid(image, peak_thresh, window, showMe)\n",
    "        #if peak intensity smaller than threshold, change window height to full image height\n",
    "        if (peak_intensity < peak_thresh):\n",
    "            window['height']=image.shape[0]\n",
    "            centroid, peak_intensity, _ = self.find_centroid(image, peak_thresh, window, showMe)\n",
    "        return {'centroid': centroid, 'intensity': peak_intensity}\n",
    "\n",
    "    \n",
    "    \n",
    "    def find_centroid(self, image, peak_thresh, window, showMe):\n",
    "        '''\n",
    "        find centroid in a window using histogram of hotpixels\n",
    "        img: binary image\n",
    "        window with specs {'x0', 'y0', 'width', 'height'}\n",
    "            (x0,y0) coordinates of bottom-left corner of window\n",
    "        return  x-position of centroid, peak intensity and hotpixels_cnt in window \n",
    "        '''\n",
    "        #crop image to window dimension\n",
    "        mask_window = image[ round( window['y0'] - window['height']):round(window['y0']), \n",
    "                              round(window['x0']):round(window['x0']+ window['width'])]\n",
    "        histogram = np.sum(mask_window, axis=0)\n",
    "        centroid = np.argmax(histogram)\n",
    "        hotpixels_cnt = np.sum(histogram)\n",
    "        peak_intensity = histogram[centroid]\n",
    "        if peak_intensity <= peak_thresh:\n",
    "            #centroid reading is likely unreliable - take center of box as centroid\n",
    "            #global position of centroid in image\n",
    "            centroid = int( round(window['x0'] + window['width']/2) )\n",
    "            peak_intensity=0\n",
    "        else:\n",
    "            #global position of centroid in image\n",
    "            centroid = int( round(centroid + window['x0']) )\n",
    "        \n",
    "        if showMe:\n",
    "            plt.plot(histogram)\n",
    "            plt.title('Histogram')\n",
    "            plt.xlabel('horizontal position')\n",
    "            plt.ylabel('hot pixels count')\n",
    "            plt.show()\n",
    "            \n",
    "        return (centroid, peak_intensity, hotpixels_cnt)   \n",
    "  \n",
    "\n",
    " \n",
    "    def run_sliding_window(self, image, centroid_starter, sliding_window_specs, showMe=showMe):\n",
    "        '''\n",
    "        Run sliding window from bottom to top of the image and return indexes of the hotpixels associated with lane\n",
    "        image: binary image\n",
    "        centroid_starter: centroid starting location sliding window\n",
    "        sliding_window_specs: ['width', 'n_steps']\n",
    "            width of sliding window\n",
    "            number of steps of sliding window along vertical axis\n",
    "        returns {'x':[], 'y':[]} coordinates of all hotpixels detected by sliding window\n",
    "                coordinate of all centroids recorded but not used yet! \n",
    "                \n",
    "        '''\n",
    "        #assert image.shape[0]%n_steps==0, 'number of steps must be a factor of the image height'\n",
    "        \n",
    "        #Initialize sliding window\n",
    "        window = {'x0': centroid_starter - int(sliding_window_specs['width']/2), 'y0': image.shape[0], \n",
    "                  'width': sliding_window_specs['width'], \n",
    "                  'height': round(image.shape[0]/sliding_window_specs['n_steps'])}\n",
    "\n",
    "        #Initialize log to store coordinates of hotpixels and log to store centroids coordinates at each step\n",
    "        hotpixels_log = { 'x': [], 'y':[]}\n",
    "        centroids_log = []\n",
    "        if showMe:\n",
    "            out_img = (np.dstack((image, image, image) ) * 255).astype('uint8') #convert to uint8\n",
    "        \n",
    "        for step in range(sliding_window_specs['n_steps']):\n",
    "\n",
    "            #Limit lateral position of window: must remains within image width\n",
    "            if (window['x0'] < 0): window['x0'] = 0   \n",
    "            if (window['x0'] + sliding_window_specs['width']) > image.shape[1]: \n",
    "                window['x0'] = image.shape[1] - sliding_window_specs['width']\n",
    "            \n",
    "            centroid, peak_intensity, hotpixels_cnt = self.find_centroid(image, peak_thresh, window, showMe=showMe)\n",
    "            if step == 0:\n",
    "                self.starter_centroid = centroid\n",
    "            \n",
    "            #if >60% of window area is filled by hotpixels, increase window width\n",
    "            if hotpixels_cnt/(window['width']*window['height']) > 0.6:\n",
    "                window['width']= window['width']*2\n",
    "                window['x0'] = round(window['x0'] - window['width']/2)\n",
    "                #Make sure window remains within image width\n",
    "                if (window['x0'] < 0): window['x0'] = 0   \n",
    "                if (window['x0'] + window['width']) > image.shape[1]: \n",
    "                    window['x0'] = image.shape[1] - window['width']\n",
    "                centroid, peak_intensity, hotpixels_cnt = self.find_centroid(image, peak_thresh, window, showMe=showMe)\n",
    "\n",
    "            if showMe:\n",
    "                print('peak intensity {}'.format(peak_intensity))\n",
    "                print('This is centroid: {}'.format(centroid))\n",
    "            \n",
    "            # Create a copy of image where all pixels outside window are turned off (=0)\n",
    "            mask_window = np.zeros_like(image)\n",
    "            mask_window[ window['y0']- window['height'] : window['y0'],\n",
    "                                window['x0']:window['x0']+window['width']] \\\n",
    "                    = image[ window['y0']- window['height'] : window['y0'],\n",
    "                                window['x0']:window['x0']+window['width']]\n",
    "            \n",
    "            #Get coordinates of hot pixels in window\n",
    "            hotpixels = np.nonzero( mask_window )\n",
    "            hotpixels_log['x'].extend(hotpixels[0].tolist())\n",
    "            hotpixels_log['y'].extend(hotpixels[1].tolist())\n",
    "            #update record of centroids\n",
    "            centroids_log.append(centroid)\n",
    "           \n",
    "            if showMe:\n",
    "                cv2.rectangle(out_img, \n",
    "                          (window['x0'], window['y0']- window['height']),\n",
    "                          (window['x0']+window['width'], window['y0']),(0,255,0), 2)\n",
    "\n",
    "                plt.imshow(out_img)\n",
    "                plt.show()\n",
    "             \n",
    "            #set next position of window and use standard sliding window width\n",
    "            window['width'] = sliding_window_specs['width']\n",
    "            window['x0'] = round(centroid - window['width']/2)\n",
    "            window['y0'] = window['y0'] - window['height']\n",
    "        \n",
    "        return hotpixels_log\n",
    "\n",
    "    \n",
    "    \n",
    "    def predict_line(self, x0, xmax, coeffs):\n",
    "        '''\n",
    "        Predict road line using polyfit coefficients \n",
    "        x values are in range (x0, xmax)\n",
    "        polyfit coeffs: {'a2': , 'a1': , 'a2': }\n",
    "        returns array of [x, y] predicted points, x along image vertical / y along image horizontal direction\n",
    "        '''\n",
    "        x_pts = np.linspace(x0, xmax-1, num=xmax) #x coordinates are along the vertical axis of the image\n",
    "        #predict y coordinates along the horizontal axis\n",
    "        pred = coeffs['a2']*x_pts**2 + coeffs['a1']*x_pts + coeffs['a0']\n",
    "        \n",
    "        return np.column_stack((x_pts,pred))\n",
    " \n",
    "\n",
    "    \n",
    "    def update_tracker(self, tracker, new_value):\n",
    "        '''\n",
    "        update tracker (self.bestfit or self.bestfit_real or radOfCurv or hotpixels) with new coeffs\n",
    "        new_coeffs is of the form {'a2': val2, 'a1': val1, 'a0': val0}\n",
    "        tracker is of the form {'a2': [val2,...], 'a1': [val1,...], 'a0': [val0,...]}\n",
    "        update tracker of radius of curvature\n",
    "        update allx and ally with hotpixels coordinates from last sliding window \n",
    "        '''\n",
    "        if tracker == 'bestfit':\n",
    "            self.bestfit['a0'].append(new_value['a0'])\n",
    "            self.bestfit['a1'].append(new_value['a1'])\n",
    "            self.bestfit['a2'].append(new_value['a2'])\n",
    "        elif tracker == 'bestfit_real':\n",
    "            self.bestfit_real['a0'].append(new_value['a0'])\n",
    "            self.bestfit_real['a1'].append(new_value['a1'])\n",
    "            self.bestfit_real['a2'].append(new_value['a2'])\n",
    "        elif tracker == 'radOfCurvature':\n",
    "            self.radOfCurv_tracker.append(new_value)\n",
    "        elif tracker == 'hotpixels':\n",
    "            self.allx.append(new_value['x'])\n",
    "            self.ally.append(new_value['y'])\n",
    "    \n",
    "    \n",
    "    \n",
    "    def compute_radOfCurvature(self, coeffs, pt):\n",
    "        '''\n",
    "        compute radius of curvature in meter or pixels\n",
    "        polyfit coeffs is of the form {'a2': val2, 'a1': val1, 'a0': val0}\n",
    "        pt is the x coordinate (position along the vertical axis ) where to evaluate the radius of curvature\n",
    "        '''\n",
    "            \n",
    "        return ((1 + (2*coeffs['a2']*pt + coeffs['a1'])**2)**1.5) / np.absolute(2*coeffs['a2'])\n",
    "                \n",
    "    \n",
    "\n",
    "    def intercept_is_outlier(self, data, elt):\n",
    "        '''\n",
    "        Determine if intercept 'elt' is an outlier when compared to previous 'intercepts' in data\n",
    "        returns True if elt is an outlier\n",
    "        '''\n",
    "        outlier_flag = False\n",
    "        #evaluate if elt is an outlier when data has enough datapoints\n",
    "        if len(data) == self.buffer_sz:\n",
    "            p = np.min(data)-50\n",
    "            q = np.max(data)+50\n",
    "            \n",
    "            if elt < q and elt > p:\n",
    "                return False\n",
    "            else:\n",
    "                return True\n",
    "    \n",
    "    \n",
    "    def is_outlier(self, data, elt):\n",
    "        '''\n",
    "        Determine if 'elt' is an outlier when compared to datapoints in data\n",
    "        Use IQR scheme\n",
    "        returns True if elt is an outlier\n",
    "        NOT USED\n",
    "        '''\n",
    "        outlier_flag = False\n",
    "        #evaluate if elt is an outlier when data has enough datapoints\n",
    "        if len(data) == self.buffer_sz:\n",
    "            q1 = np.percentile(data, 25)\n",
    "            q3 = np.percentile(data, 75)\n",
    "            iqr = q3-q1\n",
    "            if elt < (q3 + 1.5*iqr) and elt > q1 - 1.5*iqr: \n",
    "                return False\n",
    "            else: \n",
    "                return True\n",
    "            \n",
    "\n",
    "        \n",
    "    def approve_line(self, coeffs, xmax):\n",
    "        '''\n",
    "        Approve if detected hotpixels are from a real line road\n",
    "        Scheme: if intercept of bestfitat 0 and xmax(bottom of image) agrees with previous frames, then flag True\n",
    "        output: flag\n",
    "        '''\n",
    "        flag_line = True\n",
    "            \n",
    "        #check if intercepts at top of image is an outlier\n",
    "        #if self.intercept_is_outlier(self.bestfit['a0'], coeffs['a0']):\n",
    "        #    flag_line = False\n",
    "\n",
    "        #check if intercepts at bottom of image is an outlier\n",
    "        #Calculate intercept at bottom of image for n previous frames \n",
    "        #intercepts_bottom = np.array(self.bestfit['a2']) * xmax**2 + np.array(self.bestfit['a1']) * xmax \\\n",
    "        #                + np.array(self.bestfit['a0'])\n",
    "        #current frame \n",
    "        #this_intercept_bottom = coeffs['a2']* xmax**2 + coeffs['a1']* xmax + coeffs['a0']\n",
    "           \n",
    "        #if self.intercept_is_outlier(intercepts_bottom, this_intercept_bottom):\n",
    "        #    flag_line = False\n",
    "        \n",
    "        #check if radius of curvature (px unit) consistent with previous curvature:\n",
    "        #this_curvature_rad = self.compute_radOfCurvature(coeffs, xmax, xm_per_pix=None, ym_per_pix=None)    \n",
    "        #if self.is_outlier(self.radius_of_curvature_tracker, this_curvature_rad):\n",
    "        #    flag_tracker = False\n",
    "        \n",
    "        #get distance image center to lane line\n",
    "        #if np.abs(dist_2lane) > max_dist:\n",
    "        #    flag_lane = False\n",
    "        #    print('False because of lane distance')\n",
    "        \n",
    "        #if self.is_outlier(self.bestfit['a1'], coeffs['a1']) or self.is_outlier(self.bestfit['a0'], coeffs['a0']): \n",
    "        #    flag_lane = False\n",
    "        #    print('False because of outlier')\n",
    "        #print('Approve Lane:', flag_lane)\n",
    "        #print('**************')\n",
    "        return flag_line\n",
    "        \n",
    "    \n",
    "    def mva_smoothing(self, tracker, weighted=False):\n",
    "        '''\n",
    "        Moving average smoothing of polyfit coefficients \n",
    "        weighted: True, use weighted average \n",
    "                (1a + 1/2b + 1/3c...)/(1+1/2+1/3...) where a is the most recent frame, b 2nd most recent, etc...\n",
    "                False: use mean\n",
    "        '''\n",
    "        if weighted:\n",
    "            if tracker == 'coeffs':\n",
    "                smooth_tracker = {'a2':0, 'a1':0, 'a0': 0}\n",
    "                a2, a1, a0, denominator = 0, 0, 0, 0\n",
    "                #higher weight for latest coefficients frames\n",
    "                \n",
    "                for i in range(len(self.bestfit['a2'])):\n",
    "                    a2 = a2 + self.bestfit['a2'][i]/abs(len(self.bestfit['a2']) - i)\n",
    "                    a1 = a1 + self.bestfit['a1'][i]/abs(len(self.bestfit['a2']) - i)\n",
    "                    a0 = a0 + self.bestfit['a0'][i]/abs(len(self.bestfit['a2']) - i)\n",
    "                    denominator = denominator + 1/abs(len(self.bestfit['a2']) - i)\n",
    "                smooth_tracker['a2'] = a2/denominator\n",
    "                smooth_tracker['a1'] = a1/denominator\n",
    "                smooth_tracker['a0'] = a0/denominator\n",
    "                return smooth_tracker\n",
    "            elif tracker == 'radCurv':\n",
    "                smooth_val, denominator = 0, 0\n",
    "                for i in range(len(self.radOfCurv_tracker)):\n",
    "                    smooth_val = smooth_val + self.radOfCurv_tracker[i]/abs(len(self.radOfCurv_tracker) - i)\n",
    "                    denominator = denominator + 1/abs(len(self.radOfCurv_tracker) - i)\n",
    "                return smooth_val/denominator  \n",
    "        else:\n",
    "            if tracker == 'coeffs':\n",
    "                smooth_coeffs = {'a2':0, 'a1':0, 'a0': 0}\n",
    "                smooth_coeffs['a2'] = np.mean(self.bestfit['a2'])\n",
    "                smooth_coeffs['a1'] = np.mean(self.bestfit['a1'])\n",
    "                smooth_coeffs['a0'] = np.mean(self.bestfit['a0'])\n",
    "                return smooth_coeffs\n",
    "            elif tracker == 'radCurv':\n",
    "                return np.mean(self.radOfCurv_tracker)"
   ]
  },
  {
   "cell_type": "markdown",
   "metadata": {},
   "source": [
    "# Pipeline"
   ]
  },
  {
   "cell_type": "code",
   "execution_count": 5,
   "metadata": {
    "collapsed": false,
    "scrolled": true
   },
   "outputs": [],
   "source": [
    "def perspective_transform(src_pts, dst_pts):\n",
    "    '''\n",
    "    perspective transform\n",
    "    args: source and destination points\n",
    "    return M and Minv\n",
    "    '''\n",
    "    M = cv2.getPerspectiveTransform(src_pts, dst_pts)\n",
    "    Minv = cv2.getPerspectiveTransform(dst_pts, src_pts)\n",
    "    \n",
    "    return {'M': M, 'Minv':Minv}\n",
    "\n",
    "\n",
    "#To confirm that your detected lane lines are real, you might consider:\n",
    "#Checking that they have similar curvature\n",
    "#Checking that they are separated by approximately the right distance horizontally\n",
    "#Checking that they are roughly parallel\n",
    "    \n",
    "    \n",
    "camera_calib = calib_params\n",
    "src_pts = np.float32([[180, 720], [610, 400], [700, 400], [1300, 720]])\n",
    "dst_pts = np.float32([[380, 720], [480, 0], [900, 0], [1000, 720]])\n",
    "transform_matrix = perspective_transform(src_pts, dst_pts)\n",
    "gradx_thresh=[25, 255]\n",
    "ch_thresh=[50, 255]\n",
    "showMe = 0\n",
    "bottom_crop = -100 #front-end car\n",
    "sliding_window_specs = {'width': 80, 'n_steps': 7} #number of steps vertical steps of sliding window\n",
    "peak_thresh = 20 # if number of hot pixel in window below 50, #consider them as noise and do not attempt to get centroid\n",
    "buffer_sz = 5\n",
    "ym_per_pix = 12/450 # meters per pixel in y dimension\n",
    "xm_per_pix = 3.7/911 # meters per pixel in x dimensio\n",
    "\n",
    "min_sz = 50\n",
    "apply_MDOutlier = False\n",
    "lineLeft = Line(buffer_sz=buffer_sz, showMe=showMe)\n",
    "lineRight = Line(buffer_sz=buffer_sz, showMe=showMe)\n",
    "alpha = None\n",
    "\n",
    "\n",
    "def pipeline(image):\n",
    "    '''\n",
    "    Image processing to highlight lanes\n",
    "    '''\n",
    "    # Image processing pipeline\n",
    "    time0 = time.time()\n",
    "    process = ImageProcess()\n",
    "    img_sz = (image.shape[1], image.shape[0])\n",
    "    pt_curvature = image.shape[0]\n",
    "    original = image.copy()\n",
    "    image = process.image_correction(image, camera_calib)\n",
    "    if showMe: display(image, 'Apply Camera Correction', color=1)\n",
    "        \n",
    "    gray = cv2.cvtColor(image, cv2.COLOR_RGB2GRAY)\n",
    "    if showMe: display(gray, 'GRAY', color=0)\n",
    "        \n",
    "    gradx = process.directional_gradient(gray, direction='x', thresh=gradx_thresh )\n",
    "    if showMe: display(gradx, 'Gradient x', color=0)\n",
    "    \n",
    "    ch3_hls_binary = process.color_binary(image, dst_format='HLS', ch=3, ch_thresh=ch_thresh)\n",
    "    if showMe: display(ch3_hls_binary, 'HLS to Binary S ', color=0)\n",
    "        \n",
    "    combined_output = np.zeros_like(gradx)\n",
    "    combined_output[((gradx == 1) | (ch3_hls_binary == 1) )] = 1\n",
    "    if showMe: display(combined_output, 'Combined output', color=0)\n",
    "\n",
    "    #apply ROI mask\n",
    "    #mask = np.zeros_like(combined_output)\n",
    "    #vertices = np.array([[(100, 720), (545, 470), (755, 470), (1290, 720)]], dtype=np.int32)\n",
    "    #filling pixels inside the polygon defined by \"vertices\" with the fill color    \n",
    "    #cv2.fillPoly(mask, vertices, 1)\n",
    "    #masked_image = cv2.bitwise_and(combined_output, mask)\n",
    "    #if showMe: display(masked_image, 'Masked', color=0)\n",
    "    \n",
    "    #Removing small aggregate of hotpixels\n",
    "    #cleaned = morphology.remove_small_objects(masked_image.astype('bool'), min_size=min_sz, connectivity=2)\n",
    "    #if showMe: display(cleaned, 'cleaned', color=0)\n",
    "    \n",
    "    warped_img = process.birdView(combined_output, transform_matrix['M'])\n",
    "    if showMe: display(warped_img, 'Bird View', color=0)\n",
    "    \n",
    "    #adjust image height (remove front-end of car)\n",
    "    warped_img = warped_img[0:bottom_crop, :]\n",
    "    if showMe: display(warped_img, 'Cropped', color=0)\n",
    "        \n",
    "    time1 = time.time()\n",
    "    print('Image processing time: {} sec'.format(time1-time0))\n",
    "    #Lane Detection Pipeline\n",
    "    #Find starter\n",
    "    if lineRight.line_detected == False:\n",
    "        centroid_starter_right = lineRight.find_starter_centroids(warped_img, x0=warped_img.shape[1]/2, \n",
    "                                                               peak_thresh=peak_thresh, showMe=showMe)\n",
    "        lineRight.starter_centroid = centroid_starter_right['centroid']\n",
    "        lineRight.line_detected = True\n",
    "        \n",
    "   \n",
    "    log_lineRight = lineRight.run_sliding_window(warped_img, lineRight.starter_centroid,\n",
    "                                                 sliding_window_specs, showMe=showMe)    \n",
    "        \n",
    "    if lineLeft.line_detected == False:\n",
    "        centroid_starter_left = lineLeft.find_starter_centroids(warped_img, x0=0, peak_thresh=peak_thresh,\n",
    "                                                            showMe=showMe)\n",
    "        lineLeft.starter_centroid = centroid_starter_left['centroid']\n",
    "        lineLeft.line_detected = True\n",
    "        \n",
    "    log_lineLeft = lineLeft.run_sliding_window(warped_img, lineLeft.starter_centroid,\n",
    "                                               sliding_window_specs, showMe=showMe)\n",
    "    \n",
    "    if apply_MDOutlier:\n",
    "        #Remove bi-variate outliers using Mahalanobis Distance\n",
    "        log_lineRight['x'], log_lineRight['y'] = \\\n",
    "                    lineRight.MD_removeOutliers(log_lineRight['x'], log_lineRight['y'], MD_thresh)\n",
    "\n",
    "        log_lineLeft['x'], log_lineLeft['y'] = \\\n",
    "                       lineLeft.MD_removeOutliers(log_lineLeft['x'], log_lineLeft['y'], MD_thresh)\n",
    "    \n",
    "    \n",
    "    #add this frame' hotpixels to allx and ally tracker\n",
    "    if len(log_lineRight['x']) !=0:\n",
    "        lineRight.update_tracker('hotpixels', log_lineRight)\n",
    "        lineRight.line_detected = True\n",
    "        print('update******')\n",
    "    else:\n",
    "        lineRight.line_detected = False\n",
    "        \n",
    "    if len(log_lineLeft['x'])!=0 :\n",
    "        lineLeft.update_tracker('hotpixels', log_lineLeft)\n",
    "        lineLeft.line_detected = True\n",
    "    else:\n",
    "        lineLeft.line_detected = False\n",
    "    \n",
    "    \n",
    "    # use all hotpixels accumulated in allx and ally from the last n frames\n",
    "    # allx is of the form [[hotpixels frame1], [hotpixels_frame2], ....]\n",
    "    multiframe_r = {'x': [val for sublist in lineRight.allx for val in sublist],\n",
    "                                            'y': [val for sublist in lineRight.ally for val in sublist] }\n",
    "    \n",
    "    multiframe_l = {'x': [val for sublist in lineLeft.allx for val in sublist],\n",
    "                                            'y': [val for sublist in lineLeft.ally for val in sublist] }\n",
    "    \n",
    "    #fit to polynomial in pixel space: right line\n",
    "    fit_lineRight = lineRight.polynomial_fit(multiframe_r)\n",
    "    #fit to polynomial in real space: right line\n",
    "    fit_lineRight_real = lineRight.polynomial_fit({'x': [i*ym_per_pix for i in multiframe_r['x']], \n",
    "                                                   'y': [i*xm_per_pix for i in multiframe_r['y']]})\n",
    "    #fit to polynomial in pixel space: left line\n",
    "    fit_lineLeft = lineLeft.polynomial_fit(multiframe_l)\n",
    "    #fit to polynomial in real space: left line\n",
    "    fit_lineLeft_real = lineLeft.polynomial_fit({'x': [i*ym_per_pix for i in multiframe_l['x']], \n",
    "                                                 'y': [i*xm_per_pix for i in multiframe_l['y']]})\n",
    "    \n",
    "    \n",
    "    # check approval of fitted right line\n",
    "    if lineRight.approve_line(fit_lineRight, xmax=image.shape[0]):\n",
    "        # update trackers\n",
    "        lineRight.update_tracker('bestfit', fit_lineRight)\n",
    "        lineRight.update_tracker('bestfit_real', fit_lineRight_real)\n",
    "        radOfCurv_r = lineRight.compute_radOfCurvature(fit_lineRight_real, pt_curvature*ym_per_pix)\n",
    "        lineRight.update_tracker('radOfCurvature', radOfCurv_r)\n",
    "    else:\n",
    "        # use coeffs of the previous frame \n",
    "        fit_lineRight = {'a2': lineRight.bestfit['a2'][-1], 'a1': lineRight.bestfit['a1'][-1],\n",
    "                        'a0': lineRight.bestfit['a0'][-1]}\n",
    "        #use radius of curvature of previous frame\n",
    "        radOfCurv_r = lineRight.radOfCurv_tracker[-1]\n",
    "        \n",
    "    # check approval of fitted left line\n",
    "    if lineLeft.approve_line(fit_lineLeft, xmax=image.shape[0]):\n",
    "        #update trackers\n",
    "        lineLeft.update_tracker('bestfit', fit_lineLeft)\n",
    "        lineLeft.update_tracker('bestfit_real', fit_lineLeft_real)\n",
    "        radOfCurv_l = lineLeft.compute_radOfCurvature(fit_lineLeft_real, pt_curvature*ym_per_pix)\n",
    "        lineLeft.update_tracker('radOfCurvature', radOfCurv_l)\n",
    "    else:\n",
    "        # use coeffs of the previous frame \n",
    "        fit_lineLeft = {'a2': lineLeft.bestfit['a2'][-1], \n",
    "                         'a1': lineLeft.bestfit['a1'][-1],\n",
    "                         'a0': lineLeft.bestfit['a0'][-1]}\n",
    "        #use radius of curvature of previous frame\n",
    "        radOfCurv_l = lineLeft.radOfCurv_tracker[-1]\n",
    "        \n",
    "    \n",
    "    #display lane and best polynomial fits\n",
    "    var_pts = np.linspace(0, image.shape[0]-1, num=image.shape[0])\n",
    "    if showMe:\n",
    "        #show currentframe\n",
    "        plt.imshow(warped_img, cmap='gray')\n",
    "        #show hotpixels accumulated during last n frames\n",
    "        plt.scatter(multiframe_r['y'], multiframe_r['x'], color='cyan', s=0.1, alpha=0.1)\n",
    "        plt.scatter(multiframe_l['y'], multiframe_l['x'], color='cyan', s=0.1, alpha=0.1)\n",
    "    \n",
    "        #Show best fit on multiframe\n",
    "        pred_lineRight = lineRight.predict_line(0, image.shape[0], fit_lineRight)\n",
    "        pred_lineLeft = lineLeft.predict_line(0, image.shape[0], fit_lineLeft)\n",
    "        plt.plot(pred_lineLeft[:,1], pred_lineLeft[:,0], 'r-', label='multiframe', linewidth=3)\n",
    "        plt.plot(pred_lineRight[:,1], pred_lineRight[:,0], 'r-', label='multiframe', linewidth=3)\n",
    "        plt.title('accum_fr (cyan) - bestfit on 1fr (b) - bestfit acc_fr (r)')\n",
    "        \n",
    "        # Show best fit on current single frame\n",
    "         \n",
    "        #fit_lineRight_singleframe = lineRight.polynomial_fit(log_lineRight)\n",
    "        #fit_lineLeft_singleframe = lineLeft.polynomial_fit(log_lineLeft)\n",
    "        #var_pts = np.linspace(0, image.shape[0]-1, num=image.shape[0])\n",
    "        #pred_lineLeft_singleframe = lineLeft.predict_line(0, image.shape[0], fit_lineLeft_singleframe)\n",
    "        #pred_lineRight_singleframe = lineRight.predict_line(0, image.shape[0], fit_lineRight_singleframe)\n",
    "        #plt.plot(pred_lineLeft_singleframe[:,1], pred_lineLeft_singleframe[:,0], 'b-', label='singleframe', linewidth=1)\n",
    "        #plt.plot(pred_lineRight_singleframe[:,1], pred_lineRight_singleframe[:,0], 'b-', label='singleframe', linewidth=1)\n",
    "        plt.show()\n",
    "    \n",
    "    \n",
    "    #smoothing fitcoeffs and radis of Curvature\n",
    "    smoothfit_lineLeft = lineLeft.mva_smoothing('coeffs', weighted=True)\n",
    "    radCurv_smooth_lineLeft = lineLeft.mva_smoothing('radCurv', weighted=True)\n",
    "    smoothfit_lineRight = lineRight.mva_smoothing('coeffs', weighted=True)\n",
    "    radCurv_smooth_lineRight = lineRight.mva_smoothing('radCurv', weighted=True)\n",
    "    #predicted smoothed lane left lane\n",
    "    pred_smooth_lineLeft = lineLeft.predict_line(0, image.shape[0], smoothfit_lineLeft)\n",
    "    pred_smooth_lineRight = lineRight.predict_line(0, image.shape[0], smoothfit_lineRight)\n",
    "    \n",
    "    if showMe:\n",
    "        #display lane and predicted lines with smoothing\n",
    "        plt.imshow(warped_img, cmap='gray')\n",
    "        plt.plot(pred_smooth_lineLeft[:,1], pred_smooth_lineLeft[:,0], 'r-')\n",
    "        plt.plot(pred_smooth_lineRight[:,1], pred_smooth_lineRight[:,0], 'r-')\n",
    "        plt.title('best fit with smoothing')\n",
    "        plt.show()\n",
    "    \n",
    "    \n",
    "    \n",
    "    ###############\n",
    "    # estimate offsetclose to driver (bottom of image)\n",
    "    center_of_lane = (pred_smooth_lineLeft[:,1][-1] +  pred_smooth_lineRight[:,1][-1])/2\n",
    "    offset = (image.shape[1]/2 - center_of_lane ) * xm_per_pix\n",
    "    side_pos = 'right'\n",
    "    if offset < 0:\n",
    "        side_pos = 'left'\n",
    "\n",
    "\n",
    "    # Create an image to draw the lines on\n",
    "    warp_zero = np.zeros_like(gray).astype(np.uint8)\n",
    "    color_warp = np.dstack((warp_zero, warp_zero, warp_zero))\n",
    "    # Recast the x and y points into usable format for cv2.fillPoly()\n",
    "    left_fitx = smoothfit_lineLeft['a2']*var_pts**2 + smoothfit_lineLeft['a1']*var_pts + smoothfit_lineLeft['a0']\n",
    "    right_fitx = smoothfit_lineRight['a2']*var_pts**2 + smoothfit_lineRight['a1']*var_pts + smoothfit_lineRight['a0']\n",
    "    pts_left = np.array([np.transpose(np.vstack([left_fitx, var_pts]))])\n",
    "    pts_right = np.array([np.flipud(np.transpose(np.vstack([right_fitx, var_pts])))])\n",
    "    pts = np.hstack((pts_left, pts_right))\n",
    "    cv2.fillPoly(color_warp, np.int_([pts]), (0,255, 0))\n",
    "    #cv2.putText(color_warp, '|', (int(image.shape[1]/2), image.shape[0]-10), cv2.FONT_HERSHEY_SIMPLEX, 2, (0, 0, 255), 8)\n",
    "    #middle of the lane\n",
    "    #cv2.putText(color_warp, '|', (int(center_of_lane), image.shape[0]-10), cv2.FONT_HERSHEY_SIMPLEX, 1, (255, 0, 0), 8)\n",
    "    newwarp = cv2.warpPerspective(color_warp, transform_matrix['Minv'], (image.shape[1], image.shape[0]))\n",
    "    result = cv2.addWeighted(image, 1, newwarp, 0.3, 0)\n",
    "    \n",
    "    ##############\n",
    "    # Radius of Curvature\n",
    "    # Determine polynomial parameters in real space\n",
    "    ####fit_lineRight = .polynomial_fit(multiframe_r)\n",
    "    \n",
    "    # Combine the result with the original image\n",
    "    if showMe:\n",
    "        plt.imshow(result)\n",
    "        plt.show()\n",
    "    \n",
    "    average_radCurv = (radCurv_smooth_lineLeft + radCurv_smooth_lineRight)/2\n",
    "    #cv2.putText(result, 'Vehicle is '+ str(round(offset, 3)) +'m ' +side_pos +' of center',\n",
    "    #            (50, 100), cv2.FONT_HERSHEY_SIMPLEX, 1, (255, 255, 255), thickness=2)\n",
    "    #cv2.putText(result, 'Radius of curvature :'+ str(round(average_radCurv))+ 'm', (50, 50), cv2.FONT_HERSHEY_SIMPLEX, 1, (255, 255, 255), thickness=2)\n",
    "    \n",
    "    if showMe:\n",
    "        plt.title('Final Result')\n",
    "        plt.imshow(result)\n",
    "        plt.axis('off')\n",
    "        plt.show()\n",
    "    return result.astype('uint8')"
   ]
  },
  {
   "cell_type": "markdown",
   "metadata": {},
   "source": [
    "# Run Line Detector"
   ]
  },
  {
   "cell_type": "code",
   "execution_count": 6,
   "metadata": {
    "collapsed": false,
    "scrolled": true
   },
   "outputs": [
    {
     "name": "stdout",
     "output_type": "stream",
     "text": [
      "Image processing time: 0.07260346412658691 sec\n",
      "update******\n",
      "[MoviePy] >>>> Building video solution.mp4\n",
      "[MoviePy] Writing video solution.mp4\n"
     ]
    },
    {
     "name": "stderr",
     "output_type": "stream",
     "text": [
      "\r",
      "  0%|          | 0/1201 [00:00<?, ?it/s]"
     ]
    },
    {
     "name": "stdout",
     "output_type": "stream",
     "text": [
      "Image processing time: 0.0839693546295166 sec\n",
      "update******\n"
     ]
    },
    {
     "name": "stderr",
     "output_type": "stream",
     "text": [
      "  0%|          | 2/1201 [00:00<05:53,  3.39it/s]"
     ]
    },
    {
     "name": "stdout",
     "output_type": "stream",
     "text": [
      "Image processing time: 0.06987619400024414 sec\n",
      "update******\n",
      "Image processing time: 0.06216549873352051 sec\n",
      "update******\n"
     ]
    },
    {
     "name": "stderr",
     "output_type": "stream",
     "text": [
      "\r",
      "  0%|          | 3/1201 [00:00<06:02,  3.31it/s]"
     ]
    },
    {
     "name": "stdout",
     "output_type": "stream",
     "text": [
      "Image processing time: 0.063018798828125 sec\n",
      "update******\n"
     ]
    },
    {
     "name": "stderr",
     "output_type": "stream",
     "text": [
      "  0%|          | 5/1201 [00:01<05:44,  3.47it/s]"
     ]
    },
    {
     "name": "stdout",
     "output_type": "stream",
     "text": [
      "Image processing time: 0.05983781814575195 sec\n",
      "update******\n",
      "Image processing time: 0.10448312759399414 sec\n",
      "update******\n"
     ]
    },
    {
     "name": "stderr",
     "output_type": "stream",
     "text": [
      "  1%|          | 7/1201 [00:02<05:42,  3.48it/s]"
     ]
    },
    {
     "name": "stdout",
     "output_type": "stream",
     "text": [
      "Image processing time: 0.06625747680664062 sec\n",
      "update******\n",
      "Image processing time: 0.08121538162231445 sec\n",
      "update******\n"
     ]
    },
    {
     "name": "stderr",
     "output_type": "stream",
     "text": [
      "  1%|          | 9/1201 [00:02<05:32,  3.59it/s]"
     ]
    },
    {
     "name": "stdout",
     "output_type": "stream",
     "text": [
      "Image processing time: 0.04835224151611328 sec\n",
      "update******\n",
      "Image processing time: 0.06670928001403809 sec\n",
      "update******\n"
     ]
    },
    {
     "name": "stderr",
     "output_type": "stream",
     "text": [
      "  1%|          | 11/1201 [00:03<05:40,  3.50it/s]"
     ]
    },
    {
     "name": "stdout",
     "output_type": "stream",
     "text": [
      "Image processing time: 0.08014464378356934 sec\n",
      "update******\n"
     ]
    },
    {
     "name": "stderr",
     "output_type": "stream",
     "text": [
      "\r",
      "  1%|          | 12/1201 [00:03<05:29,  3.60it/s]"
     ]
    },
    {
     "name": "stdout",
     "output_type": "stream",
     "text": [
      "Image processing time: 0.05845141410827637 sec\n",
      "update******\n"
     ]
    },
    {
     "name": "stderr",
     "output_type": "stream",
     "text": [
      "\r",
      "  1%|          | 13/1201 [00:03<05:31,  3.59it/s]"
     ]
    },
    {
     "name": "stdout",
     "output_type": "stream",
     "text": [
      "Image processing time: 0.08197236061096191 sec\n",
      "update******\n",
      "Image processing time: 0.07224082946777344 sec\n",
      "update******\n"
     ]
    },
    {
     "name": "stderr",
     "output_type": "stream",
     "text": [
      "  1%|          | 15/1201 [00:04<05:29,  3.60it/s]"
     ]
    },
    {
     "name": "stdout",
     "output_type": "stream",
     "text": [
      "Image processing time: 0.06439876556396484 sec\n",
      "update******\n",
      "Image processing time: 0.05791068077087402 sec\n",
      "update******\n"
     ]
    },
    {
     "name": "stderr",
     "output_type": "stream",
     "text": [
      "\r",
      "  1%|▏         | 16/1201 [00:04<05:24,  3.65it/s]"
     ]
    },
    {
     "name": "stdout",
     "output_type": "stream",
     "text": [
      "Image processing time: 0.0502622127532959 sec\n",
      "update******\n"
     ]
    },
    {
     "name": "stderr",
     "output_type": "stream",
     "text": [
      "  1%|▏         | 18/1201 [00:05<05:15,  3.75it/s]"
     ]
    },
    {
     "name": "stdout",
     "output_type": "stream",
     "text": [
      "Image processing time: 0.054372549057006836 sec\n",
      "update******\n"
     ]
    },
    {
     "name": "stderr",
     "output_type": "stream",
     "text": [
      "\r",
      "  2%|▏         | 19/1201 [00:05<05:17,  3.72it/s]"
     ]
    },
    {
     "name": "stdout",
     "output_type": "stream",
     "text": [
      "Image processing time: 0.059034109115600586 sec\n",
      "update******\n",
      "Image processing time: 0.06710982322692871 sec\n",
      "update******\n"
     ]
    },
    {
     "name": "stderr",
     "output_type": "stream",
     "text": [
      "\r",
      "  2%|▏         | 20/1201 [00:05<05:17,  3.72it/s]"
     ]
    },
    {
     "name": "stdout",
     "output_type": "stream",
     "text": [
      "Image processing time: 0.061643362045288086 sec\n",
      "update******\n"
     ]
    },
    {
     "name": "stderr",
     "output_type": "stream",
     "text": [
      "  2%|▏         | 22/1201 [00:06<05:24,  3.63it/s]"
     ]
    },
    {
     "name": "stdout",
     "output_type": "stream",
     "text": [
      "Image processing time: 0.06848287582397461 sec\n",
      "update******\n"
     ]
    },
    {
     "name": "stderr",
     "output_type": "stream",
     "text": [
      "\r",
      "  2%|▏         | 23/1201 [00:06<05:20,  3.67it/s]"
     ]
    },
    {
     "name": "stdout",
     "output_type": "stream",
     "text": [
      "Image processing time: 0.0645902156829834 sec\n",
      "update******\n"
     ]
    },
    {
     "name": "stderr",
     "output_type": "stream",
     "text": [
      "\r",
      "  2%|▏         | 24/1201 [00:06<05:13,  3.76it/s]"
     ]
    },
    {
     "name": "stdout",
     "output_type": "stream",
     "text": [
      "Image processing time: 0.061482906341552734 sec\n",
      "update******\n"
     ]
    },
    {
     "name": "stderr",
     "output_type": "stream",
     "text": [
      "\r",
      "  2%|▏         | 25/1201 [00:06<05:09,  3.80it/s]"
     ]
    },
    {
     "name": "stdout",
     "output_type": "stream",
     "text": [
      "Image processing time: 0.060645341873168945 sec\n",
      "update******\n",
      "Image processing time: 0.08076047897338867 sec\n",
      "update******\n"
     ]
    },
    {
     "name": "stderr",
     "output_type": "stream",
     "text": [
      "\r",
      "  2%|▏         | 26/1201 [00:07<05:43,  3.42it/s]"
     ]
    },
    {
     "name": "stdout",
     "output_type": "stream",
     "text": [
      "Image processing time: 0.06490802764892578 sec\n",
      "update******\n"
     ]
    },
    {
     "name": "stderr",
     "output_type": "stream",
     "text": [
      "\r",
      "  2%|▏         | 27/1201 [00:07<05:56,  3.29it/s]"
     ]
    },
    {
     "name": "stdout",
     "output_type": "stream",
     "text": [
      "Image processing time: 0.06326556205749512 sec\n",
      "update******\n"
     ]
    },
    {
     "name": "stderr",
     "output_type": "stream",
     "text": [
      "  2%|▏         | 29/1201 [00:08<06:12,  3.15it/s]"
     ]
    },
    {
     "name": "stdout",
     "output_type": "stream",
     "text": [
      "Image processing time: 0.11071991920471191 sec\n",
      "update******\n",
      "Image processing time: 0.07165241241455078 sec\n",
      "update******\n"
     ]
    },
    {
     "name": "stderr",
     "output_type": "stream",
     "text": [
      "  3%|▎         | 31/1201 [00:08<05:52,  3.32it/s]"
     ]
    },
    {
     "name": "stdout",
     "output_type": "stream",
     "text": [
      "Image processing time: 0.06703042984008789 sec\n",
      "update******\n"
     ]
    },
    {
     "name": "stderr",
     "output_type": "stream",
     "text": [
      "\r",
      "  3%|▎         | 32/1201 [00:09<05:37,  3.46it/s]"
     ]
    },
    {
     "name": "stdout",
     "output_type": "stream",
     "text": [
      "Image processing time: 0.06857132911682129 sec\n",
      "update******\n"
     ]
    },
    {
     "name": "stderr",
     "output_type": "stream",
     "text": [
      "\r",
      "  3%|▎         | 33/1201 [00:09<05:20,  3.65it/s]"
     ]
    },
    {
     "name": "stdout",
     "output_type": "stream",
     "text": [
      "Image processing time: 0.07094812393188477 sec\n",
      "update******\n"
     ]
    },
    {
     "name": "stderr",
     "output_type": "stream",
     "text": [
      "\r",
      "  3%|▎         | 34/1201 [00:09<05:13,  3.72it/s]"
     ]
    },
    {
     "name": "stdout",
     "output_type": "stream",
     "text": [
      "Image processing time: 0.053612709045410156 sec\n",
      "update******\n"
     ]
    },
    {
     "name": "stderr",
     "output_type": "stream",
     "text": [
      "\r",
      "  3%|▎         | 35/1201 [00:09<05:04,  3.83it/s]"
     ]
    },
    {
     "name": "stdout",
     "output_type": "stream",
     "text": [
      "Image processing time: 0.05107522010803223 sec\n",
      "update******\n"
     ]
    },
    {
     "name": "stderr",
     "output_type": "stream",
     "text": [
      "\r",
      "  3%|▎         | 36/1201 [00:10<05:04,  3.83it/s]"
     ]
    },
    {
     "name": "stdout",
     "output_type": "stream",
     "text": [
      "Image processing time: 0.0773932933807373 sec\n",
      "update******\n"
     ]
    },
    {
     "name": "stderr",
     "output_type": "stream",
     "text": [
      "\r",
      "  3%|▎         | 37/1201 [00:10<05:07,  3.78it/s]"
     ]
    },
    {
     "name": "stdout",
     "output_type": "stream",
     "text": [
      "Image processing time: 0.06477665901184082 sec\n",
      "update******\n"
     ]
    },
    {
     "name": "stderr",
     "output_type": "stream",
     "text": [
      "\r",
      "  3%|▎         | 38/1201 [00:10<05:01,  3.86it/s]"
     ]
    },
    {
     "name": "stdout",
     "output_type": "stream",
     "text": [
      "Image processing time: 0.0550384521484375 sec\n",
      "update******\n",
      "Image processing time: 0.06778550148010254 sec\n",
      "update******\n"
     ]
    },
    {
     "name": "stderr",
     "output_type": "stream",
     "text": [
      "  3%|▎         | 40/1201 [00:11<05:25,  3.57it/s]"
     ]
    },
    {
     "name": "stdout",
     "output_type": "stream",
     "text": [
      "Image processing time: 0.07278203964233398 sec\n",
      "update******\n"
     ]
    },
    {
     "name": "stderr",
     "output_type": "stream",
     "text": [
      "\r",
      "  3%|▎         | 41/1201 [00:11<05:29,  3.52it/s]"
     ]
    },
    {
     "name": "stdout",
     "output_type": "stream",
     "text": [
      "Image processing time: 0.05412435531616211 sec\n",
      "update******\n",
      "Image processing time: 0.07314825057983398 sec\n",
      "update******\n"
     ]
    },
    {
     "name": "stderr",
     "output_type": "stream",
     "text": [
      "\r",
      "  3%|▎         | 42/1201 [00:11<05:50,  3.31it/s]"
     ]
    },
    {
     "name": "stdout",
     "output_type": "stream",
     "text": [
      "Image processing time: 0.11898636817932129 sec\n",
      "update******\n"
     ]
    },
    {
     "name": "stderr",
     "output_type": "stream",
     "text": [
      "\r",
      "  4%|▎         | 43/1201 [00:12<06:03,  3.19it/s]"
     ]
    },
    {
     "name": "stdout",
     "output_type": "stream",
     "text": [
      "Image processing time: 0.08862614631652832 sec\n",
      "update******\n"
     ]
    },
    {
     "name": "stderr",
     "output_type": "stream",
     "text": [
      "\r",
      "  4%|▎         | 44/1201 [00:12<06:22,  3.03it/s]"
     ]
    },
    {
     "name": "stdout",
     "output_type": "stream",
     "text": [
      "Image processing time: 0.08112096786499023 sec\n",
      "update******\n"
     ]
    },
    {
     "name": "stderr",
     "output_type": "stream",
     "text": [
      "\r",
      "  4%|▎         | 45/1201 [00:12<06:24,  3.01it/s]"
     ]
    },
    {
     "name": "stdout",
     "output_type": "stream",
     "text": [
      "Image processing time: 0.06057310104370117 sec\n",
      "update******\n"
     ]
    },
    {
     "name": "stderr",
     "output_type": "stream",
     "text": [
      "\r",
      "  4%|▍         | 46/1201 [00:13<07:13,  2.67it/s]"
     ]
    },
    {
     "name": "stdout",
     "output_type": "stream",
     "text": [
      "Image processing time: 0.15205955505371094 sec\n",
      "update******\n"
     ]
    },
    {
     "name": "stderr",
     "output_type": "stream",
     "text": [
      "\r",
      "  4%|▍         | 47/1201 [00:13<07:22,  2.61it/s]"
     ]
    },
    {
     "name": "stdout",
     "output_type": "stream",
     "text": [
      "Image processing time: 0.17922639846801758 sec\n",
      "update******\n"
     ]
    },
    {
     "name": "stderr",
     "output_type": "stream",
     "text": [
      "\r",
      "  4%|▍         | 48/1201 [00:14<07:29,  2.57it/s]"
     ]
    },
    {
     "name": "stdout",
     "output_type": "stream",
     "text": [
      "Image processing time: 0.058869123458862305 sec\n",
      "update******\n"
     ]
    },
    {
     "name": "stderr",
     "output_type": "stream",
     "text": [
      "\r",
      "  4%|▍         | 49/1201 [00:14<07:08,  2.69it/s]"
     ]
    },
    {
     "name": "stdout",
     "output_type": "stream",
     "text": [
      "Image processing time: 0.1550452709197998 sec\n"
     ]
    },
    {
     "name": "stderr",
     "output_type": "stream",
     "text": [
      "\r",
      "  4%|▍         | 50/1201 [00:15<08:45,  2.19it/s]"
     ]
    },
    {
     "name": "stdout",
     "output_type": "stream",
     "text": [
      "update******\n",
      "Image processing time: 0.12054729461669922 sec\n",
      "update******\n"
     ]
    },
    {
     "name": "stderr",
     "output_type": "stream",
     "text": [
      "\r",
      "  4%|▍         | 51/1201 [00:15<08:33,  2.24it/s]"
     ]
    },
    {
     "name": "stdout",
     "output_type": "stream",
     "text": [
      "Image processing time: 0.09679865837097168 sec\n",
      "update******\n"
     ]
    },
    {
     "name": "stderr",
     "output_type": "stream",
     "text": [
      "\r",
      "  4%|▍         | 52/1201 [00:16<08:10,  2.34it/s]"
     ]
    },
    {
     "name": "stdout",
     "output_type": "stream",
     "text": [
      "Image processing time: 0.11944842338562012 sec\n",
      "update******\n"
     ]
    },
    {
     "name": "stderr",
     "output_type": "stream",
     "text": [
      "\r",
      "  4%|▍         | 53/1201 [00:16<07:46,  2.46it/s]"
     ]
    },
    {
     "name": "stdout",
     "output_type": "stream",
     "text": [
      "Image processing time: 0.07460474967956543 sec\n",
      "update******\n"
     ]
    },
    {
     "name": "stderr",
     "output_type": "stream",
     "text": [
      "  5%|▍         | 55/1201 [00:16<06:25,  2.97it/s]"
     ]
    },
    {
     "name": "stdout",
     "output_type": "stream",
     "text": [
      "Image processing time: 0.0690004825592041 sec\n",
      "update******\n"
     ]
    },
    {
     "name": "stderr",
     "output_type": "stream",
     "text": [
      "\r",
      "  5%|▍         | 56/1201 [00:17<05:46,  3.30it/s]"
     ]
    },
    {
     "name": "stdout",
     "output_type": "stream",
     "text": [
      "Image processing time: 0.05262565612792969 sec\n",
      "update******\n"
     ]
    },
    {
     "name": "stderr",
     "output_type": "stream",
     "text": [
      "\r",
      "  5%|▍         | 57/1201 [00:17<05:32,  3.45it/s]"
     ]
    },
    {
     "name": "stdout",
     "output_type": "stream",
     "text": [
      "Image processing time: 0.06805562973022461 sec\n",
      "update******\n",
      "Image processing time: 0.06049227714538574 sec\n",
      "update******\n"
     ]
    },
    {
     "name": "stderr",
     "output_type": "stream",
     "text": [
      "\r",
      "  5%|▍         | 58/1201 [00:17<05:29,  3.47it/s]"
     ]
    },
    {
     "name": "stdout",
     "output_type": "stream",
     "text": [
      "Image processing time: 0.0575709342956543 sec\n",
      "update******\n"
     ]
    },
    {
     "name": "stderr",
     "output_type": "stream",
     "text": [
      "\r",
      "  5%|▍         | 59/1201 [00:17<05:23,  3.53it/s]"
     ]
    },
    {
     "name": "stdout",
     "output_type": "stream",
     "text": [
      "Image processing time: 0.09334754943847656 sec\n",
      "update******\n"
     ]
    },
    {
     "name": "stderr",
     "output_type": "stream",
     "text": [
      "\r",
      "  5%|▍         | 60/1201 [00:18<05:50,  3.26it/s]"
     ]
    },
    {
     "name": "stdout",
     "output_type": "stream",
     "text": [
      "Image processing time: 0.11736464500427246 sec\n",
      "update******\n"
     ]
    },
    {
     "name": "stderr",
     "output_type": "stream",
     "text": [
      "\r",
      "  5%|▌         | 61/1201 [00:18<06:10,  3.08it/s]"
     ]
    },
    {
     "name": "stdout",
     "output_type": "stream",
     "text": [
      "Image processing time: 0.07899641990661621 sec\n",
      "update******\n"
     ]
    },
    {
     "name": "stderr",
     "output_type": "stream",
     "text": [
      "  5%|▌         | 63/1201 [00:19<05:48,  3.27it/s]"
     ]
    },
    {
     "name": "stdout",
     "output_type": "stream",
     "text": [
      "Image processing time: 0.07603788375854492 sec\n",
      "update******\n"
     ]
    },
    {
     "name": "stderr",
     "output_type": "stream",
     "text": [
      "\r",
      "  5%|▌         | 64/1201 [00:19<05:34,  3.40it/s]"
     ]
    },
    {
     "name": "stdout",
     "output_type": "stream",
     "text": [
      "Image processing time: 0.07497763633728027 sec\n",
      "update******\n"
     ]
    },
    {
     "name": "stderr",
     "output_type": "stream",
     "text": [
      "\r",
      "  5%|▌         | 65/1201 [00:19<05:16,  3.58it/s]"
     ]
    },
    {
     "name": "stdout",
     "output_type": "stream",
     "text": [
      "Image processing time: 0.05075812339782715 sec\n",
      "update******\n"
     ]
    },
    {
     "name": "stderr",
     "output_type": "stream",
     "text": [
      "\r",
      "  5%|▌         | 66/1201 [00:20<05:18,  3.56it/s]"
     ]
    },
    {
     "name": "stdout",
     "output_type": "stream",
     "text": [
      "Image processing time: 0.0632624626159668 sec\n",
      "update******\n"
     ]
    },
    {
     "name": "stderr",
     "output_type": "stream",
     "text": [
      "\r",
      "  6%|▌         | 67/1201 [00:20<05:08,  3.68it/s]"
     ]
    },
    {
     "name": "stdout",
     "output_type": "stream",
     "text": [
      "Image processing time: 0.07231307029724121 sec\n",
      "update******\n"
     ]
    },
    {
     "name": "stderr",
     "output_type": "stream",
     "text": [
      "\r",
      "  6%|▌         | 68/1201 [00:20<05:01,  3.76it/s]"
     ]
    },
    {
     "name": "stdout",
     "output_type": "stream",
     "text": [
      "Image processing time: 0.04993486404418945 sec\n",
      "update******\n"
     ]
    },
    {
     "name": "stderr",
     "output_type": "stream",
     "text": [
      "\r",
      "  6%|▌         | 69/1201 [00:20<05:00,  3.77it/s]"
     ]
    },
    {
     "name": "stdout",
     "output_type": "stream",
     "text": [
      "Image processing time: 0.06792736053466797 sec\n",
      "update******\n"
     ]
    },
    {
     "name": "stderr",
     "output_type": "stream",
     "text": [
      "\r",
      "  6%|▌         | 70/1201 [00:21<05:04,  3.71it/s]"
     ]
    },
    {
     "name": "stdout",
     "output_type": "stream",
     "text": [
      "Image processing time: 0.07977294921875 sec\n",
      "update******\n"
     ]
    },
    {
     "name": "stderr",
     "output_type": "stream",
     "text": [
      "\r",
      "  6%|▌         | 71/1201 [00:21<05:01,  3.74it/s]"
     ]
    },
    {
     "name": "stdout",
     "output_type": "stream",
     "text": [
      "Image processing time: 0.05383586883544922 sec\n",
      "update******\n"
     ]
    },
    {
     "name": "stderr",
     "output_type": "stream",
     "text": [
      "\r",
      "  6%|▌         | 72/1201 [00:21<04:56,  3.81it/s]"
     ]
    },
    {
     "name": "stdout",
     "output_type": "stream",
     "text": [
      "Image processing time: 0.05655670166015625 sec\n",
      "update******\n",
      "Image processing time: 0.053655385971069336 sec\n",
      "update******\n"
     ]
    },
    {
     "name": "stderr",
     "output_type": "stream",
     "text": [
      "\r",
      "  6%|▌         | 73/1201 [00:21<04:56,  3.80it/s]"
     ]
    },
    {
     "name": "stdout",
     "output_type": "stream",
     "text": [
      "Image processing time: 0.061597585678100586 sec\n",
      "update******\n"
     ]
    },
    {
     "name": "stderr",
     "output_type": "stream",
     "text": [
      "  6%|▌         | 75/1201 [00:22<05:10,  3.63it/s]"
     ]
    },
    {
     "name": "stdout",
     "output_type": "stream",
     "text": [
      "Image processing time: 0.05324101448059082 sec\n",
      "update******\n"
     ]
    },
    {
     "name": "stderr",
     "output_type": "stream",
     "text": [
      "\r",
      "  6%|▋         | 76/1201 [00:22<05:11,  3.61it/s]"
     ]
    },
    {
     "name": "stdout",
     "output_type": "stream",
     "text": [
      "Image processing time: 0.0775601863861084 sec\n",
      "update******\n",
      "Image processing time: 0.05846095085144043 sec\n",
      "update******\n"
     ]
    },
    {
     "name": "stderr",
     "output_type": "stream",
     "text": [
      "  6%|▋         | 78/1201 [00:23<05:08,  3.64it/s]"
     ]
    },
    {
     "name": "stdout",
     "output_type": "stream",
     "text": [
      "Image processing time: 0.056296586990356445 sec\n",
      "update******\n"
     ]
    },
    {
     "name": "stderr",
     "output_type": "stream",
     "text": [
      "\r",
      "  7%|▋         | 79/1201 [00:23<05:01,  3.73it/s]"
     ]
    },
    {
     "name": "stdout",
     "output_type": "stream",
     "text": [
      "Image processing time: 0.05606532096862793 sec\n",
      "update******\n",
      "Image processing time: 0.0496373176574707 sec\n",
      "update******\n"
     ]
    },
    {
     "name": "stderr",
     "output_type": "stream",
     "text": [
      "\r",
      "  7%|▋         | 80/1201 [00:23<05:25,  3.45it/s]"
     ]
    },
    {
     "name": "stdout",
     "output_type": "stream",
     "text": [
      "Image processing time: 0.06900620460510254 sec\n",
      "update******\n"
     ]
    },
    {
     "name": "stderr",
     "output_type": "stream",
     "text": [
      "  7%|▋         | 82/1201 [00:24<05:23,  3.46it/s]"
     ]
    },
    {
     "name": "stdout",
     "output_type": "stream",
     "text": [
      "Image processing time: 0.08819150924682617 sec\n",
      "update******\n"
     ]
    },
    {
     "name": "stderr",
     "output_type": "stream",
     "text": [
      "\r",
      "  7%|▋         | 83/1201 [00:24<05:13,  3.56it/s]"
     ]
    },
    {
     "name": "stdout",
     "output_type": "stream",
     "text": [
      "Image processing time: 0.06393671035766602 sec\n",
      "update******\n",
      "Image processing time: 0.05983400344848633 sec\n",
      "update******\n"
     ]
    },
    {
     "name": "stderr",
     "output_type": "stream",
     "text": [
      "  7%|▋         | 85/1201 [00:25<04:49,  3.86it/s]"
     ]
    },
    {
     "name": "stdout",
     "output_type": "stream",
     "text": [
      "Image processing time: 0.06353187561035156 sec\n",
      "update******\n"
     ]
    },
    {
     "name": "stderr",
     "output_type": "stream",
     "text": [
      "\r",
      "  7%|▋         | 86/1201 [00:25<04:54,  3.79it/s]"
     ]
    },
    {
     "name": "stdout",
     "output_type": "stream",
     "text": [
      "Image processing time: 0.05340981483459473 sec\n",
      "update******\n"
     ]
    },
    {
     "name": "stderr",
     "output_type": "stream",
     "text": [
      "\r",
      "  7%|▋         | 87/1201 [00:25<04:56,  3.75it/s]"
     ]
    },
    {
     "name": "stdout",
     "output_type": "stream",
     "text": [
      "Image processing time: 0.06474757194519043 sec\n",
      "update******\n"
     ]
    },
    {
     "name": "stderr",
     "output_type": "stream",
     "text": [
      "\r",
      "  7%|▋         | 88/1201 [00:26<04:51,  3.81it/s]"
     ]
    },
    {
     "name": "stdout",
     "output_type": "stream",
     "text": [
      "Image processing time: 0.05726814270019531 sec\n",
      "update******\n",
      "Image processing time: 0.06249594688415527 sec\n",
      "update******\n"
     ]
    },
    {
     "name": "stderr",
     "output_type": "stream",
     "text": [
      "\r",
      "  7%|▋         | 89/1201 [00:26<04:58,  3.72it/s]"
     ]
    },
    {
     "name": "stdout",
     "output_type": "stream",
     "text": [
      "Image processing time: 0.05853271484375 sec\n",
      "update******\n"
     ]
    },
    {
     "name": "stderr",
     "output_type": "stream",
     "text": [
      "\r",
      "  7%|▋         | 90/1201 [00:26<05:00,  3.70it/s]"
     ]
    },
    {
     "name": "stdout",
     "output_type": "stream",
     "text": [
      "Image processing time: 0.057066917419433594 sec\n",
      "update******\n"
     ]
    },
    {
     "name": "stderr",
     "output_type": "stream",
     "text": [
      "  8%|▊         | 92/1201 [00:27<05:02,  3.67it/s]"
     ]
    },
    {
     "name": "stdout",
     "output_type": "stream",
     "text": [
      "Image processing time: 0.0630486011505127 sec\n",
      "update******\n"
     ]
    },
    {
     "name": "stderr",
     "output_type": "stream",
     "text": [
      "\r",
      "  8%|▊         | 93/1201 [00:27<04:51,  3.80it/s]"
     ]
    },
    {
     "name": "stdout",
     "output_type": "stream",
     "text": [
      "Image processing time: 0.053566932678222656 sec\n",
      "update******\n"
     ]
    },
    {
     "name": "stderr",
     "output_type": "stream",
     "text": [
      "\r",
      "  8%|▊         | 94/1201 [00:27<04:50,  3.81it/s]"
     ]
    },
    {
     "name": "stdout",
     "output_type": "stream",
     "text": [
      "Image processing time: 0.059311866760253906 sec\n",
      "update******\n",
      "Image processing time: 0.06773066520690918 sec\n",
      "update******\n"
     ]
    },
    {
     "name": "stderr",
     "output_type": "stream",
     "text": [
      "  8%|▊         | 96/1201 [00:28<05:06,  3.61it/s]"
     ]
    },
    {
     "name": "stdout",
     "output_type": "stream",
     "text": [
      "Image processing time: 0.09164738655090332 sec\n",
      "update******\n"
     ]
    },
    {
     "name": "stderr",
     "output_type": "stream",
     "text": [
      "\r",
      "  8%|▊         | 97/1201 [00:28<04:57,  3.71it/s]"
     ]
    },
    {
     "name": "stdout",
     "output_type": "stream",
     "text": [
      "Image processing time: 0.06684756278991699 sec\n",
      "update******\n"
     ]
    },
    {
     "name": "stderr",
     "output_type": "stream",
     "text": [
      "\r",
      "  8%|▊         | 98/1201 [00:28<04:42,  3.90it/s]"
     ]
    },
    {
     "name": "stdout",
     "output_type": "stream",
     "text": [
      "Image processing time: 0.08000683784484863 sec\n",
      "update******\n"
     ]
    },
    {
     "name": "stderr",
     "output_type": "stream",
     "text": [
      "\r",
      "  8%|▊         | 99/1201 [00:28<04:45,  3.85it/s]"
     ]
    },
    {
     "name": "stdout",
     "output_type": "stream",
     "text": [
      "Image processing time: 0.0865318775177002 sec\n",
      "update******\n",
      "Image processing time: 0.0641942024230957 sec\n",
      "update******\n"
     ]
    },
    {
     "name": "stderr",
     "output_type": "stream",
     "text": [
      "\r",
      "  8%|▊         | 100/1201 [00:29<04:47,  3.83it/s]"
     ]
    },
    {
     "name": "stdout",
     "output_type": "stream",
     "text": [
      "Image processing time: 0.05764055252075195 sec\n",
      "update******\n"
     ]
    },
    {
     "name": "stderr",
     "output_type": "stream",
     "text": [
      "\r",
      "  8%|▊         | 101/1201 [00:29<04:47,  3.82it/s]"
     ]
    },
    {
     "name": "stdout",
     "output_type": "stream",
     "text": [
      "Image processing time: 0.07977294921875 sec\n",
      "update******\n"
     ]
    },
    {
     "name": "stderr",
     "output_type": "stream",
     "text": [
      "  9%|▊         | 103/1201 [00:30<04:53,  3.74it/s]"
     ]
    },
    {
     "name": "stdout",
     "output_type": "stream",
     "text": [
      "Image processing time: 0.05541181564331055 sec\n",
      "update******\n"
     ]
    },
    {
     "name": "stderr",
     "output_type": "stream",
     "text": [
      "\r",
      "  9%|▊         | 104/1201 [00:30<05:03,  3.61it/s]"
     ]
    },
    {
     "name": "stdout",
     "output_type": "stream",
     "text": [
      "Image processing time: 0.06228160858154297 sec\n",
      "update******\n"
     ]
    },
    {
     "name": "stderr",
     "output_type": "stream",
     "text": [
      "\r",
      "  9%|▊         | 105/1201 [00:30<05:02,  3.62it/s]"
     ]
    },
    {
     "name": "stdout",
     "output_type": "stream",
     "text": [
      "Image processing time: 0.07458019256591797 sec\n",
      "update******\n",
      "Image processing time: 0.06581306457519531 sec\n",
      "update******\n"
     ]
    },
    {
     "name": "stderr",
     "output_type": "stream",
     "text": [
      "  9%|▉         | 107/1201 [00:31<04:55,  3.70it/s]"
     ]
    },
    {
     "name": "stdout",
     "output_type": "stream",
     "text": [
      "Image processing time: 0.0532529354095459 sec\n",
      "update******\n",
      "Image processing time: 0.06273174285888672 sec\n",
      "update******\n"
     ]
    },
    {
     "name": "stderr",
     "output_type": "stream",
     "text": [
      "\r",
      "  9%|▉         | 108/1201 [00:31<04:58,  3.66it/s]"
     ]
    },
    {
     "name": "stdout",
     "output_type": "stream",
     "text": [
      "Image processing time: 0.05978584289550781 sec\n",
      "update******\n"
     ]
    },
    {
     "name": "stderr",
     "output_type": "stream",
     "text": [
      "\r",
      "  9%|▉         | 109/1201 [00:31<04:59,  3.65it/s]"
     ]
    },
    {
     "name": "stdout",
     "output_type": "stream",
     "text": [
      "Image processing time: 0.08613061904907227 sec\n",
      "update******\n"
     ]
    },
    {
     "name": "stderr",
     "output_type": "stream",
     "text": [
      "\r",
      "  9%|▉         | 110/1201 [00:31<05:10,  3.51it/s]"
     ]
    },
    {
     "name": "stdout",
     "output_type": "stream",
     "text": [
      "Image processing time: 0.06760287284851074 sec\n",
      "update******\n"
     ]
    },
    {
     "name": "stderr",
     "output_type": "stream",
     "text": [
      "\r",
      "  9%|▉         | 111/1201 [00:32<05:09,  3.52it/s]"
     ]
    },
    {
     "name": "stdout",
     "output_type": "stream",
     "text": [
      "Image processing time: 0.06955170631408691 sec\n",
      "update******\n"
     ]
    },
    {
     "name": "stderr",
     "output_type": "stream",
     "text": [
      "  9%|▉         | 113/1201 [00:32<05:07,  3.54it/s]"
     ]
    },
    {
     "name": "stdout",
     "output_type": "stream",
     "text": [
      "Image processing time: 0.06412100791931152 sec\n",
      "update******\n",
      "Image processing time: 0.06322646141052246 sec\n",
      "update******\n"
     ]
    },
    {
     "name": "stderr",
     "output_type": "stream",
     "text": [
      " 10%|▉         | 115/1201 [00:33<05:01,  3.61it/s]"
     ]
    },
    {
     "name": "stdout",
     "output_type": "stream",
     "text": [
      "Image processing time: 0.07755374908447266 sec\n",
      "update******\n",
      "Image processing time: 0.07595944404602051 sec\n",
      "update******\n"
     ]
    },
    {
     "name": "stderr",
     "output_type": "stream",
     "text": [
      " 10%|▉         | 117/1201 [00:33<05:01,  3.60it/s]"
     ]
    },
    {
     "name": "stdout",
     "output_type": "stream",
     "text": [
      "Image processing time: 0.06100273132324219 sec\n",
      "update******\n"
     ]
    },
    {
     "name": "stderr",
     "output_type": "stream",
     "text": [
      "\r",
      " 10%|▉         | 118/1201 [00:34<04:55,  3.67it/s]"
     ]
    },
    {
     "name": "stdout",
     "output_type": "stream",
     "text": [
      "Image processing time: 0.06114315986633301 sec\n",
      "update******\n"
     ]
    },
    {
     "name": "stderr",
     "output_type": "stream",
     "text": [
      "\r",
      " 10%|▉         | 119/1201 [00:34<04:51,  3.72it/s]"
     ]
    },
    {
     "name": "stdout",
     "output_type": "stream",
     "text": [
      "Image processing time: 0.06577134132385254 sec\n",
      "update******\n"
     ]
    },
    {
     "name": "stderr",
     "output_type": "stream",
     "text": [
      "\r",
      " 10%|▉         | 120/1201 [00:34<04:48,  3.75it/s]"
     ]
    },
    {
     "name": "stdout",
     "output_type": "stream",
     "text": [
      "Image processing time: 0.06508207321166992 sec\n",
      "update******\n",
      "Image processing time: 0.05904984474182129 sec\n",
      "update******\n"
     ]
    },
    {
     "name": "stderr",
     "output_type": "stream",
     "text": [
      " 10%|█         | 122/1201 [00:35<04:44,  3.80it/s]"
     ]
    },
    {
     "name": "stdout",
     "output_type": "stream",
     "text": [
      "Image processing time: 0.06608080863952637 sec\n",
      "update******\n"
     ]
    },
    {
     "name": "stderr",
     "output_type": "stream",
     "text": [
      "\r",
      " 10%|█         | 123/1201 [00:35<04:29,  4.00it/s]"
     ]
    },
    {
     "name": "stdout",
     "output_type": "stream",
     "text": [
      "Image processing time: 0.05235457420349121 sec\n",
      "update******\n",
      "Image processing time: 0.06344485282897949 sec\n",
      "update******\n"
     ]
    },
    {
     "name": "stderr",
     "output_type": "stream",
     "text": [
      "\r",
      " 10%|█         | 124/1201 [00:35<04:46,  3.76it/s]"
     ]
    },
    {
     "name": "stdout",
     "output_type": "stream",
     "text": [
      "Image processing time: 0.06571578979492188 sec\n",
      "update******\n"
     ]
    },
    {
     "name": "stderr",
     "output_type": "stream",
     "text": [
      " 10%|█         | 126/1201 [00:36<04:59,  3.59it/s]"
     ]
    },
    {
     "name": "stdout",
     "output_type": "stream",
     "text": [
      "Image processing time: 0.06270194053649902 sec\n",
      "update******\n",
      "Image processing time: 0.07392597198486328 sec\n",
      "update******\n"
     ]
    },
    {
     "name": "stderr",
     "output_type": "stream",
     "text": [
      "\r",
      " 11%|█         | 127/1201 [00:36<05:00,  3.57it/s]"
     ]
    },
    {
     "name": "stdout",
     "output_type": "stream",
     "text": [
      "Image processing time: 0.06394720077514648 sec\n",
      "update******\n"
     ]
    },
    {
     "name": "stderr",
     "output_type": "stream",
     "text": [
      " 11%|█         | 129/1201 [00:37<05:00,  3.57it/s]"
     ]
    },
    {
     "name": "stdout",
     "output_type": "stream",
     "text": [
      "Image processing time: 0.050907135009765625 sec\n",
      "update******\n"
     ]
    },
    {
     "name": "stderr",
     "output_type": "stream",
     "text": [
      "\r",
      " 11%|█         | 130/1201 [00:37<04:35,  3.89it/s]"
     ]
    },
    {
     "name": "stdout",
     "output_type": "stream",
     "text": [
      "Image processing time: 0.053948163986206055 sec\n",
      "update******\n",
      "Image processing time: 0.05088162422180176 sec\n"
     ]
    },
    {
     "name": "stderr",
     "output_type": "stream",
     "text": [
      "\r",
      " 11%|█         | 131/1201 [00:37<04:23,  4.05it/s]"
     ]
    },
    {
     "name": "stdout",
     "output_type": "stream",
     "text": [
      "update******\n",
      "Image processing time: 0.07206606864929199 sec\n",
      "update******"
     ]
    },
    {
     "name": "stderr",
     "output_type": "stream",
     "text": [
      " 11%|█         | 133/1201 [00:38<04:14,  4.20it/s]"
     ]
    },
    {
     "name": "stdout",
     "output_type": "stream",
     "text": [
      "\n",
      "Image processing time: 0.05917668342590332 sec\n",
      "update******\n",
      "Image processing time: 0.05539274215698242 sec\n",
      "update******\n"
     ]
    },
    {
     "name": "stderr",
     "output_type": "stream",
     "text": [
      " 11%|█         | 135/1201 [00:38<04:24,  4.03it/s]"
     ]
    },
    {
     "name": "stdout",
     "output_type": "stream",
     "text": [
      "Image processing time: 0.05463290214538574 sec\n",
      "update******\n"
     ]
    },
    {
     "name": "stderr",
     "output_type": "stream",
     "text": [
      "\r",
      " 11%|█▏        | 136/1201 [00:38<04:29,  3.96it/s]"
     ]
    },
    {
     "name": "stdout",
     "output_type": "stream",
     "text": [
      "Image processing time: 0.06393694877624512 sec\n",
      "update******\n",
      "Image processing time: 0.08073878288269043 sec\n",
      "update******\n"
     ]
    },
    {
     "name": "stderr",
     "output_type": "stream",
     "text": [
      "\r",
      " 11%|█▏        | 137/1201 [00:39<04:42,  3.77it/s]"
     ]
    },
    {
     "name": "stdout",
     "output_type": "stream",
     "text": [
      "Image processing time: 0.06517934799194336 sec\n",
      "update******\n"
     ]
    },
    {
     "name": "stderr",
     "output_type": "stream",
     "text": [
      " 12%|█▏        | 139/1201 [00:39<04:49,  3.67it/s]"
     ]
    },
    {
     "name": "stdout",
     "output_type": "stream",
     "text": [
      "Image processing time: 0.05718588829040527 sec\n",
      "update******\n",
      "Image processing time: 0.05637860298156738 sec\n",
      "update******\n"
     ]
    },
    {
     "name": "stderr",
     "output_type": "stream",
     "text": [
      "\r",
      " 12%|█▏        | 140/1201 [00:40<04:49,  3.66it/s]"
     ]
    },
    {
     "name": "stdout",
     "output_type": "stream",
     "text": [
      "Image processing time: 0.057668209075927734 sec\n",
      "update******\n"
     ]
    },
    {
     "name": "stderr",
     "output_type": "stream",
     "text": [
      " 12%|█▏        | 142/1201 [00:40<04:43,  3.73it/s]"
     ]
    },
    {
     "name": "stdout",
     "output_type": "stream",
     "text": [
      "Image processing time: 0.06183338165283203 sec\n",
      "update******\n",
      "Image processing time: 0.06019115447998047 sec\n",
      "update******\n"
     ]
    },
    {
     "name": "stderr",
     "output_type": "stream",
     "text": [
      " 12%|█▏        | 144/1201 [00:41<04:45,  3.71it/s]"
     ]
    },
    {
     "name": "stdout",
     "output_type": "stream",
     "text": [
      "Image processing time: 0.0719304084777832 sec\n",
      "update******\n"
     ]
    },
    {
     "name": "stderr",
     "output_type": "stream",
     "text": [
      "\r",
      " 12%|█▏        | 145/1201 [00:41<04:39,  3.78it/s]"
     ]
    },
    {
     "name": "stdout",
     "output_type": "stream",
     "text": [
      "Image processing time: 0.08323955535888672 sec\n",
      "update******\n"
     ]
    },
    {
     "name": "stderr",
     "output_type": "stream",
     "text": [
      "\r",
      " 12%|█▏        | 146/1201 [00:41<04:47,  3.67it/s]"
     ]
    },
    {
     "name": "stdout",
     "output_type": "stream",
     "text": [
      "Image processing time: 0.06900882720947266 sec\n",
      "update******\n"
     ]
    },
    {
     "name": "stderr",
     "output_type": "stream",
     "text": [
      "\r",
      " 12%|█▏        | 147/1201 [00:41<04:53,  3.60it/s]"
     ]
    },
    {
     "name": "stdout",
     "output_type": "stream",
     "text": [
      "Image processing time: 0.062468528747558594 sec\n",
      "update******\n",
      "Image processing time: 0.05551552772521973 sec\n",
      "update******\n"
     ]
    },
    {
     "name": "stderr",
     "output_type": "stream",
     "text": [
      "\r",
      " 12%|█▏        | 148/1201 [00:42<04:54,  3.57it/s]"
     ]
    },
    {
     "name": "stdout",
     "output_type": "stream",
     "text": [
      "Image processing time: 0.05061817169189453 sec\n",
      "update******\n"
     ]
    },
    {
     "name": "stderr",
     "output_type": "stream",
     "text": [
      "\r",
      " 12%|█▏        | 149/1201 [00:42<04:50,  3.62it/s]"
     ]
    },
    {
     "name": "stdout",
     "output_type": "stream",
     "text": [
      "Image processing time: 0.05594468116760254 sec\n",
      "update******\n"
     ]
    },
    {
     "name": "stderr",
     "output_type": "stream",
     "text": [
      " 13%|█▎        | 151/1201 [00:43<04:51,  3.60it/s]"
     ]
    },
    {
     "name": "stdout",
     "output_type": "stream",
     "text": [
      "Image processing time: 0.06106162071228027 sec\n",
      "update******\n",
      "Image processing time: 0.055777788162231445 sec\n",
      "update******\n"
     ]
    },
    {
     "name": "stderr",
     "output_type": "stream",
     "text": [
      "\r",
      " 13%|█▎        | 152/1201 [00:43<04:51,  3.59it/s]"
     ]
    },
    {
     "name": "stdout",
     "output_type": "stream",
     "text": [
      "Image processing time: 0.05625796318054199 sec\n",
      "update******\n"
     ]
    },
    {
     "name": "stderr",
     "output_type": "stream",
     "text": [
      "\r",
      " 13%|█▎        | 153/1201 [00:43<04:49,  3.62it/s]"
     ]
    },
    {
     "name": "stdout",
     "output_type": "stream",
     "text": [
      "Image processing time: 0.06350421905517578 sec\n",
      "update******\n"
     ]
    },
    {
     "name": "stderr",
     "output_type": "stream",
     "text": [
      " 13%|█▎        | 155/1201 [00:44<04:43,  3.69it/s]"
     ]
    },
    {
     "name": "stdout",
     "output_type": "stream",
     "text": [
      "Image processing time: 0.05715751647949219 sec\n",
      "update******\n"
     ]
    },
    {
     "name": "stderr",
     "output_type": "stream",
     "text": [
      "\r",
      " 13%|█▎        | 156/1201 [00:44<04:41,  3.71it/s]"
     ]
    },
    {
     "name": "stdout",
     "output_type": "stream",
     "text": [
      "Image processing time: 0.07053256034851074 sec\n",
      "update******\n"
     ]
    },
    {
     "name": "stderr",
     "output_type": "stream",
     "text": [
      "\r",
      " 13%|█▎        | 157/1201 [00:44<04:37,  3.76it/s]"
     ]
    },
    {
     "name": "stdout",
     "output_type": "stream",
     "text": [
      "Image processing time: 0.05805015563964844 sec\n",
      "update******\n"
     ]
    },
    {
     "name": "stderr",
     "output_type": "stream",
     "text": [
      "\r",
      " 13%|█▎        | 158/1201 [00:44<04:35,  3.79it/s]"
     ]
    },
    {
     "name": "stdout",
     "output_type": "stream",
     "text": [
      "Image processing time: 0.056268930435180664 sec\n",
      "update******\n",
      "Image processing time: 0.06836438179016113 sec\n",
      "update******\n"
     ]
    },
    {
     "name": "stderr",
     "output_type": "stream",
     "text": [
      "\r",
      " 13%|█▎        | 159/1201 [00:45<04:55,  3.53it/s]"
     ]
    },
    {
     "name": "stdout",
     "output_type": "stream",
     "text": [
      "Image processing time: 0.08001446723937988 sec\n",
      "update******\n"
     ]
    },
    {
     "name": "stderr",
     "output_type": "stream",
     "text": [
      "\r",
      " 13%|█▎        | 160/1201 [00:45<05:01,  3.45it/s]"
     ]
    },
    {
     "name": "stdout",
     "output_type": "stream",
     "text": [
      "Image processing time: 0.0739593505859375 sec\n",
      "update******\n"
     ]
    },
    {
     "name": "stderr",
     "output_type": "stream",
     "text": [
      "\r",
      " 13%|█▎        | 161/1201 [00:45<05:04,  3.42it/s]"
     ]
    },
    {
     "name": "stdout",
     "output_type": "stream",
     "text": [
      "Image processing time: 0.05202674865722656 sec\n",
      "update******\n"
     ]
    },
    {
     "name": "stderr",
     "output_type": "stream",
     "text": [
      "\r",
      " 13%|█▎        | 162/1201 [00:46<04:57,  3.49it/s]"
     ]
    },
    {
     "name": "stdout",
     "output_type": "stream",
     "text": [
      "Image processing time: 0.06241154670715332 sec\n",
      "update******\n"
     ]
    },
    {
     "name": "stderr",
     "output_type": "stream",
     "text": [
      " 14%|█▎        | 164/1201 [00:46<04:54,  3.52it/s]"
     ]
    },
    {
     "name": "stdout",
     "output_type": "stream",
     "text": [
      "Image processing time: 0.06723380088806152 sec\n",
      "update******\n",
      "Image processing time: 0.054019927978515625 sec\n",
      "update******\n"
     ]
    },
    {
     "name": "stderr",
     "output_type": "stream",
     "text": [
      " 14%|█▍        | 166/1201 [00:47<04:28,  3.85it/s]"
     ]
    },
    {
     "name": "stdout",
     "output_type": "stream",
     "text": [
      "Image processing time: 0.0591883659362793 sec\n",
      "update******\n"
     ]
    },
    {
     "name": "stderr",
     "output_type": "stream",
     "text": [
      "\r",
      " 14%|█▍        | 167/1201 [00:47<04:36,  3.73it/s]"
     ]
    },
    {
     "name": "stdout",
     "output_type": "stream",
     "text": [
      "Image processing time: 0.08806371688842773 sec\n",
      "update******\n",
      "Image processing time: 0.06705665588378906 sec\n",
      "update******\n"
     ]
    },
    {
     "name": "stderr",
     "output_type": "stream",
     "text": [
      "\r",
      " 14%|█▍        | 168/1201 [00:47<04:47,  3.59it/s]"
     ]
    },
    {
     "name": "stdout",
     "output_type": "stream",
     "text": [
      "Image processing time: 0.0727531909942627 sec\n",
      "update******\n"
     ]
    },
    {
     "name": "stderr",
     "output_type": "stream",
     "text": [
      "\r",
      " 14%|█▍        | 169/1201 [00:48<04:49,  3.56it/s]"
     ]
    },
    {
     "name": "stdout",
     "output_type": "stream",
     "text": [
      "Image processing time: 0.06273961067199707 sec\n",
      "update******\n"
     ]
    },
    {
     "name": "stderr",
     "output_type": "stream",
     "text": [
      " 14%|█▍        | 171/1201 [00:48<04:49,  3.56it/s]"
     ]
    },
    {
     "name": "stdout",
     "output_type": "stream",
     "text": [
      "Image processing time: 0.06591200828552246 sec\n",
      "update******\n",
      "Image processing time: 0.0759267807006836 sec\n",
      "update******\n"
     ]
    },
    {
     "name": "stderr",
     "output_type": "stream",
     "text": [
      " 14%|█▍        | 173/1201 [00:49<04:49,  3.55it/s]"
     ]
    },
    {
     "name": "stdout",
     "output_type": "stream",
     "text": [
      "Image processing time: 0.052634239196777344 sec\n",
      "update******\n",
      "Image processing time: 0.07110381126403809 sec\n",
      "update******\n"
     ]
    },
    {
     "name": "stderr",
     "output_type": "stream",
     "text": [
      "\r",
      " 14%|█▍        | 174/1201 [00:49<04:58,  3.44it/s]"
     ]
    },
    {
     "name": "stdout",
     "output_type": "stream",
     "text": [
      "Image processing time: 0.06279349327087402 sec\n",
      "update******\n"
     ]
    },
    {
     "name": "stderr",
     "output_type": "stream",
     "text": [
      " 15%|█▍        | 176/1201 [00:50<04:47,  3.57it/s]"
     ]
    },
    {
     "name": "stdout",
     "output_type": "stream",
     "text": [
      "Image processing time: 0.05268287658691406 sec\n",
      "update******\n",
      "Image processing time: 0.053444623947143555 sec\n",
      "update******\n"
     ]
    },
    {
     "name": "stderr",
     "output_type": "stream",
     "text": [
      "\r",
      " 15%|█▍        | 177/1201 [00:50<04:54,  3.48it/s]"
     ]
    },
    {
     "name": "stdout",
     "output_type": "stream",
     "text": [
      "Image processing time: 0.06082344055175781 sec\n",
      "update******\n"
     ]
    },
    {
     "name": "stderr",
     "output_type": "stream",
     "text": [
      "\r",
      " 15%|█▍        | 178/1201 [00:50<04:58,  3.43it/s]"
     ]
    },
    {
     "name": "stdout",
     "output_type": "stream",
     "text": [
      "Image processing time: 0.06762909889221191 sec\n",
      "update******\n"
     ]
    },
    {
     "name": "stderr",
     "output_type": "stream",
     "text": [
      "\r",
      " 15%|█▍        | 179/1201 [00:50<04:57,  3.44it/s]"
     ]
    },
    {
     "name": "stdout",
     "output_type": "stream",
     "text": [
      "Image processing time: 0.09024572372436523 sec\n",
      "update******\n"
     ]
    },
    {
     "name": "stderr",
     "output_type": "stream",
     "text": [
      "\r",
      " 15%|█▍        | 180/1201 [00:51<05:00,  3.40it/s]"
     ]
    },
    {
     "name": "stdout",
     "output_type": "stream",
     "text": [
      "Image processing time: 0.05947399139404297 sec\n",
      "update******\n"
     ]
    },
    {
     "name": "stderr",
     "output_type": "stream",
     "text": [
      "\r",
      " 15%|█▌        | 181/1201 [00:51<04:58,  3.42it/s]"
     ]
    },
    {
     "name": "stdout",
     "output_type": "stream",
     "text": [
      "Image processing time: 0.07311081886291504 sec\n",
      "update******\n"
     ]
    },
    {
     "name": "stderr",
     "output_type": "stream",
     "text": [
      "\r",
      " 15%|█▌        | 182/1201 [00:51<05:06,  3.33it/s]"
     ]
    },
    {
     "name": "stdout",
     "output_type": "stream",
     "text": [
      "Image processing time: 0.07028341293334961 sec\n",
      "update******\n"
     ]
    },
    {
     "name": "stderr",
     "output_type": "stream",
     "text": [
      "\r",
      " 15%|█▌        | 183/1201 [00:52<05:11,  3.27it/s]"
     ]
    },
    {
     "name": "stdout",
     "output_type": "stream",
     "text": [
      "Image processing time: 0.06276774406433105 sec\n",
      "update******\n"
     ]
    },
    {
     "name": "stderr",
     "output_type": "stream",
     "text": [
      "\r",
      " 15%|█▌        | 184/1201 [00:52<05:18,  3.20it/s]"
     ]
    },
    {
     "name": "stdout",
     "output_type": "stream",
     "text": [
      "Image processing time: 0.07445430755615234 sec\n",
      "update******\n"
     ]
    },
    {
     "name": "stderr",
     "output_type": "stream",
     "text": [
      "\r",
      " 15%|█▌        | 185/1201 [00:52<05:21,  3.16it/s]"
     ]
    },
    {
     "name": "stdout",
     "output_type": "stream",
     "text": [
      "Image processing time: 0.056416988372802734 sec\n",
      "update******\n"
     ]
    },
    {
     "name": "stderr",
     "output_type": "stream",
     "text": [
      "\r",
      " 15%|█▌        | 186/1201 [00:53<05:18,  3.19it/s]"
     ]
    },
    {
     "name": "stdout",
     "output_type": "stream",
     "text": [
      "Image processing time: 0.06306076049804688 sec\n",
      "update******\n"
     ]
    },
    {
     "name": "stderr",
     "output_type": "stream",
     "text": [
      "\r",
      " 16%|█▌        | 187/1201 [00:53<05:13,  3.23it/s]"
     ]
    },
    {
     "name": "stdout",
     "output_type": "stream",
     "text": [
      "Image processing time: 0.0488886833190918 sec\n",
      "update******\n"
     ]
    },
    {
     "name": "stderr",
     "output_type": "stream",
     "text": [
      "\r",
      " 16%|█▌        | 188/1201 [00:53<05:18,  3.19it/s]"
     ]
    },
    {
     "name": "stdout",
     "output_type": "stream",
     "text": [
      "Image processing time: 0.06901264190673828 sec\n",
      "update******\n"
     ]
    },
    {
     "name": "stderr",
     "output_type": "stream",
     "text": [
      "\r",
      " 16%|█▌        | 189/1201 [00:54<05:20,  3.16it/s]"
     ]
    },
    {
     "name": "stdout",
     "output_type": "stream",
     "text": [
      "Image processing time: 0.07333230972290039 sec\n",
      "update******\n"
     ]
    },
    {
     "name": "stderr",
     "output_type": "stream",
     "text": [
      "\r",
      " 16%|█▌        | 190/1201 [00:54<05:23,  3.12it/s]"
     ]
    },
    {
     "name": "stdout",
     "output_type": "stream",
     "text": [
      "Image processing time: 0.06406569480895996 sec\n",
      "update******\n"
     ]
    },
    {
     "name": "stderr",
     "output_type": "stream",
     "text": [
      "\r",
      " 16%|█▌        | 191/1201 [00:54<05:22,  3.13it/s]"
     ]
    },
    {
     "name": "stdout",
     "output_type": "stream",
     "text": [
      "Image processing time: 0.06435203552246094 sec\n",
      "update******\n"
     ]
    },
    {
     "name": "stderr",
     "output_type": "stream",
     "text": [
      "\r",
      " 16%|█▌        | 192/1201 [00:55<05:30,  3.05it/s]"
     ]
    },
    {
     "name": "stdout",
     "output_type": "stream",
     "text": [
      "Image processing time: 0.060456037521362305 sec\n",
      "update******\n"
     ]
    },
    {
     "name": "stderr",
     "output_type": "stream",
     "text": [
      "\r",
      " 16%|█▌        | 193/1201 [00:55<05:31,  3.04it/s]"
     ]
    },
    {
     "name": "stdout",
     "output_type": "stream",
     "text": [
      "Image processing time: 0.058713436126708984 sec\n",
      "update******\n"
     ]
    },
    {
     "name": "stderr",
     "output_type": "stream",
     "text": [
      "\r",
      " 16%|█▌        | 194/1201 [00:55<05:18,  3.16it/s]"
     ]
    },
    {
     "name": "stdout",
     "output_type": "stream",
     "text": [
      "Image processing time: 0.05657482147216797 sec\n",
      "update******\n"
     ]
    },
    {
     "name": "stderr",
     "output_type": "stream",
     "text": [
      "\r",
      " 16%|█▌        | 195/1201 [00:55<05:01,  3.33it/s]"
     ]
    },
    {
     "name": "stdout",
     "output_type": "stream",
     "text": [
      "Image processing time: 0.07761263847351074 sec\n",
      "update******\n"
     ]
    },
    {
     "name": "stderr",
     "output_type": "stream",
     "text": [
      "\r",
      " 16%|█▋        | 196/1201 [00:56<05:35,  2.99it/s]"
     ]
    },
    {
     "name": "stdout",
     "output_type": "stream",
     "text": [
      "Image processing time: 0.05783247947692871 sec\n",
      "update******\n"
     ]
    },
    {
     "name": "stderr",
     "output_type": "stream",
     "text": [
      " 16%|█▋        | 198/1201 [00:56<05:09,  3.24it/s]"
     ]
    },
    {
     "name": "stdout",
     "output_type": "stream",
     "text": [
      "Image processing time: 0.07546877861022949 sec\n",
      "update******\n",
      "Image processing time: 0.07679295539855957 sec\n",
      "update******\n"
     ]
    },
    {
     "name": "stderr",
     "output_type": "stream",
     "text": [
      "\r",
      " 17%|█▋        | 199/1201 [00:57<05:18,  3.15it/s]"
     ]
    },
    {
     "name": "stdout",
     "output_type": "stream",
     "text": [
      "Image processing time: 0.06415486335754395 sec\n",
      "update******\n"
     ]
    },
    {
     "name": "stderr",
     "output_type": "stream",
     "text": [
      "\r",
      " 17%|█▋        | 200/1201 [00:57<05:22,  3.11it/s]"
     ]
    },
    {
     "name": "stdout",
     "output_type": "stream",
     "text": [
      "Image processing time: 0.06173443794250488 sec\n",
      "update******\n"
     ]
    },
    {
     "name": "stderr",
     "output_type": "stream",
     "text": [
      "\r",
      " 17%|█▋        | 201/1201 [00:57<05:25,  3.08it/s]"
     ]
    },
    {
     "name": "stdout",
     "output_type": "stream",
     "text": [
      "Image processing time: 0.06355166435241699 sec\n",
      "update******\n"
     ]
    },
    {
     "name": "stderr",
     "output_type": "stream",
     "text": [
      "\r",
      " 17%|█▋        | 202/1201 [00:58<05:23,  3.09it/s]"
     ]
    },
    {
     "name": "stdout",
     "output_type": "stream",
     "text": [
      "Image processing time: 0.05620431900024414 sec\n",
      "update******\n"
     ]
    },
    {
     "name": "stderr",
     "output_type": "stream",
     "text": [
      "\r",
      " 17%|█▋        | 203/1201 [00:58<05:26,  3.06it/s]"
     ]
    },
    {
     "name": "stdout",
     "output_type": "stream",
     "text": [
      "Image processing time: 0.08104467391967773 sec\n",
      "update******\n"
     ]
    },
    {
     "name": "stderr",
     "output_type": "stream",
     "text": [
      "\r",
      " 17%|█▋        | 204/1201 [00:58<05:26,  3.05it/s]"
     ]
    },
    {
     "name": "stdout",
     "output_type": "stream",
     "text": [
      "Image processing time: 0.07972526550292969 sec\n",
      "update******\n"
     ]
    },
    {
     "name": "stderr",
     "output_type": "stream",
     "text": [
      "\r",
      " 17%|█▋        | 205/1201 [00:59<05:21,  3.10it/s]"
     ]
    },
    {
     "name": "stdout",
     "output_type": "stream",
     "text": [
      "Image processing time: 0.07123827934265137 sec\n",
      "update******\n"
     ]
    },
    {
     "name": "stderr",
     "output_type": "stream",
     "text": [
      "\r",
      " 17%|█▋        | 206/1201 [00:59<05:16,  3.14it/s]"
     ]
    },
    {
     "name": "stdout",
     "output_type": "stream",
     "text": [
      "Image processing time: 0.04875469207763672 sec\n",
      "update******\n"
     ]
    },
    {
     "name": "stderr",
     "output_type": "stream",
     "text": [
      "\r",
      " 17%|█▋        | 207/1201 [00:59<05:08,  3.22it/s]"
     ]
    },
    {
     "name": "stdout",
     "output_type": "stream",
     "text": [
      "Image processing time: 0.06539463996887207 sec\n",
      "update******\n"
     ]
    },
    {
     "name": "stderr",
     "output_type": "stream",
     "text": [
      "\r",
      " 17%|█▋        | 208/1201 [01:00<05:06,  3.24it/s]"
     ]
    },
    {
     "name": "stdout",
     "output_type": "stream",
     "text": [
      "Image processing time: 0.06094002723693848 sec\n",
      "update******\n"
     ]
    },
    {
     "name": "stderr",
     "output_type": "stream",
     "text": [
      "\r",
      " 17%|█▋        | 209/1201 [01:00<05:07,  3.23it/s]"
     ]
    },
    {
     "name": "stdout",
     "output_type": "stream",
     "text": [
      "Image processing time: 0.051483869552612305 sec\n",
      "update******\n"
     ]
    },
    {
     "name": "stderr",
     "output_type": "stream",
     "text": [
      "\r",
      " 17%|█▋        | 210/1201 [01:00<05:03,  3.27it/s]"
     ]
    },
    {
     "name": "stdout",
     "output_type": "stream",
     "text": [
      "Image processing time: 0.05351614952087402 sec\n",
      "update******\n"
     ]
    },
    {
     "name": "stderr",
     "output_type": "stream",
     "text": [
      "\r",
      " 18%|█▊        | 211/1201 [01:01<04:59,  3.31it/s]"
     ]
    },
    {
     "name": "stdout",
     "output_type": "stream",
     "text": [
      "Image processing time: 0.06525826454162598 sec\n",
      "update******\n"
     ]
    },
    {
     "name": "stderr",
     "output_type": "stream",
     "text": [
      "\r",
      " 18%|█▊        | 212/1201 [01:01<05:09,  3.19it/s]"
     ]
    },
    {
     "name": "stdout",
     "output_type": "stream",
     "text": [
      "Image processing time: 0.062835693359375 sec\n",
      "update******\n"
     ]
    },
    {
     "name": "stderr",
     "output_type": "stream",
     "text": [
      " 18%|█▊        | 214/1201 [01:01<04:45,  3.46it/s]"
     ]
    },
    {
     "name": "stdout",
     "output_type": "stream",
     "text": [
      "Image processing time: 0.05610299110412598 sec\n",
      "update******\n",
      "Image processing time: 0.0749213695526123 sec\n",
      "update******\n"
     ]
    },
    {
     "name": "stderr",
     "output_type": "stream",
     "text": [
      "\r",
      " 18%|█▊        | 215/1201 [01:02<05:01,  3.27it/s]"
     ]
    },
    {
     "name": "stdout",
     "output_type": "stream",
     "text": [
      "Image processing time: 0.05113101005554199 sec\n",
      "update******\n"
     ]
    },
    {
     "name": "stderr",
     "output_type": "stream",
     "text": [
      "\r",
      " 18%|█▊        | 216/1201 [01:02<05:01,  3.27it/s]"
     ]
    },
    {
     "name": "stdout",
     "output_type": "stream",
     "text": [
      "Image processing time: 0.0947721004486084 sec\n",
      "update******\n"
     ]
    },
    {
     "name": "stderr",
     "output_type": "stream",
     "text": [
      "\r",
      " 18%|█▊        | 217/1201 [01:02<05:22,  3.05it/s]"
     ]
    },
    {
     "name": "stdout",
     "output_type": "stream",
     "text": [
      "Image processing time: 0.08112049102783203 sec\n",
      "update******\n"
     ]
    },
    {
     "name": "stderr",
     "output_type": "stream",
     "text": [
      "\r",
      " 18%|█▊        | 218/1201 [01:03<05:21,  3.05it/s]"
     ]
    },
    {
     "name": "stdout",
     "output_type": "stream",
     "text": [
      "Image processing time: 0.06433606147766113 sec\n",
      "update******\n"
     ]
    },
    {
     "name": "stderr",
     "output_type": "stream",
     "text": [
      "\r",
      " 18%|█▊        | 219/1201 [01:03<05:13,  3.13it/s]"
     ]
    },
    {
     "name": "stdout",
     "output_type": "stream",
     "text": [
      "Image processing time: 0.0631105899810791 sec\n",
      "update******\n"
     ]
    },
    {
     "name": "stderr",
     "output_type": "stream",
     "text": [
      "\r",
      " 18%|█▊        | 220/1201 [01:03<05:12,  3.14it/s]"
     ]
    },
    {
     "name": "stdout",
     "output_type": "stream",
     "text": [
      "Image processing time: 0.07421350479125977 sec\n",
      "update******\n"
     ]
    },
    {
     "name": "stderr",
     "output_type": "stream",
     "text": [
      "\r",
      " 18%|█▊        | 221/1201 [01:04<05:05,  3.20it/s]"
     ]
    },
    {
     "name": "stdout",
     "output_type": "stream",
     "text": [
      "Image processing time: 0.06896042823791504 sec\n",
      "update******\n"
     ]
    },
    {
     "name": "stderr",
     "output_type": "stream",
     "text": [
      " 19%|█▊        | 223/1201 [01:04<04:53,  3.33it/s]"
     ]
    },
    {
     "name": "stdout",
     "output_type": "stream",
     "text": [
      "Image processing time: 0.07440757751464844 sec\n",
      "update******\n",
      "Image processing time: 0.042465925216674805 sec\n",
      "update******\n"
     ]
    },
    {
     "name": "stderr",
     "output_type": "stream",
     "text": [
      " 19%|█▊        | 225/1201 [01:05<04:54,  3.31it/s]"
     ]
    },
    {
     "name": "stdout",
     "output_type": "stream",
     "text": [
      "Image processing time: 0.08944988250732422 sec\n",
      "update******\n"
     ]
    },
    {
     "name": "stderr",
     "output_type": "stream",
     "text": [
      "\r",
      " 19%|█▉        | 226/1201 [01:05<04:47,  3.39it/s]"
     ]
    },
    {
     "name": "stdout",
     "output_type": "stream",
     "text": [
      "Image processing time: 0.05720710754394531 sec\n",
      "update******\n"
     ]
    },
    {
     "name": "stderr",
     "output_type": "stream",
     "text": [
      "\r",
      " 19%|█▉        | 227/1201 [01:05<04:43,  3.44it/s]"
     ]
    },
    {
     "name": "stdout",
     "output_type": "stream",
     "text": [
      "Image processing time: 0.08484029769897461 sec\n",
      "update******\n"
     ]
    },
    {
     "name": "stderr",
     "output_type": "stream",
     "text": [
      "\r",
      " 19%|█▉        | 228/1201 [01:06<04:37,  3.51it/s]"
     ]
    },
    {
     "name": "stdout",
     "output_type": "stream",
     "text": [
      "Image processing time: 0.07027053833007812 sec\n",
      "update******\n",
      "Image processing time: 0.0524137020111084 sec\n",
      "update******\n"
     ]
    },
    {
     "name": "stderr",
     "output_type": "stream",
     "text": [
      " 19%|█▉        | 230/1201 [01:06<04:39,  3.47it/s]"
     ]
    },
    {
     "name": "stdout",
     "output_type": "stream",
     "text": [
      "Image processing time: 0.04968881607055664 sec\n",
      "update******\n",
      "Image processing time: 0.07200407981872559 sec\n",
      "update******\n"
     ]
    },
    {
     "name": "stderr",
     "output_type": "stream",
     "text": [
      "\r",
      " 19%|█▉        | 231/1201 [01:07<04:50,  3.34it/s]"
     ]
    },
    {
     "name": "stdout",
     "output_type": "stream",
     "text": [
      "Image processing time: 0.06255531311035156 sec\n",
      "update******\n"
     ]
    },
    {
     "name": "stderr",
     "output_type": "stream",
     "text": [
      "\r",
      " 19%|█▉        | 232/1201 [01:07<04:48,  3.36it/s]"
     ]
    },
    {
     "name": "stdout",
     "output_type": "stream",
     "text": [
      "Image processing time: 0.08240008354187012 sec\n",
      "update******\n"
     ]
    },
    {
     "name": "stderr",
     "output_type": "stream",
     "text": [
      "\r",
      " 19%|█▉        | 233/1201 [01:07<04:51,  3.32it/s]"
     ]
    },
    {
     "name": "stdout",
     "output_type": "stream",
     "text": [
      "Image processing time: 0.06109905242919922 sec\n",
      "update******\n"
     ]
    },
    {
     "name": "stderr",
     "output_type": "stream",
     "text": [
      "\r",
      " 19%|█▉        | 234/1201 [01:07<04:46,  3.37it/s]"
     ]
    },
    {
     "name": "stdout",
     "output_type": "stream",
     "text": [
      "Image processing time: 0.060279130935668945 sec\n",
      "update******\n"
     ]
    },
    {
     "name": "stderr",
     "output_type": "stream",
     "text": [
      "\r",
      " 20%|█▉        | 235/1201 [01:08<04:46,  3.38it/s]"
     ]
    },
    {
     "name": "stdout",
     "output_type": "stream",
     "text": [
      "Image processing time: 0.06292891502380371 sec\n",
      "update******\n"
     ]
    },
    {
     "name": "stderr",
     "output_type": "stream",
     "text": [
      "\r",
      " 20%|█▉        | 236/1201 [01:08<04:47,  3.35it/s]"
     ]
    },
    {
     "name": "stdout",
     "output_type": "stream",
     "text": [
      "Image processing time: 0.07561063766479492 sec\n",
      "update******\n"
     ]
    },
    {
     "name": "stderr",
     "output_type": "stream",
     "text": [
      "\r",
      " 20%|█▉        | 237/1201 [01:08<04:50,  3.32it/s]"
     ]
    },
    {
     "name": "stdout",
     "output_type": "stream",
     "text": [
      "Image processing time: 0.06578660011291504 sec\n",
      "update******\n"
     ]
    },
    {
     "name": "stderr",
     "output_type": "stream",
     "text": [
      "\r",
      " 20%|█▉        | 238/1201 [01:09<04:52,  3.29it/s]"
     ]
    },
    {
     "name": "stdout",
     "output_type": "stream",
     "text": [
      "Image processing time: 0.05548262596130371 sec\n",
      "update******\n"
     ]
    },
    {
     "name": "stderr",
     "output_type": "stream",
     "text": [
      "\r",
      " 20%|█▉        | 239/1201 [01:09<04:48,  3.33it/s]"
     ]
    },
    {
     "name": "stdout",
     "output_type": "stream",
     "text": [
      "Image processing time: 0.07313799858093262 sec\n",
      "update******\n"
     ]
    },
    {
     "name": "stderr",
     "output_type": "stream",
     "text": [
      "\r",
      " 20%|█▉        | 240/1201 [01:09<04:50,  3.30it/s]"
     ]
    },
    {
     "name": "stdout",
     "output_type": "stream",
     "text": [
      "Image processing time: 0.07525181770324707 sec\n",
      "update******\n"
     ]
    },
    {
     "name": "stderr",
     "output_type": "stream",
     "text": [
      "\r",
      " 20%|██        | 241/1201 [01:10<04:51,  3.29it/s]"
     ]
    },
    {
     "name": "stdout",
     "output_type": "stream",
     "text": [
      "Image processing time: 0.06856632232666016 sec\n",
      "update******\n"
     ]
    },
    {
     "name": "stderr",
     "output_type": "stream",
     "text": [
      "\r",
      " 20%|██        | 242/1201 [01:10<04:57,  3.22it/s]"
     ]
    },
    {
     "name": "stdout",
     "output_type": "stream",
     "text": [
      "Image processing time: 0.058965206146240234 sec\n",
      "update******\n"
     ]
    },
    {
     "name": "stderr",
     "output_type": "stream",
     "text": [
      "\r",
      " 20%|██        | 243/1201 [01:10<04:55,  3.24it/s]"
     ]
    },
    {
     "name": "stdout",
     "output_type": "stream",
     "text": [
      "Image processing time: 0.05508303642272949 sec\n",
      "update******\n"
     ]
    },
    {
     "name": "stderr",
     "output_type": "stream",
     "text": [
      "\r",
      " 20%|██        | 244/1201 [01:11<04:58,  3.21it/s]"
     ]
    },
    {
     "name": "stdout",
     "output_type": "stream",
     "text": [
      "Image processing time: 0.04968118667602539 sec\n",
      "update******\n"
     ]
    },
    {
     "name": "stderr",
     "output_type": "stream",
     "text": [
      "\r",
      " 20%|██        | 245/1201 [01:11<04:53,  3.25it/s]"
     ]
    },
    {
     "name": "stdout",
     "output_type": "stream",
     "text": [
      "Image processing time: 0.05150771141052246 sec\n",
      "update******\n"
     ]
    },
    {
     "name": "stderr",
     "output_type": "stream",
     "text": [
      "\r",
      " 20%|██        | 246/1201 [01:11<04:51,  3.28it/s]"
     ]
    },
    {
     "name": "stdout",
     "output_type": "stream",
     "text": [
      "Image processing time: 0.054947614669799805 sec\n",
      "update******\n"
     ]
    },
    {
     "name": "stderr",
     "output_type": "stream",
     "text": [
      "\r",
      " 21%|██        | 247/1201 [01:12<05:00,  3.17it/s]"
     ]
    },
    {
     "name": "stdout",
     "output_type": "stream",
     "text": [
      "Image processing time: 0.05819559097290039 sec\n",
      "update******\n"
     ]
    },
    {
     "name": "stderr",
     "output_type": "stream",
     "text": [
      "\r",
      " 21%|██        | 248/1201 [01:12<05:06,  3.11it/s]"
     ]
    },
    {
     "name": "stdout",
     "output_type": "stream",
     "text": [
      "Image processing time: 0.06302475929260254 sec\n",
      "update******\n"
     ]
    },
    {
     "name": "stderr",
     "output_type": "stream",
     "text": [
      "\r",
      " 21%|██        | 249/1201 [01:12<05:11,  3.05it/s]"
     ]
    },
    {
     "name": "stdout",
     "output_type": "stream",
     "text": [
      "Image processing time: 0.055043935775756836 sec\n",
      "update******\n"
     ]
    },
    {
     "name": "stderr",
     "output_type": "stream",
     "text": [
      "\r",
      " 21%|██        | 250/1201 [01:13<05:24,  2.93it/s]"
     ]
    },
    {
     "name": "stdout",
     "output_type": "stream",
     "text": [
      "Image processing time: 0.06708860397338867 sec\n",
      "update******\n"
     ]
    },
    {
     "name": "stderr",
     "output_type": "stream",
     "text": [
      "\r",
      " 21%|██        | 251/1201 [01:13<05:44,  2.76it/s]"
     ]
    },
    {
     "name": "stdout",
     "output_type": "stream",
     "text": [
      "Image processing time: 0.059446096420288086 sec\n",
      "update******\n"
     ]
    },
    {
     "name": "stderr",
     "output_type": "stream",
     "text": [
      "\r",
      " 21%|██        | 252/1201 [01:13<05:37,  2.81it/s]"
     ]
    },
    {
     "name": "stdout",
     "output_type": "stream",
     "text": [
      "Image processing time: 0.06656360626220703 sec\n",
      "update******\n"
     ]
    },
    {
     "name": "stderr",
     "output_type": "stream",
     "text": [
      "\r",
      " 21%|██        | 253/1201 [01:14<05:33,  2.84it/s]"
     ]
    },
    {
     "name": "stdout",
     "output_type": "stream",
     "text": [
      "Image processing time: 0.0720360279083252 sec\n",
      "update******\n"
     ]
    },
    {
     "name": "stderr",
     "output_type": "stream",
     "text": [
      "\r",
      " 21%|██        | 254/1201 [01:14<05:32,  2.85it/s]"
     ]
    },
    {
     "name": "stdout",
     "output_type": "stream",
     "text": [
      "Image processing time: 0.06379103660583496 sec\n",
      "update******\n"
     ]
    },
    {
     "name": "stderr",
     "output_type": "stream",
     "text": [
      "\r",
      " 21%|██        | 255/1201 [01:14<05:37,  2.80it/s]"
     ]
    },
    {
     "name": "stdout",
     "output_type": "stream",
     "text": [
      "Image processing time: 0.06929159164428711 sec\n",
      "update******\n"
     ]
    },
    {
     "name": "stderr",
     "output_type": "stream",
     "text": [
      "\r",
      " 21%|██▏       | 256/1201 [01:15<05:32,  2.84it/s]"
     ]
    },
    {
     "name": "stdout",
     "output_type": "stream",
     "text": [
      "Image processing time: 0.12703824043273926 sec\n",
      "update******\n"
     ]
    },
    {
     "name": "stderr",
     "output_type": "stream",
     "text": [
      "\r",
      " 21%|██▏       | 257/1201 [01:15<06:20,  2.48it/s]"
     ]
    },
    {
     "name": "stdout",
     "output_type": "stream",
     "text": [
      "Image processing time: 0.07175493240356445 sec\n",
      "update******\n"
     ]
    },
    {
     "name": "stderr",
     "output_type": "stream",
     "text": [
      "\r",
      " 21%|██▏       | 258/1201 [01:16<06:05,  2.58it/s]"
     ]
    },
    {
     "name": "stdout",
     "output_type": "stream",
     "text": [
      "Image processing time: 0.07633066177368164 sec\n",
      "update******\n"
     ]
    },
    {
     "name": "stderr",
     "output_type": "stream",
     "text": [
      "\r",
      " 22%|██▏       | 259/1201 [01:16<05:45,  2.73it/s]"
     ]
    },
    {
     "name": "stdout",
     "output_type": "stream",
     "text": [
      "Image processing time: 0.056349754333496094 sec\n",
      "update******\n"
     ]
    },
    {
     "name": "stderr",
     "output_type": "stream",
     "text": [
      "\r",
      " 22%|██▏       | 260/1201 [01:16<05:15,  2.98it/s]"
     ]
    },
    {
     "name": "stdout",
     "output_type": "stream",
     "text": [
      "Image processing time: 0.05908799171447754 sec\n",
      "update******\n"
     ]
    },
    {
     "name": "stderr",
     "output_type": "stream",
     "text": [
      "\r",
      " 22%|██▏       | 261/1201 [01:17<05:15,  2.98it/s]"
     ]
    },
    {
     "name": "stdout",
     "output_type": "stream",
     "text": [
      "Image processing time: 0.061079978942871094 sec\n",
      "update******\n"
     ]
    },
    {
     "name": "stderr",
     "output_type": "stream",
     "text": [
      " 22%|██▏       | 263/1201 [01:17<04:45,  3.29it/s]"
     ]
    },
    {
     "name": "stdout",
     "output_type": "stream",
     "text": [
      "Image processing time: 0.05625009536743164 sec\n",
      "update******\n",
      "Image processing time: 0.05489850044250488 sec\n",
      "update******\n"
     ]
    },
    {
     "name": "stderr",
     "output_type": "stream",
     "text": [
      "\r",
      " 22%|██▏       | 264/1201 [01:17<04:42,  3.32it/s]"
     ]
    },
    {
     "name": "stdout",
     "output_type": "stream",
     "text": [
      "Image processing time: 0.05115699768066406 sec\n",
      "update******\n"
     ]
    },
    {
     "name": "stderr",
     "output_type": "stream",
     "text": [
      "\r",
      " 22%|██▏       | 265/1201 [01:18<04:37,  3.37it/s]"
     ]
    },
    {
     "name": "stdout",
     "output_type": "stream",
     "text": [
      "Image processing time: 0.057837724685668945 sec\n",
      "update******\n"
     ]
    },
    {
     "name": "stderr",
     "output_type": "stream",
     "text": [
      "\r",
      " 22%|██▏       | 266/1201 [01:18<04:38,  3.36it/s]"
     ]
    },
    {
     "name": "stdout",
     "output_type": "stream",
     "text": [
      "Image processing time: 0.05697941780090332 sec\n",
      "update******\n"
     ]
    },
    {
     "name": "stderr",
     "output_type": "stream",
     "text": [
      "\r",
      " 22%|██▏       | 267/1201 [01:18<04:36,  3.38it/s]"
     ]
    },
    {
     "name": "stdout",
     "output_type": "stream",
     "text": [
      "Image processing time: 0.04894399642944336 sec\n",
      "update******\n"
     ]
    },
    {
     "name": "stderr",
     "output_type": "stream",
     "text": [
      "\r",
      " 22%|██▏       | 268/1201 [01:19<04:29,  3.46it/s]"
     ]
    },
    {
     "name": "stdout",
     "output_type": "stream",
     "text": [
      "Image processing time: 0.0518343448638916 sec\n",
      "update******\n"
     ]
    },
    {
     "name": "stderr",
     "output_type": "stream",
     "text": [
      "\r",
      " 22%|██▏       | 269/1201 [01:19<04:29,  3.46it/s]"
     ]
    },
    {
     "name": "stdout",
     "output_type": "stream",
     "text": [
      "Image processing time: 0.055638790130615234 sec\n",
      "update******\n"
     ]
    },
    {
     "name": "stderr",
     "output_type": "stream",
     "text": [
      "\r",
      " 22%|██▏       | 270/1201 [01:19<04:30,  3.44it/s]"
     ]
    },
    {
     "name": "stdout",
     "output_type": "stream",
     "text": [
      "Image processing time: 0.059951066970825195 sec\n",
      "update******\n"
     ]
    },
    {
     "name": "stderr",
     "output_type": "stream",
     "text": [
      "\r",
      " 23%|██▎       | 271/1201 [01:19<04:34,  3.39it/s]"
     ]
    },
    {
     "name": "stdout",
     "output_type": "stream",
     "text": [
      "Image processing time: 0.052834510803222656 sec\n",
      "update******\n"
     ]
    },
    {
     "name": "stderr",
     "output_type": "stream",
     "text": [
      "\r",
      " 23%|██▎       | 272/1201 [01:20<04:35,  3.37it/s]"
     ]
    },
    {
     "name": "stdout",
     "output_type": "stream",
     "text": [
      "Image processing time: 0.06425333023071289 sec\n",
      "update******\n"
     ]
    },
    {
     "name": "stderr",
     "output_type": "stream",
     "text": [
      "\r",
      " 23%|██▎       | 273/1201 [01:20<04:38,  3.33it/s]"
     ]
    },
    {
     "name": "stdout",
     "output_type": "stream",
     "text": [
      "Image processing time: 0.05918097496032715 sec\n",
      "update******\n"
     ]
    },
    {
     "name": "stderr",
     "output_type": "stream",
     "text": [
      "\r",
      " 23%|██▎       | 274/1201 [01:20<04:40,  3.31it/s]"
     ]
    },
    {
     "name": "stdout",
     "output_type": "stream",
     "text": [
      "Image processing time: 0.06416606903076172 sec\n",
      "update******\n"
     ]
    },
    {
     "name": "stderr",
     "output_type": "stream",
     "text": [
      "\r",
      " 23%|██▎       | 275/1201 [01:21<04:43,  3.27it/s]"
     ]
    },
    {
     "name": "stdout",
     "output_type": "stream",
     "text": [
      "Image processing time: 0.07047510147094727 sec\n",
      "update******\n"
     ]
    },
    {
     "name": "stderr",
     "output_type": "stream",
     "text": [
      "\r",
      " 23%|██▎       | 276/1201 [01:21<04:47,  3.21it/s]"
     ]
    },
    {
     "name": "stdout",
     "output_type": "stream",
     "text": [
      "Image processing time: 0.05352520942687988 sec\n",
      "update******\n"
     ]
    },
    {
     "name": "stderr",
     "output_type": "stream",
     "text": [
      "\r",
      " 23%|██▎       | 277/1201 [01:21<04:43,  3.25it/s]"
     ]
    },
    {
     "name": "stdout",
     "output_type": "stream",
     "text": [
      "Image processing time: 0.05151557922363281 sec\n",
      "update******\n"
     ]
    },
    {
     "name": "stderr",
     "output_type": "stream",
     "text": [
      "\r",
      " 23%|██▎       | 278/1201 [01:22<04:40,  3.29it/s]"
     ]
    },
    {
     "name": "stdout",
     "output_type": "stream",
     "text": [
      "Image processing time: 0.0528719425201416 sec\n",
      "update******\n"
     ]
    },
    {
     "name": "stderr",
     "output_type": "stream",
     "text": [
      " 23%|██▎       | 280/1201 [01:22<04:23,  3.50it/s]"
     ]
    },
    {
     "name": "stdout",
     "output_type": "stream",
     "text": [
      "Image processing time: 0.04895615577697754 sec\n",
      "update******\n",
      "Image processing time: 0.0991213321685791 sec\n",
      "update******\n"
     ]
    },
    {
     "name": "stderr",
     "output_type": "stream",
     "text": [
      " 23%|██▎       | 282/1201 [01:23<04:17,  3.57it/s]"
     ]
    },
    {
     "name": "stdout",
     "output_type": "stream",
     "text": [
      "Image processing time: 0.0581822395324707 sec\n",
      "update******\n",
      "Image processing time: 0.06420111656188965 sec\n",
      "update******\n"
     ]
    },
    {
     "name": "stderr",
     "output_type": "stream",
     "text": [
      "\r",
      " 24%|██▎       | 283/1201 [01:23<04:21,  3.51it/s]"
     ]
    },
    {
     "name": "stdout",
     "output_type": "stream",
     "text": [
      "Image processing time: 0.06385183334350586 sec\n",
      "update******\n"
     ]
    },
    {
     "name": "stderr",
     "output_type": "stream",
     "text": [
      "\r",
      " 24%|██▎       | 284/1201 [01:23<04:24,  3.46it/s]"
     ]
    },
    {
     "name": "stdout",
     "output_type": "stream",
     "text": [
      "Image processing time: 0.06525659561157227 sec\n",
      "update******\n"
     ]
    },
    {
     "name": "stderr",
     "output_type": "stream",
     "text": [
      " 24%|██▍       | 286/1201 [01:24<04:19,  3.53it/s]"
     ]
    },
    {
     "name": "stdout",
     "output_type": "stream",
     "text": [
      "Image processing time: 0.07583069801330566 sec\n",
      "update******\n"
     ]
    },
    {
     "name": "stderr",
     "output_type": "stream",
     "text": [
      "\r",
      " 24%|██▍       | 287/1201 [01:24<04:01,  3.78it/s]"
     ]
    },
    {
     "name": "stdout",
     "output_type": "stream",
     "text": [
      "Image processing time: 0.060235023498535156 sec\n",
      "update******\n"
     ]
    },
    {
     "name": "stderr",
     "output_type": "stream",
     "text": [
      "\r",
      " 24%|██▍       | 288/1201 [01:24<04:05,  3.72it/s]"
     ]
    },
    {
     "name": "stdout",
     "output_type": "stream",
     "text": [
      "Image processing time: 0.06596136093139648 sec\n",
      "update******\n"
     ]
    },
    {
     "name": "stderr",
     "output_type": "stream",
     "text": [
      "\r",
      " 24%|██▍       | 289/1201 [01:25<04:10,  3.63it/s]"
     ]
    },
    {
     "name": "stdout",
     "output_type": "stream",
     "text": [
      "Image processing time: 0.08650851249694824 sec\n",
      "update******\n"
     ]
    },
    {
     "name": "stderr",
     "output_type": "stream",
     "text": [
      "\r",
      " 24%|██▍       | 290/1201 [01:25<03:50,  3.95it/s]"
     ]
    },
    {
     "name": "stdout",
     "output_type": "stream",
     "text": [
      "Image processing time: 0.054900407791137695 sec\n",
      "update******\n",
      "Image processing time: 0.05443978309631348 sec\n"
     ]
    },
    {
     "name": "stderr",
     "output_type": "stream",
     "text": [
      "\r",
      " 24%|██▍       | 291/1201 [01:25<03:35,  4.22it/s]"
     ]
    },
    {
     "name": "stdout",
     "output_type": "stream",
     "text": [
      "update******\n",
      "Image processing time: 0.057160377502441406 sec\n"
     ]
    },
    {
     "name": "stderr",
     "output_type": "stream",
     "text": [
      "\r",
      " 24%|██▍       | 292/1201 [01:25<03:39,  4.15it/s]"
     ]
    },
    {
     "name": "stdout",
     "output_type": "stream",
     "text": [
      "update******\n",
      "Image processing time: 0.09349322319030762 sec\n"
     ]
    },
    {
     "name": "stderr",
     "output_type": "stream",
     "text": [
      "\r",
      " 24%|██▍       | 293/1201 [01:26<03:51,  3.92it/s]"
     ]
    },
    {
     "name": "stdout",
     "output_type": "stream",
     "text": [
      "update******\n",
      "Image processing time: 0.09052586555480957 sec\n"
     ]
    },
    {
     "name": "stderr",
     "output_type": "stream",
     "text": [
      "\r",
      " 24%|██▍       | 294/1201 [01:26<03:58,  3.80it/s]"
     ]
    },
    {
     "name": "stdout",
     "output_type": "stream",
     "text": [
      "update******\n",
      "Image processing time: 0.04929208755493164 sec\n"
     ]
    },
    {
     "name": "stderr",
     "output_type": "stream",
     "text": [
      "\r",
      " 25%|██▍       | 295/1201 [01:26<03:46,  4.00it/s]"
     ]
    },
    {
     "name": "stdout",
     "output_type": "stream",
     "text": [
      "update******\n",
      "Image processing time: 0.05250144004821777 sec\n"
     ]
    },
    {
     "name": "stderr",
     "output_type": "stream",
     "text": [
      "\r",
      " 25%|██▍       | 296/1201 [01:26<03:42,  4.07it/s]"
     ]
    },
    {
     "name": "stdout",
     "output_type": "stream",
     "text": [
      "update******\n",
      "Image processing time: 0.0502924919128418 sec\n"
     ]
    },
    {
     "name": "stderr",
     "output_type": "stream",
     "text": [
      "\r",
      " 25%|██▍       | 297/1201 [01:27<03:44,  4.03it/s]"
     ]
    },
    {
     "name": "stdout",
     "output_type": "stream",
     "text": [
      "update******\n",
      "Image processing time: 0.06375288963317871 sec\n"
     ]
    },
    {
     "name": "stderr",
     "output_type": "stream",
     "text": [
      "\r",
      " 25%|██▍       | 298/1201 [01:27<03:37,  4.15it/s]"
     ]
    },
    {
     "name": "stdout",
     "output_type": "stream",
     "text": [
      "update******\n",
      "Image processing time: 0.05857992172241211 sec\n"
     ]
    },
    {
     "name": "stderr",
     "output_type": "stream",
     "text": [
      "\r",
      " 25%|██▍       | 299/1201 [01:27<03:41,  4.06it/s]"
     ]
    },
    {
     "name": "stdout",
     "output_type": "stream",
     "text": [
      "update******\n",
      "Image processing time: 0.060684919357299805 sec\n"
     ]
    },
    {
     "name": "stderr",
     "output_type": "stream",
     "text": [
      "\r",
      " 25%|██▍       | 300/1201 [01:27<03:34,  4.20it/s]"
     ]
    },
    {
     "name": "stdout",
     "output_type": "stream",
     "text": [
      "update******\n",
      "Image processing time: 0.047179222106933594 sec\n"
     ]
    },
    {
     "name": "stderr",
     "output_type": "stream",
     "text": [
      "\r",
      " 25%|██▌       | 301/1201 [01:27<03:31,  4.25it/s]"
     ]
    },
    {
     "name": "stdout",
     "output_type": "stream",
     "text": [
      "update******\n",
      "Image processing time: 0.053839921951293945 sec\n"
     ]
    },
    {
     "name": "stderr",
     "output_type": "stream",
     "text": [
      "\r",
      " 25%|██▌       | 302/1201 [01:28<03:28,  4.32it/s]"
     ]
    },
    {
     "name": "stdout",
     "output_type": "stream",
     "text": [
      "update******\n",
      "Image processing time: 0.06696391105651855 sec\n"
     ]
    },
    {
     "name": "stderr",
     "output_type": "stream",
     "text": [
      "\r",
      " 25%|██▌       | 303/1201 [01:28<03:28,  4.31it/s]"
     ]
    },
    {
     "name": "stdout",
     "output_type": "stream",
     "text": [
      "update******\n",
      "Image processing time: 0.052414894104003906 sec\n"
     ]
    },
    {
     "name": "stderr",
     "output_type": "stream",
     "text": [
      "\r",
      " 25%|██▌       | 304/1201 [01:28<03:20,  4.47it/s]"
     ]
    },
    {
     "name": "stdout",
     "output_type": "stream",
     "text": [
      "update******\n",
      "Image processing time: 0.06473684310913086 sec\n"
     ]
    },
    {
     "name": "stderr",
     "output_type": "stream",
     "text": [
      "\r",
      " 25%|██▌       | 305/1201 [01:28<03:18,  4.52it/s]"
     ]
    },
    {
     "name": "stdout",
     "output_type": "stream",
     "text": [
      "update******\n",
      "Image processing time: 0.06450009346008301 sec\n"
     ]
    },
    {
     "name": "stderr",
     "output_type": "stream",
     "text": [
      "\r",
      " 25%|██▌       | 306/1201 [01:29<03:15,  4.59it/s]"
     ]
    },
    {
     "name": "stdout",
     "output_type": "stream",
     "text": [
      "update******\n",
      "Image processing time: 0.05057191848754883 sec\n"
     ]
    },
    {
     "name": "stderr",
     "output_type": "stream",
     "text": [
      "\r",
      " 26%|██▌       | 307/1201 [01:29<03:10,  4.70it/s]"
     ]
    },
    {
     "name": "stdout",
     "output_type": "stream",
     "text": [
      "update******\n",
      "Image processing time: 0.0494236946105957 sec\n",
      "update******"
     ]
    },
    {
     "name": "stderr",
     "output_type": "stream",
     "text": [
      " 26%|██▌       | 309/1201 [01:29<03:02,  4.88it/s]"
     ]
    },
    {
     "name": "stdout",
     "output_type": "stream",
     "text": [
      "\n",
      "Image processing time: 0.06792688369750977 sec\n",
      "update******\n",
      "Image processing time: 0.054888010025024414 sec\n"
     ]
    },
    {
     "name": "stderr",
     "output_type": "stream",
     "text": [
      "\r",
      " 26%|██▌       | 310/1201 [01:29<02:58,  5.00it/s]"
     ]
    },
    {
     "name": "stdout",
     "output_type": "stream",
     "text": [
      "update******\n",
      "Image processing time: 0.07083797454833984 sec\n",
      "update******\n"
     ]
    },
    {
     "name": "stderr",
     "output_type": "stream",
     "text": [
      " 26%|██▌       | 312/1201 [01:30<02:44,  5.41it/s]"
     ]
    },
    {
     "name": "stdout",
     "output_type": "stream",
     "text": [
      "Image processing time: 0.05210399627685547 sec\n",
      "update******\n",
      "Image processing time: 0.04953789710998535 sec\n"
     ]
    },
    {
     "name": "stderr",
     "output_type": "stream",
     "text": [
      "\r",
      " 26%|██▌       | 313/1201 [01:30<02:40,  5.52it/s]"
     ]
    },
    {
     "name": "stdout",
     "output_type": "stream",
     "text": [
      "update******\n",
      "Image processing time: 0.07148313522338867 sec\n",
      "update******\n"
     ]
    },
    {
     "name": "stderr",
     "output_type": "stream",
     "text": [
      " 26%|██▌       | 315/1201 [01:30<02:42,  5.45it/s]"
     ]
    },
    {
     "name": "stdout",
     "output_type": "stream",
     "text": [
      "Image processing time: 0.056584835052490234 sec\n",
      "update******\n",
      "Image processing time: 0.051676273345947266 sec\n"
     ]
    },
    {
     "name": "stderr",
     "output_type": "stream",
     "text": [
      "\r",
      " 26%|██▋       | 316/1201 [01:30<02:50,  5.20it/s]"
     ]
    },
    {
     "name": "stdout",
     "output_type": "stream",
     "text": [
      "update******\n",
      "Image processing time: 0.05041193962097168 sec\n",
      "update******\n"
     ]
    },
    {
     "name": "stderr",
     "output_type": "stream",
     "text": [
      " 26%|██▋       | 318/1201 [01:31<02:52,  5.12it/s]"
     ]
    },
    {
     "name": "stdout",
     "output_type": "stream",
     "text": [
      "Image processing time: 0.08387327194213867 sec\n",
      "update******\n",
      "Image processing time: 0.06121945381164551 sec\n"
     ]
    },
    {
     "name": "stderr",
     "output_type": "stream",
     "text": [
      " 27%|██▋       | 320/1201 [01:31<02:39,  5.52it/s]"
     ]
    },
    {
     "name": "stdout",
     "output_type": "stream",
     "text": [
      "update******\n",
      "Image processing time: 0.06523251533508301 sec\n",
      "update******\n"
     ]
    },
    {
     "name": "stderr",
     "output_type": "stream",
     "text": [
      "\r",
      " 27%|██▋       | 321/1201 [01:31<02:36,  5.62it/s]"
     ]
    },
    {
     "name": "stdout",
     "output_type": "stream",
     "text": [
      "Image processing time: 0.049111366271972656 sec\n",
      "update******\n",
      "Image processing time: 0.07451987266540527 sec\n"
     ]
    },
    {
     "name": "stderr",
     "output_type": "stream",
     "text": [
      "\r",
      " 27%|██▋       | 322/1201 [01:32<02:45,  5.30it/s]"
     ]
    },
    {
     "name": "stdout",
     "output_type": "stream",
     "text": [
      "update******\n",
      "Image processing time: 0.0535280704498291 sec\n",
      "update******\n"
     ]
    },
    {
     "name": "stderr",
     "output_type": "stream",
     "text": [
      " 27%|██▋       | 324/1201 [01:32<02:46,  5.26it/s]"
     ]
    },
    {
     "name": "stdout",
     "output_type": "stream",
     "text": [
      "Image processing time: 0.050391197204589844 sec\n",
      "update******\n"
     ]
    },
    {
     "name": "stderr",
     "output_type": "stream",
     "text": [
      "\r",
      " 27%|██▋       | 325/1201 [01:32<02:53,  5.05it/s]"
     ]
    },
    {
     "name": "stdout",
     "output_type": "stream",
     "text": [
      "Image processing time: 0.07423663139343262 sec\n",
      "update******\n"
     ]
    },
    {
     "name": "stderr",
     "output_type": "stream",
     "text": [
      "\r",
      " 27%|██▋       | 326/1201 [01:32<03:05,  4.71it/s]"
     ]
    },
    {
     "name": "stdout",
     "output_type": "stream",
     "text": [
      "Image processing time: 0.1177680492401123 sec\n",
      "update******\n",
      "Image processing time: 0.05816054344177246 sec\n"
     ]
    },
    {
     "name": "stderr",
     "output_type": "stream",
     "text": [
      "\r",
      " 27%|██▋       | 327/1201 [01:33<03:04,  4.75it/s]"
     ]
    },
    {
     "name": "stdout",
     "output_type": "stream",
     "text": [
      "update******\n",
      "Image processing time: 0.05034351348876953 sec\n",
      "update******\n"
     ]
    },
    {
     "name": "stderr",
     "output_type": "stream",
     "text": [
      " 27%|██▋       | 329/1201 [01:33<03:00,  4.82it/s]"
     ]
    },
    {
     "name": "stdout",
     "output_type": "stream",
     "text": [
      "Image processing time: 0.0625455379486084 sec\n",
      "update******\n"
     ]
    },
    {
     "name": "stderr",
     "output_type": "stream",
     "text": [
      "\r",
      " 27%|██▋       | 330/1201 [01:33<03:00,  4.82it/s]"
     ]
    },
    {
     "name": "stdout",
     "output_type": "stream",
     "text": [
      "Image processing time: 0.0687859058380127 sec\n",
      "update******\n",
      "Image processing time: 0.05571413040161133 sec"
     ]
    },
    {
     "name": "stderr",
     "output_type": "stream",
     "text": [
      "\r",
      " 28%|██▊       | 331/1201 [01:33<02:59,  4.86it/s]"
     ]
    },
    {
     "name": "stdout",
     "output_type": "stream",
     "text": [
      "\n",
      "update******\n",
      "Image processing time: 0.05696392059326172 sec\n",
      "update******"
     ]
    },
    {
     "name": "stderr",
     "output_type": "stream",
     "text": [
      " 28%|██▊       | 333/1201 [01:34<02:55,  4.95it/s]"
     ]
    },
    {
     "name": "stdout",
     "output_type": "stream",
     "text": [
      "\n",
      "Image processing time: 0.054846763610839844 sec\n",
      "update******\n"
     ]
    },
    {
     "name": "stderr",
     "output_type": "stream",
     "text": [
      "\r",
      " 28%|██▊       | 334/1201 [01:34<03:03,  4.72it/s]"
     ]
    },
    {
     "name": "stdout",
     "output_type": "stream",
     "text": [
      "Image processing time: 0.08906364440917969 sec\n",
      "update******\n"
     ]
    },
    {
     "name": "stderr",
     "output_type": "stream",
     "text": [
      "\r",
      " 28%|██▊       | 335/1201 [01:34<02:59,  4.82it/s]"
     ]
    },
    {
     "name": "stdout",
     "output_type": "stream",
     "text": [
      "Image processing time: 0.06243610382080078 sec\n",
      "update******\n"
     ]
    },
    {
     "name": "stderr",
     "output_type": "stream",
     "text": [
      "\r",
      " 28%|██▊       | 336/1201 [01:34<03:00,  4.80it/s]"
     ]
    },
    {
     "name": "stdout",
     "output_type": "stream",
     "text": [
      "Image processing time: 0.06155252456665039 sec\n",
      "update******\n"
     ]
    },
    {
     "name": "stderr",
     "output_type": "stream",
     "text": [
      "\r",
      " 28%|██▊       | 337/1201 [01:35<02:58,  4.85it/s]"
     ]
    },
    {
     "name": "stdout",
     "output_type": "stream",
     "text": [
      "Image processing time: 0.06445574760437012 sec\n",
      "update******\n"
     ]
    },
    {
     "name": "stderr",
     "output_type": "stream",
     "text": [
      "\r",
      " 28%|██▊       | 338/1201 [01:35<02:57,  4.85it/s]"
     ]
    },
    {
     "name": "stdout",
     "output_type": "stream",
     "text": [
      "Image processing time: 0.060273170471191406 sec\n",
      "update******\n"
     ]
    },
    {
     "name": "stderr",
     "output_type": "stream",
     "text": [
      "\r",
      " 28%|██▊       | 339/1201 [01:35<02:53,  4.98it/s]"
     ]
    },
    {
     "name": "stdout",
     "output_type": "stream",
     "text": [
      "Image processing time: 0.07166504859924316 sec\n",
      "update******\n",
      "Image processing time: 0.06961655616760254 sec\n"
     ]
    },
    {
     "name": "stderr",
     "output_type": "stream",
     "text": [
      "\r",
      " 28%|██▊       | 340/1201 [01:35<02:59,  4.80it/s]"
     ]
    },
    {
     "name": "stdout",
     "output_type": "stream",
     "text": [
      "update******\n",
      "Image processing time: 0.05636024475097656 sec\n",
      "update******\n"
     ]
    },
    {
     "name": "stderr",
     "output_type": "stream",
     "text": [
      " 28%|██▊       | 342/1201 [01:36<02:55,  4.89it/s]"
     ]
    },
    {
     "name": "stdout",
     "output_type": "stream",
     "text": [
      "Image processing time: 0.05190420150756836 sec\n",
      "update******\n",
      "Image processing time: 0.060047149658203125 sec\n"
     ]
    },
    {
     "name": "stderr",
     "output_type": "stream",
     "text": [
      "\r",
      " 29%|██▊       | 343/1201 [01:36<02:56,  4.87it/s]"
     ]
    },
    {
     "name": "stdout",
     "output_type": "stream",
     "text": [
      "update******\n",
      "Image processing time: 0.0479588508605957 sec\n",
      "update******\n"
     ]
    },
    {
     "name": "stderr",
     "output_type": "stream",
     "text": [
      " 29%|██▊       | 345/1201 [01:36<03:00,  4.74it/s]"
     ]
    },
    {
     "name": "stdout",
     "output_type": "stream",
     "text": [
      "Image processing time: 0.07742118835449219 sec\n",
      "update******\n",
      "Image processing time: 0.05283808708190918 sec\n"
     ]
    },
    {
     "name": "stderr",
     "output_type": "stream",
     "text": [
      "\r",
      " 29%|██▉       | 346/1201 [01:37<02:57,  4.82it/s]"
     ]
    },
    {
     "name": "stdout",
     "output_type": "stream",
     "text": [
      "update******\n",
      "Image processing time: 0.05670332908630371 sec\n",
      "update******"
     ]
    },
    {
     "name": "stderr",
     "output_type": "stream",
     "text": [
      " 29%|██▉       | 348/1201 [01:37<02:53,  4.92it/s]"
     ]
    },
    {
     "name": "stdout",
     "output_type": "stream",
     "text": [
      "\n",
      "Image processing time: 0.05441474914550781 sec\n",
      "update******\n"
     ]
    },
    {
     "name": "stderr",
     "output_type": "stream",
     "text": [
      "\r",
      " 29%|██▉       | 349/1201 [01:37<03:02,  4.67it/s]"
     ]
    },
    {
     "name": "stdout",
     "output_type": "stream",
     "text": [
      "Image processing time: 0.07422614097595215 sec\n",
      "update******\n"
     ]
    },
    {
     "name": "stderr",
     "output_type": "stream",
     "text": [
      "\r",
      " 29%|██▉       | 350/1201 [01:37<03:05,  4.58it/s]"
     ]
    },
    {
     "name": "stdout",
     "output_type": "stream",
     "text": [
      "Image processing time: 0.06945633888244629 sec\n",
      "update******\n"
     ]
    },
    {
     "name": "stderr",
     "output_type": "stream",
     "text": [
      "\r",
      " 29%|██▉       | 351/1201 [01:38<03:05,  4.59it/s]"
     ]
    },
    {
     "name": "stdout",
     "output_type": "stream",
     "text": [
      "Image processing time: 0.0640878677368164 sec\n",
      "update******\n"
     ]
    },
    {
     "name": "stderr",
     "output_type": "stream",
     "text": [
      "\r",
      " 29%|██▉       | 352/1201 [01:38<03:05,  4.57it/s]"
     ]
    },
    {
     "name": "stdout",
     "output_type": "stream",
     "text": [
      "Image processing time: 0.05594468116760254 sec\n",
      "update******\n"
     ]
    },
    {
     "name": "stderr",
     "output_type": "stream",
     "text": [
      "\r",
      " 29%|██▉       | 353/1201 [01:38<03:12,  4.41it/s]"
     ]
    },
    {
     "name": "stdout",
     "output_type": "stream",
     "text": [
      "Image processing time: 0.08620166778564453 sec\n",
      "update******\n"
     ]
    },
    {
     "name": "stderr",
     "output_type": "stream",
     "text": [
      "\r",
      " 29%|██▉       | 354/1201 [01:38<03:12,  4.40it/s]"
     ]
    },
    {
     "name": "stdout",
     "output_type": "stream",
     "text": [
      "Image processing time: 0.07002139091491699 sec\n",
      "update******\n"
     ]
    },
    {
     "name": "stderr",
     "output_type": "stream",
     "text": [
      "\r",
      " 30%|██▉       | 355/1201 [01:39<03:19,  4.23it/s]"
     ]
    },
    {
     "name": "stdout",
     "output_type": "stream",
     "text": [
      "Image processing time: 0.09031057357788086 sec\n",
      "update******\n"
     ]
    },
    {
     "name": "stderr",
     "output_type": "stream",
     "text": [
      "\r",
      " 30%|██▉       | 356/1201 [01:39<03:26,  4.09it/s]"
     ]
    },
    {
     "name": "stdout",
     "output_type": "stream",
     "text": [
      "Image processing time: 0.09215259552001953 sec\n",
      "update******\n"
     ]
    },
    {
     "name": "stderr",
     "output_type": "stream",
     "text": [
      "\r",
      " 30%|██▉       | 357/1201 [01:39<03:44,  3.75it/s]"
     ]
    },
    {
     "name": "stdout",
     "output_type": "stream",
     "text": [
      "Image processing time: 0.06664061546325684 sec\n",
      "update******\n",
      "Image processing time: 0.11952996253967285 sec\n",
      "update******\n"
     ]
    },
    {
     "name": "stderr",
     "output_type": "stream",
     "text": [
      " 30%|██▉       | 359/1201 [01:40<04:06,  3.42it/s]"
     ]
    },
    {
     "name": "stdout",
     "output_type": "stream",
     "text": [
      "Image processing time: 0.08879685401916504 sec\n",
      "update******\n"
     ]
    },
    {
     "name": "stderr",
     "output_type": "stream",
     "text": [
      "\r",
      " 30%|██▉       | 360/1201 [01:40<03:54,  3.59it/s]"
     ]
    },
    {
     "name": "stdout",
     "output_type": "stream",
     "text": [
      "Image processing time: 0.07670974731445312 sec\n",
      "update******\n"
     ]
    },
    {
     "name": "stderr",
     "output_type": "stream",
     "text": [
      "\r",
      " 30%|███       | 361/1201 [01:40<03:48,  3.68it/s]"
     ]
    },
    {
     "name": "stdout",
     "output_type": "stream",
     "text": [
      "Image processing time: 0.06879925727844238 sec\n",
      "update******\n"
     ]
    },
    {
     "name": "stderr",
     "output_type": "stream",
     "text": [
      "\r",
      " 30%|███       | 362/1201 [01:40<03:32,  3.96it/s]"
     ]
    },
    {
     "name": "stdout",
     "output_type": "stream",
     "text": [
      "Image processing time: 0.06445145606994629 sec\n",
      "update******\n"
     ]
    },
    {
     "name": "stderr",
     "output_type": "stream",
     "text": [
      "\r",
      " 30%|███       | 363/1201 [01:41<03:21,  4.16it/s]"
     ]
    },
    {
     "name": "stdout",
     "output_type": "stream",
     "text": [
      "Image processing time: 0.07298874855041504 sec\n",
      "update******\n"
     ]
    },
    {
     "name": "stderr",
     "output_type": "stream",
     "text": [
      "\r",
      " 30%|███       | 364/1201 [01:41<03:24,  4.08it/s]"
     ]
    },
    {
     "name": "stdout",
     "output_type": "stream",
     "text": [
      "Image processing time: 0.08829092979431152 sec\n",
      "update******\n"
     ]
    },
    {
     "name": "stderr",
     "output_type": "stream",
     "text": [
      "\r",
      " 30%|███       | 365/1201 [01:41<03:15,  4.27it/s]"
     ]
    },
    {
     "name": "stdout",
     "output_type": "stream",
     "text": [
      "Image processing time: 0.06779837608337402 sec\n",
      "update******\n",
      "Image processing time: 0.053386688232421875 sec\n"
     ]
    },
    {
     "name": "stderr",
     "output_type": "stream",
     "text": [
      "\r",
      " 30%|███       | 366/1201 [01:41<03:02,  4.57it/s]"
     ]
    },
    {
     "name": "stdout",
     "output_type": "stream",
     "text": [
      "update******\n",
      "Image processing time: 0.07502198219299316 sec\n"
     ]
    },
    {
     "name": "stderr",
     "output_type": "stream",
     "text": [
      "\r",
      " 31%|███       | 367/1201 [01:42<03:07,  4.44it/s]"
     ]
    },
    {
     "name": "stdout",
     "output_type": "stream",
     "text": [
      "update******\n",
      "Image processing time: 0.07017350196838379 sec\n"
     ]
    },
    {
     "name": "stderr",
     "output_type": "stream",
     "text": [
      "\r",
      " 31%|███       | 368/1201 [01:42<03:06,  4.46it/s]"
     ]
    },
    {
     "name": "stdout",
     "output_type": "stream",
     "text": [
      "update******\n",
      "Image processing time: 0.07311725616455078 sec\n"
     ]
    },
    {
     "name": "stderr",
     "output_type": "stream",
     "text": [
      "\r",
      " 31%|███       | 369/1201 [01:42<03:07,  4.45it/s]"
     ]
    },
    {
     "name": "stdout",
     "output_type": "stream",
     "text": [
      "update******\n",
      "Image processing time: 0.07942533493041992 sec\n"
     ]
    },
    {
     "name": "stderr",
     "output_type": "stream",
     "text": [
      "\r",
      " 31%|███       | 370/1201 [01:42<03:13,  4.30it/s]"
     ]
    },
    {
     "name": "stdout",
     "output_type": "stream",
     "text": [
      "update******\n",
      "Image processing time: 0.05931448936462402 sec\n"
     ]
    },
    {
     "name": "stderr",
     "output_type": "stream",
     "text": [
      "\r",
      " 31%|███       | 371/1201 [01:43<03:10,  4.37it/s]"
     ]
    },
    {
     "name": "stdout",
     "output_type": "stream",
     "text": [
      "update******\n",
      "Image processing time: 0.057801008224487305 sec\n"
     ]
    },
    {
     "name": "stderr",
     "output_type": "stream",
     "text": [
      "\r",
      " 31%|███       | 372/1201 [01:43<03:04,  4.49it/s]"
     ]
    },
    {
     "name": "stdout",
     "output_type": "stream",
     "text": [
      "update******\n",
      "Image processing time: 0.08369231224060059 sec\n"
     ]
    },
    {
     "name": "stderr",
     "output_type": "stream",
     "text": [
      "\r",
      " 31%|███       | 373/1201 [01:43<03:16,  4.21it/s]"
     ]
    },
    {
     "name": "stdout",
     "output_type": "stream",
     "text": [
      "update******\n",
      "Image processing time: 0.06656122207641602 sec\n"
     ]
    },
    {
     "name": "stderr",
     "output_type": "stream",
     "text": [
      "\r",
      " 31%|███       | 374/1201 [01:43<03:11,  4.33it/s]"
     ]
    },
    {
     "name": "stdout",
     "output_type": "stream",
     "text": [
      "update******\n",
      "Image processing time: 0.05671286582946777 sec\n",
      "update******\n"
     ]
    },
    {
     "name": "stderr",
     "output_type": "stream",
     "text": [
      " 31%|███▏      | 376/1201 [01:44<02:48,  4.89it/s]"
     ]
    },
    {
     "name": "stdout",
     "output_type": "stream",
     "text": [
      "Image processing time: 0.06973004341125488 sec\n",
      "update******\n",
      "Image processing time: 0.07363033294677734 sec\n"
     ]
    },
    {
     "name": "stderr",
     "output_type": "stream",
     "text": [
      "\r",
      " 31%|███▏      | 377/1201 [01:44<02:47,  4.93it/s]"
     ]
    },
    {
     "name": "stdout",
     "output_type": "stream",
     "text": [
      "update******\n",
      "Image processing time: 0.061507225036621094 sec\n",
      "update******\n"
     ]
    },
    {
     "name": "stderr",
     "output_type": "stream",
     "text": [
      " 32%|███▏      | 379/1201 [01:44<02:33,  5.36it/s]"
     ]
    },
    {
     "name": "stdout",
     "output_type": "stream",
     "text": [
      "Image processing time: 0.06206631660461426 sec\n",
      "update******\n",
      "Image processing time: 0.06153702735900879 sec\n"
     ]
    },
    {
     "name": "stderr",
     "output_type": "stream",
     "text": [
      "\r",
      " 32%|███▏      | 380/1201 [01:44<02:29,  5.48it/s]"
     ]
    },
    {
     "name": "stdout",
     "output_type": "stream",
     "text": [
      "update******\n",
      "Image processing time: 0.07256960868835449 sec\n",
      "update******"
     ]
    },
    {
     "name": "stderr",
     "output_type": "stream",
     "text": [
      " 32%|███▏      | 382/1201 [01:45<02:41,  5.06it/s]"
     ]
    },
    {
     "name": "stdout",
     "output_type": "stream",
     "text": [
      "\n",
      "Image processing time: 0.08305931091308594 sec\n",
      "update******\n",
      "Image processing time: 0.07924246788024902 sec\n"
     ]
    },
    {
     "name": "stderr",
     "output_type": "stream",
     "text": [
      "\r",
      " 32%|███▏      | 383/1201 [01:45<02:50,  4.80it/s]"
     ]
    },
    {
     "name": "stdout",
     "output_type": "stream",
     "text": [
      "update******\n",
      "Image processing time: 0.07387781143188477 sec\n"
     ]
    },
    {
     "name": "stderr",
     "output_type": "stream",
     "text": [
      "\r",
      " 32%|███▏      | 384/1201 [01:45<02:58,  4.59it/s]"
     ]
    },
    {
     "name": "stdout",
     "output_type": "stream",
     "text": [
      "update******\n",
      "Image processing time: 0.07077431678771973 sec\n"
     ]
    },
    {
     "name": "stderr",
     "output_type": "stream",
     "text": [
      "\r",
      " 32%|███▏      | 385/1201 [01:45<03:00,  4.51it/s]"
     ]
    },
    {
     "name": "stdout",
     "output_type": "stream",
     "text": [
      "update******\n",
      "Image processing time: 0.07335615158081055 sec\n",
      "update******"
     ]
    },
    {
     "name": "stderr",
     "output_type": "stream",
     "text": [
      " 32%|███▏      | 387/1201 [01:46<02:57,  4.58it/s]"
     ]
    },
    {
     "name": "stdout",
     "output_type": "stream",
     "text": [
      "\n",
      "Image processing time: 0.07161712646484375 sec\n",
      "update******\n"
     ]
    },
    {
     "name": "stderr",
     "output_type": "stream",
     "text": [
      "\r",
      " 32%|███▏      | 388/1201 [01:46<02:59,  4.53it/s]"
     ]
    },
    {
     "name": "stdout",
     "output_type": "stream",
     "text": [
      "Image processing time: 0.07300901412963867 sec\n",
      "update******\n"
     ]
    },
    {
     "name": "stderr",
     "output_type": "stream",
     "text": [
      "\r",
      " 32%|███▏      | 389/1201 [01:46<03:05,  4.37it/s]"
     ]
    },
    {
     "name": "stdout",
     "output_type": "stream",
     "text": [
      "Image processing time: 0.0820765495300293 sec\n",
      "update******\n"
     ]
    },
    {
     "name": "stderr",
     "output_type": "stream",
     "text": [
      "\r",
      " 32%|███▏      | 390/1201 [01:47<03:19,  4.06it/s]"
     ]
    },
    {
     "name": "stdout",
     "output_type": "stream",
     "text": [
      "Image processing time: 0.08596086502075195 sec\n",
      "update******\n"
     ]
    },
    {
     "name": "stderr",
     "output_type": "stream",
     "text": [
      "\r",
      " 33%|███▎      | 391/1201 [01:47<03:27,  3.90it/s]"
     ]
    },
    {
     "name": "stdout",
     "output_type": "stream",
     "text": [
      "Image processing time: 0.0647740364074707 sec\n",
      "update******\n"
     ]
    },
    {
     "name": "stderr",
     "output_type": "stream",
     "text": [
      "\r",
      " 33%|███▎      | 392/1201 [01:47<03:25,  3.93it/s]"
     ]
    },
    {
     "name": "stdout",
     "output_type": "stream",
     "text": [
      "Image processing time: 0.06834149360656738 sec\n",
      "update******\n"
     ]
    },
    {
     "name": "stderr",
     "output_type": "stream",
     "text": [
      "\r",
      " 33%|███▎      | 393/1201 [01:47<03:13,  4.18it/s]"
     ]
    },
    {
     "name": "stdout",
     "output_type": "stream",
     "text": [
      "Image processing time: 0.061905622482299805 sec\n",
      "update******\n"
     ]
    },
    {
     "name": "stderr",
     "output_type": "stream",
     "text": [
      "\r",
      " 33%|███▎      | 394/1201 [01:48<03:13,  4.17it/s]"
     ]
    },
    {
     "name": "stdout",
     "output_type": "stream",
     "text": [
      "Image processing time: 0.09248042106628418 sec\n",
      "update******\n"
     ]
    },
    {
     "name": "stderr",
     "output_type": "stream",
     "text": [
      "\r",
      " 33%|███▎      | 395/1201 [01:48<03:36,  3.73it/s]"
     ]
    },
    {
     "name": "stdout",
     "output_type": "stream",
     "text": [
      "Image processing time: 0.14305591583251953 sec\n",
      "update******\n"
     ]
    },
    {
     "name": "stderr",
     "output_type": "stream",
     "text": [
      "\r",
      " 33%|███▎      | 396/1201 [01:48<03:27,  3.89it/s]"
     ]
    },
    {
     "name": "stdout",
     "output_type": "stream",
     "text": [
      "Image processing time: 0.08514809608459473 sec\n",
      "update******\n"
     ]
    },
    {
     "name": "stderr",
     "output_type": "stream",
     "text": [
      "\r",
      " 33%|███▎      | 397/1201 [01:48<03:24,  3.93it/s]"
     ]
    },
    {
     "name": "stdout",
     "output_type": "stream",
     "text": [
      "Image processing time: 0.06235504150390625 sec\n",
      "update******\n",
      "Image processing time: 0.060743093490600586 sec\n"
     ]
    },
    {
     "name": "stderr",
     "output_type": "stream",
     "text": [
      "\r",
      " 33%|███▎      | 398/1201 [01:49<03:11,  4.20it/s]"
     ]
    },
    {
     "name": "stdout",
     "output_type": "stream",
     "text": [
      "update******\n",
      "Image processing time: 0.06653642654418945 sec\n",
      "update******\n"
     ]
    },
    {
     "name": "stderr",
     "output_type": "stream",
     "text": [
      " 33%|███▎      | 400/1201 [01:49<03:01,  4.42it/s]"
     ]
    },
    {
     "name": "stdout",
     "output_type": "stream",
     "text": [
      "Image processing time: 0.054733991622924805 sec\n",
      "update******\n"
     ]
    },
    {
     "name": "stderr",
     "output_type": "stream",
     "text": [
      "\r",
      " 33%|███▎      | 401/1201 [01:49<02:56,  4.53it/s]"
     ]
    },
    {
     "name": "stdout",
     "output_type": "stream",
     "text": [
      "Image processing time: 0.06811404228210449 sec\n",
      "update******\n"
     ]
    },
    {
     "name": "stderr",
     "output_type": "stream",
     "text": [
      "\r",
      " 33%|███▎      | 402/1201 [01:49<03:02,  4.38it/s]"
     ]
    },
    {
     "name": "stdout",
     "output_type": "stream",
     "text": [
      "Image processing time: 0.0890965461730957 sec\n",
      "update******\n"
     ]
    },
    {
     "name": "stderr",
     "output_type": "stream",
     "text": [
      "\r",
      " 34%|███▎      | 403/1201 [01:50<03:10,  4.20it/s]"
     ]
    },
    {
     "name": "stdout",
     "output_type": "stream",
     "text": [
      "Image processing time: 0.08049583435058594 sec\n",
      "update******\n"
     ]
    },
    {
     "name": "stderr",
     "output_type": "stream",
     "text": [
      "\r",
      " 34%|███▎      | 404/1201 [01:50<03:17,  4.03it/s]"
     ]
    },
    {
     "name": "stdout",
     "output_type": "stream",
     "text": [
      "Image processing time: 0.09753203392028809 sec\n",
      "update******\n"
     ]
    },
    {
     "name": "stderr",
     "output_type": "stream",
     "text": [
      "\r",
      " 34%|███▎      | 405/1201 [01:50<03:09,  4.20it/s]"
     ]
    },
    {
     "name": "stdout",
     "output_type": "stream",
     "text": [
      "Image processing time: 0.06371045112609863 sec\n",
      "update******\n"
     ]
    },
    {
     "name": "stderr",
     "output_type": "stream",
     "text": [
      "\r",
      " 34%|███▍      | 406/1201 [01:50<03:14,  4.08it/s]"
     ]
    },
    {
     "name": "stdout",
     "output_type": "stream",
     "text": [
      "Image processing time: 0.07251310348510742 sec\n",
      "update******\n"
     ]
    },
    {
     "name": "stderr",
     "output_type": "stream",
     "text": [
      "\r",
      " 34%|███▍      | 407/1201 [01:51<03:21,  3.94it/s]"
     ]
    },
    {
     "name": "stdout",
     "output_type": "stream",
     "text": [
      "Image processing time: 0.09818267822265625 sec\n",
      "update******\n"
     ]
    },
    {
     "name": "stderr",
     "output_type": "stream",
     "text": [
      "\r",
      " 34%|███▍      | 408/1201 [01:51<03:17,  4.01it/s]"
     ]
    },
    {
     "name": "stdout",
     "output_type": "stream",
     "text": [
      "Image processing time: 0.08651399612426758 sec\n",
      "update******\n"
     ]
    },
    {
     "name": "stderr",
     "output_type": "stream",
     "text": [
      "\r",
      " 34%|███▍      | 409/1201 [01:51<03:14,  4.08it/s]"
     ]
    },
    {
     "name": "stdout",
     "output_type": "stream",
     "text": [
      "Image processing time: 0.07914853096008301 sec\n",
      "update******\n"
     ]
    },
    {
     "name": "stderr",
     "output_type": "stream",
     "text": [
      "\r",
      " 34%|███▍      | 410/1201 [01:51<03:13,  4.10it/s]"
     ]
    },
    {
     "name": "stdout",
     "output_type": "stream",
     "text": [
      "Image processing time: 0.07732677459716797 sec\n",
      "update******\n"
     ]
    },
    {
     "name": "stderr",
     "output_type": "stream",
     "text": [
      "\r",
      " 34%|███▍      | 411/1201 [01:52<03:12,  4.10it/s]"
     ]
    },
    {
     "name": "stdout",
     "output_type": "stream",
     "text": [
      "Image processing time: 0.06848001480102539 sec\n",
      "update******\n"
     ]
    },
    {
     "name": "stderr",
     "output_type": "stream",
     "text": [
      "\r",
      " 34%|███▍      | 412/1201 [01:52<03:15,  4.04it/s]"
     ]
    },
    {
     "name": "stdout",
     "output_type": "stream",
     "text": [
      "Image processing time: 0.09369921684265137 sec\n",
      "update******\n"
     ]
    },
    {
     "name": "stderr",
     "output_type": "stream",
     "text": [
      "\r",
      " 34%|███▍      | 413/1201 [01:52<03:15,  4.04it/s]"
     ]
    },
    {
     "name": "stdout",
     "output_type": "stream",
     "text": [
      "Image processing time: 0.09659028053283691 sec\n",
      "update******\n"
     ]
    },
    {
     "name": "stderr",
     "output_type": "stream",
     "text": [
      "\r",
      " 34%|███▍      | 414/1201 [01:52<03:10,  4.14it/s]"
     ]
    },
    {
     "name": "stdout",
     "output_type": "stream",
     "text": [
      "Image processing time: 0.06910419464111328 sec\n",
      "update******\n"
     ]
    },
    {
     "name": "stderr",
     "output_type": "stream",
     "text": [
      "\r",
      " 35%|███▍      | 415/1201 [01:53<03:00,  4.35it/s]"
     ]
    },
    {
     "name": "stdout",
     "output_type": "stream",
     "text": [
      "Image processing time: 0.06077837944030762 sec\n",
      "update******\n"
     ]
    },
    {
     "name": "stderr",
     "output_type": "stream",
     "text": [
      "\r",
      " 35%|███▍      | 416/1201 [01:53<02:58,  4.40it/s]"
     ]
    },
    {
     "name": "stdout",
     "output_type": "stream",
     "text": [
      "Image processing time: 0.07220101356506348 sec\n",
      "update******\n"
     ]
    },
    {
     "name": "stderr",
     "output_type": "stream",
     "text": [
      "\r",
      " 35%|███▍      | 417/1201 [01:53<03:00,  4.34it/s]"
     ]
    },
    {
     "name": "stdout",
     "output_type": "stream",
     "text": [
      "Image processing time: 0.05138230323791504 sec\n",
      "update******\n"
     ]
    },
    {
     "name": "stderr",
     "output_type": "stream",
     "text": [
      "\r",
      " 35%|███▍      | 418/1201 [01:53<02:57,  4.42it/s]"
     ]
    },
    {
     "name": "stdout",
     "output_type": "stream",
     "text": [
      "Image processing time: 0.06319236755371094 sec\n",
      "update******\n"
     ]
    },
    {
     "name": "stderr",
     "output_type": "stream",
     "text": [
      "\r",
      " 35%|███▍      | 419/1201 [01:54<03:04,  4.24it/s]"
     ]
    },
    {
     "name": "stdout",
     "output_type": "stream",
     "text": [
      "Image processing time: 0.06005048751831055 sec\n",
      "update******\n"
     ]
    },
    {
     "name": "stderr",
     "output_type": "stream",
     "text": [
      "\r",
      " 35%|███▍      | 420/1201 [01:54<02:54,  4.47it/s]"
     ]
    },
    {
     "name": "stdout",
     "output_type": "stream",
     "text": [
      "Image processing time: 0.08252859115600586 sec\n",
      "update******\n",
      "Image processing time: 0.06942319869995117 sec\n"
     ]
    },
    {
     "name": "stderr",
     "output_type": "stream",
     "text": [
      "\r",
      " 35%|███▌      | 421/1201 [01:54<02:45,  4.71it/s]"
     ]
    },
    {
     "name": "stdout",
     "output_type": "stream",
     "text": [
      "update******\n",
      "Image processing time: 0.0678260326385498 sec\n",
      "update******\n"
     ]
    },
    {
     "name": "stderr",
     "output_type": "stream",
     "text": [
      " 35%|███▌      | 423/1201 [01:54<02:32,  5.09it/s]"
     ]
    },
    {
     "name": "stdout",
     "output_type": "stream",
     "text": [
      "Image processing time: 0.058452606201171875 sec\n",
      "update******\n",
      "Image processing time: 0.06858706474304199 sec\n"
     ]
    },
    {
     "name": "stderr",
     "output_type": "stream",
     "text": [
      "\r",
      " 35%|███▌      | 424/1201 [01:55<02:38,  4.92it/s]"
     ]
    },
    {
     "name": "stdout",
     "output_type": "stream",
     "text": [
      "update******\n",
      "Image processing time: 0.13056707382202148 sec"
     ]
    },
    {
     "name": "stderr",
     "output_type": "stream",
     "text": [
      "\r",
      " 35%|███▌      | 425/1201 [01:55<02:58,  4.36it/s]"
     ]
    },
    {
     "name": "stdout",
     "output_type": "stream",
     "text": [
      "\n",
      "update******\n",
      "Image processing time: 0.07685112953186035 sec\n"
     ]
    },
    {
     "name": "stderr",
     "output_type": "stream",
     "text": [
      "\r",
      " 35%|███▌      | 426/1201 [01:55<03:06,  4.16it/s]"
     ]
    },
    {
     "name": "stdout",
     "output_type": "stream",
     "text": [
      "update******\n",
      "Image processing time: 0.06778359413146973 sec\n"
     ]
    },
    {
     "name": "stderr",
     "output_type": "stream",
     "text": [
      "\r",
      " 36%|███▌      | 427/1201 [01:55<02:58,  4.33it/s]"
     ]
    },
    {
     "name": "stdout",
     "output_type": "stream",
     "text": [
      "update******\n",
      "Image processing time: 0.06127047538757324 sec\n",
      "update******"
     ]
    },
    {
     "name": "stderr",
     "output_type": "stream",
     "text": [
      " 36%|███▌      | 429/1201 [01:56<02:50,  4.52it/s]"
     ]
    },
    {
     "name": "stdout",
     "output_type": "stream",
     "text": [
      "\n",
      "Image processing time: 0.06718993186950684 sec\n",
      "update******\n"
     ]
    },
    {
     "name": "stderr",
     "output_type": "stream",
     "text": [
      "\r",
      " 36%|███▌      | 430/1201 [01:56<02:55,  4.38it/s]"
     ]
    },
    {
     "name": "stdout",
     "output_type": "stream",
     "text": [
      "Image processing time: 0.0739908218383789 sec\n",
      "update******\n"
     ]
    },
    {
     "name": "stderr",
     "output_type": "stream",
     "text": [
      "\r",
      " 36%|███▌      | 431/1201 [01:56<02:58,  4.32it/s]"
     ]
    },
    {
     "name": "stdout",
     "output_type": "stream",
     "text": [
      "Image processing time: 0.06325221061706543 sec\n",
      "update******\n"
     ]
    },
    {
     "name": "stderr",
     "output_type": "stream",
     "text": [
      "\r",
      " 36%|███▌      | 432/1201 [01:56<02:58,  4.31it/s]"
     ]
    },
    {
     "name": "stdout",
     "output_type": "stream",
     "text": [
      "Image processing time: 0.07211136817932129 sec\n",
      "update******\n"
     ]
    },
    {
     "name": "stderr",
     "output_type": "stream",
     "text": [
      "\r",
      " 36%|███▌      | 433/1201 [01:57<02:50,  4.50it/s]"
     ]
    },
    {
     "name": "stdout",
     "output_type": "stream",
     "text": [
      "Image processing time: 0.05791616439819336 sec\n",
      "update******\n"
     ]
    },
    {
     "name": "stderr",
     "output_type": "stream",
     "text": [
      "\r",
      " 36%|███▌      | 434/1201 [01:57<03:01,  4.22it/s]"
     ]
    },
    {
     "name": "stdout",
     "output_type": "stream",
     "text": [
      "Image processing time: 0.07265210151672363 sec\n",
      "update******\n"
     ]
    },
    {
     "name": "stderr",
     "output_type": "stream",
     "text": [
      "\r",
      " 36%|███▌      | 435/1201 [01:57<03:04,  4.15it/s]"
     ]
    },
    {
     "name": "stdout",
     "output_type": "stream",
     "text": [
      "Image processing time: 0.08960127830505371 sec\n",
      "update******\n"
     ]
    },
    {
     "name": "stderr",
     "output_type": "stream",
     "text": [
      "\r",
      " 36%|███▋      | 436/1201 [01:57<02:55,  4.37it/s]"
     ]
    },
    {
     "name": "stdout",
     "output_type": "stream",
     "text": [
      "Image processing time: 0.057485103607177734 sec\n",
      "update******\n"
     ]
    },
    {
     "name": "stderr",
     "output_type": "stream",
     "text": [
      "\r",
      " 36%|███▋      | 437/1201 [01:58<02:51,  4.46it/s]"
     ]
    },
    {
     "name": "stdout",
     "output_type": "stream",
     "text": [
      "Image processing time: 0.08324742317199707 sec\n",
      "update******\n",
      "Image processing time: 0.056112051010131836 sec\n"
     ]
    },
    {
     "name": "stderr",
     "output_type": "stream",
     "text": [
      "\r",
      " 36%|███▋      | 438/1201 [01:58<02:43,  4.67it/s]"
     ]
    },
    {
     "name": "stdout",
     "output_type": "stream",
     "text": [
      "update******\n",
      "Image processing time: 0.060651302337646484 sec\n",
      "update******\n"
     ]
    },
    {
     "name": "stderr",
     "output_type": "stream",
     "text": [
      " 37%|███▋      | 440/1201 [01:58<02:37,  4.83it/s]"
     ]
    },
    {
     "name": "stdout",
     "output_type": "stream",
     "text": [
      "Image processing time: 0.0627899169921875 sec\n",
      "update******\n"
     ]
    },
    {
     "name": "stderr",
     "output_type": "stream",
     "text": [
      "\r",
      " 37%|███▋      | 441/1201 [01:58<02:38,  4.79it/s]"
     ]
    },
    {
     "name": "stdout",
     "output_type": "stream",
     "text": [
      "Image processing time: 0.0530245304107666 sec\n",
      "update******\n"
     ]
    },
    {
     "name": "stderr",
     "output_type": "stream",
     "text": [
      "\r",
      " 37%|███▋      | 442/1201 [01:59<02:32,  4.99it/s]"
     ]
    },
    {
     "name": "stdout",
     "output_type": "stream",
     "text": [
      "Image processing time: 0.07312726974487305 sec\n",
      "update******\n",
      "Image processing time: 0.05828285217285156 sec\n"
     ]
    },
    {
     "name": "stderr",
     "output_type": "stream",
     "text": [
      "\r",
      " 37%|███▋      | 443/1201 [01:59<02:34,  4.89it/s]"
     ]
    },
    {
     "name": "stdout",
     "output_type": "stream",
     "text": [
      "update******\n",
      "Image processing time: 0.06470227241516113 sec\n"
     ]
    },
    {
     "name": "stderr",
     "output_type": "stream",
     "text": [
      "\r",
      " 37%|███▋      | 444/1201 [01:59<02:42,  4.66it/s]"
     ]
    },
    {
     "name": "stdout",
     "output_type": "stream",
     "text": [
      "update******\n",
      "Image processing time: 0.056371212005615234 sec\n"
     ]
    },
    {
     "name": "stderr",
     "output_type": "stream",
     "text": [
      "\r",
      " 37%|███▋      | 445/1201 [01:59<02:41,  4.68it/s]"
     ]
    },
    {
     "name": "stdout",
     "output_type": "stream",
     "text": [
      "update******\n",
      "Image processing time: 0.0491330623626709 sec\n",
      "update******\n"
     ]
    },
    {
     "name": "stderr",
     "output_type": "stream",
     "text": [
      " 37%|███▋      | 447/1201 [02:00<02:42,  4.64it/s]"
     ]
    },
    {
     "name": "stdout",
     "output_type": "stream",
     "text": [
      "Image processing time: 0.06083059310913086 sec\n",
      "update******\n"
     ]
    },
    {
     "name": "stderr",
     "output_type": "stream",
     "text": [
      "\r",
      " 37%|███▋      | 448/1201 [02:00<02:46,  4.53it/s]"
     ]
    },
    {
     "name": "stdout",
     "output_type": "stream",
     "text": [
      "Image processing time: 0.06194448471069336 sec\n",
      "update******\n"
     ]
    },
    {
     "name": "stderr",
     "output_type": "stream",
     "text": [
      "\r",
      " 37%|███▋      | 449/1201 [02:00<02:47,  4.50it/s]"
     ]
    },
    {
     "name": "stdout",
     "output_type": "stream",
     "text": [
      "Image processing time: 0.06855607032775879 sec\n",
      "update******\n"
     ]
    },
    {
     "name": "stderr",
     "output_type": "stream",
     "text": [
      "\r",
      " 37%|███▋      | 450/1201 [02:00<02:43,  4.59it/s]"
     ]
    },
    {
     "name": "stdout",
     "output_type": "stream",
     "text": [
      "Image processing time: 0.05338430404663086 sec\n",
      "update******\n"
     ]
    },
    {
     "name": "stderr",
     "output_type": "stream",
     "text": [
      "\r",
      " 38%|███▊      | 451/1201 [02:01<02:48,  4.44it/s]"
     ]
    },
    {
     "name": "stdout",
     "output_type": "stream",
     "text": [
      "Image processing time: 0.08537411689758301 sec\n",
      "update******\n"
     ]
    },
    {
     "name": "stderr",
     "output_type": "stream",
     "text": [
      "\r",
      " 38%|███▊      | 452/1201 [02:01<02:51,  4.36it/s]"
     ]
    },
    {
     "name": "stdout",
     "output_type": "stream",
     "text": [
      "Image processing time: 0.06261420249938965 sec\n",
      "update******\n"
     ]
    },
    {
     "name": "stderr",
     "output_type": "stream",
     "text": [
      "\r",
      " 38%|███▊      | 453/1201 [02:01<02:53,  4.32it/s]"
     ]
    },
    {
     "name": "stdout",
     "output_type": "stream",
     "text": [
      "Image processing time: 0.07974720001220703 sec\n",
      "update******\n"
     ]
    },
    {
     "name": "stderr",
     "output_type": "stream",
     "text": [
      "\r",
      " 38%|███▊      | 454/1201 [02:01<02:51,  4.35it/s]"
     ]
    },
    {
     "name": "stdout",
     "output_type": "stream",
     "text": [
      "Image processing time: 0.08060908317565918 sec\n",
      "update******\n"
     ]
    },
    {
     "name": "stderr",
     "output_type": "stream",
     "text": [
      "\r",
      " 38%|███▊      | 455/1201 [02:01<02:47,  4.45it/s]"
     ]
    },
    {
     "name": "stdout",
     "output_type": "stream",
     "text": [
      "Image processing time: 0.06183600425720215 sec\n",
      "update******\n",
      "Image processing time: 0.05355978012084961 sec"
     ]
    },
    {
     "name": "stderr",
     "output_type": "stream",
     "text": [
      "\r",
      " 38%|███▊      | 456/1201 [02:02<02:39,  4.67it/s]"
     ]
    },
    {
     "name": "stdout",
     "output_type": "stream",
     "text": [
      "\n",
      "update******\n",
      "Image processing time: 0.060669660568237305 sec\n",
      "update******"
     ]
    },
    {
     "name": "stderr",
     "output_type": "stream",
     "text": [
      " 38%|███▊      | 458/1201 [02:02<02:50,  4.35it/s]"
     ]
    },
    {
     "name": "stdout",
     "output_type": "stream",
     "text": [
      "\n",
      "Image processing time: 0.06475186347961426 sec\n",
      "update******\n"
     ]
    },
    {
     "name": "stderr",
     "output_type": "stream",
     "text": [
      "\r",
      " 38%|███▊      | 459/1201 [02:02<02:54,  4.24it/s]"
     ]
    },
    {
     "name": "stdout",
     "output_type": "stream",
     "text": [
      "Image processing time: 0.10101103782653809 sec\n",
      "update******\n"
     ]
    },
    {
     "name": "stderr",
     "output_type": "stream",
     "text": [
      "\r",
      " 38%|███▊      | 460/1201 [02:03<02:51,  4.32it/s]"
     ]
    },
    {
     "name": "stdout",
     "output_type": "stream",
     "text": [
      "Image processing time: 0.07311439514160156 sec\n",
      "update******\n"
     ]
    },
    {
     "name": "stderr",
     "output_type": "stream",
     "text": [
      "\r",
      " 38%|███▊      | 461/1201 [02:03<02:55,  4.23it/s]"
     ]
    },
    {
     "name": "stdout",
     "output_type": "stream",
     "text": [
      "Image processing time: 0.09003305435180664 sec\n",
      "update******\n"
     ]
    },
    {
     "name": "stderr",
     "output_type": "stream",
     "text": [
      "\r",
      " 38%|███▊      | 462/1201 [02:03<03:01,  4.07it/s]"
     ]
    },
    {
     "name": "stdout",
     "output_type": "stream",
     "text": [
      "Image processing time: 0.07530355453491211 sec\n",
      "update******\n"
     ]
    },
    {
     "name": "stderr",
     "output_type": "stream",
     "text": [
      "\r",
      " 39%|███▊      | 463/1201 [02:03<02:53,  4.25it/s]"
     ]
    },
    {
     "name": "stdout",
     "output_type": "stream",
     "text": [
      "Image processing time: 0.06912755966186523 sec\n",
      "update******\n"
     ]
    },
    {
     "name": "stderr",
     "output_type": "stream",
     "text": [
      "\r",
      " 39%|███▊      | 464/1201 [02:04<02:42,  4.55it/s]"
     ]
    },
    {
     "name": "stdout",
     "output_type": "stream",
     "text": [
      "Image processing time: 0.06993579864501953 sec\n",
      "update******\n",
      "Image processing time: 0.06172895431518555 sec\n"
     ]
    },
    {
     "name": "stderr",
     "output_type": "stream",
     "text": [
      " 39%|███▉      | 466/1201 [02:04<02:22,  5.17it/s]"
     ]
    },
    {
     "name": "stdout",
     "output_type": "stream",
     "text": [
      "update******\n",
      "Image processing time: 0.054354190826416016 sec\n",
      "update******\n"
     ]
    },
    {
     "name": "stderr",
     "output_type": "stream",
     "text": [
      "\r",
      " 39%|███▉      | 467/1201 [02:04<02:16,  5.36it/s]"
     ]
    },
    {
     "name": "stdout",
     "output_type": "stream",
     "text": [
      "Image processing time: 0.05691337585449219 sec\n",
      "update******\n",
      "Image processing time: 0.06078314781188965 sec\n"
     ]
    },
    {
     "name": "stderr",
     "output_type": "stream",
     "text": [
      "\r",
      " 39%|███▉      | 468/1201 [02:04<02:21,  5.18it/s]"
     ]
    },
    {
     "name": "stdout",
     "output_type": "stream",
     "text": [
      "update******\n",
      "Image processing time: 0.08069682121276855 sec\n"
     ]
    },
    {
     "name": "stderr",
     "output_type": "stream",
     "text": [
      "\r",
      " 39%|███▉      | 469/1201 [02:04<02:27,  4.98it/s]"
     ]
    },
    {
     "name": "stdout",
     "output_type": "stream",
     "text": [
      "update******\n",
      "Image processing time: 0.10574889183044434 sec\n"
     ]
    },
    {
     "name": "stderr",
     "output_type": "stream",
     "text": [
      "\r",
      " 39%|███▉      | 470/1201 [02:05<02:35,  4.71it/s]"
     ]
    },
    {
     "name": "stdout",
     "output_type": "stream",
     "text": [
      "update******\n",
      "Image processing time: 0.05812239646911621 sec\n"
     ]
    },
    {
     "name": "stderr",
     "output_type": "stream",
     "text": [
      " 39%|███▉      | 472/1201 [02:05<02:38,  4.60it/s]"
     ]
    },
    {
     "name": "stdout",
     "output_type": "stream",
     "text": [
      "Image processing time: 0.06286263465881348 sec\n",
      "update******\n",
      "Image processing time: 0.05511116981506348 sec\n"
     ]
    },
    {
     "name": "stderr",
     "output_type": "stream",
     "text": [
      "\r",
      " 39%|███▉      | 473/1201 [02:05<02:32,  4.79it/s]"
     ]
    },
    {
     "name": "stdout",
     "output_type": "stream",
     "text": [
      "update******\n",
      "Image processing time: 0.07427978515625 sec\n",
      "update******\n"
     ]
    },
    {
     "name": "stderr",
     "output_type": "stream",
     "text": [
      " 40%|███▉      | 475/1201 [02:06<02:42,  4.46it/s]"
     ]
    },
    {
     "name": "stdout",
     "output_type": "stream",
     "text": [
      "Image processing time: 0.06283974647521973 sec\n",
      "update******\n"
     ]
    },
    {
     "name": "stderr",
     "output_type": "stream",
     "text": [
      "\r",
      " 40%|███▉      | 476/1201 [02:06<02:54,  4.16it/s]"
     ]
    },
    {
     "name": "stdout",
     "output_type": "stream",
     "text": [
      "Image processing time: 0.08680939674377441 sec\n",
      "update******\n"
     ]
    },
    {
     "name": "stderr",
     "output_type": "stream",
     "text": [
      "\r",
      " 40%|███▉      | 477/1201 [02:06<02:47,  4.31it/s]"
     ]
    },
    {
     "name": "stdout",
     "output_type": "stream",
     "text": [
      "Image processing time: 0.051254987716674805 sec\n",
      "update******\n",
      "Image processing time: 0.0871734619140625 sec\n",
      "update******\n"
     ]
    },
    {
     "name": "stderr",
     "output_type": "stream",
     "text": [
      " 40%|███▉      | 479/1201 [02:07<03:10,  3.79it/s]"
     ]
    },
    {
     "name": "stdout",
     "output_type": "stream",
     "text": [
      "Image processing time: 0.05492806434631348 sec\n",
      "update******\n",
      "Image processing time: 0.06280970573425293 sec\n",
      "update******\n"
     ]
    },
    {
     "name": "stderr",
     "output_type": "stream",
     "text": [
      "\r",
      " 40%|███▉      | 480/1201 [02:07<03:12,  3.75it/s]"
     ]
    },
    {
     "name": "stdout",
     "output_type": "stream",
     "text": [
      "Image processing time: 0.062325477600097656 sec\n",
      "update******\n"
     ]
    },
    {
     "name": "stderr",
     "output_type": "stream",
     "text": [
      "\r",
      " 40%|████      | 481/1201 [02:07<03:12,  3.75it/s]"
     ]
    },
    {
     "name": "stdout",
     "output_type": "stream",
     "text": [
      "Image processing time: 0.06819701194763184 sec\n",
      "update******\n"
     ]
    },
    {
     "name": "stderr",
     "output_type": "stream",
     "text": [
      "\r",
      " 40%|████      | 482/1201 [02:08<03:14,  3.69it/s]"
     ]
    },
    {
     "name": "stdout",
     "output_type": "stream",
     "text": [
      "Image processing time: 0.05084538459777832 sec\n",
      "update******\n"
     ]
    },
    {
     "name": "stderr",
     "output_type": "stream",
     "text": [
      "\r",
      " 40%|████      | 483/1201 [02:08<03:12,  3.73it/s]"
     ]
    },
    {
     "name": "stdout",
     "output_type": "stream",
     "text": [
      "Image processing time: 0.05661463737487793 sec\n",
      "update******\n"
     ]
    },
    {
     "name": "stderr",
     "output_type": "stream",
     "text": [
      "\r",
      " 40%|████      | 484/1201 [02:08<03:11,  3.74it/s]"
     ]
    },
    {
     "name": "stdout",
     "output_type": "stream",
     "text": [
      "Image processing time: 0.055832862854003906 sec\n",
      "update******\n"
     ]
    },
    {
     "name": "stderr",
     "output_type": "stream",
     "text": [
      " 40%|████      | 486/1201 [02:09<03:08,  3.79it/s]"
     ]
    },
    {
     "name": "stdout",
     "output_type": "stream",
     "text": [
      "Image processing time: 0.05524730682373047 sec\n",
      "update******\n",
      "Image processing time: 0.0625143051147461 sec\n",
      "update******\n"
     ]
    },
    {
     "name": "stderr",
     "output_type": "stream",
     "text": [
      " 41%|████      | 488/1201 [02:09<03:13,  3.69it/s]"
     ]
    },
    {
     "name": "stdout",
     "output_type": "stream",
     "text": [
      "Image processing time: 0.06578397750854492 sec\n",
      "update******\n",
      "Image processing time: 0.10406112670898438 sec\n",
      "update******\n"
     ]
    },
    {
     "name": "stderr",
     "output_type": "stream",
     "text": [
      " 41%|████      | 490/1201 [02:10<03:16,  3.63it/s]"
     ]
    },
    {
     "name": "stdout",
     "output_type": "stream",
     "text": [
      "Image processing time: 0.05548238754272461 sec\n",
      "update******\n"
     ]
    },
    {
     "name": "stderr",
     "output_type": "stream",
     "text": [
      "\r",
      " 41%|████      | 491/1201 [02:10<03:11,  3.70it/s]"
     ]
    },
    {
     "name": "stdout",
     "output_type": "stream",
     "text": [
      "Image processing time: 0.05291628837585449 sec\n",
      "update******\n"
     ]
    },
    {
     "name": "stderr",
     "output_type": "stream",
     "text": [
      "\r",
      " 41%|████      | 492/1201 [02:10<03:12,  3.68it/s]"
     ]
    },
    {
     "name": "stdout",
     "output_type": "stream",
     "text": [
      "Image processing time: 0.06574153900146484 sec\n",
      "update******\n",
      "Image processing time: 0.05720353126525879 sec\n",
      "update******\n"
     ]
    },
    {
     "name": "stderr",
     "output_type": "stream",
     "text": [
      " 41%|████      | 494/1201 [02:11<03:13,  3.65it/s]"
     ]
    },
    {
     "name": "stdout",
     "output_type": "stream",
     "text": [
      "Image processing time: 0.058264732360839844 sec\n",
      "update******\n"
     ]
    },
    {
     "name": "stderr",
     "output_type": "stream",
     "text": [
      "\r",
      " 41%|████      | 495/1201 [02:11<03:01,  3.88it/s]"
     ]
    },
    {
     "name": "stdout",
     "output_type": "stream",
     "text": [
      "Image processing time: 0.0685567855834961 sec\n",
      "update******\n",
      "Image processing time: 0.06772422790527344 sec\n",
      "update******\n"
     ]
    },
    {
     "name": "stderr",
     "output_type": "stream",
     "text": [
      "\r",
      " 41%|████▏     | 496/1201 [02:12<03:14,  3.62it/s]"
     ]
    },
    {
     "name": "stdout",
     "output_type": "stream",
     "text": [
      "Image processing time: 0.08535480499267578 sec\n",
      "update******\n"
     ]
    },
    {
     "name": "stderr",
     "output_type": "stream",
     "text": [
      "\r",
      " 41%|████▏     | 497/1201 [02:12<03:27,  3.39it/s]"
     ]
    },
    {
     "name": "stdout",
     "output_type": "stream",
     "text": [
      "Image processing time: 0.06830453872680664 sec\n",
      "update******\n"
     ]
    },
    {
     "name": "stderr",
     "output_type": "stream",
     "text": [
      "\r",
      " 41%|████▏     | 498/1201 [02:12<03:27,  3.39it/s]"
     ]
    },
    {
     "name": "stdout",
     "output_type": "stream",
     "text": [
      "Image processing time: 0.06086015701293945 sec\n",
      "update******\n"
     ]
    },
    {
     "name": "stderr",
     "output_type": "stream",
     "text": [
      "\r",
      " 42%|████▏     | 499/1201 [02:13<03:34,  3.27it/s]"
     ]
    },
    {
     "name": "stdout",
     "output_type": "stream",
     "text": [
      "Image processing time: 0.08497238159179688 sec\n",
      "update******\n"
     ]
    },
    {
     "name": "stderr",
     "output_type": "stream",
     "text": [
      "\r",
      " 42%|████▏     | 500/1201 [02:13<03:39,  3.20it/s]"
     ]
    },
    {
     "name": "stdout",
     "output_type": "stream",
     "text": [
      "Image processing time: 0.06704497337341309 sec\n",
      "update******\n"
     ]
    },
    {
     "name": "stderr",
     "output_type": "stream",
     "text": [
      "\r",
      " 42%|████▏     | 501/1201 [02:13<03:54,  2.98it/s]"
     ]
    },
    {
     "name": "stdout",
     "output_type": "stream",
     "text": [
      "Image processing time: 0.07666301727294922 sec\n",
      "update******\n"
     ]
    },
    {
     "name": "stderr",
     "output_type": "stream",
     "text": [
      "\r",
      " 42%|████▏     | 502/1201 [02:14<03:48,  3.05it/s]"
     ]
    },
    {
     "name": "stdout",
     "output_type": "stream",
     "text": [
      "Image processing time: 0.06641745567321777 sec\n",
      "update******\n"
     ]
    },
    {
     "name": "stderr",
     "output_type": "stream",
     "text": [
      "\r",
      " 42%|████▏     | 503/1201 [02:14<03:49,  3.04it/s]"
     ]
    },
    {
     "name": "stdout",
     "output_type": "stream",
     "text": [
      "Image processing time: 0.07831645011901855 sec\n",
      "update******\n"
     ]
    },
    {
     "name": "stderr",
     "output_type": "stream",
     "text": [
      "\r",
      " 42%|████▏     | 504/1201 [02:14<03:52,  3.00it/s]"
     ]
    },
    {
     "name": "stdout",
     "output_type": "stream",
     "text": [
      "Image processing time: 0.06404876708984375 sec\n",
      "update******\n"
     ]
    },
    {
     "name": "stderr",
     "output_type": "stream",
     "text": [
      "\r",
      " 42%|████▏     | 505/1201 [02:15<03:47,  3.06it/s]"
     ]
    },
    {
     "name": "stdout",
     "output_type": "stream",
     "text": [
      "Image processing time: 0.07809162139892578 sec\n",
      "update******\n"
     ]
    },
    {
     "name": "stderr",
     "output_type": "stream",
     "text": [
      "\r",
      " 42%|████▏     | 506/1201 [02:15<03:51,  3.00it/s]"
     ]
    },
    {
     "name": "stdout",
     "output_type": "stream",
     "text": [
      "Image processing time: 0.06539583206176758 sec\n",
      "update******\n"
     ]
    },
    {
     "name": "stderr",
     "output_type": "stream",
     "text": [
      " 42%|████▏     | 508/1201 [02:15<03:35,  3.22it/s]"
     ]
    },
    {
     "name": "stdout",
     "output_type": "stream",
     "text": [
      "Image processing time: 0.05289459228515625 sec\n",
      "update******\n",
      "Image processing time: 0.07876992225646973 sec\n",
      "update******\n"
     ]
    },
    {
     "name": "stderr",
     "output_type": "stream",
     "text": [
      "\r",
      " 42%|████▏     | 509/1201 [02:16<03:34,  3.22it/s]"
     ]
    },
    {
     "name": "stdout",
     "output_type": "stream",
     "text": [
      "Image processing time: 0.061586856842041016 sec\n",
      "update******\n"
     ]
    },
    {
     "name": "stderr",
     "output_type": "stream",
     "text": [
      "\r",
      " 42%|████▏     | 510/1201 [02:16<03:30,  3.28it/s]"
     ]
    },
    {
     "name": "stdout",
     "output_type": "stream",
     "text": [
      "Image processing time: 0.0602719783782959 sec\n",
      "update******\n"
     ]
    },
    {
     "name": "stderr",
     "output_type": "stream",
     "text": [
      "\r",
      " 43%|████▎     | 511/1201 [02:16<03:35,  3.20it/s]"
     ]
    },
    {
     "name": "stdout",
     "output_type": "stream",
     "text": [
      "Image processing time: 0.054819345474243164 sec\n",
      "update******\n"
     ]
    },
    {
     "name": "stderr",
     "output_type": "stream",
     "text": [
      "\r",
      " 43%|████▎     | 512/1201 [02:17<03:33,  3.23it/s]"
     ]
    },
    {
     "name": "stdout",
     "output_type": "stream",
     "text": [
      "Image processing time: 0.058487892150878906 sec\n",
      "update******\n"
     ]
    },
    {
     "name": "stderr",
     "output_type": "stream",
     "text": [
      "\r",
      " 43%|████▎     | 513/1201 [02:17<03:35,  3.20it/s]"
     ]
    },
    {
     "name": "stdout",
     "output_type": "stream",
     "text": [
      "Image processing time: 0.05591845512390137 sec\n",
      "update******\n"
     ]
    },
    {
     "name": "stderr",
     "output_type": "stream",
     "text": [
      " 43%|████▎     | 515/1201 [02:18<03:17,  3.47it/s]"
     ]
    },
    {
     "name": "stdout",
     "output_type": "stream",
     "text": [
      "Image processing time: 0.06435394287109375 sec\n",
      "update******\n",
      "Image processing time: 0.048255205154418945 sec\n",
      "update******\n"
     ]
    },
    {
     "name": "stderr",
     "output_type": "stream",
     "text": [
      "\r",
      " 43%|████▎     | 516/1201 [02:18<03:25,  3.33it/s]"
     ]
    },
    {
     "name": "stdout",
     "output_type": "stream",
     "text": [
      "Image processing time: 0.0678548812866211 sec\n",
      "update******\n"
     ]
    },
    {
     "name": "stderr",
     "output_type": "stream",
     "text": [
      " 43%|████▎     | 518/1201 [02:18<03:13,  3.53it/s]"
     ]
    },
    {
     "name": "stdout",
     "output_type": "stream",
     "text": [
      "Image processing time: 0.05867195129394531 sec\n",
      "update******\n",
      "Image processing time: 0.06358194351196289 sec\n",
      "update******\n"
     ]
    },
    {
     "name": "stderr",
     "output_type": "stream",
     "text": [
      "\r",
      " 43%|████▎     | 519/1201 [02:19<03:14,  3.50it/s]"
     ]
    },
    {
     "name": "stdout",
     "output_type": "stream",
     "text": [
      "Image processing time: 0.0722658634185791 sec\n",
      "update******\n"
     ]
    },
    {
     "name": "stderr",
     "output_type": "stream",
     "text": [
      "\r",
      " 43%|████▎     | 520/1201 [02:19<03:18,  3.43it/s]"
     ]
    },
    {
     "name": "stdout",
     "output_type": "stream",
     "text": [
      "Image processing time: 0.06299400329589844 sec\n",
      "update******\n"
     ]
    },
    {
     "name": "stderr",
     "output_type": "stream",
     "text": [
      "\r",
      " 43%|████▎     | 521/1201 [02:19<03:12,  3.53it/s]"
     ]
    },
    {
     "name": "stdout",
     "output_type": "stream",
     "text": [
      "Image processing time: 0.06313228607177734 sec\n",
      "update******\n"
     ]
    },
    {
     "name": "stderr",
     "output_type": "stream",
     "text": [
      "\r",
      " 43%|████▎     | 522/1201 [02:20<03:14,  3.50it/s]"
     ]
    },
    {
     "name": "stdout",
     "output_type": "stream",
     "text": [
      "Image processing time: 0.08185672760009766 sec\n",
      "update******\n"
     ]
    },
    {
     "name": "stderr",
     "output_type": "stream",
     "text": [
      "\r",
      " 44%|████▎     | 523/1201 [02:20<03:17,  3.44it/s]"
     ]
    },
    {
     "name": "stdout",
     "output_type": "stream",
     "text": [
      "Image processing time: 0.0519406795501709 sec\n",
      "update******\n"
     ]
    },
    {
     "name": "stderr",
     "output_type": "stream",
     "text": [
      " 44%|████▎     | 525/1201 [02:20<03:05,  3.65it/s]"
     ]
    },
    {
     "name": "stdout",
     "output_type": "stream",
     "text": [
      "Image processing time: 0.05927562713623047 sec\n",
      "update******\n",
      "Image processing time: 0.08328127861022949 sec\n",
      "update******\n"
     ]
    },
    {
     "name": "stderr",
     "output_type": "stream",
     "text": [
      "\r",
      " 44%|████▍     | 526/1201 [02:21<03:11,  3.52it/s]"
     ]
    },
    {
     "name": "stdout",
     "output_type": "stream",
     "text": [
      "Image processing time: 0.05622601509094238 sec\n",
      "update******\n"
     ]
    },
    {
     "name": "stderr",
     "output_type": "stream",
     "text": [
      "\r",
      " 44%|████▍     | 527/1201 [02:21<03:10,  3.53it/s]"
     ]
    },
    {
     "name": "stdout",
     "output_type": "stream",
     "text": [
      "Image processing time: 0.07248044013977051 sec\n",
      "update******\n"
     ]
    },
    {
     "name": "stderr",
     "output_type": "stream",
     "text": [
      " 44%|████▍     | 529/1201 [02:22<03:01,  3.70it/s]"
     ]
    },
    {
     "name": "stdout",
     "output_type": "stream",
     "text": [
      "Image processing time: 0.06303262710571289 sec\n",
      "update******\n",
      "Image processing time: 0.08764171600341797 sec\n",
      "update******\n"
     ]
    },
    {
     "name": "stderr",
     "output_type": "stream",
     "text": [
      "\r",
      " 44%|████▍     | 530/1201 [02:22<03:07,  3.58it/s]"
     ]
    },
    {
     "name": "stdout",
     "output_type": "stream",
     "text": [
      "Image processing time: 0.05988740921020508 sec\n",
      "update******\n"
     ]
    },
    {
     "name": "stderr",
     "output_type": "stream",
     "text": [
      "\r",
      " 44%|████▍     | 531/1201 [02:22<03:11,  3.49it/s]"
     ]
    },
    {
     "name": "stdout",
     "output_type": "stream",
     "text": [
      "Image processing time: 0.06352090835571289 sec\n",
      "update******\n"
     ]
    },
    {
     "name": "stderr",
     "output_type": "stream",
     "text": [
      "\r",
      " 44%|████▍     | 532/1201 [02:22<03:18,  3.37it/s]"
     ]
    },
    {
     "name": "stdout",
     "output_type": "stream",
     "text": [
      "Image processing time: 0.06278562545776367 sec\n",
      "update******\n"
     ]
    },
    {
     "name": "stderr",
     "output_type": "stream",
     "text": [
      " 44%|████▍     | 534/1201 [02:23<03:06,  3.58it/s]"
     ]
    },
    {
     "name": "stdout",
     "output_type": "stream",
     "text": [
      "Image processing time: 0.061075448989868164 sec\n",
      "update******\n",
      "Image processing time: 0.09417271614074707 sec\n",
      "update******\n"
     ]
    },
    {
     "name": "stderr",
     "output_type": "stream",
     "text": [
      "\r",
      " 45%|████▍     | 535/1201 [02:23<03:18,  3.36it/s]"
     ]
    },
    {
     "name": "stdout",
     "output_type": "stream",
     "text": [
      "Image processing time: 0.0674433708190918 sec\n",
      "update******\n"
     ]
    },
    {
     "name": "stderr",
     "output_type": "stream",
     "text": [
      "\r",
      " 45%|████▍     | 536/1201 [02:24<03:22,  3.28it/s]"
     ]
    },
    {
     "name": "stdout",
     "output_type": "stream",
     "text": [
      "Image processing time: 0.07893180847167969 sec\n",
      "update******\n"
     ]
    },
    {
     "name": "stderr",
     "output_type": "stream",
     "text": [
      "\r",
      " 45%|████▍     | 537/1201 [02:24<03:20,  3.31it/s]"
     ]
    },
    {
     "name": "stdout",
     "output_type": "stream",
     "text": [
      "Image processing time: 0.0633385181427002 sec\n",
      "update******\n"
     ]
    },
    {
     "name": "stderr",
     "output_type": "stream",
     "text": [
      "\r",
      " 45%|████▍     | 538/1201 [02:24<03:23,  3.27it/s]"
     ]
    },
    {
     "name": "stdout",
     "output_type": "stream",
     "text": [
      "Image processing time: 0.08232760429382324 sec\n",
      "update******\n"
     ]
    },
    {
     "name": "stderr",
     "output_type": "stream",
     "text": [
      "\r",
      " 45%|████▍     | 539/1201 [02:25<03:25,  3.22it/s]"
     ]
    },
    {
     "name": "stdout",
     "output_type": "stream",
     "text": [
      "Image processing time: 0.057169437408447266 sec\n",
      "update******\n"
     ]
    },
    {
     "name": "stderr",
     "output_type": "stream",
     "text": [
      "\r",
      " 45%|████▍     | 540/1201 [02:25<03:22,  3.27it/s]"
     ]
    },
    {
     "name": "stdout",
     "output_type": "stream",
     "text": [
      "Image processing time: 0.07371687889099121 sec\n",
      "update******\n"
     ]
    },
    {
     "name": "stderr",
     "output_type": "stream",
     "text": [
      "\r",
      " 45%|████▌     | 541/1201 [02:25<03:20,  3.29it/s]"
     ]
    },
    {
     "name": "stdout",
     "output_type": "stream",
     "text": [
      "Image processing time: 0.06253480911254883 sec\n",
      "update******\n"
     ]
    },
    {
     "name": "stderr",
     "output_type": "stream",
     "text": [
      "\r",
      " 45%|████▌     | 542/1201 [02:25<03:16,  3.35it/s]"
     ]
    },
    {
     "name": "stdout",
     "output_type": "stream",
     "text": [
      "Image processing time: 0.07744979858398438 sec\n",
      "update******\n"
     ]
    },
    {
     "name": "stderr",
     "output_type": "stream",
     "text": [
      "\r",
      " 45%|████▌     | 543/1201 [02:26<03:12,  3.42it/s]"
     ]
    },
    {
     "name": "stdout",
     "output_type": "stream",
     "text": [
      "Image processing time: 0.06151127815246582 sec\n",
      "update******\n"
     ]
    },
    {
     "name": "stderr",
     "output_type": "stream",
     "text": [
      "\r",
      " 45%|████▌     | 544/1201 [02:26<03:09,  3.46it/s]"
     ]
    },
    {
     "name": "stdout",
     "output_type": "stream",
     "text": [
      "Image processing time: 0.06127309799194336 sec\n",
      "update******\n"
     ]
    },
    {
     "name": "stderr",
     "output_type": "stream",
     "text": [
      " 45%|████▌     | 546/1201 [02:27<03:05,  3.53it/s]"
     ]
    },
    {
     "name": "stdout",
     "output_type": "stream",
     "text": [
      "Image processing time: 0.05808901786804199 sec\n",
      "update******\n"
     ]
    },
    {
     "name": "stderr",
     "output_type": "stream",
     "text": [
      "\r",
      " 46%|████▌     | 547/1201 [02:27<02:56,  3.71it/s]"
     ]
    },
    {
     "name": "stdout",
     "output_type": "stream",
     "text": [
      "Image processing time: 0.06480193138122559 sec\n",
      "update******\n",
      "Image processing time: 0.06049609184265137 sec\n",
      "update******\n"
     ]
    },
    {
     "name": "stderr",
     "output_type": "stream",
     "text": [
      "\r",
      " 46%|████▌     | 548/1201 [02:27<03:01,  3.60it/s]"
     ]
    },
    {
     "name": "stdout",
     "output_type": "stream",
     "text": [
      "Image processing time: 0.0555880069732666 sec\n",
      "update******\n"
     ]
    },
    {
     "name": "stderr",
     "output_type": "stream",
     "text": [
      " 46%|████▌     | 550/1201 [02:28<02:59,  3.62it/s]"
     ]
    },
    {
     "name": "stdout",
     "output_type": "stream",
     "text": [
      "Image processing time: 0.04931521415710449 sec\n",
      "update******\n",
      "Image processing time: 0.06807518005371094 sec\n",
      "update******\n"
     ]
    },
    {
     "name": "stderr",
     "output_type": "stream",
     "text": [
      " 46%|████▌     | 552/1201 [02:28<03:03,  3.53it/s]"
     ]
    },
    {
     "name": "stdout",
     "output_type": "stream",
     "text": [
      "Image processing time: 0.08429980278015137 sec\n",
      "update******\n"
     ]
    },
    {
     "name": "stderr",
     "output_type": "stream",
     "text": [
      "\r",
      " 46%|████▌     | 553/1201 [02:29<02:57,  3.66it/s]"
     ]
    },
    {
     "name": "stdout",
     "output_type": "stream",
     "text": [
      "Image processing time: 0.05601048469543457 sec\n",
      "update******\n",
      "Image processing time: 0.05426335334777832 sec\n",
      "update******\n"
     ]
    },
    {
     "name": "stderr",
     "output_type": "stream",
     "text": [
      "\r",
      " 46%|████▌     | 554/1201 [02:29<02:58,  3.63it/s]"
     ]
    },
    {
     "name": "stdout",
     "output_type": "stream",
     "text": [
      "Image processing time: 0.0561985969543457 sec\n",
      "update******\n"
     ]
    },
    {
     "name": "stderr",
     "output_type": "stream",
     "text": [
      " 46%|████▋     | 556/1201 [02:29<03:01,  3.56it/s]"
     ]
    },
    {
     "name": "stdout",
     "output_type": "stream",
     "text": [
      "Image processing time: 0.08495044708251953 sec\n",
      "update******\n",
      "Image processing time: 0.0805213451385498 sec\n",
      "update******\n"
     ]
    },
    {
     "name": "stderr",
     "output_type": "stream",
     "text": [
      " 46%|████▋     | 558/1201 [02:30<02:56,  3.64it/s]"
     ]
    },
    {
     "name": "stdout",
     "output_type": "stream",
     "text": [
      "Image processing time: 0.07327651977539062 sec\n",
      "update******\n"
     ]
    },
    {
     "name": "stderr",
     "output_type": "stream",
     "text": [
      "\r",
      " 47%|████▋     | 559/1201 [02:30<02:54,  3.69it/s]"
     ]
    },
    {
     "name": "stdout",
     "output_type": "stream",
     "text": [
      "Image processing time: 0.06143832206726074 sec\n",
      "update******\n",
      "Image processing time: 0.0718531608581543 sec\n",
      "update******\n"
     ]
    },
    {
     "name": "stderr",
     "output_type": "stream",
     "text": [
      " 47%|████▋     | 561/1201 [02:31<02:48,  3.81it/s]"
     ]
    },
    {
     "name": "stdout",
     "output_type": "stream",
     "text": [
      "Image processing time: 0.06139874458312988 sec\n",
      "update******\n"
     ]
    },
    {
     "name": "stderr",
     "output_type": "stream",
     "text": [
      "\r",
      " 47%|████▋     | 562/1201 [02:31<02:41,  3.95it/s]"
     ]
    },
    {
     "name": "stdout",
     "output_type": "stream",
     "text": [
      "Image processing time: 0.0588221549987793 sec\n",
      "update******\n"
     ]
    },
    {
     "name": "stderr",
     "output_type": "stream",
     "text": [
      "\r",
      " 47%|████▋     | 563/1201 [02:31<02:42,  3.92it/s]"
     ]
    },
    {
     "name": "stdout",
     "output_type": "stream",
     "text": [
      "Image processing time: 0.07603287696838379 sec\n",
      "update******\n",
      "Image processing time: 0.07991743087768555 sec\n",
      "update******\n"
     ]
    },
    {
     "name": "stderr",
     "output_type": "stream",
     "text": [
      " 47%|████▋     | 565/1201 [02:32<02:50,  3.74it/s]"
     ]
    },
    {
     "name": "stdout",
     "output_type": "stream",
     "text": [
      "Image processing time: 0.06506872177124023 sec\n",
      "update******\n"
     ]
    },
    {
     "name": "stderr",
     "output_type": "stream",
     "text": [
      "\r",
      " 47%|████▋     | 566/1201 [02:32<02:45,  3.84it/s]"
     ]
    },
    {
     "name": "stdout",
     "output_type": "stream",
     "text": [
      "Image processing time: 0.05637478828430176 sec\n",
      "update******\n"
     ]
    },
    {
     "name": "stderr",
     "output_type": "stream",
     "text": [
      "\r",
      " 47%|████▋     | 567/1201 [02:32<02:43,  3.89it/s]"
     ]
    },
    {
     "name": "stdout",
     "output_type": "stream",
     "text": [
      "Image processing time: 0.06247425079345703 sec\n",
      "update******\n",
      "Image processing time: 0.07742714881896973 sec\n",
      "update******\n"
     ]
    },
    {
     "name": "stderr",
     "output_type": "stream",
     "text": [
      " 47%|████▋     | 569/1201 [02:33<02:49,  3.74it/s]"
     ]
    },
    {
     "name": "stdout",
     "output_type": "stream",
     "text": [
      "Image processing time: 0.07292819023132324 sec\n",
      "update******\n"
     ]
    },
    {
     "name": "stderr",
     "output_type": "stream",
     "text": [
      "\r",
      " 47%|████▋     | 570/1201 [02:33<02:45,  3.82it/s]"
     ]
    },
    {
     "name": "stdout",
     "output_type": "stream",
     "text": [
      "Image processing time: 0.05800461769104004 sec\n",
      "update******\n",
      "Image processing time: 0.06694555282592773 sec\n",
      "update******\n"
     ]
    },
    {
     "name": "stderr",
     "output_type": "stream",
     "text": [
      " 48%|████▊     | 572/1201 [02:34<02:49,  3.70it/s]"
     ]
    },
    {
     "name": "stdout",
     "output_type": "stream",
     "text": [
      "Image processing time: 0.07954263687133789 sec\n",
      "update******\n"
     ]
    },
    {
     "name": "stderr",
     "output_type": "stream",
     "text": [
      "\r",
      " 48%|████▊     | 573/1201 [02:34<02:49,  3.70it/s]"
     ]
    },
    {
     "name": "stdout",
     "output_type": "stream",
     "text": [
      "Image processing time: 0.07106256484985352 sec\n",
      "update******\n",
      "Image processing time: 0.05739569664001465 sec\n",
      "update******\n"
     ]
    },
    {
     "name": "stderr",
     "output_type": "stream",
     "text": [
      " 48%|████▊     | 575/1201 [02:34<02:45,  3.79it/s]"
     ]
    },
    {
     "name": "stdout",
     "output_type": "stream",
     "text": [
      "Image processing time: 0.0543825626373291 sec\n",
      "update******\n"
     ]
    },
    {
     "name": "stderr",
     "output_type": "stream",
     "text": [
      "\r",
      " 48%|████▊     | 576/1201 [02:35<02:45,  3.78it/s]"
     ]
    },
    {
     "name": "stdout",
     "output_type": "stream",
     "text": [
      "Image processing time: 0.06455254554748535 sec\n",
      "update******\n"
     ]
    },
    {
     "name": "stderr",
     "output_type": "stream",
     "text": [
      "\r",
      " 48%|████▊     | 577/1201 [02:35<02:42,  3.83it/s]"
     ]
    },
    {
     "name": "stdout",
     "output_type": "stream",
     "text": [
      "Image processing time: 0.059660911560058594 sec\n",
      "update******\n"
     ]
    },
    {
     "name": "stderr",
     "output_type": "stream",
     "text": [
      "\r",
      " 48%|████▊     | 578/1201 [02:35<02:47,  3.72it/s]"
     ]
    },
    {
     "name": "stdout",
     "output_type": "stream",
     "text": [
      "Image processing time: 0.07040524482727051 sec\n",
      "update******\n",
      "Image processing time: 0.07619762420654297 sec\n",
      "update******\n"
     ]
    },
    {
     "name": "stderr",
     "output_type": "stream",
     "text": [
      " 48%|████▊     | 580/1201 [02:36<02:46,  3.73it/s]"
     ]
    },
    {
     "name": "stdout",
     "output_type": "stream",
     "text": [
      "Image processing time: 0.05636405944824219 sec\n",
      "update******\n"
     ]
    },
    {
     "name": "stderr",
     "output_type": "stream",
     "text": [
      "\r",
      " 48%|████▊     | 581/1201 [02:36<02:40,  3.87it/s]"
     ]
    },
    {
     "name": "stdout",
     "output_type": "stream",
     "text": [
      "Image processing time: 0.06561923027038574 sec\n",
      "update******\n",
      "Image processing time: 0.05808234214782715 sec\n",
      "update******\n"
     ]
    },
    {
     "name": "stderr",
     "output_type": "stream",
     "text": [
      " 49%|████▊     | 583/1201 [02:37<02:48,  3.68it/s]"
     ]
    },
    {
     "name": "stdout",
     "output_type": "stream",
     "text": [
      "Image processing time: 0.07244229316711426 sec\n",
      "update******\n",
      "Image processing time: 0.06550240516662598 sec\n",
      "update******\n"
     ]
    },
    {
     "name": "stderr",
     "output_type": "stream",
     "text": [
      "\r",
      " 49%|████▊     | 584/1201 [02:37<02:48,  3.66it/s]"
     ]
    },
    {
     "name": "stdout",
     "output_type": "stream",
     "text": [
      "Image processing time: 0.07265162467956543 sec\n",
      "update******\n"
     ]
    },
    {
     "name": "stderr",
     "output_type": "stream",
     "text": [
      " 49%|████▉     | 586/1201 [02:37<02:52,  3.56it/s]"
     ]
    },
    {
     "name": "stdout",
     "output_type": "stream",
     "text": [
      "Image processing time: 0.06581830978393555 sec\n",
      "update******\n"
     ]
    },
    {
     "name": "stderr",
     "output_type": "stream",
     "text": [
      "\r",
      " 49%|████▉     | 587/1201 [02:38<02:58,  3.44it/s]"
     ]
    },
    {
     "name": "stdout",
     "output_type": "stream",
     "text": [
      "Image processing time: 0.09985899925231934 sec\n",
      "update******\n"
     ]
    },
    {
     "name": "stderr",
     "output_type": "stream",
     "text": [
      "\r",
      " 49%|████▉     | 588/1201 [02:38<02:53,  3.52it/s]"
     ]
    },
    {
     "name": "stdout",
     "output_type": "stream",
     "text": [
      "Image processing time: 0.1014108657836914 sec\n",
      "update******\n",
      "Image processing time: 0.0732276439666748 sec\n",
      "update******\n"
     ]
    },
    {
     "name": "stderr",
     "output_type": "stream",
     "text": [
      "\r",
      " 49%|████▉     | 589/1201 [02:38<02:56,  3.47it/s]"
     ]
    },
    {
     "name": "stdout",
     "output_type": "stream",
     "text": [
      "Image processing time: 0.0930781364440918 sec\n",
      "update******\n"
     ]
    },
    {
     "name": "stderr",
     "output_type": "stream",
     "text": [
      " 49%|████▉     | 591/1201 [02:39<02:53,  3.52it/s]"
     ]
    },
    {
     "name": "stdout",
     "output_type": "stream",
     "text": [
      "Image processing time: 0.07650065422058105 sec\n",
      "update******\n"
     ]
    },
    {
     "name": "stderr",
     "output_type": "stream",
     "text": [
      "\r",
      " 49%|████▉     | 592/1201 [02:39<02:47,  3.63it/s]"
     ]
    },
    {
     "name": "stdout",
     "output_type": "stream",
     "text": [
      "Image processing time: 0.06340169906616211 sec\n",
      "update******\n"
     ]
    },
    {
     "name": "stderr",
     "output_type": "stream",
     "text": [
      "\r",
      " 49%|████▉     | 593/1201 [02:39<02:43,  3.72it/s]"
     ]
    },
    {
     "name": "stdout",
     "output_type": "stream",
     "text": [
      "Image processing time: 0.06306123733520508 sec\n",
      "update******\n",
      "Image processing time: 0.07011842727661133 sec\n",
      "update******\n"
     ]
    },
    {
     "name": "stderr",
     "output_type": "stream",
     "text": [
      " 50%|████▉     | 595/1201 [02:40<02:44,  3.69it/s]"
     ]
    },
    {
     "name": "stdout",
     "output_type": "stream",
     "text": [
      "Image processing time: 0.07007884979248047 sec\n",
      "update******\n"
     ]
    },
    {
     "name": "stderr",
     "output_type": "stream",
     "text": [
      "\r",
      " 50%|████▉     | 596/1201 [02:40<02:41,  3.74it/s]"
     ]
    },
    {
     "name": "stdout",
     "output_type": "stream",
     "text": [
      "Image processing time: 0.06539273262023926 sec\n",
      "update******\n"
     ]
    },
    {
     "name": "stderr",
     "output_type": "stream",
     "text": [
      "\r",
      " 50%|████▉     | 597/1201 [02:40<02:45,  3.64it/s]"
     ]
    },
    {
     "name": "stdout",
     "output_type": "stream",
     "text": [
      "Image processing time: 0.05171990394592285 sec\n",
      "update******\n"
     ]
    },
    {
     "name": "stderr",
     "output_type": "stream",
     "text": [
      "\r",
      " 50%|████▉     | 598/1201 [02:41<02:36,  3.86it/s]"
     ]
    },
    {
     "name": "stdout",
     "output_type": "stream",
     "text": [
      "Image processing time: 0.0677642822265625 sec\n",
      "update******\n"
     ]
    },
    {
     "name": "stderr",
     "output_type": "stream",
     "text": [
      "\r",
      " 50%|████▉     | 599/1201 [02:41<02:28,  4.05it/s]"
     ]
    },
    {
     "name": "stdout",
     "output_type": "stream",
     "text": [
      "Image processing time: 0.07284307479858398 sec\n",
      "update******\n"
     ]
    },
    {
     "name": "stderr",
     "output_type": "stream",
     "text": [
      "\r",
      " 50%|████▉     | 600/1201 [02:41<02:31,  3.96it/s]"
     ]
    },
    {
     "name": "stdout",
     "output_type": "stream",
     "text": [
      "Image processing time: 0.06212210655212402 sec\n",
      "update******\n"
     ]
    },
    {
     "name": "stderr",
     "output_type": "stream",
     "text": [
      "\r",
      " 50%|█████     | 601/1201 [02:41<02:30,  3.98it/s]"
     ]
    },
    {
     "name": "stdout",
     "output_type": "stream",
     "text": [
      "Image processing time: 0.050130605697631836 sec\n",
      "update******\n",
      "Image processing time: 0.06961345672607422 sec\n",
      "update******\n"
     ]
    },
    {
     "name": "stderr",
     "output_type": "stream",
     "text": [
      " 50%|█████     | 603/1201 [02:42<02:36,  3.82it/s]"
     ]
    },
    {
     "name": "stdout",
     "output_type": "stream",
     "text": [
      "Image processing time: 0.05219841003417969 sec\n",
      "update******\n"
     ]
    },
    {
     "name": "stderr",
     "output_type": "stream",
     "text": [
      "\r",
      " 50%|█████     | 604/1201 [02:42<02:33,  3.89it/s]"
     ]
    },
    {
     "name": "stdout",
     "output_type": "stream",
     "text": [
      "Image processing time: 0.050655364990234375 sec\n",
      "update******\n"
     ]
    },
    {
     "name": "stderr",
     "output_type": "stream",
     "text": [
      "\r",
      " 50%|█████     | 605/1201 [02:42<02:25,  4.09it/s]"
     ]
    },
    {
     "name": "stdout",
     "output_type": "stream",
     "text": [
      "Image processing time: 0.05217599868774414 sec\n",
      "update******\n"
     ]
    },
    {
     "name": "stderr",
     "output_type": "stream",
     "text": [
      "\r",
      " 50%|█████     | 606/1201 [02:43<02:26,  4.05it/s]"
     ]
    },
    {
     "name": "stdout",
     "output_type": "stream",
     "text": [
      "Image processing time: 0.058827877044677734 sec\n",
      "update******\n"
     ]
    },
    {
     "name": "stderr",
     "output_type": "stream",
     "text": [
      "\r",
      " 51%|█████     | 607/1201 [02:43<02:27,  4.03it/s]"
     ]
    },
    {
     "name": "stdout",
     "output_type": "stream",
     "text": [
      "Image processing time: 0.07248306274414062 sec\n",
      "update******\n"
     ]
    },
    {
     "name": "stderr",
     "output_type": "stream",
     "text": [
      "\r",
      " 51%|█████     | 608/1201 [02:43<02:26,  4.05it/s]"
     ]
    },
    {
     "name": "stdout",
     "output_type": "stream",
     "text": [
      "Image processing time: 0.05334043502807617 sec\n",
      "update******\n"
     ]
    },
    {
     "name": "stderr",
     "output_type": "stream",
     "text": [
      "\r",
      " 51%|█████     | 609/1201 [02:43<02:30,  3.94it/s]"
     ]
    },
    {
     "name": "stdout",
     "output_type": "stream",
     "text": [
      "Image processing time: 0.06985044479370117 sec\n",
      "update******\n"
     ]
    },
    {
     "name": "stderr",
     "output_type": "stream",
     "text": [
      "\r",
      " 51%|█████     | 610/1201 [02:44<02:33,  3.85it/s]"
     ]
    },
    {
     "name": "stdout",
     "output_type": "stream",
     "text": [
      "Image processing time: 0.060393571853637695 sec\n",
      "update******\n"
     ]
    },
    {
     "name": "stderr",
     "output_type": "stream",
     "text": [
      "\r",
      " 51%|█████     | 611/1201 [02:44<02:30,  3.92it/s]"
     ]
    },
    {
     "name": "stdout",
     "output_type": "stream",
     "text": [
      "Image processing time: 0.053313255310058594 sec\n",
      "update******\n"
     ]
    },
    {
     "name": "stderr",
     "output_type": "stream",
     "text": [
      "\r",
      " 51%|█████     | 612/1201 [02:44<02:22,  4.15it/s]"
     ]
    },
    {
     "name": "stdout",
     "output_type": "stream",
     "text": [
      "Image processing time: 0.07062745094299316 sec\n",
      "update******\n",
      "Image processing time: 0.05528736114501953 sec\n"
     ]
    },
    {
     "name": "stderr",
     "output_type": "stream",
     "text": [
      "\r",
      " 51%|█████     | 613/1201 [02:44<02:18,  4.26it/s]"
     ]
    },
    {
     "name": "stdout",
     "output_type": "stream",
     "text": [
      "update******\n",
      "Image processing time: 0.0581057071685791 sec\n"
     ]
    },
    {
     "name": "stderr",
     "output_type": "stream",
     "text": [
      "\r",
      " 51%|█████     | 614/1201 [02:45<02:24,  4.05it/s]"
     ]
    },
    {
     "name": "stdout",
     "output_type": "stream",
     "text": [
      "update******\n",
      "Image processing time: 0.05841350555419922 sec\n"
     ]
    },
    {
     "name": "stderr",
     "output_type": "stream",
     "text": [
      "\r",
      " 51%|█████     | 615/1201 [02:45<02:30,  3.90it/s]"
     ]
    },
    {
     "name": "stdout",
     "output_type": "stream",
     "text": [
      "update******\n",
      "Image processing time: 0.05500364303588867 sec\n"
     ]
    },
    {
     "name": "stderr",
     "output_type": "stream",
     "text": [
      "\r",
      " 51%|█████▏    | 616/1201 [02:45<02:24,  4.04it/s]"
     ]
    },
    {
     "name": "stdout",
     "output_type": "stream",
     "text": [
      "update******\n",
      "Image processing time: 0.05461406707763672 sec\n"
     ]
    },
    {
     "name": "stderr",
     "output_type": "stream",
     "text": [
      "\r",
      " 51%|█████▏    | 617/1201 [02:45<02:29,  3.90it/s]"
     ]
    },
    {
     "name": "stdout",
     "output_type": "stream",
     "text": [
      "update******\n",
      "Image processing time: 0.0544130802154541 sec\n",
      "update******\n"
     ]
    },
    {
     "name": "stderr",
     "output_type": "stream",
     "text": [
      " 52%|█████▏    | 619/1201 [02:46<02:36,  3.71it/s]"
     ]
    },
    {
     "name": "stdout",
     "output_type": "stream",
     "text": [
      "Image processing time: 0.06714653968811035 sec\n",
      "update******\n"
     ]
    },
    {
     "name": "stderr",
     "output_type": "stream",
     "text": [
      "\r",
      " 52%|█████▏    | 620/1201 [02:46<02:25,  3.99it/s]"
     ]
    },
    {
     "name": "stdout",
     "output_type": "stream",
     "text": [
      "Image processing time: 0.05360889434814453 sec\n",
      "update******\n",
      "Image processing time: 0.06396985054016113 sec\n",
      "update******\n"
     ]
    },
    {
     "name": "stderr",
     "output_type": "stream",
     "text": [
      " 52%|█████▏    | 622/1201 [02:47<02:26,  3.94it/s]"
     ]
    },
    {
     "name": "stdout",
     "output_type": "stream",
     "text": [
      "Image processing time: 0.06776165962219238 sec\n",
      "update******\n"
     ]
    },
    {
     "name": "stderr",
     "output_type": "stream",
     "text": [
      "\r",
      " 52%|█████▏    | 623/1201 [02:47<02:20,  4.11it/s]"
     ]
    },
    {
     "name": "stdout",
     "output_type": "stream",
     "text": [
      "Image processing time: 0.062015533447265625 sec\n",
      "update******\n"
     ]
    },
    {
     "name": "stderr",
     "output_type": "stream",
     "text": [
      "\r",
      " 52%|█████▏    | 624/1201 [02:47<02:15,  4.25it/s]"
     ]
    },
    {
     "name": "stdout",
     "output_type": "stream",
     "text": [
      "Image processing time: 0.06580638885498047 sec\n",
      "update******\n",
      "Image processing time: 0.06386780738830566 sec\n",
      "update******\n"
     ]
    },
    {
     "name": "stderr",
     "output_type": "stream",
     "text": [
      " 52%|█████▏    | 626/1201 [02:48<02:23,  4.00it/s]"
     ]
    },
    {
     "name": "stdout",
     "output_type": "stream",
     "text": [
      "Image processing time: 0.0599360466003418 sec\n",
      "update******\n",
      "Image processing time: 0.07178235054016113 sec\n",
      "update******\n"
     ]
    },
    {
     "name": "stderr",
     "output_type": "stream",
     "text": [
      "\r",
      " 52%|█████▏    | 627/1201 [02:48<02:28,  3.88it/s]"
     ]
    },
    {
     "name": "stdout",
     "output_type": "stream",
     "text": [
      "Image processing time: 0.0706777572631836 sec\n",
      "update******\n"
     ]
    },
    {
     "name": "stderr",
     "output_type": "stream",
     "text": [
      "\r",
      " 52%|█████▏    | 628/1201 [02:48<02:32,  3.76it/s]"
     ]
    },
    {
     "name": "stdout",
     "output_type": "stream",
     "text": [
      "Image processing time: 0.0669715404510498 sec\n",
      "update******\n"
     ]
    },
    {
     "name": "stderr",
     "output_type": "stream",
     "text": [
      "\r",
      " 52%|█████▏    | 629/1201 [02:49<02:35,  3.67it/s]"
     ]
    },
    {
     "name": "stdout",
     "output_type": "stream",
     "text": [
      "Image processing time: 0.07955408096313477 sec\n",
      "update******\n"
     ]
    },
    {
     "name": "stderr",
     "output_type": "stream",
     "text": [
      "\r",
      " 52%|█████▏    | 630/1201 [02:49<02:38,  3.60it/s]"
     ]
    },
    {
     "name": "stdout",
     "output_type": "stream",
     "text": [
      "Image processing time: 0.06200218200683594 sec\n",
      "update******\n"
     ]
    },
    {
     "name": "stderr",
     "output_type": "stream",
     "text": [
      "\r",
      " 53%|█████▎    | 631/1201 [02:49<02:40,  3.56it/s]"
     ]
    },
    {
     "name": "stdout",
     "output_type": "stream",
     "text": [
      "Image processing time: 0.059891700744628906 sec\n",
      "update******\n"
     ]
    },
    {
     "name": "stderr",
     "output_type": "stream",
     "text": [
      "\r",
      " 53%|█████▎    | 632/1201 [02:49<02:37,  3.62it/s]"
     ]
    },
    {
     "name": "stdout",
     "output_type": "stream",
     "text": [
      "Image processing time: 0.08129668235778809 sec\n",
      "update******\n"
     ]
    },
    {
     "name": "stderr",
     "output_type": "stream",
     "text": [
      " 53%|█████▎    | 634/1201 [02:50<02:32,  3.73it/s]"
     ]
    },
    {
     "name": "stdout",
     "output_type": "stream",
     "text": [
      "Image processing time: 0.0670316219329834 sec\n",
      "update******\n"
     ]
    },
    {
     "name": "stderr",
     "output_type": "stream",
     "text": [
      "\r",
      " 53%|█████▎    | 635/1201 [02:50<02:26,  3.87it/s]"
     ]
    },
    {
     "name": "stdout",
     "output_type": "stream",
     "text": [
      "Image processing time: 0.07793331146240234 sec\n",
      "update******\n"
     ]
    },
    {
     "name": "stderr",
     "output_type": "stream",
     "text": [
      "\r",
      " 53%|█████▎    | 636/1201 [02:50<02:29,  3.78it/s]"
     ]
    },
    {
     "name": "stdout",
     "output_type": "stream",
     "text": [
      "Image processing time: 0.06693792343139648 sec\n",
      "update******\n"
     ]
    },
    {
     "name": "stderr",
     "output_type": "stream",
     "text": [
      "\r",
      " 53%|█████▎    | 637/1201 [02:51<02:27,  3.81it/s]"
     ]
    },
    {
     "name": "stdout",
     "output_type": "stream",
     "text": [
      "Image processing time: 0.06316566467285156 sec\n",
      "update******\n"
     ]
    },
    {
     "name": "stderr",
     "output_type": "stream",
     "text": [
      "\r",
      " 53%|█████▎    | 638/1201 [02:51<02:22,  3.96it/s]"
     ]
    },
    {
     "name": "stdout",
     "output_type": "stream",
     "text": [
      "Image processing time: 0.05638551712036133 sec\n",
      "update******\n"
     ]
    },
    {
     "name": "stderr",
     "output_type": "stream",
     "text": [
      "\r",
      " 53%|█████▎    | 639/1201 [02:51<02:14,  4.18it/s]"
     ]
    },
    {
     "name": "stdout",
     "output_type": "stream",
     "text": [
      "Image processing time: 0.06548810005187988 sec\n",
      "update******\n"
     ]
    },
    {
     "name": "stderr",
     "output_type": "stream",
     "text": [
      "\r",
      " 53%|█████▎    | 640/1201 [02:51<02:16,  4.12it/s]"
     ]
    },
    {
     "name": "stdout",
     "output_type": "stream",
     "text": [
      "Image processing time: 0.0671379566192627 sec\n",
      "update******\n"
     ]
    },
    {
     "name": "stderr",
     "output_type": "stream",
     "text": [
      "\r",
      " 53%|█████▎    | 641/1201 [02:52<02:21,  3.94it/s]"
     ]
    },
    {
     "name": "stdout",
     "output_type": "stream",
     "text": [
      "Image processing time: 0.06291413307189941 sec\n",
      "update******\n"
     ]
    },
    {
     "name": "stderr",
     "output_type": "stream",
     "text": [
      "\r",
      " 53%|█████▎    | 642/1201 [02:52<02:23,  3.90it/s]"
     ]
    },
    {
     "name": "stdout",
     "output_type": "stream",
     "text": [
      "Image processing time: 0.06383633613586426 sec\n",
      "update******\n"
     ]
    },
    {
     "name": "stderr",
     "output_type": "stream",
     "text": [
      "\r",
      " 54%|█████▎    | 643/1201 [02:52<02:24,  3.86it/s]"
     ]
    },
    {
     "name": "stdout",
     "output_type": "stream",
     "text": [
      "Image processing time: 0.06400871276855469 sec\n",
      "update******\n",
      "Image processing time: 0.06523656845092773 sec\n",
      "update******\n"
     ]
    },
    {
     "name": "stderr",
     "output_type": "stream",
     "text": [
      " 54%|█████▎    | 645/1201 [02:53<02:27,  3.77it/s]"
     ]
    },
    {
     "name": "stdout",
     "output_type": "stream",
     "text": [
      "Image processing time: 0.05614900588989258 sec\n",
      "update******\n"
     ]
    },
    {
     "name": "stderr",
     "output_type": "stream",
     "text": [
      "\r",
      " 54%|█████▍    | 646/1201 [02:53<02:26,  3.80it/s]"
     ]
    },
    {
     "name": "stdout",
     "output_type": "stream",
     "text": [
      "Image processing time: 0.06379508972167969 sec\n",
      "update******\n"
     ]
    },
    {
     "name": "stderr",
     "output_type": "stream",
     "text": [
      "\r",
      " 54%|█████▍    | 647/1201 [02:53<02:29,  3.71it/s]"
     ]
    },
    {
     "name": "stdout",
     "output_type": "stream",
     "text": [
      "Image processing time: 0.07064366340637207 sec\n",
      "update******\n",
      "Image processing time: 0.06270670890808105 sec\n",
      "update******\n"
     ]
    },
    {
     "name": "stderr",
     "output_type": "stream",
     "text": [
      " 54%|█████▍    | 649/1201 [02:54<02:28,  3.73it/s]"
     ]
    },
    {
     "name": "stdout",
     "output_type": "stream",
     "text": [
      "Image processing time: 0.052349090576171875 sec\n",
      "update******\n"
     ]
    },
    {
     "name": "stderr",
     "output_type": "stream",
     "text": [
      "\r",
      " 54%|█████▍    | 650/1201 [02:54<02:26,  3.76it/s]"
     ]
    },
    {
     "name": "stdout",
     "output_type": "stream",
     "text": [
      "Image processing time: 0.06730365753173828 sec\n",
      "update******\n"
     ]
    },
    {
     "name": "stderr",
     "output_type": "stream",
     "text": [
      "\r",
      " 54%|█████▍    | 651/1201 [02:54<02:23,  3.84it/s]"
     ]
    },
    {
     "name": "stdout",
     "output_type": "stream",
     "text": [
      "Image processing time: 0.05280590057373047 sec\n",
      "update******\n",
      "Image processing time: 0.06723451614379883 sec\n",
      "update******\n"
     ]
    },
    {
     "name": "stderr",
     "output_type": "stream",
     "text": [
      "\r",
      " 54%|█████▍    | 652/1201 [02:55<02:27,  3.72it/s]"
     ]
    },
    {
     "name": "stdout",
     "output_type": "stream",
     "text": [
      "Image processing time: 0.06142282485961914 sec\n",
      "update******\n"
     ]
    },
    {
     "name": "stderr",
     "output_type": "stream",
     "text": [
      " 54%|█████▍    | 654/1201 [02:55<02:24,  3.79it/s]"
     ]
    },
    {
     "name": "stdout",
     "output_type": "stream",
     "text": [
      "Image processing time: 0.05918622016906738 sec\n",
      "update******\n",
      "Image processing time: 0.09069633483886719 sec\n",
      "update******\n"
     ]
    },
    {
     "name": "stderr",
     "output_type": "stream",
     "text": [
      " 55%|█████▍    | 656/1201 [02:56<02:30,  3.61it/s]"
     ]
    },
    {
     "name": "stdout",
     "output_type": "stream",
     "text": [
      "Image processing time: 0.05608344078063965 sec\n",
      "update******\n"
     ]
    },
    {
     "name": "stderr",
     "output_type": "stream",
     "text": [
      "\r",
      " 55%|█████▍    | 657/1201 [02:56<02:18,  3.92it/s]"
     ]
    },
    {
     "name": "stdout",
     "output_type": "stream",
     "text": [
      "Image processing time: 0.05698680877685547 sec\n",
      "update******\n",
      "Image processing time: 0.06303262710571289 sec\n",
      "update******\n"
     ]
    },
    {
     "name": "stderr",
     "output_type": "stream",
     "text": [
      "\r",
      " 55%|█████▍    | 658/1201 [02:56<02:23,  3.78it/s]"
     ]
    },
    {
     "name": "stdout",
     "output_type": "stream",
     "text": [
      "Image processing time: 0.05713009834289551 sec\n",
      "update******\n"
     ]
    },
    {
     "name": "stderr",
     "output_type": "stream",
     "text": [
      " 55%|█████▍    | 660/1201 [02:57<02:21,  3.83it/s]"
     ]
    },
    {
     "name": "stdout",
     "output_type": "stream",
     "text": [
      "Image processing time: 0.052847862243652344 sec\n",
      "update******\n"
     ]
    },
    {
     "name": "stderr",
     "output_type": "stream",
     "text": [
      "\r",
      " 55%|█████▌    | 661/1201 [02:57<02:20,  3.83it/s]"
     ]
    },
    {
     "name": "stdout",
     "output_type": "stream",
     "text": [
      "Image processing time: 0.06295633316040039 sec\n",
      "update******\n"
     ]
    },
    {
     "name": "stderr",
     "output_type": "stream",
     "text": [
      "\r",
      " 55%|█████▌    | 662/1201 [02:57<02:15,  3.99it/s]"
     ]
    },
    {
     "name": "stdout",
     "output_type": "stream",
     "text": [
      "Image processing time: 0.07368898391723633 sec\n",
      "update******\n"
     ]
    },
    {
     "name": "stderr",
     "output_type": "stream",
     "text": [
      "\r",
      " 55%|█████▌    | 663/1201 [02:58<02:17,  3.90it/s]"
     ]
    },
    {
     "name": "stdout",
     "output_type": "stream",
     "text": [
      "Image processing time: 0.07579874992370605 sec\n",
      "update******\n",
      "Image processing time: 0.06888937950134277 sec\n",
      "update******\n"
     ]
    },
    {
     "name": "stderr",
     "output_type": "stream",
     "text": [
      "\r",
      " 55%|█████▌    | 664/1201 [02:58<02:22,  3.76it/s]"
     ]
    },
    {
     "name": "stdout",
     "output_type": "stream",
     "text": [
      "Image processing time: 0.06321430206298828 sec\n",
      "update******\n"
     ]
    },
    {
     "name": "stderr",
     "output_type": "stream",
     "text": [
      " 55%|█████▌    | 666/1201 [02:58<02:24,  3.71it/s]"
     ]
    },
    {
     "name": "stdout",
     "output_type": "stream",
     "text": [
      "Image processing time: 0.05395340919494629 sec\n",
      "update******\n"
     ]
    },
    {
     "name": "stderr",
     "output_type": "stream",
     "text": [
      "\r",
      " 56%|█████▌    | 667/1201 [02:59<02:17,  3.88it/s]"
     ]
    },
    {
     "name": "stdout",
     "output_type": "stream",
     "text": [
      "Image processing time: 0.06709647178649902 sec\n",
      "update******\n"
     ]
    },
    {
     "name": "stderr",
     "output_type": "stream",
     "text": [
      "\r",
      " 56%|█████▌    | 668/1201 [02:59<02:19,  3.82it/s]"
     ]
    },
    {
     "name": "stdout",
     "output_type": "stream",
     "text": [
      "Image processing time: 0.06125807762145996 sec\n",
      "update******\n",
      "Image processing time: 0.06583213806152344 sec\n",
      "update******\n"
     ]
    },
    {
     "name": "stderr",
     "output_type": "stream",
     "text": [
      "\r",
      " 56%|█████▌    | 669/1201 [02:59<02:24,  3.68it/s]"
     ]
    },
    {
     "name": "stdout",
     "output_type": "stream",
     "text": [
      "Image processing time: 0.07827973365783691 sec\n",
      "update******\n"
     ]
    },
    {
     "name": "stderr",
     "output_type": "stream",
     "text": [
      "\r",
      " 56%|█████▌    | 670/1201 [02:59<02:28,  3.58it/s]"
     ]
    },
    {
     "name": "stdout",
     "output_type": "stream",
     "text": [
      "Image processing time: 0.07287740707397461 sec\n",
      "update******\n"
     ]
    },
    {
     "name": "stderr",
     "output_type": "stream",
     "text": [
      "\r",
      " 56%|█████▌    | 671/1201 [03:00<02:28,  3.58it/s]"
     ]
    },
    {
     "name": "stdout",
     "output_type": "stream",
     "text": [
      "Image processing time: 0.0572812557220459 sec\n",
      "update******\n"
     ]
    },
    {
     "name": "stderr",
     "output_type": "stream",
     "text": [
      "\r",
      " 56%|█████▌    | 672/1201 [03:00<02:31,  3.50it/s]"
     ]
    },
    {
     "name": "stdout",
     "output_type": "stream",
     "text": [
      "Image processing time: 0.07754158973693848 sec\n",
      "update******\n"
     ]
    },
    {
     "name": "stderr",
     "output_type": "stream",
     "text": [
      " 56%|█████▌    | 674/1201 [03:01<02:26,  3.60it/s]"
     ]
    },
    {
     "name": "stdout",
     "output_type": "stream",
     "text": [
      "Image processing time: 0.06335091590881348 sec\n",
      "update******\n",
      "Image processing time: 0.06278276443481445 sec\n",
      "update******\n"
     ]
    },
    {
     "name": "stderr",
     "output_type": "stream",
     "text": [
      "\r",
      " 56%|█████▌    | 675/1201 [03:01<02:28,  3.54it/s]"
     ]
    },
    {
     "name": "stdout",
     "output_type": "stream",
     "text": [
      "Image processing time: 0.057401418685913086 sec\n",
      "update******\n"
     ]
    },
    {
     "name": "stderr",
     "output_type": "stream",
     "text": [
      "\r",
      " 56%|█████▋    | 676/1201 [03:01<02:25,  3.61it/s]"
     ]
    },
    {
     "name": "stdout",
     "output_type": "stream",
     "text": [
      "Image processing time: 0.07643938064575195 sec\n",
      "update******\n"
     ]
    },
    {
     "name": "stderr",
     "output_type": "stream",
     "text": [
      "\r",
      " 56%|█████▋    | 677/1201 [03:01<02:30,  3.48it/s]"
     ]
    },
    {
     "name": "stdout",
     "output_type": "stream",
     "text": [
      "Image processing time: 0.06012129783630371 sec\n",
      "update******\n"
     ]
    },
    {
     "name": "stderr",
     "output_type": "stream",
     "text": [
      " 57%|█████▋    | 679/1201 [03:02<02:28,  3.52it/s]"
     ]
    },
    {
     "name": "stdout",
     "output_type": "stream",
     "text": [
      "Image processing time: 0.04931306838989258 sec\n",
      "update******\n",
      "Image processing time: 0.07995390892028809 sec\n",
      "update******\n"
     ]
    },
    {
     "name": "stderr",
     "output_type": "stream",
     "text": [
      " 57%|█████▋    | 681/1201 [03:03<02:36,  3.31it/s]"
     ]
    },
    {
     "name": "stdout",
     "output_type": "stream",
     "text": [
      "Image processing time: 0.05846834182739258 sec\n",
      "update******\n"
     ]
    },
    {
     "name": "stderr",
     "output_type": "stream",
     "text": [
      "\r",
      " 57%|█████▋    | 682/1201 [03:03<02:31,  3.43it/s]"
     ]
    },
    {
     "name": "stdout",
     "output_type": "stream",
     "text": [
      "Image processing time: 0.09822368621826172 sec\n",
      "update******\n"
     ]
    },
    {
     "name": "stderr",
     "output_type": "stream",
     "text": [
      "\r",
      " 57%|█████▋    | 683/1201 [03:03<02:25,  3.55it/s]"
     ]
    },
    {
     "name": "stdout",
     "output_type": "stream",
     "text": [
      "Image processing time: 0.06572937965393066 sec\n",
      "update******\n"
     ]
    },
    {
     "name": "stderr",
     "output_type": "stream",
     "text": [
      "\r",
      " 57%|█████▋    | 684/1201 [03:03<02:23,  3.60it/s]"
     ]
    },
    {
     "name": "stdout",
     "output_type": "stream",
     "text": [
      "Image processing time: 0.07112932205200195 sec\n",
      "update******\n",
      "Image processing time: 0.08336043357849121 sec\n",
      "update******\n"
     ]
    },
    {
     "name": "stderr",
     "output_type": "stream",
     "text": [
      " 57%|█████▋    | 686/1201 [03:04<02:23,  3.60it/s]"
     ]
    },
    {
     "name": "stdout",
     "output_type": "stream",
     "text": [
      "Image processing time: 0.0570068359375 sec\n",
      "update******\n"
     ]
    },
    {
     "name": "stderr",
     "output_type": "stream",
     "text": [
      "\r",
      " 57%|█████▋    | 687/1201 [03:04<02:19,  3.69it/s]"
     ]
    },
    {
     "name": "stdout",
     "output_type": "stream",
     "text": [
      "Image processing time: 0.0597224235534668 sec\n",
      "update******\n",
      "Image processing time: 0.06012368202209473 sec\n",
      "update******\n"
     ]
    },
    {
     "name": "stderr",
     "output_type": "stream",
     "text": [
      " 57%|█████▋    | 689/1201 [03:05<02:19,  3.67it/s]"
     ]
    },
    {
     "name": "stdout",
     "output_type": "stream",
     "text": [
      "Image processing time: 0.06868267059326172 sec\n",
      "update******\n"
     ]
    },
    {
     "name": "stderr",
     "output_type": "stream",
     "text": [
      "\r",
      " 57%|█████▋    | 690/1201 [03:05<02:17,  3.72it/s]"
     ]
    },
    {
     "name": "stdout",
     "output_type": "stream",
     "text": [
      "Image processing time: 0.06256341934204102 sec\n",
      "update******\n"
     ]
    },
    {
     "name": "stderr",
     "output_type": "stream",
     "text": [
      "\r",
      " 58%|█████▊    | 691/1201 [03:05<02:16,  3.73it/s]"
     ]
    },
    {
     "name": "stdout",
     "output_type": "stream",
     "text": [
      "Image processing time: 0.05605340003967285 sec\n",
      "update******\n"
     ]
    },
    {
     "name": "stderr",
     "output_type": "stream",
     "text": [
      "\r",
      " 58%|█████▊    | 692/1201 [03:06<02:17,  3.71it/s]"
     ]
    },
    {
     "name": "stdout",
     "output_type": "stream",
     "text": [
      "Image processing time: 0.06529760360717773 sec\n",
      "update******\n"
     ]
    },
    {
     "name": "stderr",
     "output_type": "stream",
     "text": [
      "\r",
      " 58%|█████▊    | 693/1201 [03:06<02:15,  3.76it/s]"
     ]
    },
    {
     "name": "stdout",
     "output_type": "stream",
     "text": [
      "Image processing time: 0.07529473304748535 sec\n",
      "update******\n",
      "Image processing time: 0.06826996803283691 sec\n",
      "update******\n"
     ]
    },
    {
     "name": "stderr",
     "output_type": "stream",
     "text": [
      "\r",
      " 58%|█████▊    | 694/1201 [03:06<02:17,  3.68it/s]"
     ]
    },
    {
     "name": "stdout",
     "output_type": "stream",
     "text": [
      "Image processing time: 0.061296701431274414 sec\n",
      "update******\n"
     ]
    },
    {
     "name": "stderr",
     "output_type": "stream",
     "text": [
      "\r",
      " 58%|█████▊    | 695/1201 [03:06<02:20,  3.59it/s]"
     ]
    },
    {
     "name": "stdout",
     "output_type": "stream",
     "text": [
      "Image processing time: 0.06457304954528809 sec\n",
      "update******\n"
     ]
    },
    {
     "name": "stderr",
     "output_type": "stream",
     "text": [
      " 58%|█████▊    | 697/1201 [03:07<02:20,  3.59it/s]"
     ]
    },
    {
     "name": "stdout",
     "output_type": "stream",
     "text": [
      "Image processing time: 0.08102560043334961 sec\n",
      "update******\n"
     ]
    },
    {
     "name": "stderr",
     "output_type": "stream",
     "text": [
      "\r",
      " 58%|█████▊    | 698/1201 [03:07<02:15,  3.71it/s]"
     ]
    },
    {
     "name": "stdout",
     "output_type": "stream",
     "text": [
      "Image processing time: 0.0583038330078125 sec\n",
      "update******\n",
      "Image processing time: 0.053815364837646484 sec\n",
      "update******\n"
     ]
    },
    {
     "name": "stderr",
     "output_type": "stream",
     "text": [
      " 58%|█████▊    | 700/1201 [03:08<02:14,  3.72it/s]"
     ]
    },
    {
     "name": "stdout",
     "output_type": "stream",
     "text": [
      "Image processing time: 0.059316396713256836 sec\n",
      "update******\n",
      "Image processing time: 0.06799626350402832 sec\n",
      "update******\n"
     ]
    },
    {
     "name": "stderr",
     "output_type": "stream",
     "text": [
      " 58%|█████▊    | 702/1201 [03:08<02:13,  3.73it/s]"
     ]
    },
    {
     "name": "stdout",
     "output_type": "stream",
     "text": [
      "Image processing time: 0.07001042366027832 sec\n",
      "update******\n"
     ]
    },
    {
     "name": "stderr",
     "output_type": "stream",
     "text": [
      "\r",
      " 59%|█████▊    | 703/1201 [03:09<02:13,  3.74it/s]"
     ]
    },
    {
     "name": "stdout",
     "output_type": "stream",
     "text": [
      "Image processing time: 0.05936574935913086 sec\n",
      "update******\n"
     ]
    },
    {
     "name": "stderr",
     "output_type": "stream",
     "text": [
      "\r",
      " 59%|█████▊    | 704/1201 [03:09<02:17,  3.61it/s]"
     ]
    },
    {
     "name": "stdout",
     "output_type": "stream",
     "text": [
      "Image processing time: 0.06832027435302734 sec\n",
      "update******\n",
      "Image processing time: 0.0799565315246582 sec\n",
      "update******\n"
     ]
    },
    {
     "name": "stderr",
     "output_type": "stream",
     "text": [
      "\r",
      " 59%|█████▊    | 705/1201 [03:09<02:21,  3.52it/s]"
     ]
    },
    {
     "name": "stdout",
     "output_type": "stream",
     "text": [
      "Image processing time: 0.05782747268676758 sec\n",
      "update******\n"
     ]
    },
    {
     "name": "stderr",
     "output_type": "stream",
     "text": [
      "\r",
      " 59%|█████▉    | 706/1201 [03:09<02:19,  3.54it/s]"
     ]
    },
    {
     "name": "stdout",
     "output_type": "stream",
     "text": [
      "Image processing time: 0.05835843086242676 sec\n",
      "update******\n"
     ]
    },
    {
     "name": "stderr",
     "output_type": "stream",
     "text": [
      "\r",
      " 59%|█████▉    | 707/1201 [03:10<02:19,  3.54it/s]"
     ]
    },
    {
     "name": "stdout",
     "output_type": "stream",
     "text": [
      "Image processing time: 0.06137347221374512 sec\n",
      "update******\n"
     ]
    },
    {
     "name": "stderr",
     "output_type": "stream",
     "text": [
      "\r",
      " 59%|█████▉    | 708/1201 [03:10<02:18,  3.56it/s]"
     ]
    },
    {
     "name": "stdout",
     "output_type": "stream",
     "text": [
      "Image processing time: 0.06399679183959961 sec\n",
      "update******\n"
     ]
    },
    {
     "name": "stderr",
     "output_type": "stream",
     "text": [
      "\r",
      " 59%|█████▉    | 709/1201 [03:10<02:18,  3.56it/s]"
     ]
    },
    {
     "name": "stdout",
     "output_type": "stream",
     "text": [
      "Image processing time: 0.07153034210205078 sec\n",
      "update******\n"
     ]
    },
    {
     "name": "stderr",
     "output_type": "stream",
     "text": [
      " 59%|█████▉    | 711/1201 [03:11<02:16,  3.58it/s]"
     ]
    },
    {
     "name": "stdout",
     "output_type": "stream",
     "text": [
      "Image processing time: 0.06228470802307129 sec\n",
      "update******\n"
     ]
    },
    {
     "name": "stderr",
     "output_type": "stream",
     "text": [
      "\r",
      " 59%|█████▉    | 712/1201 [03:11<02:08,  3.79it/s]"
     ]
    },
    {
     "name": "stdout",
     "output_type": "stream",
     "text": [
      "Image processing time: 0.053275346755981445 sec\n",
      "update******\n"
     ]
    },
    {
     "name": "stderr",
     "output_type": "stream",
     "text": [
      "\r",
      " 59%|█████▉    | 713/1201 [03:11<02:10,  3.73it/s]"
     ]
    },
    {
     "name": "stdout",
     "output_type": "stream",
     "text": [
      "Image processing time: 0.05274176597595215 sec\n",
      "update******\n"
     ]
    },
    {
     "name": "stderr",
     "output_type": "stream",
     "text": [
      "\r",
      " 59%|█████▉    | 714/1201 [03:12<02:10,  3.73it/s]"
     ]
    },
    {
     "name": "stdout",
     "output_type": "stream",
     "text": [
      "Image processing time: 0.0873880386352539 sec\n",
      "update******\n"
     ]
    },
    {
     "name": "stderr",
     "output_type": "stream",
     "text": [
      "\r",
      " 60%|█████▉    | 715/1201 [03:12<02:10,  3.72it/s]"
     ]
    },
    {
     "name": "stdout",
     "output_type": "stream",
     "text": [
      "Image processing time: 0.07047796249389648 sec\n",
      "update******\n",
      "Image processing time: 0.08176398277282715 sec\n",
      "update******\n"
     ]
    },
    {
     "name": "stderr",
     "output_type": "stream",
     "text": [
      "\r",
      " 60%|█████▉    | 716/1201 [03:12<02:16,  3.55it/s]"
     ]
    },
    {
     "name": "stdout",
     "output_type": "stream",
     "text": [
      "Image processing time: 0.05017685890197754 sec\n",
      "update******\n"
     ]
    },
    {
     "name": "stderr",
     "output_type": "stream",
     "text": [
      "\r",
      " 60%|█████▉    | 717/1201 [03:12<02:15,  3.58it/s]"
     ]
    },
    {
     "name": "stdout",
     "output_type": "stream",
     "text": [
      "Image processing time: 0.06957197189331055 sec\n",
      "update******\n"
     ]
    },
    {
     "name": "stderr",
     "output_type": "stream",
     "text": [
      " 60%|█████▉    | 719/1201 [03:13<02:15,  3.56it/s]"
     ]
    },
    {
     "name": "stdout",
     "output_type": "stream",
     "text": [
      "Image processing time: 0.0846712589263916 sec\n",
      "update******\n"
     ]
    },
    {
     "name": "stderr",
     "output_type": "stream",
     "text": [
      "\r",
      " 60%|█████▉    | 720/1201 [03:13<02:15,  3.55it/s]"
     ]
    },
    {
     "name": "stdout",
     "output_type": "stream",
     "text": [
      "Image processing time: 0.08157491683959961 sec\n",
      "update******\n",
      "Image processing time: 0.051102399826049805 sec\n",
      "update******\n"
     ]
    },
    {
     "name": "stderr",
     "output_type": "stream",
     "text": [
      "\r",
      " 60%|██████    | 721/1201 [03:14<02:21,  3.39it/s]"
     ]
    },
    {
     "name": "stdout",
     "output_type": "stream",
     "text": [
      "Image processing time: 0.08162355422973633 sec\n",
      "update******\n"
     ]
    },
    {
     "name": "stderr",
     "output_type": "stream",
     "text": [
      " 60%|██████    | 723/1201 [03:14<02:24,  3.30it/s]"
     ]
    },
    {
     "name": "stdout",
     "output_type": "stream",
     "text": [
      "Image processing time: 0.06352663040161133 sec\n",
      "update******\n",
      "Image processing time: 0.11026978492736816 sec\n",
      "update******\n"
     ]
    },
    {
     "name": "stderr",
     "output_type": "stream",
     "text": [
      "\r",
      " 60%|██████    | 724/1201 [03:15<02:36,  3.04it/s]"
     ]
    },
    {
     "name": "stdout",
     "output_type": "stream",
     "text": [
      "Image processing time: 0.10149192810058594 sec\n",
      "update******\n"
     ]
    },
    {
     "name": "stderr",
     "output_type": "stream",
     "text": [
      "\r",
      " 60%|██████    | 725/1201 [03:15<02:45,  2.88it/s]"
     ]
    },
    {
     "name": "stdout",
     "output_type": "stream",
     "text": [
      "Image processing time: 0.1113746166229248 sec\n",
      "update******\n"
     ]
    },
    {
     "name": "stderr",
     "output_type": "stream",
     "text": [
      "\r",
      " 60%|██████    | 726/1201 [03:16<02:56,  2.69it/s]"
     ]
    },
    {
     "name": "stdout",
     "output_type": "stream",
     "text": [
      "Image processing time: 0.1149296760559082 sec\n",
      "update******\n"
     ]
    },
    {
     "name": "stderr",
     "output_type": "stream",
     "text": [
      "\r",
      " 61%|██████    | 727/1201 [03:16<02:56,  2.68it/s]"
     ]
    },
    {
     "name": "stdout",
     "output_type": "stream",
     "text": [
      "Image processing time: 0.0746603012084961 sec\n",
      "update******\n"
     ]
    },
    {
     "name": "stderr",
     "output_type": "stream",
     "text": [
      "\r",
      " 61%|██████    | 728/1201 [03:16<02:51,  2.76it/s]"
     ]
    },
    {
     "name": "stdout",
     "output_type": "stream",
     "text": [
      "Image processing time: 0.06350207328796387 sec\n",
      "update******\n"
     ]
    },
    {
     "name": "stderr",
     "output_type": "stream",
     "text": [
      "\r",
      " 61%|██████    | 729/1201 [03:17<02:45,  2.86it/s]"
     ]
    },
    {
     "name": "stdout",
     "output_type": "stream",
     "text": [
      "Image processing time: 0.09897375106811523 sec\n",
      "update******\n"
     ]
    },
    {
     "name": "stderr",
     "output_type": "stream",
     "text": [
      "\r",
      " 61%|██████    | 730/1201 [03:17<02:45,  2.84it/s]"
     ]
    },
    {
     "name": "stdout",
     "output_type": "stream",
     "text": [
      "Image processing time: 0.06937313079833984 sec\n",
      "update******\n"
     ]
    },
    {
     "name": "stderr",
     "output_type": "stream",
     "text": [
      "\r",
      " 61%|██████    | 731/1201 [03:17<02:37,  2.98it/s]"
     ]
    },
    {
     "name": "stdout",
     "output_type": "stream",
     "text": [
      "Image processing time: 0.06736373901367188 sec\n",
      "update******\n"
     ]
    },
    {
     "name": "stderr",
     "output_type": "stream",
     "text": [
      "\r",
      " 61%|██████    | 732/1201 [03:18<02:38,  2.97it/s]"
     ]
    },
    {
     "name": "stdout",
     "output_type": "stream",
     "text": [
      "Image processing time: 0.0888676643371582 sec\n",
      "update******\n"
     ]
    },
    {
     "name": "stderr",
     "output_type": "stream",
     "text": [
      "\r",
      " 61%|██████    | 733/1201 [03:18<02:39,  2.93it/s]"
     ]
    },
    {
     "name": "stdout",
     "output_type": "stream",
     "text": [
      "Image processing time: 0.12463641166687012 sec\n",
      "update******\n"
     ]
    },
    {
     "name": "stderr",
     "output_type": "stream",
     "text": [
      "\r",
      " 61%|██████    | 734/1201 [03:18<02:54,  2.68it/s]"
     ]
    },
    {
     "name": "stdout",
     "output_type": "stream",
     "text": [
      "Image processing time: 0.09571266174316406 sec\n",
      "update******\n"
     ]
    },
    {
     "name": "stderr",
     "output_type": "stream",
     "text": [
      "\r",
      " 61%|██████    | 735/1201 [03:19<02:53,  2.68it/s]"
     ]
    },
    {
     "name": "stdout",
     "output_type": "stream",
     "text": [
      "Image processing time: 0.0838632583618164 sec\n",
      "update******\n"
     ]
    },
    {
     "name": "stderr",
     "output_type": "stream",
     "text": [
      "\r",
      " 61%|██████▏   | 736/1201 [03:19<03:00,  2.58it/s]"
     ]
    },
    {
     "name": "stdout",
     "output_type": "stream",
     "text": [
      "Image processing time: 0.1012883186340332 sec\n",
      "update******\n"
     ]
    },
    {
     "name": "stderr",
     "output_type": "stream",
     "text": [
      "\r",
      " 61%|██████▏   | 737/1201 [03:19<02:54,  2.65it/s]"
     ]
    },
    {
     "name": "stdout",
     "output_type": "stream",
     "text": [
      "Image processing time: 0.09278988838195801 sec\n",
      "update******\n"
     ]
    },
    {
     "name": "stderr",
     "output_type": "stream",
     "text": [
      "\r",
      " 61%|██████▏   | 738/1201 [03:20<02:53,  2.68it/s]"
     ]
    },
    {
     "name": "stdout",
     "output_type": "stream",
     "text": [
      "Image processing time: 0.06470036506652832 sec\n",
      "update******\n"
     ]
    },
    {
     "name": "stderr",
     "output_type": "stream",
     "text": [
      "\r",
      " 62%|██████▏   | 739/1201 [03:20<02:44,  2.82it/s]"
     ]
    },
    {
     "name": "stdout",
     "output_type": "stream",
     "text": [
      "Image processing time: 0.07977890968322754 sec\n",
      "update******\n"
     ]
    },
    {
     "name": "stderr",
     "output_type": "stream",
     "text": [
      " 62%|██████▏   | 741/1201 [03:21<02:30,  3.06it/s]"
     ]
    },
    {
     "name": "stdout",
     "output_type": "stream",
     "text": [
      "Image processing time: 0.08803296089172363 sec\n",
      "update******\n",
      "Image processing time: 0.0660700798034668 sec\n",
      "update******\n"
     ]
    },
    {
     "name": "stderr",
     "output_type": "stream",
     "text": [
      "\r",
      " 62%|██████▏   | 742/1201 [03:21<02:23,  3.20it/s]"
     ]
    },
    {
     "name": "stdout",
     "output_type": "stream",
     "text": [
      "Image processing time: 0.0657651424407959 sec\n",
      "update******\n"
     ]
    },
    {
     "name": "stderr",
     "output_type": "stream",
     "text": [
      "\r",
      " 62%|██████▏   | 743/1201 [03:21<02:16,  3.34it/s]"
     ]
    },
    {
     "name": "stdout",
     "output_type": "stream",
     "text": [
      "Image processing time: 0.052382707595825195 sec\n",
      "update******\n"
     ]
    },
    {
     "name": "stderr",
     "output_type": "stream",
     "text": [
      "\r",
      " 62%|██████▏   | 744/1201 [03:22<02:15,  3.38it/s]"
     ]
    },
    {
     "name": "stdout",
     "output_type": "stream",
     "text": [
      "Image processing time: 0.08136749267578125 sec\n",
      "update******\n"
     ]
    },
    {
     "name": "stderr",
     "output_type": "stream",
     "text": [
      " 62%|██████▏   | 746/1201 [03:22<02:08,  3.53it/s]"
     ]
    },
    {
     "name": "stdout",
     "output_type": "stream",
     "text": [
      "Image processing time: 0.07348203659057617 sec\n",
      "update******\n",
      "Image processing time: 0.07772088050842285 sec\n",
      "update******\n"
     ]
    },
    {
     "name": "stderr",
     "output_type": "stream",
     "text": [
      " 62%|██████▏   | 748/1201 [03:23<02:05,  3.60it/s]"
     ]
    },
    {
     "name": "stdout",
     "output_type": "stream",
     "text": [
      "Image processing time: 0.06566691398620605 sec\n",
      "update******\n"
     ]
    },
    {
     "name": "stderr",
     "output_type": "stream",
     "text": [
      "\r",
      " 62%|██████▏   | 749/1201 [03:23<02:02,  3.69it/s]"
     ]
    },
    {
     "name": "stdout",
     "output_type": "stream",
     "text": [
      "Image processing time: 0.05664229393005371 sec\n",
      "update******\n"
     ]
    },
    {
     "name": "stderr",
     "output_type": "stream",
     "text": [
      "\r",
      " 62%|██████▏   | 750/1201 [03:23<01:55,  3.89it/s]"
     ]
    },
    {
     "name": "stdout",
     "output_type": "stream",
     "text": [
      "Image processing time: 0.06411528587341309 sec\n",
      "update******\n"
     ]
    },
    {
     "name": "stderr",
     "output_type": "stream",
     "text": [
      "\r",
      " 63%|██████▎   | 751/1201 [03:23<01:52,  3.99it/s]"
     ]
    },
    {
     "name": "stdout",
     "output_type": "stream",
     "text": [
      "Image processing time: 0.06301116943359375 sec\n",
      "update******\n"
     ]
    },
    {
     "name": "stderr",
     "output_type": "stream",
     "text": [
      "\r",
      " 63%|██████▎   | 752/1201 [03:24<01:56,  3.86it/s]"
     ]
    },
    {
     "name": "stdout",
     "output_type": "stream",
     "text": [
      "Image processing time: 0.06117701530456543 sec\n",
      "update******\n",
      "Image processing time: 0.07410955429077148 sec\n",
      "update******\n"
     ]
    },
    {
     "name": "stderr",
     "output_type": "stream",
     "text": [
      "\r",
      " 63%|██████▎   | 753/1201 [03:24<02:02,  3.65it/s]"
     ]
    },
    {
     "name": "stdout",
     "output_type": "stream",
     "text": [
      "Image processing time: 0.0712897777557373 sec\n",
      "update******\n"
     ]
    },
    {
     "name": "stderr",
     "output_type": "stream",
     "text": [
      "\r",
      " 63%|██████▎   | 754/1201 [03:24<02:05,  3.56it/s]"
     ]
    },
    {
     "name": "stdout",
     "output_type": "stream",
     "text": [
      "Image processing time: 0.10009980201721191 sec\n",
      "update******\n"
     ]
    },
    {
     "name": "stderr",
     "output_type": "stream",
     "text": [
      "\r",
      " 63%|██████▎   | 755/1201 [03:25<02:12,  3.37it/s]"
     ]
    },
    {
     "name": "stdout",
     "output_type": "stream",
     "text": [
      "Image processing time: 0.075775146484375 sec\n",
      "update******\n"
     ]
    },
    {
     "name": "stderr",
     "output_type": "stream",
     "text": [
      " 63%|██████▎   | 757/1201 [03:25<02:08,  3.45it/s]"
     ]
    },
    {
     "name": "stdout",
     "output_type": "stream",
     "text": [
      "Image processing time: 0.06370902061462402 sec\n",
      "update******\n"
     ]
    },
    {
     "name": "stderr",
     "output_type": "stream",
     "text": [
      "\r",
      " 63%|██████▎   | 758/1201 [03:25<02:02,  3.61it/s]"
     ]
    },
    {
     "name": "stdout",
     "output_type": "stream",
     "text": [
      "Image processing time: 0.07168889045715332 sec\n",
      "update******\n",
      "Image processing time: 0.07498359680175781 sec\n",
      "update******\n"
     ]
    },
    {
     "name": "stderr",
     "output_type": "stream",
     "text": [
      " 63%|██████▎   | 760/1201 [03:26<02:03,  3.57it/s]"
     ]
    },
    {
     "name": "stdout",
     "output_type": "stream",
     "text": [
      "Image processing time: 0.07309913635253906 sec\n",
      "update******\n"
     ]
    },
    {
     "name": "stderr",
     "output_type": "stream",
     "text": [
      "\r",
      " 63%|██████▎   | 761/1201 [03:26<02:01,  3.63it/s]"
     ]
    },
    {
     "name": "stdout",
     "output_type": "stream",
     "text": [
      "Image processing time: 0.0628211498260498 sec\n",
      "update******\n",
      "Image processing time: 0.09849953651428223 sec\n",
      "update******\n"
     ]
    },
    {
     "name": "stderr",
     "output_type": "stream",
     "text": [
      "\r",
      " 63%|██████▎   | 762/1201 [03:27<02:06,  3.48it/s]"
     ]
    },
    {
     "name": "stdout",
     "output_type": "stream",
     "text": [
      "Image processing time: 0.08834576606750488 sec\n",
      "update******\n"
     ]
    },
    {
     "name": "stderr",
     "output_type": "stream",
     "text": [
      "\r",
      " 64%|██████▎   | 763/1201 [03:27<02:08,  3.41it/s]"
     ]
    },
    {
     "name": "stdout",
     "output_type": "stream",
     "text": [
      "Image processing time: 0.07088351249694824 sec\n",
      "update******\n"
     ]
    },
    {
     "name": "stderr",
     "output_type": "stream",
     "text": [
      "\r",
      " 64%|██████▎   | 764/1201 [03:27<02:14,  3.25it/s]"
     ]
    },
    {
     "name": "stdout",
     "output_type": "stream",
     "text": [
      "Image processing time: 0.07963991165161133 sec\n",
      "update******\n"
     ]
    },
    {
     "name": "stderr",
     "output_type": "stream",
     "text": [
      "\r",
      " 64%|██████▎   | 765/1201 [03:28<02:22,  3.06it/s]"
     ]
    },
    {
     "name": "stdout",
     "output_type": "stream",
     "text": [
      "Image processing time: 0.05969572067260742 sec\n",
      "update******\n"
     ]
    },
    {
     "name": "stderr",
     "output_type": "stream",
     "text": [
      "\r",
      " 64%|██████▍   | 766/1201 [03:28<02:16,  3.19it/s]"
     ]
    },
    {
     "name": "stdout",
     "output_type": "stream",
     "text": [
      "Image processing time: 0.05789327621459961 sec\n",
      "update******\n"
     ]
    },
    {
     "name": "stderr",
     "output_type": "stream",
     "text": [
      "\r",
      " 64%|██████▍   | 767/1201 [03:28<02:14,  3.22it/s]"
     ]
    },
    {
     "name": "stdout",
     "output_type": "stream",
     "text": [
      "Image processing time: 0.06861305236816406 sec\n",
      "update******\n"
     ]
    },
    {
     "name": "stderr",
     "output_type": "stream",
     "text": [
      "\r",
      " 64%|██████▍   | 768/1201 [03:29<02:17,  3.14it/s]"
     ]
    },
    {
     "name": "stdout",
     "output_type": "stream",
     "text": [
      "Image processing time: 0.0635061264038086 sec\n",
      "update******\n"
     ]
    },
    {
     "name": "stderr",
     "output_type": "stream",
     "text": [
      "\r",
      " 64%|██████▍   | 769/1201 [03:29<02:10,  3.31it/s]"
     ]
    },
    {
     "name": "stdout",
     "output_type": "stream",
     "text": [
      "Image processing time: 0.09478163719177246 sec\n",
      "update******\n"
     ]
    },
    {
     "name": "stderr",
     "output_type": "stream",
     "text": [
      " 64%|██████▍   | 771/1201 [03:29<02:10,  3.28it/s]"
     ]
    },
    {
     "name": "stdout",
     "output_type": "stream",
     "text": [
      "Image processing time: 0.06693124771118164 sec\n",
      "update******\n",
      "Image processing time: 0.06715273857116699 sec\n",
      "update******\n"
     ]
    },
    {
     "name": "stderr",
     "output_type": "stream",
     "text": [
      " 64%|██████▍   | 773/1201 [03:30<01:56,  3.68it/s]"
     ]
    },
    {
     "name": "stdout",
     "output_type": "stream",
     "text": [
      "Image processing time: 0.06452703475952148 sec\n",
      "update******\n",
      "Image processing time: 0.07863473892211914 sec\n",
      "update******\n"
     ]
    },
    {
     "name": "stderr",
     "output_type": "stream",
     "text": [
      " 65%|██████▍   | 775/1201 [03:31<01:58,  3.59it/s]"
     ]
    },
    {
     "name": "stdout",
     "output_type": "stream",
     "text": [
      "Image processing time: 0.07350683212280273 sec\n",
      "update******\n"
     ]
    },
    {
     "name": "stderr",
     "output_type": "stream",
     "text": [
      "\r",
      " 65%|██████▍   | 776/1201 [03:31<01:54,  3.72it/s]"
     ]
    },
    {
     "name": "stdout",
     "output_type": "stream",
     "text": [
      "Image processing time: 0.055347442626953125 sec\n",
      "update******\n",
      "Image processing time: 0.05605745315551758 sec\n",
      "update******\n"
     ]
    },
    {
     "name": "stderr",
     "output_type": "stream",
     "text": [
      "\r",
      " 65%|██████▍   | 777/1201 [03:31<01:55,  3.69it/s]"
     ]
    },
    {
     "name": "stdout",
     "output_type": "stream",
     "text": [
      "Image processing time: 0.07529258728027344 sec\n",
      "update******\n"
     ]
    },
    {
     "name": "stderr",
     "output_type": "stream",
     "text": [
      " 65%|██████▍   | 779/1201 [03:32<01:56,  3.61it/s]"
     ]
    },
    {
     "name": "stdout",
     "output_type": "stream",
     "text": [
      "Image processing time: 0.07022237777709961 sec\n",
      "update******\n"
     ]
    },
    {
     "name": "stderr",
     "output_type": "stream",
     "text": [
      "\r",
      " 65%|██████▍   | 780/1201 [03:32<01:53,  3.72it/s]"
     ]
    },
    {
     "name": "stdout",
     "output_type": "stream",
     "text": [
      "Image processing time: 0.05353975296020508 sec\n",
      "update******\n",
      "Image processing time: 0.0523066520690918 sec\n",
      "update******\n"
     ]
    },
    {
     "name": "stderr",
     "output_type": "stream",
     "text": [
      "\r",
      " 65%|██████▌   | 781/1201 [03:32<01:53,  3.70it/s]"
     ]
    },
    {
     "name": "stdout",
     "output_type": "stream",
     "text": [
      "Image processing time: 0.06464600563049316 sec\n",
      "update******\n"
     ]
    },
    {
     "name": "stderr",
     "output_type": "stream",
     "text": [
      " 65%|██████▌   | 783/1201 [03:33<01:51,  3.74it/s]"
     ]
    },
    {
     "name": "stdout",
     "output_type": "stream",
     "text": [
      "Image processing time: 0.07242107391357422 sec\n",
      "update******\n"
     ]
    },
    {
     "name": "stderr",
     "output_type": "stream",
     "text": [
      "\r",
      " 65%|██████▌   | 784/1201 [03:33<01:48,  3.83it/s]"
     ]
    },
    {
     "name": "stdout",
     "output_type": "stream",
     "text": [
      "Image processing time: 0.06021761894226074 sec\n",
      "update******\n",
      "Image processing time: 0.07311105728149414 sec\n",
      "update******\n"
     ]
    },
    {
     "name": "stderr",
     "output_type": "stream",
     "text": [
      " 65%|██████▌   | 786/1201 [03:33<01:50,  3.75it/s]"
     ]
    },
    {
     "name": "stdout",
     "output_type": "stream",
     "text": [
      "Image processing time: 0.0641183853149414 sec\n",
      "update******\n"
     ]
    },
    {
     "name": "stderr",
     "output_type": "stream",
     "text": [
      "\r",
      " 66%|██████▌   | 787/1201 [03:34<01:56,  3.57it/s]"
     ]
    },
    {
     "name": "stdout",
     "output_type": "stream",
     "text": [
      "Image processing time: 0.10989141464233398 sec\n",
      "update******\n",
      "Image processing time: 0.06142854690551758 sec\n",
      "update******\n"
     ]
    },
    {
     "name": "stderr",
     "output_type": "stream",
     "text": [
      " 66%|██████▌   | 789/1201 [03:34<01:52,  3.65it/s]"
     ]
    },
    {
     "name": "stdout",
     "output_type": "stream",
     "text": [
      "Image processing time: 0.07778310775756836 sec\n",
      "update******\n"
     ]
    },
    {
     "name": "stderr",
     "output_type": "stream",
     "text": [
      "\r",
      " 66%|██████▌   | 790/1201 [03:35<01:47,  3.82it/s]"
     ]
    },
    {
     "name": "stdout",
     "output_type": "stream",
     "text": [
      "Image processing time: 0.06088614463806152 sec\n",
      "update******\n"
     ]
    },
    {
     "name": "stderr",
     "output_type": "stream",
     "text": [
      "\r",
      " 66%|██████▌   | 791/1201 [03:35<01:47,  3.80it/s]"
     ]
    },
    {
     "name": "stdout",
     "output_type": "stream",
     "text": [
      "Image processing time: 0.06501936912536621 sec\n",
      "update******\n"
     ]
    },
    {
     "name": "stderr",
     "output_type": "stream",
     "text": [
      "\r",
      " 66%|██████▌   | 792/1201 [03:35<01:42,  4.01it/s]"
     ]
    },
    {
     "name": "stdout",
     "output_type": "stream",
     "text": [
      "Image processing time: 0.0577998161315918 sec\n",
      "update******\n"
     ]
    },
    {
     "name": "stderr",
     "output_type": "stream",
     "text": [
      "\r",
      " 66%|██████▌   | 793/1201 [03:35<01:43,  3.93it/s]"
     ]
    },
    {
     "name": "stdout",
     "output_type": "stream",
     "text": [
      "Image processing time: 0.09532046318054199 sec\n",
      "update******\n"
     ]
    },
    {
     "name": "stderr",
     "output_type": "stream",
     "text": [
      "\r",
      " 66%|██████▌   | 794/1201 [03:36<01:42,  3.97it/s]"
     ]
    },
    {
     "name": "stdout",
     "output_type": "stream",
     "text": [
      "Image processing time: 0.05267810821533203 sec\n",
      "update******\n",
      "Image processing time: 0.05526256561279297 sec\n",
      "update******\n"
     ]
    },
    {
     "name": "stderr",
     "output_type": "stream",
     "text": [
      " 66%|██████▋   | 796/1201 [03:36<01:44,  3.89it/s]"
     ]
    },
    {
     "name": "stdout",
     "output_type": "stream",
     "text": [
      "Image processing time: 0.05139923095703125 sec\n",
      "update******\n"
     ]
    },
    {
     "name": "stderr",
     "output_type": "stream",
     "text": [
      "\r",
      " 66%|██████▋   | 797/1201 [03:36<01:43,  3.91it/s]"
     ]
    },
    {
     "name": "stdout",
     "output_type": "stream",
     "text": [
      "Image processing time: 0.05341362953186035 sec\n",
      "update******\n"
     ]
    },
    {
     "name": "stderr",
     "output_type": "stream",
     "text": [
      "\r",
      " 66%|██████▋   | 798/1201 [03:37<01:44,  3.85it/s]"
     ]
    },
    {
     "name": "stdout",
     "output_type": "stream",
     "text": [
      "Image processing time: 0.06329703330993652 sec\n",
      "update******\n"
     ]
    },
    {
     "name": "stderr",
     "output_type": "stream",
     "text": [
      "\r",
      " 67%|██████▋   | 799/1201 [03:37<01:46,  3.78it/s]"
     ]
    },
    {
     "name": "stdout",
     "output_type": "stream",
     "text": [
      "Image processing time: 0.07122993469238281 sec\n",
      "update******\n"
     ]
    },
    {
     "name": "stderr",
     "output_type": "stream",
     "text": [
      "\r",
      " 67%|██████▋   | 800/1201 [03:37<01:45,  3.80it/s]"
     ]
    },
    {
     "name": "stdout",
     "output_type": "stream",
     "text": [
      "Image processing time: 0.06846141815185547 sec\n",
      "update******\n"
     ]
    },
    {
     "name": "stderr",
     "output_type": "stream",
     "text": [
      "\r",
      " 67%|██████▋   | 801/1201 [03:37<01:46,  3.77it/s]"
     ]
    },
    {
     "name": "stdout",
     "output_type": "stream",
     "text": [
      "Image processing time: 0.07169771194458008 sec\n",
      "update******\n"
     ]
    },
    {
     "name": "stderr",
     "output_type": "stream",
     "text": [
      "\r",
      " 67%|██████▋   | 802/1201 [03:38<01:46,  3.75it/s]"
     ]
    },
    {
     "name": "stdout",
     "output_type": "stream",
     "text": [
      "Image processing time: 0.07324743270874023 sec\n",
      "update******\n"
     ]
    },
    {
     "name": "stderr",
     "output_type": "stream",
     "text": [
      "\r",
      " 67%|██████▋   | 803/1201 [03:38<01:41,  3.92it/s]"
     ]
    },
    {
     "name": "stdout",
     "output_type": "stream",
     "text": [
      "Image processing time: 0.05840873718261719 sec\n",
      "update******\n"
     ]
    },
    {
     "name": "stderr",
     "output_type": "stream",
     "text": [
      "\r",
      " 67%|██████▋   | 804/1201 [03:38<01:41,  3.91it/s]"
     ]
    },
    {
     "name": "stdout",
     "output_type": "stream",
     "text": [
      "Image processing time: 0.06678295135498047 sec\n",
      "update******\n"
     ]
    },
    {
     "name": "stderr",
     "output_type": "stream",
     "text": [
      "\r",
      " 67%|██████▋   | 805/1201 [03:38<01:41,  3.88it/s]"
     ]
    },
    {
     "name": "stdout",
     "output_type": "stream",
     "text": [
      "Image processing time: 0.0600588321685791 sec\n",
      "update******\n",
      "Image processing time: 0.06246495246887207 sec\n",
      "update******\n"
     ]
    },
    {
     "name": "stderr",
     "output_type": "stream",
     "text": [
      " 67%|██████▋   | 807/1201 [03:39<01:45,  3.72it/s]"
     ]
    },
    {
     "name": "stdout",
     "output_type": "stream",
     "text": [
      "Image processing time: 0.0708625316619873 sec\n",
      "update******\n"
     ]
    },
    {
     "name": "stderr",
     "output_type": "stream",
     "text": [
      "\r",
      " 67%|██████▋   | 808/1201 [03:39<01:44,  3.78it/s]"
     ]
    },
    {
     "name": "stdout",
     "output_type": "stream",
     "text": [
      "Image processing time: 0.06710529327392578 sec\n",
      "update******\n",
      "Image processing time: 0.06322884559631348 sec\n",
      "update******\n"
     ]
    },
    {
     "name": "stderr",
     "output_type": "stream",
     "text": [
      " 67%|██████▋   | 810/1201 [03:40<01:44,  3.76it/s]"
     ]
    },
    {
     "name": "stdout",
     "output_type": "stream",
     "text": [
      "Image processing time: 0.061400413513183594 sec\n",
      "update******\n"
     ]
    },
    {
     "name": "stderr",
     "output_type": "stream",
     "text": [
      "\r",
      " 68%|██████▊   | 811/1201 [03:40<01:45,  3.70it/s]"
     ]
    },
    {
     "name": "stdout",
     "output_type": "stream",
     "text": [
      "Image processing time: 0.05767512321472168 sec\n",
      "update******\n",
      "Image processing time: 0.05645155906677246 sec\n",
      "update******\n"
     ]
    },
    {
     "name": "stderr",
     "output_type": "stream",
     "text": [
      "\r",
      " 68%|██████▊   | 812/1201 [03:40<01:51,  3.48it/s]"
     ]
    },
    {
     "name": "stdout",
     "output_type": "stream",
     "text": [
      "Image processing time: 0.08539509773254395 sec\n",
      "update******\n"
     ]
    },
    {
     "name": "stderr",
     "output_type": "stream",
     "text": [
      " 68%|██████▊   | 814/1201 [03:41<01:53,  3.41it/s]"
     ]
    },
    {
     "name": "stdout",
     "output_type": "stream",
     "text": [
      "Image processing time: 0.07684469223022461 sec\n",
      "update******\n"
     ]
    },
    {
     "name": "stderr",
     "output_type": "stream",
     "text": [
      "\r",
      " 68%|██████▊   | 815/1201 [03:41<01:49,  3.51it/s]"
     ]
    },
    {
     "name": "stdout",
     "output_type": "stream",
     "text": [
      "Image processing time: 0.059242963790893555 sec\n",
      "update******\n",
      "Image processing time: 0.0655055046081543 sec\n",
      "update******\n"
     ]
    },
    {
     "name": "stderr",
     "output_type": "stream",
     "text": [
      " 68%|██████▊   | 817/1201 [03:42<01:49,  3.51it/s]"
     ]
    },
    {
     "name": "stdout",
     "output_type": "stream",
     "text": [
      "Image processing time: 0.06414437294006348 sec\n",
      "update******\n"
     ]
    },
    {
     "name": "stderr",
     "output_type": "stream",
     "text": [
      "\r",
      " 68%|██████▊   | 818/1201 [03:42<01:49,  3.50it/s]"
     ]
    },
    {
     "name": "stdout",
     "output_type": "stream",
     "text": [
      "Image processing time: 0.0930335521697998 sec\n",
      "update******\n",
      "Image processing time: 0.0577847957611084 sec\n",
      "update******\n"
     ]
    },
    {
     "name": "stderr",
     "output_type": "stream",
     "text": [
      " 68%|██████▊   | 820/1201 [03:43<01:46,  3.57it/s]"
     ]
    },
    {
     "name": "stdout",
     "output_type": "stream",
     "text": [
      "Image processing time: 0.08798098564147949 sec\n",
      "update******\n"
     ]
    },
    {
     "name": "stderr",
     "output_type": "stream",
     "text": [
      "\r",
      " 68%|██████▊   | 821/1201 [03:43<01:44,  3.65it/s]"
     ]
    },
    {
     "name": "stdout",
     "output_type": "stream",
     "text": [
      "Image processing time: 0.0571136474609375 sec\n",
      "update******\n",
      "Image processing time: 0.06509041786193848 sec\n",
      "update******\n"
     ]
    },
    {
     "name": "stderr",
     "output_type": "stream",
     "text": [
      "\r",
      " 68%|██████▊   | 822/1201 [03:43<01:45,  3.60it/s]"
     ]
    },
    {
     "name": "stdout",
     "output_type": "stream",
     "text": [
      "Image processing time: 0.05963921546936035 sec\n",
      "update******\n"
     ]
    },
    {
     "name": "stderr",
     "output_type": "stream",
     "text": [
      "\r",
      " 69%|██████▊   | 823/1201 [03:44<01:50,  3.42it/s]"
     ]
    },
    {
     "name": "stdout",
     "output_type": "stream",
     "text": [
      "Image processing time: 0.06283926963806152 sec\n",
      "update******\n"
     ]
    },
    {
     "name": "stderr",
     "output_type": "stream",
     "text": [
      "\r",
      " 69%|██████▊   | 824/1201 [03:44<01:49,  3.43it/s]"
     ]
    },
    {
     "name": "stdout",
     "output_type": "stream",
     "text": [
      "Image processing time: 0.07454633712768555 sec\n",
      "update******\n"
     ]
    },
    {
     "name": "stderr",
     "output_type": "stream",
     "text": [
      "\r",
      " 69%|██████▊   | 825/1201 [03:44<01:48,  3.46it/s]"
     ]
    },
    {
     "name": "stdout",
     "output_type": "stream",
     "text": [
      "Image processing time: 0.06523418426513672 sec\n",
      "update******\n"
     ]
    },
    {
     "name": "stderr",
     "output_type": "stream",
     "text": [
      " 69%|██████▉   | 827/1201 [03:45<01:52,  3.34it/s]"
     ]
    },
    {
     "name": "stdout",
     "output_type": "stream",
     "text": [
      "Image processing time: 0.08071422576904297 sec\n",
      "update******\n",
      "Image processing time: 0.07540202140808105 sec\n",
      "update******\n"
     ]
    },
    {
     "name": "stderr",
     "output_type": "stream",
     "text": [
      "\r",
      " 69%|██████▉   | 828/1201 [03:45<01:50,  3.36it/s]"
     ]
    },
    {
     "name": "stdout",
     "output_type": "stream",
     "text": [
      "Image processing time: 0.0697634220123291 sec\n",
      "update******\n"
     ]
    },
    {
     "name": "stderr",
     "output_type": "stream",
     "text": [
      "\r",
      " 69%|██████▉   | 829/1201 [03:45<01:48,  3.42it/s]"
     ]
    },
    {
     "name": "stdout",
     "output_type": "stream",
     "text": [
      "Image processing time: 0.06037545204162598 sec\n",
      "update******\n"
     ]
    },
    {
     "name": "stderr",
     "output_type": "stream",
     "text": [
      "\r",
      " 69%|██████▉   | 830/1201 [03:46<01:49,  3.40it/s]"
     ]
    },
    {
     "name": "stdout",
     "output_type": "stream",
     "text": [
      "Image processing time: 0.10555315017700195 sec\n",
      "update******\n"
     ]
    },
    {
     "name": "stderr",
     "output_type": "stream",
     "text": [
      " 69%|██████▉   | 832/1201 [03:46<01:58,  3.11it/s]"
     ]
    },
    {
     "name": "stdout",
     "output_type": "stream",
     "text": [
      "Image processing time: 0.06908822059631348 sec\n",
      "update******\n",
      "Image processing time: 0.06527447700500488 sec\n",
      "update******\n"
     ]
    },
    {
     "name": "stderr",
     "output_type": "stream",
     "text": [
      "\r",
      " 69%|██████▉   | 833/1201 [03:47<01:55,  3.18it/s]"
     ]
    },
    {
     "name": "stdout",
     "output_type": "stream",
     "text": [
      "Image processing time: 0.06479072570800781 sec\n",
      "update******\n"
     ]
    },
    {
     "name": "stderr",
     "output_type": "stream",
     "text": [
      " 70%|██████▉   | 835/1201 [03:47<01:46,  3.44it/s]"
     ]
    },
    {
     "name": "stdout",
     "output_type": "stream",
     "text": [
      "Image processing time: 0.06758308410644531 sec\n",
      "update******\n",
      "Image processing time: 0.07845234870910645 sec\n",
      "update******\n"
     ]
    },
    {
     "name": "stderr",
     "output_type": "stream",
     "text": [
      "\r",
      " 70%|██████▉   | 836/1201 [03:47<01:45,  3.48it/s]"
     ]
    },
    {
     "name": "stdout",
     "output_type": "stream",
     "text": [
      "Image processing time: 0.07351922988891602 sec\n",
      "update******\n"
     ]
    },
    {
     "name": "stderr",
     "output_type": "stream",
     "text": [
      "\r",
      " 70%|██████▉   | 837/1201 [03:48<01:47,  3.38it/s]"
     ]
    },
    {
     "name": "stdout",
     "output_type": "stream",
     "text": [
      "Image processing time: 0.06675314903259277 sec\n",
      "update******\n"
     ]
    },
    {
     "name": "stderr",
     "output_type": "stream",
     "text": [
      " 70%|██████▉   | 839/1201 [03:48<01:42,  3.54it/s]"
     ]
    },
    {
     "name": "stdout",
     "output_type": "stream",
     "text": [
      "Image processing time: 0.07243490219116211 sec\n",
      "update******\n"
     ]
    },
    {
     "name": "stderr",
     "output_type": "stream",
     "text": [
      "\r",
      " 70%|██████▉   | 840/1201 [03:49<01:37,  3.71it/s]"
     ]
    },
    {
     "name": "stdout",
     "output_type": "stream",
     "text": [
      "Image processing time: 0.07517695426940918 sec\n",
      "update******\n"
     ]
    },
    {
     "name": "stderr",
     "output_type": "stream",
     "text": [
      "\r",
      " 70%|███████   | 841/1201 [03:49<01:40,  3.58it/s]"
     ]
    },
    {
     "name": "stdout",
     "output_type": "stream",
     "text": [
      "Image processing time: 0.09215760231018066 sec\n",
      "update******\n"
     ]
    },
    {
     "name": "stderr",
     "output_type": "stream",
     "text": [
      "\r",
      " 70%|███████   | 842/1201 [03:49<01:43,  3.46it/s]"
     ]
    },
    {
     "name": "stdout",
     "output_type": "stream",
     "text": [
      "Image processing time: 0.07476449012756348 sec\n",
      "update******\n",
      "Image processing time: 0.07165336608886719 sec\n",
      "update******\n"
     ]
    },
    {
     "name": "stderr",
     "output_type": "stream",
     "text": [
      " 70%|███████   | 844/1201 [03:50<01:39,  3.59it/s]"
     ]
    },
    {
     "name": "stdout",
     "output_type": "stream",
     "text": [
      "Image processing time: 0.06088685989379883 sec\n",
      "update******\n"
     ]
    },
    {
     "name": "stderr",
     "output_type": "stream",
     "text": [
      "\r",
      " 70%|███████   | 845/1201 [03:50<01:35,  3.73it/s]"
     ]
    },
    {
     "name": "stdout",
     "output_type": "stream",
     "text": [
      "Image processing time: 0.05605196952819824 sec\n",
      "update******\n"
     ]
    },
    {
     "name": "stderr",
     "output_type": "stream",
     "text": [
      "\r",
      " 70%|███████   | 846/1201 [03:50<01:32,  3.84it/s]"
     ]
    },
    {
     "name": "stdout",
     "output_type": "stream",
     "text": [
      "Image processing time: 0.0542147159576416 sec\n",
      "update******\n",
      "Image processing time: 0.09262633323669434 sec\n",
      "update******\n"
     ]
    },
    {
     "name": "stderr",
     "output_type": "stream",
     "text": [
      " 71%|███████   | 848/1201 [03:51<01:43,  3.41it/s]"
     ]
    },
    {
     "name": "stdout",
     "output_type": "stream",
     "text": [
      "Image processing time: 0.12447881698608398 sec\n",
      "update******\n",
      "Image processing time: 0.05618882179260254 sec\n",
      "update******\n"
     ]
    },
    {
     "name": "stderr",
     "output_type": "stream",
     "text": [
      "\r",
      " 71%|███████   | 849/1201 [03:51<01:45,  3.33it/s]"
     ]
    },
    {
     "name": "stdout",
     "output_type": "stream",
     "text": [
      "Image processing time: 0.07610154151916504 sec\n",
      "update******\n"
     ]
    },
    {
     "name": "stderr",
     "output_type": "stream",
     "text": [
      "\r",
      " 71%|███████   | 850/1201 [03:51<01:47,  3.26it/s]"
     ]
    },
    {
     "name": "stdout",
     "output_type": "stream",
     "text": [
      "Image processing time: 0.06597089767456055 sec\n",
      "update******\n"
     ]
    },
    {
     "name": "stderr",
     "output_type": "stream",
     "text": [
      "\r",
      " 71%|███████   | 851/1201 [03:52<01:48,  3.22it/s]"
     ]
    },
    {
     "name": "stdout",
     "output_type": "stream",
     "text": [
      "Image processing time: 0.06792879104614258 sec\n",
      "update******\n"
     ]
    },
    {
     "name": "stderr",
     "output_type": "stream",
     "text": [
      "\r",
      " 71%|███████   | 852/1201 [03:52<01:50,  3.15it/s]"
     ]
    },
    {
     "name": "stdout",
     "output_type": "stream",
     "text": [
      "Image processing time: 0.08111906051635742 sec\n",
      "update******\n"
     ]
    },
    {
     "name": "stderr",
     "output_type": "stream",
     "text": [
      "\r",
      " 71%|███████   | 853/1201 [03:52<01:48,  3.20it/s]"
     ]
    },
    {
     "name": "stdout",
     "output_type": "stream",
     "text": [
      "Image processing time: 0.07673835754394531 sec\n",
      "update******\n"
     ]
    },
    {
     "name": "stderr",
     "output_type": "stream",
     "text": [
      " 71%|███████   | 855/1201 [03:53<01:41,  3.39it/s]"
     ]
    },
    {
     "name": "stdout",
     "output_type": "stream",
     "text": [
      "Image processing time: 0.057378530502319336 sec\n",
      "update******\n"
     ]
    },
    {
     "name": "stderr",
     "output_type": "stream",
     "text": [
      "\r",
      " 71%|███████▏  | 856/1201 [03:53<01:40,  3.42it/s]"
     ]
    },
    {
     "name": "stdout",
     "output_type": "stream",
     "text": [
      "Image processing time: 0.060678958892822266 sec\n",
      "update******\n"
     ]
    },
    {
     "name": "stderr",
     "output_type": "stream",
     "text": [
      "\r",
      " 71%|███████▏  | 857/1201 [03:54<01:36,  3.57it/s]"
     ]
    },
    {
     "name": "stdout",
     "output_type": "stream",
     "text": [
      "Image processing time: 0.05540966987609863 sec\n",
      "update******\n"
     ]
    },
    {
     "name": "stderr",
     "output_type": "stream",
     "text": [
      "\r",
      " 71%|███████▏  | 858/1201 [03:54<01:34,  3.61it/s]"
     ]
    },
    {
     "name": "stdout",
     "output_type": "stream",
     "text": [
      "Image processing time: 0.07564187049865723 sec\n",
      "update******\n"
     ]
    },
    {
     "name": "stderr",
     "output_type": "stream",
     "text": [
      "\r",
      " 72%|███████▏  | 859/1201 [03:54<01:30,  3.78it/s]"
     ]
    },
    {
     "name": "stdout",
     "output_type": "stream",
     "text": [
      "Image processing time: 0.05659365653991699 sec\n",
      "update******\n"
     ]
    },
    {
     "name": "stderr",
     "output_type": "stream",
     "text": [
      "\r",
      " 72%|███████▏  | 860/1201 [03:54<01:31,  3.71it/s]"
     ]
    },
    {
     "name": "stdout",
     "output_type": "stream",
     "text": [
      "Image processing time: 0.07585906982421875 sec\n",
      "update******\n"
     ]
    },
    {
     "name": "stderr",
     "output_type": "stream",
     "text": [
      "\r",
      " 72%|███████▏  | 861/1201 [03:55<01:31,  3.73it/s]"
     ]
    },
    {
     "name": "stdout",
     "output_type": "stream",
     "text": [
      "Image processing time: 0.06012320518493652 sec\n",
      "update******\n"
     ]
    },
    {
     "name": "stderr",
     "output_type": "stream",
     "text": [
      "\r",
      " 72%|███████▏  | 862/1201 [03:55<01:29,  3.80it/s]"
     ]
    },
    {
     "name": "stdout",
     "output_type": "stream",
     "text": [
      "Image processing time: 0.05839109420776367 sec\n",
      "update******\n"
     ]
    },
    {
     "name": "stderr",
     "output_type": "stream",
     "text": [
      "\r",
      " 72%|███████▏  | 863/1201 [03:55<01:27,  3.88it/s]"
     ]
    },
    {
     "name": "stdout",
     "output_type": "stream",
     "text": [
      "Image processing time: 0.04945063591003418 sec\n",
      "update******\n",
      "Image processing time: 0.06124091148376465 sec\n",
      "update******\n"
     ]
    },
    {
     "name": "stderr",
     "output_type": "stream",
     "text": [
      "\r",
      " 72%|███████▏  | 864/1201 [03:55<01:28,  3.79it/s]"
     ]
    },
    {
     "name": "stdout",
     "output_type": "stream",
     "text": [
      "Image processing time: 0.08077836036682129 sec\n",
      "update******\n"
     ]
    },
    {
     "name": "stderr",
     "output_type": "stream",
     "text": [
      "\r",
      " 72%|███████▏  | 865/1201 [03:56<01:37,  3.46it/s]"
     ]
    },
    {
     "name": "stdout",
     "output_type": "stream",
     "text": [
      "Image processing time: 0.08007001876831055 sec\n",
      "update******\n"
     ]
    },
    {
     "name": "stderr",
     "output_type": "stream",
     "text": [
      " 72%|███████▏  | 867/1201 [03:56<01:32,  3.61it/s]"
     ]
    },
    {
     "name": "stdout",
     "output_type": "stream",
     "text": [
      "Image processing time: 0.053366899490356445 sec\n",
      "update******\n"
     ]
    },
    {
     "name": "stderr",
     "output_type": "stream",
     "text": [
      "\r",
      " 72%|███████▏  | 868/1201 [03:56<01:27,  3.79it/s]"
     ]
    },
    {
     "name": "stdout",
     "output_type": "stream",
     "text": [
      "Image processing time: 0.0615999698638916 sec\n",
      "update******\n"
     ]
    },
    {
     "name": "stderr",
     "output_type": "stream",
     "text": [
      "\r",
      " 72%|███████▏  | 869/1201 [03:57<01:29,  3.73it/s]"
     ]
    },
    {
     "name": "stdout",
     "output_type": "stream",
     "text": [
      "Image processing time: 0.09157180786132812 sec\n",
      "update******\n"
     ]
    },
    {
     "name": "stderr",
     "output_type": "stream",
     "text": [
      "\r",
      " 72%|███████▏  | 870/1201 [03:57<01:28,  3.75it/s]"
     ]
    },
    {
     "name": "stdout",
     "output_type": "stream",
     "text": [
      "Image processing time: 0.0749349594116211 sec\n",
      "update******\n"
     ]
    },
    {
     "name": "stderr",
     "output_type": "stream",
     "text": [
      "\r",
      " 73%|███████▎  | 871/1201 [03:57<01:27,  3.79it/s]"
     ]
    },
    {
     "name": "stdout",
     "output_type": "stream",
     "text": [
      "Image processing time: 0.06371569633483887 sec\n",
      "update******\n"
     ]
    },
    {
     "name": "stderr",
     "output_type": "stream",
     "text": [
      "\r",
      " 73%|███████▎  | 872/1201 [03:58<01:25,  3.84it/s]"
     ]
    },
    {
     "name": "stdout",
     "output_type": "stream",
     "text": [
      "Image processing time: 0.06420540809631348 sec\n",
      "update******\n",
      "Image processing time: 0.0605158805847168 sec\n",
      "update******\n"
     ]
    },
    {
     "name": "stderr",
     "output_type": "stream",
     "text": [
      " 73%|███████▎  | 874/1201 [03:58<01:23,  3.93it/s]"
     ]
    },
    {
     "name": "stdout",
     "output_type": "stream",
     "text": [
      "Image processing time: 0.0620572566986084 sec\n",
      "update******\n"
     ]
    },
    {
     "name": "stderr",
     "output_type": "stream",
     "text": [
      "\r",
      " 73%|███████▎  | 875/1201 [03:58<01:23,  3.89it/s]"
     ]
    },
    {
     "name": "stdout",
     "output_type": "stream",
     "text": [
      "Image processing time: 0.07112789154052734 sec\n",
      "update******\n"
     ]
    },
    {
     "name": "stderr",
     "output_type": "stream",
     "text": [
      "\r",
      " 73%|███████▎  | 876/1201 [03:59<01:22,  3.93it/s]"
     ]
    },
    {
     "name": "stdout",
     "output_type": "stream",
     "text": [
      "Image processing time: 0.06566953659057617 sec\n",
      "update******\n"
     ]
    },
    {
     "name": "stderr",
     "output_type": "stream",
     "text": [
      "\r",
      " 73%|███████▎  | 877/1201 [03:59<01:25,  3.80it/s]"
     ]
    },
    {
     "name": "stdout",
     "output_type": "stream",
     "text": [
      "Image processing time: 0.09256505966186523 sec\n",
      "update******\n"
     ]
    },
    {
     "name": "stderr",
     "output_type": "stream",
     "text": [
      "\r",
      " 73%|███████▎  | 878/1201 [03:59<01:24,  3.83it/s]"
     ]
    },
    {
     "name": "stdout",
     "output_type": "stream",
     "text": [
      "Image processing time: 0.07045984268188477 sec\n",
      "update******\n"
     ]
    },
    {
     "name": "stderr",
     "output_type": "stream",
     "text": [
      "\r",
      " 73%|███████▎  | 879/1201 [03:59<01:25,  3.78it/s]"
     ]
    },
    {
     "name": "stdout",
     "output_type": "stream",
     "text": [
      "Image processing time: 0.06970524787902832 sec\n",
      "update******\n"
     ]
    },
    {
     "name": "stderr",
     "output_type": "stream",
     "text": [
      "\r",
      " 73%|███████▎  | 880/1201 [04:00<01:25,  3.75it/s]"
     ]
    },
    {
     "name": "stdout",
     "output_type": "stream",
     "text": [
      "Image processing time: 0.07576680183410645 sec\n",
      "update******\n"
     ]
    },
    {
     "name": "stderr",
     "output_type": "stream",
     "text": [
      "\r",
      " 73%|███████▎  | 881/1201 [04:00<01:24,  3.79it/s]"
     ]
    },
    {
     "name": "stdout",
     "output_type": "stream",
     "text": [
      "Image processing time: 0.07077312469482422 sec\n",
      "update******\n",
      "Image processing time: 0.08535408973693848 sec\n",
      "update******\n"
     ]
    },
    {
     "name": "stderr",
     "output_type": "stream",
     "text": [
      " 74%|███████▎  | 883/1201 [04:00<01:27,  3.65it/s]"
     ]
    },
    {
     "name": "stdout",
     "output_type": "stream",
     "text": [
      "Image processing time: 0.0752260684967041 sec\n",
      "update******\n"
     ]
    },
    {
     "name": "stderr",
     "output_type": "stream",
     "text": [
      "\r",
      " 74%|███████▎  | 884/1201 [04:01<01:25,  3.71it/s]"
     ]
    },
    {
     "name": "stdout",
     "output_type": "stream",
     "text": [
      "Image processing time: 0.06673550605773926 sec\n",
      "update******\n"
     ]
    },
    {
     "name": "stderr",
     "output_type": "stream",
     "text": [
      "\r",
      " 74%|███████▎  | 885/1201 [04:01<01:24,  3.74it/s]"
     ]
    },
    {
     "name": "stdout",
     "output_type": "stream",
     "text": [
      "Image processing time: 0.06636953353881836 sec\n",
      "update******\n"
     ]
    },
    {
     "name": "stderr",
     "output_type": "stream",
     "text": [
      "\r",
      " 74%|███████▍  | 886/1201 [04:01<01:26,  3.63it/s]"
     ]
    },
    {
     "name": "stdout",
     "output_type": "stream",
     "text": [
      "Image processing time: 0.059731245040893555 sec\n",
      "update******\n"
     ]
    },
    {
     "name": "stderr",
     "output_type": "stream",
     "text": [
      "\r",
      " 74%|███████▍  | 887/1201 [04:02<01:25,  3.69it/s]"
     ]
    },
    {
     "name": "stdout",
     "output_type": "stream",
     "text": [
      "Image processing time: 0.07376623153686523 sec\n",
      "update******\n"
     ]
    },
    {
     "name": "stderr",
     "output_type": "stream",
     "text": [
      "\r",
      " 74%|███████▍  | 888/1201 [04:02<01:23,  3.74it/s]"
     ]
    },
    {
     "name": "stdout",
     "output_type": "stream",
     "text": [
      "Image processing time: 0.07691526412963867 sec\n",
      "update******\n"
     ]
    },
    {
     "name": "stderr",
     "output_type": "stream",
     "text": [
      "\r",
      " 74%|███████▍  | 889/1201 [04:02<01:24,  3.68it/s]"
     ]
    },
    {
     "name": "stdout",
     "output_type": "stream",
     "text": [
      "Image processing time: 0.05232858657836914 sec\n",
      "update******\n"
     ]
    },
    {
     "name": "stderr",
     "output_type": "stream",
     "text": [
      "\r",
      " 74%|███████▍  | 890/1201 [04:02<01:25,  3.65it/s]"
     ]
    },
    {
     "name": "stdout",
     "output_type": "stream",
     "text": [
      "Image processing time: 0.07852506637573242 sec\n",
      "update******\n"
     ]
    },
    {
     "name": "stderr",
     "output_type": "stream",
     "text": [
      "\r",
      " 74%|███████▍  | 891/1201 [04:03<01:22,  3.75it/s]"
     ]
    },
    {
     "name": "stdout",
     "output_type": "stream",
     "text": [
      "Image processing time: 0.0650320053100586 sec\n",
      "update******\n"
     ]
    },
    {
     "name": "stderr",
     "output_type": "stream",
     "text": [
      "\r",
      " 74%|███████▍  | 892/1201 [04:03<01:23,  3.72it/s]"
     ]
    },
    {
     "name": "stdout",
     "output_type": "stream",
     "text": [
      "Image processing time: 0.06245255470275879 sec\n",
      "update******\n"
     ]
    },
    {
     "name": "stderr",
     "output_type": "stream",
     "text": [
      "\r",
      " 74%|███████▍  | 893/1201 [04:03<01:20,  3.82it/s]"
     ]
    },
    {
     "name": "stdout",
     "output_type": "stream",
     "text": [
      "Image processing time: 0.05883169174194336 sec\n",
      "update******\n"
     ]
    },
    {
     "name": "stderr",
     "output_type": "stream",
     "text": [
      "\r",
      " 74%|███████▍  | 894/1201 [04:03<01:16,  4.00it/s]"
     ]
    },
    {
     "name": "stdout",
     "output_type": "stream",
     "text": [
      "Image processing time: 0.06678533554077148 sec\n",
      "update******\n",
      "Image processing time: 0.06900787353515625 sec\n",
      "update******\n"
     ]
    },
    {
     "name": "stderr",
     "output_type": "stream",
     "text": [
      " 75%|███████▍  | 896/1201 [04:04<01:21,  3.73it/s]"
     ]
    },
    {
     "name": "stdout",
     "output_type": "stream",
     "text": [
      "Image processing time: 0.0602879524230957 sec\n",
      "update******\n"
     ]
    },
    {
     "name": "stderr",
     "output_type": "stream",
     "text": [
      "\r",
      " 75%|███████▍  | 897/1201 [04:04<01:21,  3.72it/s]"
     ]
    },
    {
     "name": "stdout",
     "output_type": "stream",
     "text": [
      "Image processing time: 0.0700531005859375 sec\n",
      "update******\n"
     ]
    },
    {
     "name": "stderr",
     "output_type": "stream",
     "text": [
      "\r",
      " 75%|███████▍  | 898/1201 [04:04<01:18,  3.87it/s]"
     ]
    },
    {
     "name": "stdout",
     "output_type": "stream",
     "text": [
      "Image processing time: 0.05610942840576172 sec\n",
      "update******\n"
     ]
    },
    {
     "name": "stderr",
     "output_type": "stream",
     "text": [
      "\r",
      " 75%|███████▍  | 899/1201 [04:05<01:18,  3.84it/s]"
     ]
    },
    {
     "name": "stdout",
     "output_type": "stream",
     "text": [
      "Image processing time: 0.07686829566955566 sec\n",
      "update******\n",
      "Image processing time: 0.07487964630126953 sec\n",
      "update******\n"
     ]
    },
    {
     "name": "stderr",
     "output_type": "stream",
     "text": [
      " 75%|███████▌  | 901/1201 [04:05<01:16,  3.92it/s]"
     ]
    },
    {
     "name": "stdout",
     "output_type": "stream",
     "text": [
      "Image processing time: 0.05667471885681152 sec\n",
      "update******\n",
      "Image processing time: 0.05522012710571289 sec\n",
      "update******\n"
     ]
    },
    {
     "name": "stderr",
     "output_type": "stream",
     "text": [
      " 75%|███████▌  | 903/1201 [04:06<01:14,  4.00it/s]"
     ]
    },
    {
     "name": "stdout",
     "output_type": "stream",
     "text": [
      "Image processing time: 0.05698370933532715 sec\n",
      "update******\n"
     ]
    },
    {
     "name": "stderr",
     "output_type": "stream",
     "text": [
      "\r",
      " 75%|███████▌  | 904/1201 [04:06<01:12,  4.08it/s]"
     ]
    },
    {
     "name": "stdout",
     "output_type": "stream",
     "text": [
      "Image processing time: 0.049607038497924805 sec\n",
      "update******\n"
     ]
    },
    {
     "name": "stderr",
     "output_type": "stream",
     "text": [
      "\r",
      " 75%|███████▌  | 905/1201 [04:06<01:13,  4.05it/s]"
     ]
    },
    {
     "name": "stdout",
     "output_type": "stream",
     "text": [
      "Image processing time: 0.06065011024475098 sec\n",
      "update******\n"
     ]
    },
    {
     "name": "stderr",
     "output_type": "stream",
     "text": [
      "\r",
      " 75%|███████▌  | 906/1201 [04:06<01:11,  4.11it/s]"
     ]
    },
    {
     "name": "stdout",
     "output_type": "stream",
     "text": [
      "Image processing time: 0.060915231704711914 sec\n",
      "update******\n"
     ]
    },
    {
     "name": "stderr",
     "output_type": "stream",
     "text": [
      "\r",
      " 76%|███████▌  | 907/1201 [04:07<01:15,  3.89it/s]"
     ]
    },
    {
     "name": "stdout",
     "output_type": "stream",
     "text": [
      "Image processing time: 0.05214643478393555 sec\n",
      "update******\n"
     ]
    },
    {
     "name": "stderr",
     "output_type": "stream",
     "text": [
      "\r",
      " 76%|███████▌  | 908/1201 [04:07<01:15,  3.86it/s]"
     ]
    },
    {
     "name": "stdout",
     "output_type": "stream",
     "text": [
      "Image processing time: 0.0882558822631836 sec\n",
      "update******\n"
     ]
    },
    {
     "name": "stderr",
     "output_type": "stream",
     "text": [
      "\r",
      " 76%|███████▌  | 909/1201 [04:07<01:11,  4.09it/s]"
     ]
    },
    {
     "name": "stdout",
     "output_type": "stream",
     "text": [
      "Image processing time: 0.05811905860900879 sec\n",
      "update******\n"
     ]
    },
    {
     "name": "stderr",
     "output_type": "stream",
     "text": [
      "\r",
      " 76%|███████▌  | 910/1201 [04:07<01:08,  4.27it/s]"
     ]
    },
    {
     "name": "stdout",
     "output_type": "stream",
     "text": [
      "Image processing time: 0.06655216217041016 sec\n",
      "update******\n"
     ]
    },
    {
     "name": "stderr",
     "output_type": "stream",
     "text": [
      "\r",
      " 76%|███████▌  | 911/1201 [04:08<01:08,  4.24it/s]"
     ]
    },
    {
     "name": "stdout",
     "output_type": "stream",
     "text": [
      "Image processing time: 0.07430839538574219 sec\n",
      "update******\n",
      "Image processing time: 0.06328582763671875 sec\n"
     ]
    },
    {
     "name": "stderr",
     "output_type": "stream",
     "text": [
      "\r",
      " 76%|███████▌  | 912/1201 [04:08<01:05,  4.42it/s]"
     ]
    },
    {
     "name": "stdout",
     "output_type": "stream",
     "text": [
      "update******\n",
      "Image processing time: 0.04675650596618652 sec\n"
     ]
    },
    {
     "name": "stderr",
     "output_type": "stream",
     "text": [
      "\r",
      " 76%|███████▌  | 913/1201 [04:08<01:06,  4.30it/s]"
     ]
    },
    {
     "name": "stdout",
     "output_type": "stream",
     "text": [
      "update******\n",
      "Image processing time: 0.0658414363861084 sec\n"
     ]
    },
    {
     "name": "stderr",
     "output_type": "stream",
     "text": [
      "\r",
      " 76%|███████▌  | 914/1201 [04:08<01:09,  4.13it/s]"
     ]
    },
    {
     "name": "stdout",
     "output_type": "stream",
     "text": [
      "update******\n",
      "Image processing time: 0.06741070747375488 sec\n"
     ]
    },
    {
     "name": "stderr",
     "output_type": "stream",
     "text": [
      "\r",
      " 76%|███████▌  | 915/1201 [04:09<01:09,  4.12it/s]"
     ]
    },
    {
     "name": "stdout",
     "output_type": "stream",
     "text": [
      "update******\n",
      "Image processing time: 0.061218976974487305 sec\n"
     ]
    },
    {
     "name": "stderr",
     "output_type": "stream",
     "text": [
      "\r",
      " 76%|███████▋  | 916/1201 [04:09<01:09,  4.10it/s]"
     ]
    },
    {
     "name": "stdout",
     "output_type": "stream",
     "text": [
      "update******\n",
      "Image processing time: 0.0536503791809082 sec\n"
     ]
    },
    {
     "name": "stderr",
     "output_type": "stream",
     "text": [
      "\r",
      " 76%|███████▋  | 917/1201 [04:09<01:09,  4.06it/s]"
     ]
    },
    {
     "name": "stdout",
     "output_type": "stream",
     "text": [
      "update******\n",
      "Image processing time: 0.04912161827087402 sec\n"
     ]
    },
    {
     "name": "stderr",
     "output_type": "stream",
     "text": [
      "\r",
      " 76%|███████▋  | 918/1201 [04:09<01:06,  4.27it/s]"
     ]
    },
    {
     "name": "stdout",
     "output_type": "stream",
     "text": [
      "update******\n",
      "Image processing time: 0.08687591552734375 sec\n"
     ]
    },
    {
     "name": "stderr",
     "output_type": "stream",
     "text": [
      "\r",
      " 77%|███████▋  | 919/1201 [04:10<01:09,  4.07it/s]"
     ]
    },
    {
     "name": "stdout",
     "output_type": "stream",
     "text": [
      "update******\n",
      "Image processing time: 0.05968499183654785 sec\n"
     ]
    },
    {
     "name": "stderr",
     "output_type": "stream",
     "text": [
      "\r",
      " 77%|███████▋  | 920/1201 [04:10<01:07,  4.18it/s]"
     ]
    },
    {
     "name": "stdout",
     "output_type": "stream",
     "text": [
      "update******\n",
      "Image processing time: 0.06064105033874512 sec\n"
     ]
    },
    {
     "name": "stderr",
     "output_type": "stream",
     "text": [
      "\r",
      " 77%|███████▋  | 921/1201 [04:10<01:05,  4.30it/s]"
     ]
    },
    {
     "name": "stdout",
     "output_type": "stream",
     "text": [
      "update******\n",
      "Image processing time: 0.05312776565551758 sec\n"
     ]
    },
    {
     "name": "stderr",
     "output_type": "stream",
     "text": [
      "\r",
      " 77%|███████▋  | 922/1201 [04:10<01:07,  4.14it/s]"
     ]
    },
    {
     "name": "stdout",
     "output_type": "stream",
     "text": [
      "update******\n",
      "Image processing time: 0.07218742370605469 sec\n"
     ]
    },
    {
     "name": "stderr",
     "output_type": "stream",
     "text": [
      "\r",
      " 77%|███████▋  | 923/1201 [04:11<01:10,  3.93it/s]"
     ]
    },
    {
     "name": "stdout",
     "output_type": "stream",
     "text": [
      "update******\n",
      "Image processing time: 0.06265902519226074 sec\n"
     ]
    },
    {
     "name": "stderr",
     "output_type": "stream",
     "text": [
      "\r",
      " 77%|███████▋  | 924/1201 [04:11<01:13,  3.77it/s]"
     ]
    },
    {
     "name": "stdout",
     "output_type": "stream",
     "text": [
      "update******\n",
      "Image processing time: 0.0702965259552002 sec"
     ]
    },
    {
     "name": "stderr",
     "output_type": "stream",
     "text": [
      "\r",
      " 77%|███████▋  | 925/1201 [04:11<01:12,  3.79it/s]"
     ]
    },
    {
     "name": "stdout",
     "output_type": "stream",
     "text": [
      "\n",
      "update******\n",
      "Image processing time: 0.07126569747924805 sec\n"
     ]
    },
    {
     "name": "stderr",
     "output_type": "stream",
     "text": [
      "\r",
      " 77%|███████▋  | 926/1201 [04:11<01:11,  3.85it/s]"
     ]
    },
    {
     "name": "stdout",
     "output_type": "stream",
     "text": [
      "update******\n",
      "Image processing time: 0.08108258247375488 sec\n"
     ]
    },
    {
     "name": "stderr",
     "output_type": "stream",
     "text": [
      "\r",
      " 77%|███████▋  | 927/1201 [04:12<01:13,  3.73it/s]"
     ]
    },
    {
     "name": "stdout",
     "output_type": "stream",
     "text": [
      "update******\n",
      "Image processing time: 0.06338644027709961 sec\n"
     ]
    },
    {
     "name": "stderr",
     "output_type": "stream",
     "text": [
      "\r",
      " 77%|███████▋  | 928/1201 [04:12<01:10,  3.87it/s]"
     ]
    },
    {
     "name": "stdout",
     "output_type": "stream",
     "text": [
      "update******\n",
      "Image processing time: 0.06094694137573242 sec\n"
     ]
    },
    {
     "name": "stderr",
     "output_type": "stream",
     "text": [
      "\r",
      " 77%|███████▋  | 929/1201 [04:12<01:08,  3.98it/s]"
     ]
    },
    {
     "name": "stdout",
     "output_type": "stream",
     "text": [
      "update******\n",
      "Image processing time: 0.05395936965942383 sec\n"
     ]
    },
    {
     "name": "stderr",
     "output_type": "stream",
     "text": [
      "\r",
      " 77%|███████▋  | 930/1201 [04:12<01:03,  4.24it/s]"
     ]
    },
    {
     "name": "stdout",
     "output_type": "stream",
     "text": [
      "update******\n",
      "Image processing time: 0.05292248725891113 sec\n"
     ]
    },
    {
     "name": "stderr",
     "output_type": "stream",
     "text": [
      "\r",
      " 78%|███████▊  | 931/1201 [04:13<01:03,  4.27it/s]"
     ]
    },
    {
     "name": "stdout",
     "output_type": "stream",
     "text": [
      "update******\n",
      "Image processing time: 0.05455517768859863 sec\n"
     ]
    },
    {
     "name": "stderr",
     "output_type": "stream",
     "text": [
      "\r",
      " 78%|███████▊  | 932/1201 [04:13<01:02,  4.28it/s]"
     ]
    },
    {
     "name": "stdout",
     "output_type": "stream",
     "text": [
      "update******\n",
      "Image processing time: 0.06111454963684082 sec\n"
     ]
    },
    {
     "name": "stderr",
     "output_type": "stream",
     "text": [
      "\r",
      " 78%|███████▊  | 933/1201 [04:13<01:03,  4.24it/s]"
     ]
    },
    {
     "name": "stdout",
     "output_type": "stream",
     "text": [
      "update******\n",
      "Image processing time: 0.050841569900512695 sec\n"
     ]
    },
    {
     "name": "stderr",
     "output_type": "stream",
     "text": [
      "\r",
      " 78%|███████▊  | 934/1201 [04:13<01:01,  4.32it/s]"
     ]
    },
    {
     "name": "stdout",
     "output_type": "stream",
     "text": [
      "update******\n",
      "Image processing time: 0.05679941177368164 sec\n"
     ]
    },
    {
     "name": "stderr",
     "output_type": "stream",
     "text": [
      "\r",
      " 78%|███████▊  | 935/1201 [04:13<01:03,  4.22it/s]"
     ]
    },
    {
     "name": "stdout",
     "output_type": "stream",
     "text": [
      "update******\n",
      "Image processing time: 0.057271480560302734 sec\n"
     ]
    },
    {
     "name": "stderr",
     "output_type": "stream",
     "text": [
      "\r",
      " 78%|███████▊  | 936/1201 [04:14<01:01,  4.31it/s]"
     ]
    },
    {
     "name": "stdout",
     "output_type": "stream",
     "text": [
      "update******\n",
      "Image processing time: 0.050081491470336914 sec\n",
      "update******\n"
     ]
    },
    {
     "name": "stderr",
     "output_type": "stream",
     "text": [
      " 78%|███████▊  | 938/1201 [04:14<00:59,  4.41it/s]"
     ]
    },
    {
     "name": "stdout",
     "output_type": "stream",
     "text": [
      "Image processing time: 0.06425809860229492 sec\n",
      "update******\n"
     ]
    },
    {
     "name": "stderr",
     "output_type": "stream",
     "text": [
      "\r",
      " 78%|███████▊  | 939/1201 [04:14<01:04,  4.09it/s]"
     ]
    },
    {
     "name": "stdout",
     "output_type": "stream",
     "text": [
      "Image processing time: 0.08248686790466309 sec\n",
      "update******\n",
      "Image processing time: 0.1397395133972168 sec\n",
      "update******\n"
     ]
    },
    {
     "name": "stderr",
     "output_type": "stream",
     "text": [
      " 78%|███████▊  | 941/1201 [04:15<01:10,  3.71it/s]"
     ]
    },
    {
     "name": "stdout",
     "output_type": "stream",
     "text": [
      "Image processing time: 0.06079721450805664 sec\n",
      "update******\n"
     ]
    },
    {
     "name": "stderr",
     "output_type": "stream",
     "text": [
      "\r",
      " 78%|███████▊  | 942/1201 [04:15<01:10,  3.70it/s]"
     ]
    },
    {
     "name": "stdout",
     "output_type": "stream",
     "text": [
      "Image processing time: 0.08557581901550293 sec\n",
      "update******\n"
     ]
    },
    {
     "name": "stderr",
     "output_type": "stream",
     "text": [
      "\r",
      " 79%|███████▊  | 943/1201 [04:16<01:12,  3.56it/s]"
     ]
    },
    {
     "name": "stdout",
     "output_type": "stream",
     "text": [
      "Image processing time: 0.06410932540893555 sec\n",
      "update******\n"
     ]
    },
    {
     "name": "stderr",
     "output_type": "stream",
     "text": [
      "\r",
      " 79%|███████▊  | 944/1201 [04:16<01:12,  3.54it/s]"
     ]
    },
    {
     "name": "stdout",
     "output_type": "stream",
     "text": [
      "Image processing time: 0.08135056495666504 sec\n",
      "update******\n"
     ]
    },
    {
     "name": "stderr",
     "output_type": "stream",
     "text": [
      "\r",
      " 79%|███████▊  | 945/1201 [04:16<01:08,  3.75it/s]"
     ]
    },
    {
     "name": "stdout",
     "output_type": "stream",
     "text": [
      "Image processing time: 0.0585324764251709 sec\n",
      "update******\n",
      "Image processing time: 0.08378076553344727 sec\n",
      "update******\n"
     ]
    },
    {
     "name": "stderr",
     "output_type": "stream",
     "text": [
      "\r",
      " 79%|███████▉  | 946/1201 [04:16<01:10,  3.61it/s]"
     ]
    },
    {
     "name": "stdout",
     "output_type": "stream",
     "text": [
      "Image processing time: 0.07945895195007324 sec\n",
      "update******\n"
     ]
    },
    {
     "name": "stderr",
     "output_type": "stream",
     "text": [
      "\r",
      " 79%|███████▉  | 947/1201 [04:17<01:17,  3.29it/s]"
     ]
    },
    {
     "name": "stdout",
     "output_type": "stream",
     "text": [
      "Image processing time: 0.10450220108032227 sec\n",
      "update******\n"
     ]
    },
    {
     "name": "stderr",
     "output_type": "stream",
     "text": [
      " 79%|███████▉  | 949/1201 [04:17<01:14,  3.39it/s]"
     ]
    },
    {
     "name": "stdout",
     "output_type": "stream",
     "text": [
      "Image processing time: 0.05850410461425781 sec\n",
      "update******\n",
      "Image processing time: 0.12585902214050293 sec\n",
      "update******\n"
     ]
    },
    {
     "name": "stderr",
     "output_type": "stream",
     "text": [
      "\r",
      " 79%|███████▉  | 950/1201 [04:18<01:29,  2.82it/s]"
     ]
    },
    {
     "name": "stdout",
     "output_type": "stream",
     "text": [
      "Image processing time: 0.06524491310119629 sec\n",
      "update******\n"
     ]
    },
    {
     "name": "stderr",
     "output_type": "stream",
     "text": [
      " 79%|███████▉  | 952/1201 [04:18<01:19,  3.15it/s]"
     ]
    },
    {
     "name": "stdout",
     "output_type": "stream",
     "text": [
      "Image processing time: 0.09379792213439941 sec\n",
      "update******\n"
     ]
    },
    {
     "name": "stderr",
     "output_type": "stream",
     "text": [
      "\r",
      " 79%|███████▉  | 953/1201 [04:19<01:12,  3.41it/s]"
     ]
    },
    {
     "name": "stdout",
     "output_type": "stream",
     "text": [
      "Image processing time: 0.06457281112670898 sec\n",
      "update******\n"
     ]
    },
    {
     "name": "stderr",
     "output_type": "stream",
     "text": [
      "\r",
      " 79%|███████▉  | 954/1201 [04:19<01:08,  3.59it/s]"
     ]
    },
    {
     "name": "stdout",
     "output_type": "stream",
     "text": [
      "Image processing time: 0.06869721412658691 sec\n",
      "update******\n"
     ]
    },
    {
     "name": "stderr",
     "output_type": "stream",
     "text": [
      "\r",
      " 80%|███████▉  | 955/1201 [04:19<01:03,  3.89it/s]"
     ]
    },
    {
     "name": "stdout",
     "output_type": "stream",
     "text": [
      "Image processing time: 0.051555633544921875 sec\n",
      "update******\n"
     ]
    },
    {
     "name": "stderr",
     "output_type": "stream",
     "text": [
      "\r",
      " 80%|███████▉  | 956/1201 [04:19<00:59,  4.10it/s]"
     ]
    },
    {
     "name": "stdout",
     "output_type": "stream",
     "text": [
      "Image processing time: 0.05883216857910156 sec\n",
      "update******\n"
     ]
    },
    {
     "name": "stderr",
     "output_type": "stream",
     "text": [
      "\r",
      " 80%|███████▉  | 957/1201 [04:20<00:59,  4.13it/s]"
     ]
    },
    {
     "name": "stdout",
     "output_type": "stream",
     "text": [
      "Image processing time: 0.06438493728637695 sec\n",
      "update******\n"
     ]
    },
    {
     "name": "stderr",
     "output_type": "stream",
     "text": [
      "\r",
      " 80%|███████▉  | 958/1201 [04:20<00:57,  4.26it/s]"
     ]
    },
    {
     "name": "stdout",
     "output_type": "stream",
     "text": [
      "Image processing time: 0.055402278900146484 sec\n",
      "update******\n"
     ]
    },
    {
     "name": "stderr",
     "output_type": "stream",
     "text": [
      "\r",
      " 80%|███████▉  | 959/1201 [04:20<00:57,  4.17it/s]"
     ]
    },
    {
     "name": "stdout",
     "output_type": "stream",
     "text": [
      "Image processing time: 0.054854393005371094 sec\n",
      "update******\n"
     ]
    },
    {
     "name": "stderr",
     "output_type": "stream",
     "text": [
      "\r",
      " 80%|███████▉  | 960/1201 [04:20<00:58,  4.13it/s]"
     ]
    },
    {
     "name": "stdout",
     "output_type": "stream",
     "text": [
      "Image processing time: 0.07256102561950684 sec\n",
      "update******\n"
     ]
    },
    {
     "name": "stderr",
     "output_type": "stream",
     "text": [
      "\r",
      " 80%|████████  | 961/1201 [04:21<00:59,  4.03it/s]"
     ]
    },
    {
     "name": "stdout",
     "output_type": "stream",
     "text": [
      "Image processing time: 0.06285619735717773 sec\n",
      "update******\n"
     ]
    },
    {
     "name": "stderr",
     "output_type": "stream",
     "text": [
      "\r",
      " 80%|████████  | 962/1201 [04:21<00:59,  3.99it/s]"
     ]
    },
    {
     "name": "stdout",
     "output_type": "stream",
     "text": [
      "Image processing time: 0.05810046195983887 sec\n",
      "update******\n"
     ]
    },
    {
     "name": "stderr",
     "output_type": "stream",
     "text": [
      "\r",
      " 80%|████████  | 963/1201 [04:21<00:57,  4.15it/s]"
     ]
    },
    {
     "name": "stdout",
     "output_type": "stream",
     "text": [
      "Image processing time: 0.06356263160705566 sec\n",
      "update******\n"
     ]
    },
    {
     "name": "stderr",
     "output_type": "stream",
     "text": [
      "\r",
      " 80%|████████  | 964/1201 [04:21<00:56,  4.16it/s]"
     ]
    },
    {
     "name": "stdout",
     "output_type": "stream",
     "text": [
      "Image processing time: 0.07349777221679688 sec\n",
      "update******\n"
     ]
    },
    {
     "name": "stderr",
     "output_type": "stream",
     "text": [
      "\r",
      " 80%|████████  | 965/1201 [04:22<00:58,  4.00it/s]"
     ]
    },
    {
     "name": "stdout",
     "output_type": "stream",
     "text": [
      "Image processing time: 0.10073399543762207 sec\n",
      "update******\n"
     ]
    },
    {
     "name": "stderr",
     "output_type": "stream",
     "text": [
      "\r",
      " 80%|████████  | 966/1201 [04:22<01:00,  3.91it/s]"
     ]
    },
    {
     "name": "stdout",
     "output_type": "stream",
     "text": [
      "Image processing time: 0.07898521423339844 sec\n",
      "update******\n"
     ]
    },
    {
     "name": "stderr",
     "output_type": "stream",
     "text": [
      "\r",
      " 81%|████████  | 967/1201 [04:22<00:59,  3.96it/s]"
     ]
    },
    {
     "name": "stdout",
     "output_type": "stream",
     "text": [
      "Image processing time: 0.07660031318664551 sec\n",
      "update******\n"
     ]
    },
    {
     "name": "stderr",
     "output_type": "stream",
     "text": [
      "\r",
      " 81%|████████  | 968/1201 [04:22<00:55,  4.18it/s]"
     ]
    },
    {
     "name": "stdout",
     "output_type": "stream",
     "text": [
      "Image processing time: 0.06589531898498535 sec\n",
      "update******\n"
     ]
    },
    {
     "name": "stderr",
     "output_type": "stream",
     "text": [
      "\r",
      " 81%|████████  | 969/1201 [04:23<00:56,  4.10it/s]"
     ]
    },
    {
     "name": "stdout",
     "output_type": "stream",
     "text": [
      "Image processing time: 0.07095813751220703 sec\n",
      "update******\n"
     ]
    },
    {
     "name": "stderr",
     "output_type": "stream",
     "text": [
      "\r",
      " 81%|████████  | 970/1201 [04:23<00:58,  3.93it/s]"
     ]
    },
    {
     "name": "stdout",
     "output_type": "stream",
     "text": [
      "Image processing time: 0.07500791549682617 sec\n",
      "update******\n"
     ]
    },
    {
     "name": "stderr",
     "output_type": "stream",
     "text": [
      "\r",
      " 81%|████████  | 971/1201 [04:23<00:57,  3.98it/s]"
     ]
    },
    {
     "name": "stdout",
     "output_type": "stream",
     "text": [
      "Image processing time: 0.08787298202514648 sec\n",
      "update******\n"
     ]
    },
    {
     "name": "stderr",
     "output_type": "stream",
     "text": [
      "\r",
      " 81%|████████  | 972/1201 [04:23<00:58,  3.93it/s]"
     ]
    },
    {
     "name": "stdout",
     "output_type": "stream",
     "text": [
      "Image processing time: 0.07295489311218262 sec\n",
      "update******\n"
     ]
    },
    {
     "name": "stderr",
     "output_type": "stream",
     "text": [
      "\r",
      " 81%|████████  | 973/1201 [04:24<00:58,  3.88it/s]"
     ]
    },
    {
     "name": "stdout",
     "output_type": "stream",
     "text": [
      "Image processing time: 0.09430336952209473 sec\n",
      "update******\n"
     ]
    },
    {
     "name": "stderr",
     "output_type": "stream",
     "text": [
      "\r",
      " 81%|████████  | 974/1201 [04:24<00:55,  4.10it/s]"
     ]
    },
    {
     "name": "stdout",
     "output_type": "stream",
     "text": [
      "Image processing time: 0.05997133255004883 sec\n",
      "update******\n"
     ]
    },
    {
     "name": "stderr",
     "output_type": "stream",
     "text": [
      "\r",
      " 81%|████████  | 975/1201 [04:24<00:51,  4.37it/s]"
     ]
    },
    {
     "name": "stdout",
     "output_type": "stream",
     "text": [
      "Image processing time: 0.06004643440246582 sec\n",
      "update******\n"
     ]
    },
    {
     "name": "stderr",
     "output_type": "stream",
     "text": [
      "\r",
      " 81%|████████▏ | 976/1201 [04:24<00:54,  4.14it/s]"
     ]
    },
    {
     "name": "stdout",
     "output_type": "stream",
     "text": [
      "Image processing time: 0.07747387886047363 sec\n",
      "update******\n"
     ]
    },
    {
     "name": "stderr",
     "output_type": "stream",
     "text": [
      "\r",
      " 81%|████████▏ | 977/1201 [04:25<00:54,  4.10it/s]"
     ]
    },
    {
     "name": "stdout",
     "output_type": "stream",
     "text": [
      "Image processing time: 0.06868910789489746 sec\n",
      "update******\n"
     ]
    },
    {
     "name": "stderr",
     "output_type": "stream",
     "text": [
      "\r",
      " 81%|████████▏ | 978/1201 [04:25<00:55,  4.04it/s]"
     ]
    },
    {
     "name": "stdout",
     "output_type": "stream",
     "text": [
      "Image processing time: 0.0816488265991211 sec\n",
      "update******\n"
     ]
    },
    {
     "name": "stderr",
     "output_type": "stream",
     "text": [
      "\r",
      " 82%|████████▏ | 979/1201 [04:25<00:53,  4.12it/s]"
     ]
    },
    {
     "name": "stdout",
     "output_type": "stream",
     "text": [
      "Image processing time: 0.057492971420288086 sec\n",
      "update******\n"
     ]
    },
    {
     "name": "stderr",
     "output_type": "stream",
     "text": [
      "\r",
      " 82%|████████▏ | 980/1201 [04:25<00:53,  4.15it/s]"
     ]
    },
    {
     "name": "stdout",
     "output_type": "stream",
     "text": [
      "Image processing time: 0.0694417953491211 sec\n",
      "update******\n"
     ]
    },
    {
     "name": "stderr",
     "output_type": "stream",
     "text": [
      "\r",
      " 82%|████████▏ | 981/1201 [04:25<00:54,  4.05it/s]"
     ]
    },
    {
     "name": "stdout",
     "output_type": "stream",
     "text": [
      "Image processing time: 0.07365798950195312 sec\n",
      "update******\n"
     ]
    },
    {
     "name": "stderr",
     "output_type": "stream",
     "text": [
      "\r",
      " 82%|████████▏ | 982/1201 [04:26<00:55,  3.96it/s]"
     ]
    },
    {
     "name": "stdout",
     "output_type": "stream",
     "text": [
      "Image processing time: 0.06624507904052734 sec\n",
      "update******\n"
     ]
    },
    {
     "name": "stderr",
     "output_type": "stream",
     "text": [
      "\r",
      " 82%|████████▏ | 983/1201 [04:26<00:53,  4.05it/s]"
     ]
    },
    {
     "name": "stdout",
     "output_type": "stream",
     "text": [
      "Image processing time: 0.055629730224609375 sec\n",
      "update******\n"
     ]
    },
    {
     "name": "stderr",
     "output_type": "stream",
     "text": [
      "\r",
      " 82%|████████▏ | 984/1201 [04:26<00:52,  4.16it/s]"
     ]
    },
    {
     "name": "stdout",
     "output_type": "stream",
     "text": [
      "Image processing time: 0.0558161735534668 sec\n",
      "update******\n"
     ]
    },
    {
     "name": "stderr",
     "output_type": "stream",
     "text": [
      "\r",
      " 82%|████████▏ | 985/1201 [04:27<00:56,  3.82it/s]"
     ]
    },
    {
     "name": "stdout",
     "output_type": "stream",
     "text": [
      "Image processing time: 0.09581208229064941 sec\n",
      "update******\n"
     ]
    },
    {
     "name": "stderr",
     "output_type": "stream",
     "text": [
      "\r",
      " 82%|████████▏ | 986/1201 [04:27<00:55,  3.85it/s]"
     ]
    },
    {
     "name": "stdout",
     "output_type": "stream",
     "text": [
      "Image processing time: 0.08582568168640137 sec\n",
      "update******\n"
     ]
    },
    {
     "name": "stderr",
     "output_type": "stream",
     "text": [
      "\r",
      " 82%|████████▏ | 987/1201 [04:27<00:56,  3.76it/s]"
     ]
    },
    {
     "name": "stdout",
     "output_type": "stream",
     "text": [
      "Image processing time: 0.07208752632141113 sec\n",
      "update******\n"
     ]
    },
    {
     "name": "stderr",
     "output_type": "stream",
     "text": [
      "\r",
      " 82%|████████▏ | 988/1201 [04:27<00:53,  3.95it/s]"
     ]
    },
    {
     "name": "stdout",
     "output_type": "stream",
     "text": [
      "Image processing time: 0.05626034736633301 sec\n",
      "update******\n"
     ]
    },
    {
     "name": "stderr",
     "output_type": "stream",
     "text": [
      "\r",
      " 82%|████████▏ | 989/1201 [04:28<00:53,  3.97it/s]"
     ]
    },
    {
     "name": "stdout",
     "output_type": "stream",
     "text": [
      "Image processing time: 0.06438803672790527 sec\n",
      "update******\n"
     ]
    },
    {
     "name": "stderr",
     "output_type": "stream",
     "text": [
      "\r",
      " 82%|████████▏ | 990/1201 [04:28<00:54,  3.86it/s]"
     ]
    },
    {
     "name": "stdout",
     "output_type": "stream",
     "text": [
      "Image processing time: 0.08163714408874512 sec\n",
      "update******\n"
     ]
    },
    {
     "name": "stderr",
     "output_type": "stream",
     "text": [
      "\r",
      " 83%|████████▎ | 991/1201 [04:28<00:52,  3.97it/s]"
     ]
    },
    {
     "name": "stdout",
     "output_type": "stream",
     "text": [
      "Image processing time: 0.07207489013671875 sec\n",
      "update******\n"
     ]
    },
    {
     "name": "stderr",
     "output_type": "stream",
     "text": [
      "\r",
      " 83%|████████▎ | 992/1201 [04:28<00:51,  4.05it/s]"
     ]
    },
    {
     "name": "stdout",
     "output_type": "stream",
     "text": [
      "Image processing time: 0.0626523494720459 sec\n",
      "update******\n"
     ]
    },
    {
     "name": "stderr",
     "output_type": "stream",
     "text": [
      "\r",
      " 83%|████████▎ | 993/1201 [04:29<00:52,  3.97it/s]"
     ]
    },
    {
     "name": "stdout",
     "output_type": "stream",
     "text": [
      "Image processing time: 0.08918023109436035 sec\n",
      "update******\n"
     ]
    },
    {
     "name": "stderr",
     "output_type": "stream",
     "text": [
      "\r",
      " 83%|████████▎ | 994/1201 [04:29<00:50,  4.13it/s]"
     ]
    },
    {
     "name": "stdout",
     "output_type": "stream",
     "text": [
      "Image processing time: 0.05986332893371582 sec\n",
      "update******\n"
     ]
    },
    {
     "name": "stderr",
     "output_type": "stream",
     "text": [
      "\r",
      " 83%|████████▎ | 995/1201 [04:29<00:49,  4.20it/s]"
     ]
    },
    {
     "name": "stdout",
     "output_type": "stream",
     "text": [
      "Image processing time: 0.07085776329040527 sec\n",
      "update******\n"
     ]
    },
    {
     "name": "stderr",
     "output_type": "stream",
     "text": [
      "\r",
      " 83%|████████▎ | 996/1201 [04:29<00:48,  4.20it/s]"
     ]
    },
    {
     "name": "stdout",
     "output_type": "stream",
     "text": [
      "Image processing time: 0.06549906730651855 sec\n",
      "update******\n"
     ]
    },
    {
     "name": "stderr",
     "output_type": "stream",
     "text": [
      "\r",
      " 83%|████████▎ | 997/1201 [04:29<00:47,  4.25it/s]"
     ]
    },
    {
     "name": "stdout",
     "output_type": "stream",
     "text": [
      "Image processing time: 0.07537579536437988 sec\n",
      "update******\n"
     ]
    },
    {
     "name": "stderr",
     "output_type": "stream",
     "text": [
      "\r",
      " 83%|████████▎ | 998/1201 [04:30<00:48,  4.20it/s]"
     ]
    },
    {
     "name": "stdout",
     "output_type": "stream",
     "text": [
      "Image processing time: 0.08063292503356934 sec\n",
      "update******\n"
     ]
    },
    {
     "name": "stderr",
     "output_type": "stream",
     "text": [
      "\r",
      " 83%|████████▎ | 999/1201 [04:30<00:48,  4.17it/s]"
     ]
    },
    {
     "name": "stdout",
     "output_type": "stream",
     "text": [
      "Image processing time: 0.08627438545227051 sec\n",
      "update******\n"
     ]
    },
    {
     "name": "stderr",
     "output_type": "stream",
     "text": [
      "\r",
      " 83%|████████▎ | 1000/1201 [04:30<00:49,  4.05it/s]"
     ]
    },
    {
     "name": "stdout",
     "output_type": "stream",
     "text": [
      "Image processing time: 0.0848844051361084 sec\n",
      "update******\n"
     ]
    },
    {
     "name": "stderr",
     "output_type": "stream",
     "text": [
      "\r",
      " 83%|████████▎ | 1001/1201 [04:30<00:49,  4.07it/s]"
     ]
    },
    {
     "name": "stdout",
     "output_type": "stream",
     "text": [
      "Image processing time: 0.05809617042541504 sec\n",
      "update******\n"
     ]
    },
    {
     "name": "stderr",
     "output_type": "stream",
     "text": [
      "\r",
      " 83%|████████▎ | 1002/1201 [04:31<00:47,  4.17it/s]"
     ]
    },
    {
     "name": "stdout",
     "output_type": "stream",
     "text": [
      "Image processing time: 0.06059408187866211 sec\n",
      "update******\n"
     ]
    },
    {
     "name": "stderr",
     "output_type": "stream",
     "text": [
      "\r",
      " 84%|████████▎ | 1003/1201 [04:31<00:46,  4.22it/s]"
     ]
    },
    {
     "name": "stdout",
     "output_type": "stream",
     "text": [
      "Image processing time: 0.0692598819732666 sec\n",
      "update******\n",
      "Image processing time: 0.050818443298339844 sec\n"
     ]
    },
    {
     "name": "stderr",
     "output_type": "stream",
     "text": [
      "\r",
      " 84%|████████▎ | 1004/1201 [04:31<00:45,  4.30it/s]"
     ]
    },
    {
     "name": "stdout",
     "output_type": "stream",
     "text": [
      "update******\n",
      "Image processing time: 0.0636453628540039 sec\n"
     ]
    },
    {
     "name": "stderr",
     "output_type": "stream",
     "text": [
      "\r",
      " 84%|████████▎ | 1005/1201 [04:31<00:46,  4.25it/s]"
     ]
    },
    {
     "name": "stdout",
     "output_type": "stream",
     "text": [
      "update******\n",
      "Image processing time: 0.05692720413208008 sec\n"
     ]
    },
    {
     "name": "stderr",
     "output_type": "stream",
     "text": [
      "\r",
      " 84%|████████▍ | 1006/1201 [04:32<00:45,  4.33it/s]"
     ]
    },
    {
     "name": "stdout",
     "output_type": "stream",
     "text": [
      "update******\n",
      "Image processing time: 0.06290960311889648 sec\n"
     ]
    },
    {
     "name": "stderr",
     "output_type": "stream",
     "text": [
      "\r",
      " 84%|████████▍ | 1007/1201 [04:32<00:44,  4.36it/s]"
     ]
    },
    {
     "name": "stdout",
     "output_type": "stream",
     "text": [
      "update******\n",
      "Image processing time: 0.056015968322753906 sec\n"
     ]
    },
    {
     "name": "stderr",
     "output_type": "stream",
     "text": [
      "\r",
      " 84%|████████▍ | 1008/1201 [04:32<00:45,  4.25it/s]"
     ]
    },
    {
     "name": "stdout",
     "output_type": "stream",
     "text": [
      "update******\n",
      "Image processing time: 0.04857921600341797 sec\n",
      "update******\n"
     ]
    },
    {
     "name": "stderr",
     "output_type": "stream",
     "text": [
      " 84%|████████▍ | 1010/1201 [04:33<00:43,  4.41it/s]"
     ]
    },
    {
     "name": "stdout",
     "output_type": "stream",
     "text": [
      "Image processing time: 0.05175280570983887 sec\n",
      "update******\n"
     ]
    },
    {
     "name": "stderr",
     "output_type": "stream",
     "text": [
      "\r",
      " 84%|████████▍ | 1011/1201 [04:33<00:44,  4.30it/s]"
     ]
    },
    {
     "name": "stdout",
     "output_type": "stream",
     "text": [
      "Image processing time: 0.06990170478820801 sec\n",
      "update******\n"
     ]
    },
    {
     "name": "stderr",
     "output_type": "stream",
     "text": [
      "\r",
      " 84%|████████▍ | 1012/1201 [04:33<00:44,  4.25it/s]"
     ]
    },
    {
     "name": "stdout",
     "output_type": "stream",
     "text": [
      "Image processing time: 0.05600094795227051 sec\n",
      "update******\n"
     ]
    },
    {
     "name": "stderr",
     "output_type": "stream",
     "text": [
      "\r",
      " 84%|████████▍ | 1013/1201 [04:33<00:44,  4.22it/s]"
     ]
    },
    {
     "name": "stdout",
     "output_type": "stream",
     "text": [
      "Image processing time: 0.057379722595214844 sec\n",
      "update******\n"
     ]
    },
    {
     "name": "stderr",
     "output_type": "stream",
     "text": [
      "\r",
      " 84%|████████▍ | 1014/1201 [04:33<00:43,  4.28it/s]"
     ]
    },
    {
     "name": "stdout",
     "output_type": "stream",
     "text": [
      "Image processing time: 0.06582069396972656 sec\n",
      "update******\n"
     ]
    },
    {
     "name": "stderr",
     "output_type": "stream",
     "text": [
      "\r",
      " 85%|████████▍ | 1015/1201 [04:34<00:44,  4.18it/s]"
     ]
    },
    {
     "name": "stdout",
     "output_type": "stream",
     "text": [
      "Image processing time: 0.08189511299133301 sec\n",
      "update******\n"
     ]
    },
    {
     "name": "stderr",
     "output_type": "stream",
     "text": [
      "\r",
      " 85%|████████▍ | 1016/1201 [04:34<00:44,  4.20it/s]"
     ]
    },
    {
     "name": "stdout",
     "output_type": "stream",
     "text": [
      "Image processing time: 0.06544852256774902 sec\n",
      "update******\n"
     ]
    },
    {
     "name": "stderr",
     "output_type": "stream",
     "text": [
      "\r",
      " 85%|████████▍ | 1017/1201 [04:34<00:44,  4.14it/s]"
     ]
    },
    {
     "name": "stdout",
     "output_type": "stream",
     "text": [
      "Image processing time: 0.066436767578125 sec\n",
      "update******\n"
     ]
    },
    {
     "name": "stderr",
     "output_type": "stream",
     "text": [
      "\r",
      " 85%|████████▍ | 1018/1201 [04:34<00:44,  4.09it/s]"
     ]
    },
    {
     "name": "stdout",
     "output_type": "stream",
     "text": [
      "Image processing time: 0.05693697929382324 sec\n",
      "update******\n"
     ]
    },
    {
     "name": "stderr",
     "output_type": "stream",
     "text": [
      "\r",
      " 85%|████████▍ | 1019/1201 [04:35<00:44,  4.09it/s]"
     ]
    },
    {
     "name": "stdout",
     "output_type": "stream",
     "text": [
      "Image processing time: 0.06809210777282715 sec\n",
      "update******\n"
     ]
    },
    {
     "name": "stderr",
     "output_type": "stream",
     "text": [
      "\r",
      " 85%|████████▍ | 1020/1201 [04:35<00:44,  4.10it/s]"
     ]
    },
    {
     "name": "stdout",
     "output_type": "stream",
     "text": [
      "Image processing time: 0.07093501091003418 sec\n",
      "update******\n"
     ]
    },
    {
     "name": "stderr",
     "output_type": "stream",
     "text": [
      "\r",
      " 85%|████████▌ | 1021/1201 [04:35<00:42,  4.23it/s]"
     ]
    },
    {
     "name": "stdout",
     "output_type": "stream",
     "text": [
      "Image processing time: 0.06286954879760742 sec\n",
      "update******\n"
     ]
    },
    {
     "name": "stderr",
     "output_type": "stream",
     "text": [
      "\r",
      " 85%|████████▌ | 1022/1201 [04:35<00:41,  4.30it/s]"
     ]
    },
    {
     "name": "stdout",
     "output_type": "stream",
     "text": [
      "Image processing time: 0.05950427055358887 sec\n",
      "update******\n"
     ]
    },
    {
     "name": "stderr",
     "output_type": "stream",
     "text": [
      "\r",
      " 85%|████████▌ | 1023/1201 [04:36<00:41,  4.27it/s]"
     ]
    },
    {
     "name": "stdout",
     "output_type": "stream",
     "text": [
      "Image processing time: 0.07749342918395996 sec\n",
      "update******\n"
     ]
    },
    {
     "name": "stderr",
     "output_type": "stream",
     "text": [
      "\r",
      " 85%|████████▌ | 1024/1201 [04:36<00:40,  4.35it/s]"
     ]
    },
    {
     "name": "stdout",
     "output_type": "stream",
     "text": [
      "Image processing time: 0.06711864471435547 sec\n",
      "update******\n"
     ]
    },
    {
     "name": "stderr",
     "output_type": "stream",
     "text": [
      "\r",
      " 85%|████████▌ | 1025/1201 [04:36<00:40,  4.37it/s]"
     ]
    },
    {
     "name": "stdout",
     "output_type": "stream",
     "text": [
      "Image processing time: 0.06783151626586914 sec\n",
      "update******\n"
     ]
    },
    {
     "name": "stderr",
     "output_type": "stream",
     "text": [
      "\r",
      " 85%|████████▌ | 1026/1201 [04:36<00:40,  4.32it/s]"
     ]
    },
    {
     "name": "stdout",
     "output_type": "stream",
     "text": [
      "Image processing time: 0.07291769981384277 sec\n",
      "update******\n"
     ]
    },
    {
     "name": "stderr",
     "output_type": "stream",
     "text": [
      "\r",
      " 86%|████████▌ | 1027/1201 [04:37<00:40,  4.30it/s]"
     ]
    },
    {
     "name": "stdout",
     "output_type": "stream",
     "text": [
      "Image processing time: 0.07647156715393066 sec\n",
      "update******\n"
     ]
    },
    {
     "name": "stderr",
     "output_type": "stream",
     "text": [
      "\r",
      " 86%|████████▌ | 1028/1201 [04:37<00:40,  4.25it/s]"
     ]
    },
    {
     "name": "stdout",
     "output_type": "stream",
     "text": [
      "Image processing time: 0.06300163269042969 sec\n",
      "update******\n"
     ]
    },
    {
     "name": "stderr",
     "output_type": "stream",
     "text": [
      "\r",
      " 86%|████████▌ | 1029/1201 [04:37<00:40,  4.26it/s]"
     ]
    },
    {
     "name": "stdout",
     "output_type": "stream",
     "text": [
      "Image processing time: 0.07272648811340332 sec\n",
      "update******\n"
     ]
    },
    {
     "name": "stderr",
     "output_type": "stream",
     "text": [
      "\r",
      " 86%|████████▌ | 1030/1201 [04:37<00:39,  4.30it/s]"
     ]
    },
    {
     "name": "stdout",
     "output_type": "stream",
     "text": [
      "Image processing time: 0.06167125701904297 sec\n",
      "update******\n"
     ]
    },
    {
     "name": "stderr",
     "output_type": "stream",
     "text": [
      "\r",
      " 86%|████████▌ | 1031/1201 [04:37<00:39,  4.27it/s]"
     ]
    },
    {
     "name": "stdout",
     "output_type": "stream",
     "text": [
      "Image processing time: 0.055119991302490234 sec\n",
      "update******\n"
     ]
    },
    {
     "name": "stderr",
     "output_type": "stream",
     "text": [
      "\r",
      " 86%|████████▌ | 1032/1201 [04:38<00:40,  4.17it/s]"
     ]
    },
    {
     "name": "stdout",
     "output_type": "stream",
     "text": [
      "Image processing time: 0.0856637954711914 sec\n",
      "update******\n"
     ]
    },
    {
     "name": "stderr",
     "output_type": "stream",
     "text": [
      "\r",
      " 86%|████████▌ | 1033/1201 [04:38<00:41,  4.07it/s]"
     ]
    },
    {
     "name": "stdout",
     "output_type": "stream",
     "text": [
      "Image processing time: 0.08278965950012207 sec\n",
      "update******\n"
     ]
    },
    {
     "name": "stderr",
     "output_type": "stream",
     "text": [
      "\r",
      " 86%|████████▌ | 1034/1201 [04:38<00:40,  4.12it/s]"
     ]
    },
    {
     "name": "stdout",
     "output_type": "stream",
     "text": [
      "Image processing time: 0.06502532958984375 sec\n",
      "update******\n"
     ]
    },
    {
     "name": "stderr",
     "output_type": "stream",
     "text": [
      "\r",
      " 86%|████████▌ | 1035/1201 [04:38<00:40,  4.12it/s]"
     ]
    },
    {
     "name": "stdout",
     "output_type": "stream",
     "text": [
      "Image processing time: 0.08211207389831543 sec\n",
      "update******\n"
     ]
    },
    {
     "name": "stderr",
     "output_type": "stream",
     "text": [
      "\r",
      " 86%|████████▋ | 1036/1201 [04:39<00:37,  4.38it/s]"
     ]
    },
    {
     "name": "stdout",
     "output_type": "stream",
     "text": [
      "Image processing time: 0.05290079116821289 sec\n",
      "update******\n",
      "Image processing time: 0.04928112030029297 sec\n"
     ]
    },
    {
     "name": "stderr",
     "output_type": "stream",
     "text": [
      "\r",
      " 86%|████████▋ | 1037/1201 [04:39<00:35,  4.58it/s]"
     ]
    },
    {
     "name": "stdout",
     "output_type": "stream",
     "text": [
      "update******\n",
      "Image processing time: 0.05779886245727539 sec\n",
      "update******"
     ]
    },
    {
     "name": "stderr",
     "output_type": "stream",
     "text": [
      " 87%|████████▋ | 1039/1201 [04:39<00:33,  4.83it/s]"
     ]
    },
    {
     "name": "stdout",
     "output_type": "stream",
     "text": [
      "\n",
      "Image processing time: 0.05338692665100098 sec\n",
      "update******\n",
      "Image processing time: 0.05167818069458008 sec\n"
     ]
    },
    {
     "name": "stderr",
     "output_type": "stream",
     "text": [
      "\r",
      " 87%|████████▋ | 1040/1201 [04:39<00:33,  4.88it/s]"
     ]
    },
    {
     "name": "stdout",
     "output_type": "stream",
     "text": [
      "update******\n",
      "Image processing time: 0.053346872329711914 sec\n"
     ]
    },
    {
     "name": "stderr",
     "output_type": "stream",
     "text": [
      "\r",
      " 87%|████████▋ | 1041/1201 [04:40<00:33,  4.71it/s]"
     ]
    },
    {
     "name": "stdout",
     "output_type": "stream",
     "text": [
      "update******\n",
      "Image processing time: 0.05672001838684082 sec\n"
     ]
    },
    {
     "name": "stderr",
     "output_type": "stream",
     "text": [
      "\r",
      " 87%|████████▋ | 1042/1201 [04:40<00:33,  4.80it/s]"
     ]
    },
    {
     "name": "stdout",
     "output_type": "stream",
     "text": [
      "update******\n",
      "Image processing time: 0.06955122947692871 sec\n"
     ]
    },
    {
     "name": "stderr",
     "output_type": "stream",
     "text": [
      "\r",
      " 87%|████████▋ | 1043/1201 [04:40<00:32,  4.90it/s]"
     ]
    },
    {
     "name": "stdout",
     "output_type": "stream",
     "text": [
      "update******\n",
      "Image processing time: 0.0564122200012207 sec\n",
      "update******\n"
     ]
    },
    {
     "name": "stderr",
     "output_type": "stream",
     "text": [
      " 87%|████████▋ | 1045/1201 [04:40<00:31,  4.93it/s]"
     ]
    },
    {
     "name": "stdout",
     "output_type": "stream",
     "text": [
      "Image processing time: 0.05994009971618652 sec\n",
      "update******\n"
     ]
    },
    {
     "name": "stderr",
     "output_type": "stream",
     "text": [
      "\r",
      " 87%|████████▋ | 1046/1201 [04:41<00:32,  4.81it/s]"
     ]
    },
    {
     "name": "stdout",
     "output_type": "stream",
     "text": [
      "Image processing time: 0.06980657577514648 sec\n",
      "update******\n"
     ]
    },
    {
     "name": "stderr",
     "output_type": "stream",
     "text": [
      "\r",
      " 87%|████████▋ | 1047/1201 [04:41<00:31,  4.88it/s]"
     ]
    },
    {
     "name": "stdout",
     "output_type": "stream",
     "text": [
      "Image processing time: 0.07999801635742188 sec\n",
      "update******\n",
      "Image processing time: 0.05623483657836914 sec\n"
     ]
    },
    {
     "name": "stderr",
     "output_type": "stream",
     "text": [
      "\r",
      " 87%|████████▋ | 1048/1201 [04:41<00:30,  4.95it/s]"
     ]
    },
    {
     "name": "stdout",
     "output_type": "stream",
     "text": [
      "update******\n",
      "Image processing time: 0.058074951171875 sec\n",
      "update******\n"
     ]
    },
    {
     "name": "stderr",
     "output_type": "stream",
     "text": [
      " 87%|████████▋ | 1050/1201 [04:41<00:30,  4.99it/s]"
     ]
    },
    {
     "name": "stdout",
     "output_type": "stream",
     "text": [
      "Image processing time: 0.07815837860107422 sec\n",
      "update******\n",
      "Image processing time: 0.06661152839660645 sec\n"
     ]
    },
    {
     "name": "stderr",
     "output_type": "stream",
     "text": [
      " 88%|████████▊ | 1052/1201 [04:42<00:28,  5.23it/s]"
     ]
    },
    {
     "name": "stdout",
     "output_type": "stream",
     "text": [
      "Image processing time: 0.05356788635253906 sec\n",
      "update******\n",
      "Image processing time: 0.05946826934814453 sec\n"
     ]
    },
    {
     "name": "stderr",
     "output_type": "stream",
     "text": [
      "\r",
      " 88%|████████▊ | 1053/1201 [04:42<00:28,  5.11it/s]"
     ]
    },
    {
     "name": "stdout",
     "output_type": "stream",
     "text": [
      "update******\n",
      "Image processing time: 0.06532692909240723 sec\n",
      "update******\n"
     ]
    },
    {
     "name": "stderr",
     "output_type": "stream",
     "text": [
      " 88%|████████▊ | 1055/1201 [04:42<00:29,  5.03it/s]"
     ]
    },
    {
     "name": "stdout",
     "output_type": "stream",
     "text": [
      "Image processing time: 0.05374741554260254 sec\n",
      "update******\n"
     ]
    },
    {
     "name": "stderr",
     "output_type": "stream",
     "text": [
      "\r",
      " 88%|████████▊ | 1056/1201 [04:43<00:29,  4.88it/s]"
     ]
    },
    {
     "name": "stdout",
     "output_type": "stream",
     "text": [
      "Image processing time: 0.0627286434173584 sec\n",
      "update******\n",
      "Image processing time: 0.06971240043640137 sec\n"
     ]
    },
    {
     "name": "stderr",
     "output_type": "stream",
     "text": [
      "\r",
      " 88%|████████▊ | 1057/1201 [04:43<00:30,  4.77it/s]"
     ]
    },
    {
     "name": "stdout",
     "output_type": "stream",
     "text": [
      "update******\n",
      "Image processing time: 0.061461448669433594 sec\n",
      "update******\n"
     ]
    },
    {
     "name": "stderr",
     "output_type": "stream",
     "text": [
      " 88%|████████▊ | 1059/1201 [04:43<00:28,  4.98it/s]"
     ]
    },
    {
     "name": "stdout",
     "output_type": "stream",
     "text": [
      "Image processing time: 0.05564236640930176 sec\n",
      "update******\n"
     ]
    },
    {
     "name": "stderr",
     "output_type": "stream",
     "text": [
      "\r",
      " 88%|████████▊ | 1060/1201 [04:44<00:30,  4.67it/s]"
     ]
    },
    {
     "name": "stdout",
     "output_type": "stream",
     "text": [
      "Image processing time: 0.0727994441986084 sec\n",
      "update******\n"
     ]
    },
    {
     "name": "stderr",
     "output_type": "stream",
     "text": [
      "\r",
      " 88%|████████▊ | 1061/1201 [04:44<00:30,  4.63it/s]"
     ]
    },
    {
     "name": "stdout",
     "output_type": "stream",
     "text": [
      "Image processing time: 0.07428193092346191 sec\n",
      "update******\n",
      "Image processing time: 0.06236886978149414 sec"
     ]
    },
    {
     "name": "stderr",
     "output_type": "stream",
     "text": [
      "\r",
      " 88%|████████▊ | 1062/1201 [04:44<00:29,  4.66it/s]"
     ]
    },
    {
     "name": "stdout",
     "output_type": "stream",
     "text": [
      "\n",
      "update******\n",
      "Image processing time: 0.07832527160644531 sec\n"
     ]
    },
    {
     "name": "stderr",
     "output_type": "stream",
     "text": [
      "\r",
      " 89%|████████▊ | 1063/1201 [04:44<00:28,  4.80it/s]"
     ]
    },
    {
     "name": "stdout",
     "output_type": "stream",
     "text": [
      "update******\n",
      "Image processing time: 0.06466460227966309 sec\n",
      "update******\n"
     ]
    },
    {
     "name": "stderr",
     "output_type": "stream",
     "text": [
      " 89%|████████▊ | 1065/1201 [04:45<00:27,  5.00it/s]"
     ]
    },
    {
     "name": "stdout",
     "output_type": "stream",
     "text": [
      "Image processing time: 0.08238053321838379 sec\n",
      "update******\n",
      "Image processing time: 0.05745673179626465 sec\n"
     ]
    },
    {
     "name": "stderr",
     "output_type": "stream",
     "text": [
      "\r",
      " 89%|████████▉ | 1066/1201 [04:45<00:26,  5.07it/s]"
     ]
    },
    {
     "name": "stdout",
     "output_type": "stream",
     "text": [
      "update******\n",
      "Image processing time: 0.06201672554016113 sec\n",
      "update******\n"
     ]
    },
    {
     "name": "stderr",
     "output_type": "stream",
     "text": [
      " 89%|████████▉ | 1068/1201 [04:45<00:26,  5.09it/s]"
     ]
    },
    {
     "name": "stdout",
     "output_type": "stream",
     "text": [
      "Image processing time: 0.07947254180908203 sec\n",
      "update******\n"
     ]
    },
    {
     "name": "stderr",
     "output_type": "stream",
     "text": [
      "\r",
      " 89%|████████▉ | 1069/1201 [04:45<00:26,  4.99it/s]"
     ]
    },
    {
     "name": "stdout",
     "output_type": "stream",
     "text": [
      "Image processing time: 0.06278228759765625 sec\n",
      "update******\n",
      "Image processing time: 0.06711888313293457 sec\n"
     ]
    },
    {
     "name": "stderr",
     "output_type": "stream",
     "text": [
      "\r",
      " 89%|████████▉ | 1070/1201 [04:46<00:25,  5.12it/s]"
     ]
    },
    {
     "name": "stdout",
     "output_type": "stream",
     "text": [
      "update******\n",
      "Image processing time: 0.05101943016052246 sec\n",
      "update******"
     ]
    },
    {
     "name": "stderr",
     "output_type": "stream",
     "text": [
      " 89%|████████▉ | 1072/1201 [04:46<00:26,  4.87it/s]"
     ]
    },
    {
     "name": "stdout",
     "output_type": "stream",
     "text": [
      "\n",
      "Image processing time: 0.07426071166992188 sec\n",
      "update******\n"
     ]
    },
    {
     "name": "stderr",
     "output_type": "stream",
     "text": [
      "\r",
      " 89%|████████▉ | 1073/1201 [04:46<00:26,  4.81it/s]"
     ]
    },
    {
     "name": "stdout",
     "output_type": "stream",
     "text": [
      "Image processing time: 0.05615496635437012 sec\n",
      "update******\n"
     ]
    },
    {
     "name": "stderr",
     "output_type": "stream",
     "text": [
      "\r",
      " 89%|████████▉ | 1074/1201 [04:46<00:26,  4.75it/s]"
     ]
    },
    {
     "name": "stdout",
     "output_type": "stream",
     "text": [
      "Image processing time: 0.07910847663879395 sec\n",
      "update******\n",
      "Image processing time: 0.06047940254211426 sec\n"
     ]
    },
    {
     "name": "stderr",
     "output_type": "stream",
     "text": [
      "\r",
      " 90%|████████▉ | 1075/1201 [04:47<00:26,  4.81it/s]"
     ]
    },
    {
     "name": "stdout",
     "output_type": "stream",
     "text": [
      "update******\n",
      "Image processing time: 0.06924748420715332 sec\n"
     ]
    },
    {
     "name": "stderr",
     "output_type": "stream",
     "text": [
      "\r",
      " 90%|████████▉ | 1076/1201 [04:47<00:25,  4.86it/s]"
     ]
    },
    {
     "name": "stdout",
     "output_type": "stream",
     "text": [
      "update******\n",
      "Image processing time: 0.04678010940551758 sec\n",
      "update******\n"
     ]
    },
    {
     "name": "stderr",
     "output_type": "stream",
     "text": [
      " 90%|████████▉ | 1078/1201 [04:47<00:23,  5.27it/s]"
     ]
    },
    {
     "name": "stdout",
     "output_type": "stream",
     "text": [
      "Image processing time: 0.05979466438293457 sec\n",
      "update******\n",
      "Image processing time: 0.05272555351257324 sec\n"
     ]
    },
    {
     "name": "stderr",
     "output_type": "stream",
     "text": [
      " 90%|████████▉ | 1080/1201 [04:47<00:21,  5.55it/s]"
     ]
    },
    {
     "name": "stdout",
     "output_type": "stream",
     "text": [
      "update******\n",
      "Image processing time: 0.061826467514038086 sec\n",
      "update******\n"
     ]
    },
    {
     "name": "stderr",
     "output_type": "stream",
     "text": [
      "\r",
      " 90%|█████████ | 1081/1201 [04:48<00:21,  5.49it/s]"
     ]
    },
    {
     "name": "stdout",
     "output_type": "stream",
     "text": [
      "Image processing time: 0.0595250129699707 sec\n",
      "update******\n",
      "Image processing time: 0.0638585090637207 sec\n"
     ]
    },
    {
     "name": "stderr",
     "output_type": "stream",
     "text": [
      "\r",
      " 90%|█████████ | 1082/1201 [04:48<00:21,  5.53it/s]"
     ]
    },
    {
     "name": "stdout",
     "output_type": "stream",
     "text": [
      "update******\n",
      "Image processing time: 0.06628823280334473 sec\n",
      "update******\n"
     ]
    },
    {
     "name": "stderr",
     "output_type": "stream",
     "text": [
      " 90%|█████████ | 1084/1201 [04:48<00:22,  5.26it/s]"
     ]
    },
    {
     "name": "stdout",
     "output_type": "stream",
     "text": [
      "Image processing time: 0.07096123695373535 sec\n",
      "update******\n"
     ]
    },
    {
     "name": "stderr",
     "output_type": "stream",
     "text": [
      "\r",
      " 90%|█████████ | 1085/1201 [04:48<00:22,  5.10it/s]"
     ]
    },
    {
     "name": "stdout",
     "output_type": "stream",
     "text": [
      "Image processing time: 0.07700085639953613 sec\n",
      "update******\n",
      "Image processing time: 0.050720930099487305 sec\n"
     ]
    },
    {
     "name": "stderr",
     "output_type": "stream",
     "text": [
      "\r",
      " 90%|█████████ | 1086/1201 [04:49<00:21,  5.23it/s]"
     ]
    },
    {
     "name": "stdout",
     "output_type": "stream",
     "text": [
      "update******\n",
      "Image processing time: 0.05263566970825195 sec\n",
      "update******\n"
     ]
    },
    {
     "name": "stderr",
     "output_type": "stream",
     "text": [
      " 91%|█████████ | 1088/1201 [04:49<00:21,  5.37it/s]"
     ]
    },
    {
     "name": "stdout",
     "output_type": "stream",
     "text": [
      "Image processing time: 0.06595253944396973 sec\n",
      "update******\n",
      "Image processing time: 0.0707850456237793 sec\n"
     ]
    },
    {
     "name": "stderr",
     "output_type": "stream",
     "text": [
      "\r",
      " 91%|█████████ | 1089/1201 [04:49<00:21,  5.22it/s]"
     ]
    },
    {
     "name": "stdout",
     "output_type": "stream",
     "text": [
      "update******\n",
      "Image processing time: 0.057478904724121094 sec\n",
      "update******\n"
     ]
    },
    {
     "name": "stderr",
     "output_type": "stream",
     "text": [
      " 91%|█████████ | 1091/1201 [04:50<00:21,  5.04it/s]"
     ]
    },
    {
     "name": "stdout",
     "output_type": "stream",
     "text": [
      "Image processing time: 0.0769808292388916 sec\n",
      "update******\n"
     ]
    },
    {
     "name": "stderr",
     "output_type": "stream",
     "text": [
      "\r",
      " 91%|█████████ | 1092/1201 [04:50<00:21,  5.08it/s]"
     ]
    },
    {
     "name": "stdout",
     "output_type": "stream",
     "text": [
      "Image processing time: 0.06614184379577637 sec\n",
      "update******\n",
      "Image processing time: 0.061504364013671875 sec\n"
     ]
    },
    {
     "name": "stderr",
     "output_type": "stream",
     "text": [
      " 91%|█████████ | 1094/1201 [04:50<00:19,  5.40it/s]"
     ]
    },
    {
     "name": "stdout",
     "output_type": "stream",
     "text": [
      "update******\n",
      "Image processing time: 0.056032419204711914 sec\n",
      "update******\n"
     ]
    },
    {
     "name": "stderr",
     "output_type": "stream",
     "text": [
      "\r",
      " 91%|█████████ | 1095/1201 [04:50<00:20,  5.29it/s]"
     ]
    },
    {
     "name": "stdout",
     "output_type": "stream",
     "text": [
      "Image processing time: 0.06453537940979004 sec\n",
      "update******\n",
      "Image processing time: 0.058213233947753906 sec\n"
     ]
    },
    {
     "name": "stderr",
     "output_type": "stream",
     "text": [
      "\r",
      " 91%|█████████▏| 1096/1201 [04:51<00:20,  5.17it/s]"
     ]
    },
    {
     "name": "stdout",
     "output_type": "stream",
     "text": [
      "update******\n",
      "Image processing time: 0.06051898002624512 sec\n"
     ]
    },
    {
     "name": "stderr",
     "output_type": "stream",
     "text": [
      "\r",
      " 91%|█████████▏| 1097/1201 [04:51<00:20,  5.14it/s]"
     ]
    },
    {
     "name": "stdout",
     "output_type": "stream",
     "text": [
      "update******\n",
      "Image processing time: 0.05844426155090332 sec\n",
      "update******\n"
     ]
    },
    {
     "name": "stderr",
     "output_type": "stream",
     "text": [
      " 92%|█████████▏| 1099/1201 [04:51<00:20,  4.95it/s]"
     ]
    },
    {
     "name": "stdout",
     "output_type": "stream",
     "text": [
      "Image processing time: 0.06644940376281738 sec\n",
      "update******\n"
     ]
    },
    {
     "name": "stderr",
     "output_type": "stream",
     "text": [
      "\r",
      " 92%|█████████▏| 1100/1201 [04:51<00:20,  4.90it/s]"
     ]
    },
    {
     "name": "stdout",
     "output_type": "stream",
     "text": [
      "Image processing time: 0.06671714782714844 sec\n",
      "update******\n"
     ]
    },
    {
     "name": "stderr",
     "output_type": "stream",
     "text": [
      "\r",
      " 92%|█████████▏| 1101/1201 [04:52<00:21,  4.64it/s]"
     ]
    },
    {
     "name": "stdout",
     "output_type": "stream",
     "text": [
      "Image processing time: 0.06821703910827637 sec\n",
      "update******\n"
     ]
    },
    {
     "name": "stderr",
     "output_type": "stream",
     "text": [
      "\r",
      " 92%|█████████▏| 1102/1201 [04:52<00:20,  4.79it/s]"
     ]
    },
    {
     "name": "stdout",
     "output_type": "stream",
     "text": [
      "Image processing time: 0.0843193531036377 sec\n",
      "update******\n",
      "Image processing time: 0.0613703727722168 sec\n"
     ]
    },
    {
     "name": "stderr",
     "output_type": "stream",
     "text": [
      "\r",
      " 92%|█████████▏| 1103/1201 [04:52<00:20,  4.86it/s]"
     ]
    },
    {
     "name": "stdout",
     "output_type": "stream",
     "text": [
      "update******\n",
      "Image processing time: 0.0716714859008789 sec\n",
      "update******\n"
     ]
    },
    {
     "name": "stderr",
     "output_type": "stream",
     "text": [
      " 92%|█████████▏| 1105/1201 [04:52<00:20,  4.77it/s]"
     ]
    },
    {
     "name": "stdout",
     "output_type": "stream",
     "text": [
      "Image processing time: 0.058663368225097656 sec\n",
      "update******\n",
      "Image processing time: 0.05783367156982422 sec\n"
     ]
    },
    {
     "name": "stderr",
     "output_type": "stream",
     "text": [
      "\r",
      " 92%|█████████▏| 1106/1201 [04:53<00:18,  5.02it/s]"
     ]
    },
    {
     "name": "stdout",
     "output_type": "stream",
     "text": [
      "update******\n",
      "Image processing time: 0.06341838836669922 sec\n",
      "update******"
     ]
    },
    {
     "name": "stderr",
     "output_type": "stream",
     "text": [
      " 92%|█████████▏| 1108/1201 [04:53<00:17,  5.20it/s]"
     ]
    },
    {
     "name": "stdout",
     "output_type": "stream",
     "text": [
      "\n",
      "Image processing time: 0.053726911544799805 sec\n",
      "update******\n",
      "Image processing time: 0.06158566474914551 sec\n"
     ]
    },
    {
     "name": "stderr",
     "output_type": "stream",
     "text": [
      "\r",
      " 92%|█████████▏| 1109/1201 [04:53<00:18,  5.07it/s]"
     ]
    },
    {
     "name": "stdout",
     "output_type": "stream",
     "text": [
      "update******\n",
      "Image processing time: 0.06942367553710938 sec\n",
      "update******"
     ]
    },
    {
     "name": "stderr",
     "output_type": "stream",
     "text": [
      " 93%|█████████▎| 1111/1201 [04:54<00:18,  4.93it/s]"
     ]
    },
    {
     "name": "stdout",
     "output_type": "stream",
     "text": [
      "\n",
      "Image processing time: 0.060129642486572266 sec\n",
      "update******\n",
      "Image processing time: 0.05023813247680664 sec\n"
     ]
    },
    {
     "name": "stderr",
     "output_type": "stream",
     "text": [
      "\r",
      " 93%|█████████▎| 1112/1201 [04:54<00:18,  4.90it/s]"
     ]
    },
    {
     "name": "stdout",
     "output_type": "stream",
     "text": [
      "update******\n",
      "Image processing time: 0.061647653579711914 sec\n"
     ]
    },
    {
     "name": "stderr",
     "output_type": "stream",
     "text": [
      "\r",
      " 93%|█████████▎| 1113/1201 [04:54<00:17,  4.97it/s]"
     ]
    },
    {
     "name": "stdout",
     "output_type": "stream",
     "text": [
      "update******\n",
      "Image processing time: 0.05198979377746582 sec\n",
      "update******\n"
     ]
    },
    {
     "name": "stderr",
     "output_type": "stream",
     "text": [
      " 93%|█████████▎| 1115/1201 [04:54<00:18,  4.59it/s]"
     ]
    },
    {
     "name": "stdout",
     "output_type": "stream",
     "text": [
      "Image processing time: 0.1163034439086914 sec\n",
      "update******\n"
     ]
    },
    {
     "name": "stderr",
     "output_type": "stream",
     "text": [
      "\r",
      " 93%|█████████▎| 1116/1201 [04:55<00:18,  4.48it/s]"
     ]
    },
    {
     "name": "stdout",
     "output_type": "stream",
     "text": [
      "Image processing time: 0.07006311416625977 sec\n",
      "update******\n"
     ]
    },
    {
     "name": "stderr",
     "output_type": "stream",
     "text": [
      "\r",
      " 93%|█████████▎| 1117/1201 [04:55<00:17,  4.71it/s]"
     ]
    },
    {
     "name": "stdout",
     "output_type": "stream",
     "text": [
      "Image processing time: 0.05485796928405762 sec\n",
      "update******\n",
      "Image processing time: 0.05574512481689453 sec\n"
     ]
    },
    {
     "name": "stderr",
     "output_type": "stream",
     "text": [
      "\r",
      " 93%|█████████▎| 1118/1201 [04:55<00:17,  4.87it/s]"
     ]
    },
    {
     "name": "stdout",
     "output_type": "stream",
     "text": [
      "update******\n",
      "Image processing time: 0.06139659881591797 sec\n",
      "update******\n"
     ]
    },
    {
     "name": "stderr",
     "output_type": "stream",
     "text": [
      " 93%|█████████▎| 1120/1201 [04:55<00:15,  5.20it/s]"
     ]
    },
    {
     "name": "stdout",
     "output_type": "stream",
     "text": [
      "Image processing time: 0.058188438415527344 sec\n",
      "update******\n"
     ]
    },
    {
     "name": "stderr",
     "output_type": "stream",
     "text": [
      "\r",
      " 93%|█████████▎| 1121/1201 [04:56<00:15,  5.01it/s]"
     ]
    },
    {
     "name": "stdout",
     "output_type": "stream",
     "text": [
      "Image processing time: 0.08684158325195312 sec\n",
      "update******\n",
      "Image processing time: 0.0644829273223877 sec\n"
     ]
    },
    {
     "name": "stderr",
     "output_type": "stream",
     "text": [
      "\r",
      " 93%|█████████▎| 1122/1201 [04:56<00:15,  4.99it/s]"
     ]
    },
    {
     "name": "stdout",
     "output_type": "stream",
     "text": [
      "update******\n",
      "Image processing time: 0.05491518974304199 sec\n",
      "update******\n"
     ]
    },
    {
     "name": "stderr",
     "output_type": "stream",
     "text": [
      " 94%|█████████▎| 1124/1201 [04:56<00:15,  5.07it/s]"
     ]
    },
    {
     "name": "stdout",
     "output_type": "stream",
     "text": [
      "Image processing time: 0.060263872146606445 sec\n",
      "update******\n"
     ]
    },
    {
     "name": "stderr",
     "output_type": "stream",
     "text": [
      "\r",
      " 94%|█████████▎| 1125/1201 [04:56<00:15,  4.88it/s]"
     ]
    },
    {
     "name": "stdout",
     "output_type": "stream",
     "text": [
      "Image processing time: 0.0758671760559082 sec\n",
      "update******\n",
      "Image processing time: 0.05432844161987305 sec\n"
     ]
    },
    {
     "name": "stderr",
     "output_type": "stream",
     "text": [
      "\r",
      " 94%|█████████▍| 1126/1201 [04:57<00:15,  4.97it/s]"
     ]
    },
    {
     "name": "stdout",
     "output_type": "stream",
     "text": [
      "update******\n",
      "Image processing time: 0.0843210220336914 sec\n"
     ]
    },
    {
     "name": "stderr",
     "output_type": "stream",
     "text": [
      "\r",
      " 94%|█████████▍| 1127/1201 [04:57<00:15,  4.93it/s]"
     ]
    },
    {
     "name": "stdout",
     "output_type": "stream",
     "text": [
      "update******\n",
      "Image processing time: 0.053583621978759766 sec\n",
      "update******\n"
     ]
    },
    {
     "name": "stderr",
     "output_type": "stream",
     "text": [
      " 94%|█████████▍| 1129/1201 [04:57<00:13,  5.24it/s]"
     ]
    },
    {
     "name": "stdout",
     "output_type": "stream",
     "text": [
      "Image processing time: 0.05284857749938965 sec\n",
      "update******\n",
      "Image processing time: 0.049808502197265625 sec\n"
     ]
    },
    {
     "name": "stderr",
     "output_type": "stream",
     "text": [
      "\r",
      " 94%|█████████▍| 1130/1201 [04:57<00:13,  5.14it/s]"
     ]
    },
    {
     "name": "stdout",
     "output_type": "stream",
     "text": [
      "update******\n",
      "Image processing time: 0.05309438705444336 sec\n"
     ]
    },
    {
     "name": "stderr",
     "output_type": "stream",
     "text": [
      "\r",
      " 94%|█████████▍| 1131/1201 [04:58<00:13,  5.24it/s]"
     ]
    },
    {
     "name": "stdout",
     "output_type": "stream",
     "text": [
      "update******\n",
      "Image processing time: 0.05977988243103027 sec\n",
      "update******\n"
     ]
    },
    {
     "name": "stderr",
     "output_type": "stream",
     "text": [
      " 94%|█████████▍| 1133/1201 [04:58<00:13,  5.22it/s]"
     ]
    },
    {
     "name": "stdout",
     "output_type": "stream",
     "text": [
      "Image processing time: 0.07115650177001953 sec\n",
      "update******\n",
      "Image processing time: 0.06420087814331055 sec"
     ]
    },
    {
     "name": "stderr",
     "output_type": "stream",
     "text": [
      "\r",
      " 94%|█████████▍| 1134/1201 [04:58<00:12,  5.18it/s]"
     ]
    },
    {
     "name": "stdout",
     "output_type": "stream",
     "text": [
      "\n",
      "update******\n",
      "Image processing time: 0.053850650787353516 sec\n",
      "update******\n"
     ]
    },
    {
     "name": "stderr",
     "output_type": "stream",
     "text": [
      " 95%|█████████▍| 1136/1201 [04:59<00:12,  5.00it/s]"
     ]
    },
    {
     "name": "stdout",
     "output_type": "stream",
     "text": [
      "Image processing time: 0.054338932037353516 sec\n",
      "update******\n",
      "Image processing time: 0.06478476524353027 sec\n"
     ]
    },
    {
     "name": "stderr",
     "output_type": "stream",
     "text": [
      "\r",
      " 95%|█████████▍| 1137/1201 [04:59<00:13,  4.88it/s]"
     ]
    },
    {
     "name": "stdout",
     "output_type": "stream",
     "text": [
      "update******\n",
      "Image processing time: 0.07885265350341797 sec\n"
     ]
    },
    {
     "name": "stderr",
     "output_type": "stream",
     "text": [
      "\r",
      " 95%|█████████▍| 1138/1201 [04:59<00:13,  4.74it/s]"
     ]
    },
    {
     "name": "stdout",
     "output_type": "stream",
     "text": [
      "update******\n",
      "Image processing time: 0.055886030197143555 sec\n",
      "update******"
     ]
    },
    {
     "name": "stderr",
     "output_type": "stream",
     "text": [
      " 95%|█████████▍| 1140/1201 [04:59<00:12,  4.83it/s]"
     ]
    },
    {
     "name": "stdout",
     "output_type": "stream",
     "text": [
      "\n",
      "Image processing time: 0.0543673038482666 sec\n",
      "update******\n"
     ]
    },
    {
     "name": "stderr",
     "output_type": "stream",
     "text": [
      "\r",
      " 95%|█████████▌| 1141/1201 [05:00<00:12,  4.76it/s]"
     ]
    },
    {
     "name": "stdout",
     "output_type": "stream",
     "text": [
      "Image processing time: 0.07148623466491699 sec\n",
      "update******\n"
     ]
    },
    {
     "name": "stderr",
     "output_type": "stream",
     "text": [
      "\r",
      " 95%|█████████▌| 1142/1201 [05:00<00:12,  4.64it/s]"
     ]
    },
    {
     "name": "stdout",
     "output_type": "stream",
     "text": [
      "Image processing time: 0.08134651184082031 sec\n",
      "update******\n"
     ]
    },
    {
     "name": "stderr",
     "output_type": "stream",
     "text": [
      "\r",
      " 95%|█████████▌| 1143/1201 [05:00<00:12,  4.54it/s]"
     ]
    },
    {
     "name": "stdout",
     "output_type": "stream",
     "text": [
      "Image processing time: 0.06639552116394043 sec\n",
      "update******\n"
     ]
    },
    {
     "name": "stderr",
     "output_type": "stream",
     "text": [
      "\r",
      " 95%|█████████▌| 1144/1201 [05:00<00:12,  4.65it/s]"
     ]
    },
    {
     "name": "stdout",
     "output_type": "stream",
     "text": [
      "Image processing time: 0.0662684440612793 sec\n",
      "update******\n"
     ]
    },
    {
     "name": "stderr",
     "output_type": "stream",
     "text": [
      "\r",
      " 95%|█████████▌| 1145/1201 [05:01<00:12,  4.64it/s]"
     ]
    },
    {
     "name": "stdout",
     "output_type": "stream",
     "text": [
      "Image processing time: 0.07754898071289062 sec\n",
      "update******\n"
     ]
    },
    {
     "name": "stderr",
     "output_type": "stream",
     "text": [
      "\r",
      " 95%|█████████▌| 1146/1201 [05:01<00:12,  4.55it/s]"
     ]
    },
    {
     "name": "stdout",
     "output_type": "stream",
     "text": [
      "Image processing time: 0.08360695838928223 sec\n",
      "update******\n",
      "Image processing time: 0.06271696090698242 sec\n"
     ]
    },
    {
     "name": "stderr",
     "output_type": "stream",
     "text": [
      "\r",
      " 96%|█████████▌| 1147/1201 [05:01<00:11,  4.77it/s]"
     ]
    },
    {
     "name": "stdout",
     "output_type": "stream",
     "text": [
      "update******\n",
      "Image processing time: 0.05264639854431152 sec\n",
      "update******\n"
     ]
    },
    {
     "name": "stderr",
     "output_type": "stream",
     "text": [
      " 96%|█████████▌| 1149/1201 [05:01<00:10,  5.00it/s]"
     ]
    },
    {
     "name": "stdout",
     "output_type": "stream",
     "text": [
      "Image processing time: 0.05990481376647949 sec\n",
      "update******\n",
      "Image processing time: 0.06078648567199707 sec\n"
     ]
    },
    {
     "name": "stderr",
     "output_type": "stream",
     "text": [
      "\r",
      " 96%|█████████▌| 1150/1201 [05:02<00:10,  4.97it/s]"
     ]
    },
    {
     "name": "stdout",
     "output_type": "stream",
     "text": [
      "update******\n",
      "Image processing time: 0.05318856239318848 sec\n",
      "update******\n"
     ]
    },
    {
     "name": "stderr",
     "output_type": "stream",
     "text": [
      " 96%|█████████▌| 1152/1201 [05:02<00:10,  4.75it/s]"
     ]
    },
    {
     "name": "stdout",
     "output_type": "stream",
     "text": [
      "Image processing time: 0.06328296661376953 sec\n",
      "update******\n"
     ]
    },
    {
     "name": "stderr",
     "output_type": "stream",
     "text": [
      "\r",
      " 96%|█████████▌| 1153/1201 [05:02<00:10,  4.45it/s]"
     ]
    },
    {
     "name": "stdout",
     "output_type": "stream",
     "text": [
      "Image processing time: 0.08859658241271973 sec\n",
      "update******\n"
     ]
    },
    {
     "name": "stderr",
     "output_type": "stream",
     "text": [
      "\r",
      " 96%|█████████▌| 1154/1201 [05:02<00:10,  4.50it/s]"
     ]
    },
    {
     "name": "stdout",
     "output_type": "stream",
     "text": [
      "Image processing time: 0.07226061820983887 sec\n",
      "update******\n"
     ]
    },
    {
     "name": "stderr",
     "output_type": "stream",
     "text": [
      "\r",
      " 96%|█████████▌| 1155/1201 [05:03<00:09,  4.67it/s]"
     ]
    },
    {
     "name": "stdout",
     "output_type": "stream",
     "text": [
      "Image processing time: 0.06568479537963867 sec\n",
      "update******\n",
      "Image processing time: 0.06241559982299805 sec\n"
     ]
    },
    {
     "name": "stderr",
     "output_type": "stream",
     "text": [
      "\r",
      " 96%|█████████▋| 1156/1201 [05:03<00:09,  4.68it/s]"
     ]
    },
    {
     "name": "stdout",
     "output_type": "stream",
     "text": [
      "update******\n",
      "Image processing time: 0.0724952220916748 sec\n"
     ]
    },
    {
     "name": "stderr",
     "output_type": "stream",
     "text": [
      "\r",
      " 96%|█████████▋| 1157/1201 [05:03<00:09,  4.68it/s]"
     ]
    },
    {
     "name": "stdout",
     "output_type": "stream",
     "text": [
      "update******\n",
      "Image processing time: 0.051666975021362305 sec\n",
      "update******\n"
     ]
    },
    {
     "name": "stderr",
     "output_type": "stream",
     "text": [
      " 97%|█████████▋| 1159/1201 [05:03<00:08,  4.89it/s]"
     ]
    },
    {
     "name": "stdout",
     "output_type": "stream",
     "text": [
      "Image processing time: 0.06740784645080566 sec\n",
      "update******\n",
      "Image processing time: 0.05464935302734375 sec\n"
     ]
    },
    {
     "name": "stderr",
     "output_type": "stream",
     "text": [
      "\r",
      " 97%|█████████▋| 1160/1201 [05:04<00:08,  4.98it/s]"
     ]
    },
    {
     "name": "stdout",
     "output_type": "stream",
     "text": [
      "update******\n",
      "Image processing time: 0.05888009071350098 sec\n",
      "update******\n"
     ]
    },
    {
     "name": "stderr",
     "output_type": "stream",
     "text": [
      " 97%|█████████▋| 1162/1201 [05:04<00:08,  4.86it/s]"
     ]
    },
    {
     "name": "stdout",
     "output_type": "stream",
     "text": [
      "Image processing time: 0.07195758819580078 sec\n",
      "update******\n"
     ]
    },
    {
     "name": "stderr",
     "output_type": "stream",
     "text": [
      "\r",
      " 97%|█████████▋| 1163/1201 [05:04<00:08,  4.64it/s]"
     ]
    },
    {
     "name": "stdout",
     "output_type": "stream",
     "text": [
      "Image processing time: 0.0764923095703125 sec\n",
      "update******\n"
     ]
    },
    {
     "name": "stderr",
     "output_type": "stream",
     "text": [
      "\r",
      " 97%|█████████▋| 1164/1201 [05:05<00:08,  4.44it/s]"
     ]
    },
    {
     "name": "stdout",
     "output_type": "stream",
     "text": [
      "Image processing time: 0.06625175476074219 sec\n",
      "update******\n"
     ]
    },
    {
     "name": "stderr",
     "output_type": "stream",
     "text": [
      "\r",
      " 97%|█████████▋| 1165/1201 [05:05<00:07,  4.65it/s]"
     ]
    },
    {
     "name": "stdout",
     "output_type": "stream",
     "text": [
      "Image processing time: 0.05349445343017578 sec\n",
      "update******\n",
      "Image processing time: 0.04930591583251953 sec\n"
     ]
    },
    {
     "name": "stderr",
     "output_type": "stream",
     "text": [
      "\r",
      " 97%|█████████▋| 1166/1201 [05:05<00:07,  4.80it/s]"
     ]
    },
    {
     "name": "stdout",
     "output_type": "stream",
     "text": [
      "update******\n",
      "Image processing time: 0.06543207168579102 sec\n"
     ]
    },
    {
     "name": "stderr",
     "output_type": "stream",
     "text": [
      "\r",
      " 97%|█████████▋| 1167/1201 [05:05<00:07,  4.60it/s]"
     ]
    },
    {
     "name": "stdout",
     "output_type": "stream",
     "text": [
      "update******\n",
      "Image processing time: 0.05977654457092285 sec\n"
     ]
    },
    {
     "name": "stderr",
     "output_type": "stream",
     "text": [
      "\r",
      " 97%|█████████▋| 1168/1201 [05:05<00:07,  4.66it/s]"
     ]
    },
    {
     "name": "stdout",
     "output_type": "stream",
     "text": [
      "update******\n",
      "Image processing time: 0.05306196212768555 sec\n"
     ]
    },
    {
     "name": "stderr",
     "output_type": "stream",
     "text": [
      "\r",
      " 97%|█████████▋| 1169/1201 [05:06<00:06,  4.76it/s]"
     ]
    },
    {
     "name": "stdout",
     "output_type": "stream",
     "text": [
      "update******\n",
      "Image processing time: 0.058080434799194336 sec\n",
      "update******\n"
     ]
    },
    {
     "name": "stderr",
     "output_type": "stream",
     "text": [
      " 98%|█████████▊| 1171/1201 [05:06<00:06,  4.79it/s]"
     ]
    },
    {
     "name": "stdout",
     "output_type": "stream",
     "text": [
      "Image processing time: 0.06782269477844238 sec\n",
      "update******\n",
      "Image processing time: 0.0552830696105957 sec\n"
     ]
    },
    {
     "name": "stderr",
     "output_type": "stream",
     "text": [
      "\r",
      " 98%|█████████▊| 1172/1201 [05:06<00:05,  4.88it/s]"
     ]
    },
    {
     "name": "stdout",
     "output_type": "stream",
     "text": [
      "update******\n",
      "Image processing time: 0.05705666542053223 sec\n",
      "update******\n"
     ]
    },
    {
     "name": "stderr",
     "output_type": "stream",
     "text": [
      " 98%|█████████▊| 1174/1201 [05:07<00:05,  5.11it/s]"
     ]
    },
    {
     "name": "stdout",
     "output_type": "stream",
     "text": [
      "Image processing time: 0.051940202713012695 sec\n",
      "update******\n",
      "Image processing time: 0.05698275566101074 sec\n"
     ]
    },
    {
     "name": "stderr",
     "output_type": "stream",
     "text": [
      "\r",
      " 98%|█████████▊| 1175/1201 [05:07<00:05,  5.11it/s]"
     ]
    },
    {
     "name": "stdout",
     "output_type": "stream",
     "text": [
      "update******\n",
      "Image processing time: 0.06763529777526855 sec\n"
     ]
    },
    {
     "name": "stderr",
     "output_type": "stream",
     "text": [
      "\r",
      " 98%|█████████▊| 1176/1201 [05:07<00:05,  4.97it/s]"
     ]
    },
    {
     "name": "stdout",
     "output_type": "stream",
     "text": [
      "update******\n",
      "Image processing time: 0.08332395553588867 sec\n"
     ]
    },
    {
     "name": "stderr",
     "output_type": "stream",
     "text": [
      "\r",
      " 98%|█████████▊| 1177/1201 [05:07<00:04,  4.82it/s]"
     ]
    },
    {
     "name": "stdout",
     "output_type": "stream",
     "text": [
      "update******\n",
      "Image processing time: 0.05833077430725098 sec\n",
      "update******\n"
     ]
    },
    {
     "name": "stderr",
     "output_type": "stream",
     "text": [
      " 98%|█████████▊| 1179/1201 [05:08<00:04,  5.06it/s]"
     ]
    },
    {
     "name": "stdout",
     "output_type": "stream",
     "text": [
      "Image processing time: 0.05786633491516113 sec\n",
      "update******\n",
      "Image processing time: 0.05770134925842285 sec\n"
     ]
    },
    {
     "name": "stderr",
     "output_type": "stream",
     "text": [
      "\r",
      " 98%|█████████▊| 1180/1201 [05:08<00:04,  5.18it/s]"
     ]
    },
    {
     "name": "stdout",
     "output_type": "stream",
     "text": [
      "update******\n",
      "Image processing time: 0.055208683013916016 sec\n",
      "update******\n"
     ]
    },
    {
     "name": "stderr",
     "output_type": "stream",
     "text": [
      " 98%|█████████▊| 1182/1201 [05:08<00:03,  5.20it/s]"
     ]
    },
    {
     "name": "stdout",
     "output_type": "stream",
     "text": [
      "Image processing time: 0.0635225772857666 sec\n",
      "update******\n",
      "Image processing time: 0.05790209770202637 sec\n"
     ]
    },
    {
     "name": "stderr",
     "output_type": "stream",
     "text": [
      "\r",
      " 99%|█████████▊| 1183/1201 [05:08<00:03,  5.22it/s]"
     ]
    },
    {
     "name": "stdout",
     "output_type": "stream",
     "text": [
      "update******\n",
      "Image processing time: 0.056722402572631836 sec\n",
      "update******\n"
     ]
    },
    {
     "name": "stderr",
     "output_type": "stream",
     "text": [
      " 99%|█████████▊| 1185/1201 [05:09<00:03,  5.06it/s]"
     ]
    },
    {
     "name": "stdout",
     "output_type": "stream",
     "text": [
      "Image processing time: 0.055795907974243164 sec\n",
      "update******\n"
     ]
    },
    {
     "name": "stderr",
     "output_type": "stream",
     "text": [
      "\r",
      " 99%|█████████▉| 1186/1201 [05:09<00:03,  4.74it/s]"
     ]
    },
    {
     "name": "stdout",
     "output_type": "stream",
     "text": [
      "Image processing time: 0.06884098052978516 sec\n",
      "update******\n"
     ]
    },
    {
     "name": "stderr",
     "output_type": "stream",
     "text": [
      "\r",
      " 99%|█████████▉| 1187/1201 [05:09<00:02,  4.76it/s]"
     ]
    },
    {
     "name": "stdout",
     "output_type": "stream",
     "text": [
      "Image processing time: 0.0671699047088623 sec\n",
      "update******\n"
     ]
    },
    {
     "name": "stderr",
     "output_type": "stream",
     "text": [
      "\r",
      " 99%|█████████▉| 1188/1201 [05:09<00:02,  4.71it/s]"
     ]
    },
    {
     "name": "stdout",
     "output_type": "stream",
     "text": [
      "Image processing time: 0.06861281394958496 sec\n",
      "update******\n",
      "Image processing time: 0.05463051795959473 sec\n"
     ]
    },
    {
     "name": "stderr",
     "output_type": "stream",
     "text": [
      "\r",
      " 99%|█████████▉| 1189/1201 [05:10<00:02,  4.89it/s]"
     ]
    },
    {
     "name": "stdout",
     "output_type": "stream",
     "text": [
      "update******\n",
      "Image processing time: 0.0621035099029541 sec\n",
      "update******\n"
     ]
    },
    {
     "name": "stderr",
     "output_type": "stream",
     "text": [
      " 99%|█████████▉| 1191/1201 [05:10<00:02,  4.79it/s]"
     ]
    },
    {
     "name": "stdout",
     "output_type": "stream",
     "text": [
      "Image processing time: 0.05558013916015625 sec\n",
      "update******\n"
     ]
    },
    {
     "name": "stderr",
     "output_type": "stream",
     "text": [
      "\r",
      " 99%|█████████▉| 1192/1201 [05:10<00:01,  4.79it/s]"
     ]
    },
    {
     "name": "stdout",
     "output_type": "stream",
     "text": [
      "Image processing time: 0.06274819374084473 sec\n",
      "update******\n"
     ]
    },
    {
     "name": "stderr",
     "output_type": "stream",
     "text": [
      "\r",
      " 99%|█████████▉| 1193/1201 [05:10<00:01,  4.66it/s]"
     ]
    },
    {
     "name": "stdout",
     "output_type": "stream",
     "text": [
      "Image processing time: 0.056040287017822266 sec\n",
      "update******\n"
     ]
    },
    {
     "name": "stderr",
     "output_type": "stream",
     "text": [
      "\r",
      " 99%|█████████▉| 1194/1201 [05:11<00:01,  4.69it/s]"
     ]
    },
    {
     "name": "stdout",
     "output_type": "stream",
     "text": [
      "Image processing time: 0.07406091690063477 sec\n",
      "update******\n"
     ]
    },
    {
     "name": "stderr",
     "output_type": "stream",
     "text": [
      "\r",
      "100%|█████████▉| 1195/1201 [05:11<00:01,  4.67it/s]"
     ]
    },
    {
     "name": "stdout",
     "output_type": "stream",
     "text": [
      "Image processing time: 0.08555293083190918 sec\n",
      "update******\n"
     ]
    },
    {
     "name": "stderr",
     "output_type": "stream",
     "text": [
      "\r",
      "100%|█████████▉| 1196/1201 [05:11<00:01,  4.68it/s]"
     ]
    },
    {
     "name": "stdout",
     "output_type": "stream",
     "text": [
      "Image processing time: 0.07056188583374023 sec\n",
      "update******\n"
     ]
    },
    {
     "name": "stderr",
     "output_type": "stream",
     "text": [
      "\r",
      "100%|█████████▉| 1197/1201 [05:11<00:00,  4.69it/s]"
     ]
    },
    {
     "name": "stdout",
     "output_type": "stream",
     "text": [
      "Image processing time: 0.059882402420043945 sec\n",
      "update******\n"
     ]
    },
    {
     "name": "stderr",
     "output_type": "stream",
     "text": [
      "\r",
      "100%|█████████▉| 1198/1201 [05:12<00:00,  4.82it/s]"
     ]
    },
    {
     "name": "stdout",
     "output_type": "stream",
     "text": [
      "Image processing time: 0.05671834945678711 sec\n",
      "update******\n",
      "Image processing time: 0.053826093673706055 sec\n"
     ]
    },
    {
     "name": "stderr",
     "output_type": "stream",
     "text": [
      "\r",
      "100%|█████████▉| 1199/1201 [05:12<00:00,  4.69it/s]"
     ]
    },
    {
     "name": "stdout",
     "output_type": "stream",
     "text": [
      "update******\n",
      "Image processing time: 0.06088376045227051 sec\n",
      "update******\n"
     ]
    },
    {
     "name": "stderr",
     "output_type": "stream",
     "text": [
      "100%|█████████▉| 1200/1201 [05:12<00:00,  4.77it/s]\n"
     ]
    },
    {
     "name": "stdout",
     "output_type": "stream",
     "text": [
      "[MoviePy] Done.\n",
      "[MoviePy] >>>> Video ready: solution.mp4 \n",
      "\n",
      "CPU times: user 8min 14s, sys: 1min, total: 9min 14s\n",
      "Wall time: 5min 13s\n"
     ]
    }
   ],
   "source": [
    "video_output = 'solution.mp4'\n",
    "clip1 = VideoFileClip(\"1489006924.flv\")\n",
    "sub = clip1.subclip(t_start=20, t_end=60)\n",
    "white_clip = sub.fl_image(pipeline) #NOTE: this function expects color images!!\n",
    "%time white_clip.write_videofile(video_output, audio=False)"
   ]
  },
  {
   "cell_type": "code",
   "execution_count": 7,
   "metadata": {
    "collapsed": false,
    "scrolled": true
   },
   "outputs": [
    {
     "name": "stdout",
     "output_type": "stream",
     "text": [
      "[MoviePy] >>>> Building video 06AFEE092C5E3_short.mp4\n",
      "[MoviePy] Writing audio in 06AFEE092C5E3_shortTEMP_MPY_wvf_snd.mp3\n"
     ]
    },
    {
     "name": "stderr",
     "output_type": "stream",
     "text": [
      "100%|██████████| 2272/2272 [00:02<00:00, 1042.00it/s]"
     ]
    },
    {
     "name": "stdout",
     "output_type": "stream",
     "text": [
      "[MoviePy] Done.\n"
     ]
    },
    {
     "name": "stderr",
     "output_type": "stream",
     "text": [
      "\n"
     ]
    },
    {
     "name": "stdout",
     "output_type": "stream",
     "text": [
      "[MoviePy] Writing video 06AFEE092C5E3_short.mp4\n"
     ]
    },
    {
     "name": "stderr",
     "output_type": "stream",
     "text": [
      "100%|█████████▉| 3090/3091 [01:59<00:00, 25.89it/s]\n"
     ]
    },
    {
     "name": "stdout",
     "output_type": "stream",
     "text": [
      "[MoviePy] Done.\n",
      "[MoviePy] >>>> Video ready: 06AFEE092C5E3_short.mp4 \n",
      "\n"
     ]
    }
   ],
   "source": [
    "clip1 = VideoFileClip(\"06AFEE092C5E3.flv\")\n",
    "sub_clip = clip1.subclip(137,240) \n",
    "sub_clip.write_videofile(\"06AFEE092C5E3_short.mp4\") # default codec: 'libx264', 24 fps"
   ]
  },
  {
   "cell_type": "code",
   "execution_count": 8,
   "metadata": {
    "collapsed": false
   },
   "outputs": [
    {
     "ename": "TabError",
     "evalue": "inconsistent use of tabs and spaces in indentation (line_finder.py, line 35)",
     "output_type": "error",
     "traceback": [
      "\u001b[0;36m  File \u001b[0;32m\"/home/jmlb/Documents/Autonomia/LaneDetection/line_finder.py\"\u001b[0;36m, line \u001b[0;32m35\u001b[0m\n\u001b[0;31m    self.line_detected = False\u001b[0m\n\u001b[0m                              ^\u001b[0m\n\u001b[0;31mTabError\u001b[0m\u001b[0;31m:\u001b[0m inconsistent use of tabs and spaces in indentation\n"
     ]
    }
   ],
   "source": [
    "import numpy as np\n",
    "import cv2\n",
    "import glob\n",
    "import matplotlib.pyplot as plt\n",
    "from moviepy.editor import VideoFileClip\n",
    "#from IPython.display import HTML\n",
    "from pipeline import *\n",
    "import sys\n",
    "import os\n",
    "%matplotlib inline\n",
    "img = np.load('img.npy')\n",
    "plt.imshow(img)\n",
    "plt.show()\n",
    "mod_img = pipeline(img)\n",
    "plt.imshow(mod_img)\n",
    "plt.show()"
   ]
  },
  {
   "cell_type": "code",
   "execution_count": null,
   "metadata": {
    "collapsed": true
   },
   "outputs": [],
   "source": []
  },
  {
   "cell_type": "code",
   "execution_count": null,
   "metadata": {
    "collapsed": true
   },
   "outputs": [],
   "source": []
  }
 ],
 "metadata": {
  "anaconda-cloud": {},
  "kernelspec": {
   "display_name": "Python 3",
   "language": "python",
   "name": "python3"
  },
  "language_info": {
   "codemirror_mode": {
    "name": "ipython",
    "version": 3
   },
   "file_extension": ".py",
   "mimetype": "text/x-python",
   "name": "python",
   "nbconvert_exporter": "python",
   "pygments_lexer": "ipython3",
   "version": "3.5.2"
  }
 },
 "nbformat": 4,
 "nbformat_minor": 2
}
